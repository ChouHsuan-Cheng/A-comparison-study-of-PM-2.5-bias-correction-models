{
 "cells": [
  {
   "cell_type": "code",
   "execution_count": 1,
   "id": "2acb7836",
   "metadata": {},
   "outputs": [
    {
     "name": "stderr",
     "output_type": "stream",
     "text": [
      "/home/luhung3080/miniconda3/envs/chou/lib/python3.7/site-packages/tqdm/auto.py:22: TqdmWarning: IProgress not found. Please update jupyter and ipywidgets. See https://ipywidgets.readthedocs.io/en/stable/user_install.html\n",
      "  from .autonotebook import tqdm as notebook_tqdm\n"
     ]
    }
   ],
   "source": [
    "import numpy as np\n",
    "import pandas as pd\n",
    "import matplotlib.pyplot as plt\n",
    "from sklearn.decomposition import PCA\n",
    "from sklearn.svm import SVR\n",
    "from sklearn.cross_decomposition import PLSRegression\n",
    "from sklearn.linear_model import LinearRegression\n",
    "from sklearn.metrics import mean_absolute_error\n",
    "from sklearn.metrics import mean_squared_error\n",
    "from sliced.datasets import make_cubic\n",
    "from sliced import SlicedInverseRegression\n",
    "from sliced import SlicedAverageVarianceEstimation\n",
    "from sliced import datasets\n",
    "import torch\n",
    "import torch.nn as nn\n",
    "import torch.optim as optim\n",
    "from torch.utils.data import Dataset,DataLoader\n",
    "import torch.utils.data as Data\n",
    "import pytorch_lightning as pl\n",
    "from pytorch_lightning.loggers import TensorBoardLogger\n",
    "from pytorch_lightning.loggers import CSVLogger\n",
    "from pytorch_lightning.callbacks.early_stopping import EarlyStopping\n",
    "import math"
   ]
  },
  {
   "cell_type": "code",
   "execution_count": 10,
   "id": "8d103c73",
   "metadata": {},
   "outputs": [],
   "source": [
    "data=pd.read_csv('/home/luhung3080/Desktop/PycharmProjects/NCHUproject/Transformer/data_final.csv')"
   ]
  },
  {
   "cell_type": "markdown",
   "id": "216e43cc",
   "metadata": {},
   "source": [
    "# Generate X Y"
   ]
  },
  {
   "cell_type": "code",
   "execution_count": 11,
   "id": "fe7c5358",
   "metadata": {},
   "outputs": [
    {
     "name": "stdout",
     "output_type": "stream",
     "text": [
      "(605, 5112)\n",
      "(605, 5112)\n"
     ]
    }
   ],
   "source": [
    "###\n",
    "#cal_PMf  \n",
    "###\n",
    "XRestruct_Fun=np.zeros([605,5112])\n",
    "for i in range (0,605):\n",
    "    a=np.array(data['pm25_cal'][5112*i:5112*i+5112])\n",
    "    XRestruct_Fun[i]=a.T\n",
    "\n",
    "###\n",
    "#obs_PMf\n",
    "###\n",
    "YRestruct_Fun=np.zeros([605,5112])\n",
    "for i in range (0,605):\n",
    "    a=np.array(data['pm25_obs'][5112*i:5112*i+5112])\n",
    "    YRestruct_Fun[i]=a.T\n",
    "\n",
    "print(np.shape(XRestruct_Fun))\n",
    "print(np.shape(YRestruct_Fun))"
   ]
  },
  {
   "cell_type": "code",
   "execution_count": 12,
   "id": "c3ae9710",
   "metadata": {},
   "outputs": [
    {
     "name": "stdout",
     "output_type": "stream",
     "text": [
      "Xhat_train\n",
      "(544, 5112)\n",
      "Yhat_train\n",
      "(544, 5112)\n",
      "Xhat_val\n",
      "(61, 5112)\n",
      "Yhat_val\n",
      "(61, 5112)\n",
      "Xhat_test\n",
      "(61, 5112)\n",
      "Yhat_test\n",
      "(61, 5112)\n"
     ]
    }
   ],
   "source": [
    "Xhat=XRestruct_Fun\n",
    "Yhat=YRestruct_Fun\n",
    "Xhat_train = np.zeros([544,5112])\n",
    "Yhat_train = np.zeros([544,5112])\n",
    "Xhat_val = np.zeros([61,5112])\n",
    "Yhat_val = np.zeros([61,5112])\n",
    "Xhat_test = np.zeros([61,5112])\n",
    "Yhat_test = np.zeros([61,5112])\n",
    "\n",
    "for i in range (0,544):\n",
    "    for j in range (0,5112):    \n",
    "        Xhat_train[i][j] = Xhat[i][j]\n",
    "        Yhat_train[i][j] = Yhat[i][j]\n",
    "        \n",
    "for i in range (544,605):\n",
    "    for j in range (0,5112):\n",
    "        Xhat_val[i-544][j] = Xhat[i][j]\n",
    "        Yhat_val[i-544][j] = Yhat[i][j]     \n",
    "        \n",
    "for i in range (544,605):\n",
    "    for j in range (0,5112):\n",
    "        Xhat_test[i-544][j] = Xhat[i][j]\n",
    "        Yhat_test[i-544][j] = Yhat[i][j]\n",
    "print('Xhat_train')\n",
    "print(np.shape(Xhat_train))\n",
    "print('Yhat_train')\n",
    "print(np.shape(Yhat_train))\n",
    "print('Xhat_val')\n",
    "print(np.shape(Xhat_val))\n",
    "print('Yhat_val')\n",
    "print(np.shape(Yhat_val))\n",
    "print('Xhat_test')\n",
    "print(np.shape(Xhat_test))\n",
    "print('Yhat_test')\n",
    "print(np.shape(Yhat_test))"
   ]
  },
  {
   "cell_type": "markdown",
   "id": "cc2726c1",
   "metadata": {},
   "source": [
    "# Original data"
   ]
  },
  {
   "cell_type": "code",
   "execution_count": 5,
   "id": "7ee1da2d",
   "metadata": {},
   "outputs": [
    {
     "name": "stdout",
     "output_type": "stream",
     "text": [
      "testing data MAE is  6.919742865451666\n",
      "testing data MAE is  90.30246788296535\n"
     ]
    }
   ],
   "source": [
    "error1 = mean_absolute_error(Xhat_test, Yhat_test)\n",
    "error2 = mean_squared_error(Xhat_test, Yhat_test)\n",
    "print('testing data MAE is ',error1)\n",
    "print('testing data MAE is ',error2)"
   ]
  },
  {
   "cell_type": "markdown",
   "id": "6527840a",
   "metadata": {},
   "source": [
    "# Concurrent Model"
   ]
  },
  {
   "cell_type": "markdown",
   "id": "be321e63",
   "metadata": {},
   "source": [
    "## 公式解（paper）"
   ]
  },
  {
   "cell_type": "code",
   "execution_count": 6,
   "id": "b49626b3",
   "metadata": {},
   "outputs": [
    {
     "name": "stdout",
     "output_type": "stream",
     "text": [
      "(5112,)\n",
      "(5112,)\n"
     ]
    }
   ],
   "source": [
    "XMean_fun=np.zeros(5112)\n",
    "YMean_fun=np.zeros(5112)\n",
    "for i in range(0,5112):\n",
    "    for j in range(0,544):\n",
    "        XMean_fun[i]=XMean_fun[i]+(XRestruct_Fun[j][i]/544)\n",
    "        YMean_fun[i]=YMean_fun[i]+(YRestruct_Fun[j][i]/544)\n",
    "Xbar=XMean_fun\n",
    "Ybar=YMean_fun\n",
    "XCov_fun=np.cov(XRestruct_Fun.T)\n",
    "\n",
    "G_xx=XCov_fun\n",
    "G_xxt=np.zeros(5112)\n",
    "for i in range(0,5112):\n",
    "     G_xxt[i]=G_xx[i][i]\n",
    "G_xy=0\n",
    "for i in range (0,544):\n",
    "    G_xyi=(Xhat_train[i]-Xbar)*(Yhat_train[i]-Ybar)\n",
    "    G_xy=G_xy+G_xyi\n",
    "G_xy=G_xy/543\n",
    "\n",
    "# print(G_xxt)\n",
    "print(np.shape(G_xxt))\n",
    "# print(G_xy)\n",
    "print(np.shape(G_xy))"
   ]
  },
  {
   "cell_type": "code",
   "execution_count": 7,
   "id": "38d8444c",
   "metadata": {},
   "outputs": [
    {
     "name": "stdout",
     "output_type": "stream",
     "text": [
      "Beta_1\n",
      "(5112,)\n",
      "Beta_0\n",
      "(5112,)\n"
     ]
    }
   ],
   "source": [
    "B_1=G_xy/G_xxt\n",
    "B_0=YMean_fun-(B_1*XMean_fun)\n",
    "\n",
    "print('Beta_1')\n",
    "#print(B_1)\n",
    "print(np.shape(B_1))\n",
    "print('Beta_0')\n",
    "#print(B_0)\n",
    "print(np.shape(B_0))\n",
    "\n",
    "fit_x=B_0+(B_1*Xhat_test)\n",
    "#print(np.shape(fit_x))"
   ]
  },
  {
   "cell_type": "code",
   "execution_count": 8,
   "id": "1fa103c3",
   "metadata": {},
   "outputs": [
    {
     "name": "stdout",
     "output_type": "stream",
     "text": [
      "testing data MAE is  6.113600206690934\n",
      "testing data MAE is  64.362257713171\n"
     ]
    }
   ],
   "source": [
    "error1 = mean_absolute_error(fit_x, Yhat_test)\n",
    "error2 = mean_squared_error(fit_x, Yhat_test)\n",
    "print('testing data MAE is ',error1)\n",
    "print('testing data MAE is ',error2)"
   ]
  },
  {
   "cell_type": "markdown",
   "id": "d90efc15",
   "metadata": {},
   "source": [
    "## Gradient descent (loss = MAE)"
   ]
  },
  {
   "cell_type": "code",
   "execution_count": 122,
   "id": "e4ca978b",
   "metadata": {},
   "outputs": [],
   "source": [
    "x = Xhat_train\n",
    "y = Yhat_train\n",
    "xt = Xhat_test\n",
    "yt = Yhat_test"
   ]
  },
  {
   "cell_type": "code",
   "execution_count": 123,
   "id": "f7cafd28",
   "metadata": {},
   "outputs": [],
   "source": [
    "def model (x,b0,b1):\n",
    "    y = b0 +  b1*x\n",
    "    return y"
   ]
  },
  {
   "cell_type": "code",
   "execution_count": 124,
   "id": "ae55c176",
   "metadata": {
    "scrolled": true
   },
   "outputs": [],
   "source": [
    "features = torch.from_numpy(x)\n",
    "targets = torch.from_numpy(y)\n",
    "x_test = torch.from_numpy(xt)\n",
    "y_test = torch.from_numpy(yt)\n",
    "\n",
    "beta0 = torch.ones(5112 , requires_grad = True)\n",
    "beta1 = torch.ones(5112, requires_grad = True)\n",
    "\n",
    "rate = 1e-2\n",
    "optimizer = optim.Adam([beta0 , beta1], lr=rate)\n",
    "\n",
    "epo = 1000\n",
    "loss = nn.L1Loss()\n",
    "train_error = np.zeros(epo)\n",
    "test_error_MAE = np.zeros(epo)\n",
    "test_error_MSE = np.zeros(epo)\n",
    "\n",
    "\n",
    "for epoch in range (epo):\n",
    "    yhats_train = model(features.float() , beta0 , beta1)\n",
    "    train_loss = loss(targets.float() , yhats_train)\n",
    "    train_error[epoch] = train_loss\n",
    "\n",
    "    optimizer.zero_grad()\n",
    "    train_loss.backward() \n",
    "    optimizer.step()    \n",
    "\n",
    "    yhats_test = model(x_test.float(), beta0, beta1) \n",
    "    r = torch.abs(yhats_test - y_test)\n",
    "    test_error_MAE[epoch] = torch.nanmean(r)\n",
    "    test_error_MSE[epoch] = torch.nanmean(r*r)"
   ]
  },
  {
   "cell_type": "code",
   "execution_count": 86,
   "id": "890bc553",
   "metadata": {},
   "outputs": [
    {
     "data": {
      "image/png": "[encoded data removed]",
      "text/plain": [
       "<Figure size 432x288 with 1 Axes>"
      ]
     },
     "metadata": {
      "needs_background": "light"
     },
     "output_type": "display_data"
    }
   ],
   "source": [
    "fig1 = plt.figure(1)\n",
    "x=np.linspace(1,epo,epo)\n",
    "plt.plot(x,test_error_MAE, label = 'MAE')\n",
    "plt.plot(x,test_error_MSE, label ='MSE')\n",
    "plt.legend(loc = 2)\n",
    "plt.title('Bias')\n",
    "\n",
    "plt.show()"
   ]
  },
  {
   "cell_type": "code",
   "execution_count": 87,
   "id": "2309ab95",
   "metadata": {},
   "outputs": [
    {
     "name": "stdout",
     "output_type": "stream",
     "text": [
      "testing data MAE is  5.6217993136645115\n",
      "testing data MAE is  58.25995203391085\n"
     ]
    }
   ],
   "source": [
    "print('testing data MAE is ', np.min(test_error_MAE))\n",
    "print('testing data MAE is ', np.min(test_error_MSE))"
   ]
  },
  {
   "cell_type": "markdown",
   "id": "9cb38009",
   "metadata": {},
   "source": [
    "## Gradient descent (loss = MSE)"
   ]
  },
  {
   "cell_type": "code",
   "execution_count": 125,
   "id": "81d19385",
   "metadata": {},
   "outputs": [],
   "source": [
    "x = Xhat_train\n",
    "y = Yhat_train\n",
    "xt = Xhat_test\n",
    "yt = Yhat_test"
   ]
  },
  {
   "cell_type": "code",
   "execution_count": 126,
   "id": "6e223b19",
   "metadata": {},
   "outputs": [],
   "source": [
    "def model (x,b0,b1):\n",
    "    y = b0 +  b1*x\n",
    "    return y"
   ]
  },
  {
   "cell_type": "code",
   "execution_count": 127,
   "id": "26decfdd",
   "metadata": {},
   "outputs": [],
   "source": [
    "features = torch.from_numpy(x)\n",
    "targets = torch.from_numpy(y)\n",
    "x_test = torch.from_numpy(xt)\n",
    "y_test = torch.from_numpy(yt)\n",
    "\n",
    "beta0 = torch.ones(5112 , requires_grad = True)\n",
    "beta1 = torch.ones(5112, requires_grad = True)\n",
    "\n",
    "rate = 1e-2\n",
    "optimizer = optim.Adam([beta0 , beta1], lr=rate)\n",
    "\n",
    "epo = 1000\n",
    "loss = nn.MSELoss()\n",
    "train_error = np.zeros(epo)\n",
    "test_error_MAE = np.zeros(epo)\n",
    "test_error_MSE = np.zeros(epo)\n",
    "\n",
    "\n",
    "for epoch in range (epo):\n",
    "    yhats_train = model(features.float() , beta0 , beta1)\n",
    "    train_loss = loss(targets.float() , yhats_train)\n",
    "    train_error[epoch] = train_loss\n",
    "\n",
    "    optimizer.zero_grad()\n",
    "    train_loss.backward() \n",
    "    optimizer.step()    \n",
    "\n",
    "    yhats_test = model(x_test.float(), beta0, beta1) \n",
    "    r = torch.abs(yhats_test - y_test)\n",
    "    test_error_MAE[epoch] = torch.nanmean(r)\n",
    "    test_error_MSE[epoch] = torch.nanmean(r*r)"
   ]
  },
  {
   "cell_type": "code",
   "execution_count": 81,
   "id": "199e0709",
   "metadata": {},
   "outputs": [
    {
     "data": {
      "image/png": "[encoded data removed]",
      "text/plain": [
       "<Figure size 432x288 with 1 Axes>"
      ]
     },
     "metadata": {
      "needs_background": "light"
     },
     "output_type": "display_data"
    }
   ],
   "source": [
    "fig1 = plt.figure(1)\n",
    "x=np.linspace(1,epo,epo)\n",
    "plt.plot(x,test_error_MAE, label = 'MAE')\n",
    "plt.plot(x,test_error_MSE, label ='MSE')\n",
    "plt.legend(loc = 2)\n",
    "plt.title('Bias')\n",
    "\n",
    "plt.show()"
   ]
  },
  {
   "cell_type": "code",
   "execution_count": 82,
   "id": "94029da6",
   "metadata": {},
   "outputs": [
    {
     "name": "stdout",
     "output_type": "stream",
     "text": [
      "testing data MAE is  6.068747276263974\n",
      "testing data MAE is  65.29408382029419\n"
     ]
    }
   ],
   "source": [
    "print('testing data MAE is ', np.min(test_error_MAE))\n",
    "print('testing data MAE is ', np.min(test_error_MSE))"
   ]
  },
  {
   "cell_type": "markdown",
   "id": "6f2d0b93",
   "metadata": {},
   "source": [
    "## Gradient descent (loss = Huber loss)"
   ]
  },
  {
   "cell_type": "code",
   "execution_count": 128,
   "id": "738d24bd",
   "metadata": {},
   "outputs": [],
   "source": [
    "x = Xhat_train\n",
    "y = Yhat_train\n",
    "xt = Xhat_test\n",
    "yt = Yhat_test"
   ]
  },
  {
   "cell_type": "code",
   "execution_count": 129,
   "id": "71399f1e",
   "metadata": {},
   "outputs": [],
   "source": [
    "def model (x,b0,b1):\n",
    "    y = b0 +  b1*x\n",
    "    return y"
   ]
  },
  {
   "cell_type": "code",
   "execution_count": 130,
   "id": "b942bc7d",
   "metadata": {},
   "outputs": [],
   "source": [
    "features = torch.from_numpy(x)\n",
    "targets = torch.from_numpy(y)\n",
    "x_test = torch.from_numpy(xt)\n",
    "y_test = torch.from_numpy(yt)\n",
    "\n",
    "beta0 = torch.ones(5112 , requires_grad = True)\n",
    "beta1 = torch.ones(5112, requires_grad = True)\n",
    "\n",
    "rate = 1e-2\n",
    "optimizer = optim.Adam([beta0 , beta1], lr=rate)\n",
    "\n",
    "epo = 1000\n",
    "loss = nn.MSELoss()\n",
    "train_error = np.zeros(epo)\n",
    "test_error_MAE = np.zeros(epo)\n",
    "test_error_MSE = np.zeros(epo)\n",
    "\n",
    "\n",
    "for epoch in range (epo):\n",
    "    yhats_train = model(features.float() , beta0 , beta1)\n",
    "    train_loss = loss(targets.float() , yhats_train)\n",
    "    train_error[epoch] = train_loss\n",
    "\n",
    "    optimizer.zero_grad()\n",
    "    train_loss.backward() \n",
    "    optimizer.step()    \n",
    "\n",
    "    yhats_test = model(x_test.float(), beta0, beta1) \n",
    "    r = torch.abs(yhats_test - y_test)\n",
    "    test_error_MAE[epoch] = torch.nanmean(r)\n",
    "    test_error_MSE[epoch] = torch.nanmean(r*r)"
   ]
  },
  {
   "cell_type": "code",
   "execution_count": 101,
   "id": "0b9c30fb",
   "metadata": {},
   "outputs": [
    {
     "data": {
      "image/png": "[encoded data removed]",
      "text/plain": [
       "<Figure size 432x288 with 1 Axes>"
      ]
     },
     "metadata": {
      "needs_background": "light"
     },
     "output_type": "display_data"
    }
   ],
   "source": [
    "fig1 = plt.figure(1)\n",
    "x=np.linspace(1,epo,epo)\n",
    "plt.plot(x,test_error_MAE, label = 'MAE')\n",
    "plt.plot(x,test_error_MSE, label ='MSE')\n",
    "plt.legend(loc = 2)\n",
    "plt.title('Bias')\n",
    "\n",
    "plt.show()"
   ]
  },
  {
   "cell_type": "code",
   "execution_count": 102,
   "id": "6d7025ba",
   "metadata": {},
   "outputs": [
    {
     "name": "stdout",
     "output_type": "stream",
     "text": [
      "testing data MAE is  6.2625390545144075\n",
      "testing data MAE is  73.72465304468592\n"
     ]
    }
   ],
   "source": [
    "print('testing data MAE is ', np.min(test_error_MAE))\n",
    "print('testing data MAE is ', np.min(test_error_MSE))"
   ]
  },
  {
   "cell_type": "markdown",
   "id": "2215e12f",
   "metadata": {},
   "source": [
    "# Function on Function Model"
   ]
  },
  {
   "cell_type": "markdown",
   "id": "ddb43dd5",
   "metadata": {},
   "source": [
    "## 公式解（PCA + Linear regression）"
   ]
  },
  {
   "cell_type": "code",
   "execution_count": 9,
   "id": "42db9748",
   "metadata": {},
   "outputs": [],
   "source": [
    "x = Xhat_train\n",
    "y = Yhat_train\n",
    "xt = Xhat_test\n",
    "yt = Yhat_test"
   ]
  },
  {
   "cell_type": "code",
   "execution_count": 10,
   "id": "3ff59626",
   "metadata": {},
   "outputs": [],
   "source": [
    "xper = np.zeros(5)\n",
    "xper[0] = 0.85\n",
    "xper[1] = 0.9\n",
    "xper[2] = 0.95\n",
    "xper[3] = 0.99\n",
    "xper[4] = 0.995\n",
    "yper = xper\n",
    "test_error_MAE = 100*np.ones(25)\n",
    "test_error_MSE = 100*np.ones(25)\n",
    "MAE_index=[]\n",
    "MSE_index=[]"
   ]
  },
  {
   "cell_type": "code",
   "execution_count": 11,
   "id": "4ce754b0",
   "metadata": {},
   "outputs": [],
   "source": [
    "for z in range (0,5):\n",
    "    for w in range (0,5):\n",
    "        pca_x = PCA(n_components=xper[z])\n",
    "        pca_x.fit(x)\n",
    "        x_pca=pca_x.transform(x)\n",
    "        \n",
    "        pca_y = PCA(n_components=yper[w])\n",
    "        pca_y.fit(y)\n",
    "        y_pca=pca_y.transform(y)\n",
    "        \n",
    "        model = LinearRegression()\n",
    "        model.fit(x_pca, y_pca)\n",
    "\n",
    "        xt_pca = pca_x.transform(xt)\n",
    "        fit_x = model.predict(xt_pca)\n",
    "        fit = pca_y.inverse_transform(fit_x)\n",
    "        \n",
    "        mae = np.mean(abs(fit-yt))\n",
    "        mse = np.mean((fit-yt)**2)\n",
    "        test_error_MAE[z*5+w] = mae\n",
    "        test_error_MSE[z*5+w] = mse\n",
    "        MAE_index.append((xper[z], yper[w], mae))\n",
    "        MSE_index.append((xper[z], yper[w], mse))"
   ]
  },
  {
   "cell_type": "code",
   "execution_count": 12,
   "id": "86924967",
   "metadata": {
    "scrolled": true
   },
   "outputs": [
    {
     "name": "stdout",
     "output_type": "stream",
     "text": [
      "test data on x =  90.0 % Y =  85.0 % have the min MAE error : 6.235844492460634\n",
      "(0.9, 0.85, 6.235844492460634)\n",
      "test data on x =  90.0 % Y =  85.0 % have the min MSE error : 63.31976640732784\n",
      "(0.9, 0.85, 63.31976640732784)\n"
     ]
    }
   ],
   "source": [
    "f1 = np.argmin(test_error_MAE)\n",
    "f2 = np.argmin(test_error_MSE)\n",
    "print('test data on x = ', 100*MAE_index[f1][0], '% Y = ', 100*MAE_index[f1][1], '% have the min MAE error :', min(test_error_MAE))\n",
    "print(MAE_index[f1])\n",
    "print('test data on x = ', 100*MSE_index[f2][0], '% Y = ', 100*MSE_index[f2][1], '% have the min MSE error :', min(test_error_MSE))\n",
    "print(MSE_index[f2])"
   ]
  },
  {
   "cell_type": "markdown",
   "id": "bea78690",
   "metadata": {},
   "source": [
    "## Gradient descent (loss = MAE)"
   ]
  },
  {
   "cell_type": "code",
   "execution_count": 103,
   "id": "a49e8894",
   "metadata": {},
   "outputs": [],
   "source": [
    "x = Xhat_train\n",
    "y = Yhat_train\n",
    "xt = Xhat_test\n",
    "yt = Yhat_test"
   ]
  },
  {
   "cell_type": "code",
   "execution_count": 104,
   "id": "d88d1a2c",
   "metadata": {},
   "outputs": [],
   "source": [
    "def model (x,b0,b1):\n",
    "    y = b0 + torch.matmul(x, b1)\n",
    "    return y"
   ]
  },
  {
   "cell_type": "code",
   "execution_count": 105,
   "id": "66b7c99d",
   "metadata": {},
   "outputs": [],
   "source": [
    "features = torch.from_numpy(x)\n",
    "targets = torch.from_numpy(y)\n",
    "x_test = torch.from_numpy(xt)\n",
    "y_test = torch.from_numpy(yt)\n",
    "\n",
    "beta0 = torch.zeros(5112 , requires_grad = True)\n",
    "beta1 = torch.zeros([5112,5112], requires_grad = True)\n",
    "\n",
    "rate = 1e-4\n",
    "optimizer = optim.Adam([beta0 , beta1], lr=rate)\n",
    "\n",
    "epo = 500\n",
    "loss = nn.L1Loss()\n",
    "train_error = np.zeros(epo)\n",
    "test_error_MAE = np.zeros(epo)\n",
    "test_error_MSE = np.zeros(epo)\n",
    "\n",
    "\n",
    "for epoch in range (epo):\n",
    "    yhats_train = model(features.float() , beta0 , beta1)\n",
    "    train_loss = loss(targets.float() , yhats_train)\n",
    "    train_error[epoch] = train_loss\n",
    "\n",
    "    optimizer.zero_grad()\n",
    "    train_loss.backward() \n",
    "    optimizer.step()    \n",
    "\n",
    "    yhats_test = model(x_test.float(), beta0, beta1) \n",
    "    r = abs(yhats_test - y_test)\n",
    "    test_error_MAE[epoch] = torch.nanmean(r)\n",
    "    test_error_MSE[epoch] = torch.nanmean(r*r)"
   ]
  },
  {
   "cell_type": "code",
   "execution_count": 106,
   "id": "f872b8f8",
   "metadata": {},
   "outputs": [
    {
     "data": {
      "image/png": "[encoded data removed]",
      "text/plain": [
       "<Figure size 432x288 with 1 Axes>"
      ]
     },
     "metadata": {
      "needs_background": "light"
     },
     "output_type": "display_data"
    }
   ],
   "source": [
    "fig1 = plt.figure(1)\n",
    "x=np.linspace(1,epo,epo)\n",
    "plt.plot(x,test_error_MAE, label = 'MAE')\n",
    "plt.plot(x,test_error_MSE, label ='MSE')\n",
    "plt.legend(loc = 2)\n",
    "plt.title('Bias')\n",
    "\n",
    "plt.show()"
   ]
  },
  {
   "cell_type": "code",
   "execution_count": 107,
   "id": "53137b2b",
   "metadata": {},
   "outputs": [
    {
     "name": "stdout",
     "output_type": "stream",
     "text": [
      "testing data MAE is  5.289526840944239\n",
      "testing data MAE is  51.661624716832065\n"
     ]
    }
   ],
   "source": [
    "print('testing data MAE is ', np.min(test_error_MAE))\n",
    "print('testing data MAE is ', np.min(test_error_MSE))"
   ]
  },
  {
   "cell_type": "markdown",
   "id": "ca199afa",
   "metadata": {},
   "source": [
    "## Gradient descent (loss = MSE)"
   ]
  },
  {
   "cell_type": "code",
   "execution_count": 112,
   "id": "442a2fce",
   "metadata": {},
   "outputs": [],
   "source": [
    "x = Xhat_train\n",
    "y = Yhat_train\n",
    "xt = Xhat_test\n",
    "yt = Yhat_test"
   ]
  },
  {
   "cell_type": "code",
   "execution_count": 113,
   "id": "feefc0ee",
   "metadata": {},
   "outputs": [],
   "source": [
    "def model (x,b0,b1):\n",
    "    y = b0 + torch.matmul(x, b1)\n",
    "    return y"
   ]
  },
  {
   "cell_type": "code",
   "execution_count": 114,
   "id": "6e8ba54c",
   "metadata": {},
   "outputs": [],
   "source": [
    "features = torch.from_numpy(x)\n",
    "targets = torch.from_numpy(y)\n",
    "x_test = torch.from_numpy(xt)\n",
    "y_test = torch.from_numpy(yt)\n",
    "\n",
    "beta0 = torch.zeros(5112 , requires_grad = True)\n",
    "beta1 = torch.zeros([5112,5112], requires_grad = True)\n",
    "\n",
    "rate = 1e-4\n",
    "optimizer = optim.Adam([beta0 , beta1], lr=rate)\n",
    "\n",
    "epo = 500\n",
    "loss = nn.MSELoss()\n",
    "train_error = np.zeros(epo)\n",
    "test_error_MAE = np.zeros(epo)\n",
    "test_error_MSE = np.zeros(epo)\n",
    "\n",
    "\n",
    "for epoch in range (epo):\n",
    "    yhats_train = model(features.float() , beta0 , beta1)\n",
    "    train_loss = loss(targets.float() , yhats_train)\n",
    "    train_error[epoch] = train_loss\n",
    "\n",
    "    optimizer.zero_grad()\n",
    "    train_loss.backward() \n",
    "    optimizer.step()    \n",
    "\n",
    "    yhats_test = model(x_test.float(), beta0, beta1) \n",
    "    r = abs(yhats_test - y_test)\n",
    "    test_error_MAE[epoch] = torch.nanmean(r)\n",
    "    test_error_MSE[epoch] = torch.nanmean(r*r)"
   ]
  },
  {
   "cell_type": "code",
   "execution_count": 115,
   "id": "e52c40e4",
   "metadata": {},
   "outputs": [
    {
     "data": {
      "image/png": "[encoded data removed]",
      "text/plain": [
       "<Figure size 432x288 with 1 Axes>"
      ]
     },
     "metadata": {
      "needs_background": "light"
     },
     "output_type": "display_data"
    }
   ],
   "source": [
    "fig1 = plt.figure(1)\n",
    "x=np.linspace(1,epo,epo)\n",
    "plt.plot(x,test_error_MAE, label = 'MAE')\n",
    "plt.plot(x,test_error_MSE, label ='MSE')\n",
    "plt.legend(loc = 2)\n",
    "plt.title('Bias')\n",
    "\n",
    "plt.show()"
   ]
  },
  {
   "cell_type": "code",
   "execution_count": 116,
   "id": "81cbd1a7",
   "metadata": {},
   "outputs": [
    {
     "name": "stdout",
     "output_type": "stream",
     "text": [
      "testing data MAE is  5.4215726361349725\n",
      "testing data MAE is  52.808986191639924\n"
     ]
    }
   ],
   "source": [
    "print('testing data MAE is ', np.min(test_error_MAE))\n",
    "print('testing data MAE is ', np.min(test_error_MSE))"
   ]
  },
  {
   "cell_type": "markdown",
   "id": "b6f8187b",
   "metadata": {},
   "source": [
    "## Gradient descent (loss = Huber loss)"
   ]
  },
  {
   "cell_type": "code",
   "execution_count": 117,
   "id": "96b04f56",
   "metadata": {},
   "outputs": [],
   "source": [
    "x = Xhat_train\n",
    "y = Yhat_train\n",
    "xt = Xhat_test\n",
    "yt = Yhat_test"
   ]
  },
  {
   "cell_type": "code",
   "execution_count": 118,
   "id": "b1d72871",
   "metadata": {},
   "outputs": [],
   "source": [
    "def model (x,b0,b1):\n",
    "    y = b0 + torch.matmul(x, b1)\n",
    "    return y"
   ]
  },
  {
   "cell_type": "code",
   "execution_count": 119,
   "id": "7ad421e1",
   "metadata": {},
   "outputs": [],
   "source": [
    "features = torch.from_numpy(x)\n",
    "targets = torch.from_numpy(y)\n",
    "x_test = torch.from_numpy(xt)\n",
    "y_test = torch.from_numpy(yt)\n",
    "\n",
    "beta0 = torch.zeros(5112 , requires_grad = True)\n",
    "beta1 = torch.zeros([5112,5112], requires_grad = True)\n",
    "\n",
    "rate = 1e-4\n",
    "optimizer = optim.Adam([beta0 , beta1], lr=rate)\n",
    "\n",
    "epo = 500\n",
    "loss = nn.HuberLoss()\n",
    "train_error = np.zeros(epo)\n",
    "test_error_MAE = np.zeros(epo)\n",
    "test_error_MSE = np.zeros(epo)\n",
    "\n",
    "\n",
    "for epoch in range (epo):\n",
    "    yhats_train = model(features.float() , beta0 , beta1)\n",
    "    train_loss = loss(targets.float() , yhats_train)\n",
    "    train_error[epoch] = train_loss\n",
    "\n",
    "    optimizer.zero_grad()\n",
    "    train_loss.backward() \n",
    "    optimizer.step()    \n",
    "\n",
    "    yhats_test = model(x_test.float(), beta0, beta1) \n",
    "    r = abs(yhats_test - y_test)\n",
    "    test_error_MAE[epoch] = torch.nanmean(r)\n",
    "    test_error_MSE[epoch] = torch.nanmean(r*r)"
   ]
  },
  {
   "cell_type": "code",
   "execution_count": 120,
   "id": "4b9f19c9",
   "metadata": {},
   "outputs": [
    {
     "data": {
      "image/png": "[encoded data removed]",
      "text/plain": [
       "<Figure size 432x288 with 1 Axes>"
      ]
     },
     "metadata": {
      "needs_background": "light"
     },
     "output_type": "display_data"
    }
   ],
   "source": [
    "fig1 = plt.figure(1)\n",
    "x=np.linspace(1,epo,epo)\n",
    "plt.plot(x,test_error_MAE, label = 'MAE')\n",
    "plt.plot(x,test_error_MSE, label ='MSE')\n",
    "plt.legend(loc = 2)\n",
    "plt.title('Bias')\n",
    "\n",
    "plt.show()"
   ]
  },
  {
   "cell_type": "code",
   "execution_count": 121,
   "id": "c4a29a03",
   "metadata": {},
   "outputs": [
    {
     "name": "stdout",
     "output_type": "stream",
     "text": [
      "testing data MAE is  5.287688356081604\n",
      "testing data MAE is  51.645743527297626\n"
     ]
    }
   ],
   "source": [
    "print('testing data MAE is ', np.min(test_error_MAE))\n",
    "print('testing data MAE is ', np.min(test_error_MSE))"
   ]
  },
  {
   "cell_type": "markdown",
   "id": "845ce490",
   "metadata": {},
   "source": [
    "# PLS Model"
   ]
  },
  {
   "cell_type": "code",
   "execution_count": 5,
   "id": "67ad981e",
   "metadata": {},
   "outputs": [],
   "source": [
    "x = Xhat_train\n",
    "y = Yhat_train\n",
    "xt = Xhat_test\n",
    "yt = Yhat_test"
   ]
  },
  {
   "cell_type": "code",
   "execution_count": 6,
   "id": "faf210e4",
   "metadata": {},
   "outputs": [],
   "source": [
    "test_error_MAE = 100*np.ones(50)\n",
    "test_error_MSE = 100*np.ones(50)\n",
    "for n in range (1,51):\n",
    "    model = PLSRegression(n_components=n,max_iter=1000)\n",
    "    model.fit(x, y)\n",
    "\n",
    "    xf=Xhat_test\n",
    "    xfit=model.predict(xf)\n",
    "    \n",
    "    after_MAE=np.nanmean(abs(xfit-yt))\n",
    "    after_MSE=np.nanmean((xfit-yt)**2)\n",
    "    \n",
    "    test_error_MAE[n-1] = after_MAE\n",
    "    test_error_MSE[n-1] = after_MSE"
   ]
  },
  {
   "cell_type": "code",
   "execution_count": 7,
   "id": "7f4c4908",
   "metadata": {},
   "outputs": [
    {
     "name": "stdout",
     "output_type": "stream",
     "text": [
      "test data on n =  29 have the min MAE error :  6.106423390382045\n",
      "test data on n =  14 have the min MSE error :  59.39619033308034\n"
     ]
    }
   ],
   "source": [
    "print('test data on n = ', np.argmin(test_error_MAE)+1, 'have the min MAE error : ', min(test_error_MAE))\n",
    "print('test data on n = ', np.argmin(test_error_MSE)+1, 'have the min MSE error : ', min(test_error_MSE))"
   ]
  },
  {
   "cell_type": "markdown",
   "id": "ae714ff5",
   "metadata": {},
   "source": [
    "# SIR Model"
   ]
  },
  {
   "cell_type": "code",
   "execution_count": 17,
   "id": "fcc351fa",
   "metadata": {},
   "outputs": [],
   "source": [
    "x = Xhat_train\n",
    "y = Yhat_train\n",
    "xt = Xhat_test\n",
    "yt = Yhat_test"
   ]
  },
  {
   "cell_type": "code",
   "execution_count": 18,
   "id": "bed5003d",
   "metadata": {},
   "outputs": [],
   "source": [
    "xper = np.zeros(5)\n",
    "xper[0] = 0.85\n",
    "xper[1] = 0.90\n",
    "xper[2] = 0.95\n",
    "xper[3] = 0.99\n",
    "xper[4] = 0.995\n",
    "yper = np.zeros(3)\n",
    "yper[0] = 0.95\n",
    "yper[1] = 0.99\n",
    "yper[2] = 0.995\n",
    "slices = np.zeros(5)\n",
    "slices[0] = 10\n",
    "slices[1] = 20\n",
    "slices[2] = 30\n",
    "slices[3] = 40\n",
    "slices[4] = 50\n",
    "test_error_MAE = 100*np.ones(15)\n",
    "test_error_MSE = 100*np.ones(15)\n",
    "index_MAE = []\n",
    "index_MSE = []"
   ]
  },
  {
   "cell_type": "code",
   "execution_count": 19,
   "id": "f2835fdb",
   "metadata": {},
   "outputs": [],
   "source": [
    "for q in range (0,5):\n",
    "    for r in range(0,3):\n",
    "        pca_x = PCA(n_components=xper[q])\n",
    "        pca_x.fit(x)\n",
    "        x_pca=pca_x.transform(x)\n",
    "        a = x_pca.shape[1]\n",
    "        \n",
    "        pca_y = PCA(n_components=yper[r])\n",
    "        pca_y.fit(y)\n",
    "        y_pca=pca_y.transform(y)\n",
    "        b = y_pca.shape[1]\n",
    "\n",
    "        xt_pca=pca_x.transform(xt)\n",
    "\n",
    "        xt_svr = np.zeros([5,61,b])\n",
    "        #5是因為有5種n_slices\n",
    "        for j in range (0,5):\n",
    "            for i in range (0,b):\n",
    "                sir_x = SlicedInverseRegression(n_slices=slices[j])\n",
    "                sir_x.fit(x_pca, y_pca[:,i])\n",
    "                x_sir = sir_x.transform(x_pca)\n",
    "                   \n",
    "                svr = SVR()\n",
    "                svr.fit(x_sir, y_pca[:,i])\n",
    "                \n",
    "                xt_sir = sir_x.transform(xt_pca) \n",
    "                xt_svr[j][:,i]=svr.predict(xt_sir)\n",
    "        error1 = np.zeros(5)\n",
    "        error2 = np.zeros(5)\n",
    "        for i in range (0,5):\n",
    "            yt_inv = pca_y.inverse_transform(xt_svr[i])\n",
    "            error1[i] = np.mean(abs(yt_inv-yt))\n",
    "            error2[i] = np.mean((yt_inv-yt)**2)\n",
    "\n",
    "        n1 = 10*(np.argmin(error1)+1)\n",
    "        n2 = 10*(np.argmin(error2)+1)\n",
    "        min1 = min(error1)\n",
    "        min2 = min(error2)\n",
    "        index_MAE.append((xper[q], yper[r], n1, min1))    \n",
    "        index_MSE.append((xper[q], yper[r], n2, min2)) \n",
    "        test_error_MAE[3*q+r] = min1\n",
    "        test_error_MSE[3*q+r] = min2"
   ]
  },
  {
   "cell_type": "code",
   "execution_count": 20,
   "id": "d60fa366",
   "metadata": {},
   "outputs": [
    {
     "name": "stdout",
     "output_type": "stream",
     "text": [
      "test data on n_slices =  10 , x =  0.9 % , y =  0.95 % have the min MAE error : 5.480315058309686\n",
      "(0.9, 0.95, 10, 5.480315058309686)\n",
      "test data on n_slices =  10 , x =  0.9 % , y =  0.95 % have the min MSE error : 50.18138061447481\n",
      "(0.9, 0.95, 10, 50.18138061447481)\n"
     ]
    }
   ],
   "source": [
    "f1 = np.argmin(test_error_MAE)\n",
    "f2 = np.argmin(test_error_MSE)\n",
    "print('test data on n_slices = ', index_MAE[f1][2], ', x = ', index_MAE[f1][0], '% , y = ', index_MAE[f1][1], '% have the min MAE error :', min(test_error_MAE))\n",
    "print(index_MAE[f1])\n",
    "print('test data on n_slices = ', index_MSE[f2][2], ', x = ', index_MSE[f2][0], '% , y = ', index_MSE[f2][1], '% have the min MSE error :', min(test_error_MSE))\n",
    "print(index_MSE[f2])"
   ]
  },
  {
   "cell_type": "markdown",
   "id": "246afe5f",
   "metadata": {},
   "source": [
    "# CNN Model"
   ]
  },
  {
   "cell_type": "code",
   "execution_count": 131,
   "id": "578c47f4",
   "metadata": {},
   "outputs": [
    {
     "name": "stdout",
     "output_type": "stream",
     "text": [
      "Xhat_train\n",
      "(71, 544, 72)\n",
      "Yhat_train\n",
      "(71, 544, 72)\n",
      "Xhat_test\n",
      "(71, 61, 72)\n",
      "Yhat_test\n",
      "(71, 61, 72)\n",
      "Xhat_val\n",
      "(71, 61, 72)\n",
      "Yhat_val\n",
      "(71, 61, 72)\n"
     ]
    }
   ],
   "source": [
    "Xhat_train_n = np.zeros([71,544,72])\n",
    "Yhat_train_n = np.zeros([71,544,72])\n",
    "Xhat_test_n = np.zeros([71,61,72])\n",
    "Yhat_test_n = np.zeros([71,61,72])\n",
    "for i in range (0,71):\n",
    "    for j in range (0,544):\n",
    "        for k in range (0,72):\n",
    "            Xhat_train_n[i][j][k] = Xhat_train[j][(72*i)+k]\n",
    "            Yhat_train_n[i][j][k] = Yhat_train[j][(72*i)+k]\n",
    "    for j in range (0,61):\n",
    "        for k in range (0,72):\n",
    "            Xhat_test_n[i][j][k] = Xhat_test[j][(72*i)+k]\n",
    "            Yhat_test_n[i][j][k] = Yhat_test[j][(72*i)+k]\n",
    "print('Xhat_train')\n",
    "print(np.shape(Xhat_train_n))\n",
    "print('Yhat_train')\n",
    "print(np.shape(Yhat_train_n))\n",
    "print('Xhat_test')\n",
    "print(np.shape(Xhat_test_n))\n",
    "print('Yhat_test')\n",
    "print(np.shape(Yhat_test_n))\n",
    "Xhat_val_n=Xhat_test_n\n",
    "Yhat_val_n=Yhat_test_n\n",
    "print('Xhat_val')\n",
    "print(np.shape(Xhat_val_n))\n",
    "print('Yhat_val')\n",
    "print(np.shape(Yhat_val_n))"
   ]
  },
  {
   "cell_type": "markdown",
   "id": "811744a2",
   "metadata": {},
   "source": [
    "## loss = MAE"
   ]
  },
  {
   "cell_type": "code",
   "execution_count": 132,
   "id": "7cc18a4e",
   "metadata": {},
   "outputs": [],
   "source": [
    "class CNN(pl.LightningModule):\n",
    "    def __init__(self):\n",
    "        super().__init__()\n",
    "        self.layer1 = nn.Conv1d(1 , 32 , 2)\n",
    "        self.act1 = nn.ReLU()\n",
    "        self.layer2 = nn.Conv1d(32 , 32 , 2)\n",
    "        self.act2 = nn.ReLU()\n",
    "        self.layer3 = nn.Conv1d(32, 32 , 2)\n",
    "        self.act3 = nn.ReLU()\n",
    "        self.layer4 = nn.Conv1d(32 , 32 , 2)\n",
    "        self.act4 = nn.ReLU()\n",
    "        self.layer5 = nn.Conv1d(32 , 32 , 2)\n",
    "        self.act5 = nn.ReLU()\n",
    "        self.fl = nn.Flatten()\n",
    "        self.fc1 = nn.Linear(67*32,264)\n",
    "        self.fc2 = nn.Linear(264,72)\n",
    "    \n",
    "    def forward(self, x): \n",
    "        ouput = torch.unsqueeze(x,1)\n",
    "        ouput = self.act1(self.layer1(ouput))\n",
    "        ouput = self.act2(self.layer2(ouput))\n",
    "        ouput = self.act3(self.layer3(ouput))\n",
    "        ouput = self.act4(self.layer4(ouput))\n",
    "        ouput = self.act5(self.layer5(ouput))\n",
    "        ouput = self.fl(ouput)\n",
    "        ouput = self.fc1(ouput)\n",
    "        ouput = self.fc2(ouput)\n",
    "        return ouput\n",
    "\n",
    "    def configure_optimizers(self): \n",
    "        return optim.Adam(self.parameters(), lr=1e-4) \n",
    "\n",
    "    def prepare_data(self): \n",
    "        self.train_set = Data.TensorDataset(x_train , y_train) \n",
    "        self.test_set = Data.TensorDataset(x_test, y_test)\n",
    "        self.val_set = Data.TensorDataset(x_val, y_val)\n",
    "\n",
    "    def train_dataloader(self):\n",
    "        return Data.DataLoader(dataset=self.train_set , batch_size=544 , shuffle=True)\n",
    "\n",
    "    def test_dataloader(self):\n",
    "        return Data.DataLoader(dataset=self.test_set , batch_size=61 , shuffle=False)\n",
    "\n",
    "    def val_dataloader(self):\n",
    "        return Data.DataLoader(dataset=self.val_set , batch_size=61 , shuffle=False)\n",
    "\n",
    "    def training_step(self, batch, batch_idx): \n",
    "        x, y = batch \n",
    "        output  = self.forward(x)\n",
    "        loss = nn.L1Loss(reduction='mean')(output, y)\n",
    "        mae = nn.L1Loss(reduction='mean')(output, y)\n",
    "        mse = nn.MSELoss(reduction='mean')(output, y)\n",
    "        self.log(\"train_loss\", loss)\n",
    "        self.log(\"MAE\", mae)\n",
    "        self.log(\"MSE\", mse)\n",
    "#         return {'loss' : loss , 'MAE' : mae, 'MSE' : mse}\n",
    "        return {'loss' : loss}\n",
    "\n",
    "    def test_step(self, batch, batch_idx):\n",
    "        x, y = batch \n",
    "        output  = self.forward(x)\n",
    "        loss = nn.L1Loss(reduction='mean')(output, y)\n",
    "        mae = nn.L1Loss(reduction='mean')(output, y)\n",
    "        mse = nn.MSELoss(reduction='mean')(output, y)\n",
    "        self.log(\"train_loss\", loss)\n",
    "        self.log(\"MAE\", mae)\n",
    "        self.log(\"MSE\", mse)\n",
    "#         return {'loss' : loss , 'MAE' : mae, 'MSE' : mse}\n",
    "        return {'loss' : loss}\n",
    "\n",
    "    def validation_step(self, batch, batch_idx):\n",
    "        x, y = batch \n",
    "        output  = self.forward(x)\n",
    "        loss = nn.L1Loss(reduction='mean')(output, y)\n",
    "        mae = nn.L1Loss(reduction='mean')(output, y)\n",
    "        mse = nn.MSELoss(reduction='mean')(output, y)\n",
    "        self.log(\"train_loss\", loss)\n",
    "        self.log(\"MAE\", mae)\n",
    "        self.log(\"MSE\", mse)\n",
    "#         return {'loss' : loss , 'MAE' : mae, 'MSE' : mse}\n",
    "        return {'loss' : loss}"
   ]
  },
  {
   "cell_type": "code",
   "execution_count": null,
   "id": "56cfca1d",
   "metadata": {},
   "outputs": [],
   "source": [
    "for i in range (0,71):\n",
    "    x_train = torch.from_numpy(Xhat_train_n[i]).float()\n",
    "    y_train = torch.from_numpy(Yhat_train_n[i]).float()\n",
    "    x_test = torch.from_numpy(Xhat_test_n[i]).float()\n",
    "    y_test = torch.from_numpy(Yhat_test_n[i]).float()\n",
    "    x_val = torch.from_numpy(Xhat_val_n[i]).float()\n",
    "    y_val = torch.from_numpy(Yhat_val_n[i]).float()\n",
    "    \n",
    "    logger = CSVLogger(\"CNN Model\", name=\"CNN_72hr_MAE\")\n",
    "    model = CNN() \n",
    "    trainer = pl.Trainer(max_epochs=500 , gpus=1 , logger=logger)\n",
    "    trainer.fit(model)\n",
    "    trainer.test(model)"
   ]
  },
  {
   "cell_type": "code",
   "execution_count": 133,
   "id": "24feba87",
   "metadata": {},
   "outputs": [],
   "source": [
    "test_error_MAE = np.zeros(71)\n",
    "test_error_MSE = np.zeros(71)\n",
    "for i in range (0,71):\n",
    "    df = pd.read_csv(\"/home/luhung3080/Desktop/PycharmProjects/NCHUproject/Transformer/CNN Model/CNN_72hr_MAE/version_\"+str(i)+\"/metrics.csv\")\n",
    "    s1 = np.array(df['MAE'].fillna(100))\n",
    "    s2 = np.array(df['MSE'].fillna(100))\n",
    "    test_error_MAE[i] = np.min(s1)\n",
    "    test_error_MSE[i] = np.min(s2)"
   ]
  },
  {
   "cell_type": "code",
   "execution_count": 134,
   "id": "ed9e145a",
   "metadata": {},
   "outputs": [
    {
     "data": {
      "image/png": "[encoded data removed]",
      "text/plain": [
       "<Figure size 432x288 with 1 Axes>"
      ]
     },
     "metadata": {
      "needs_background": "light"
     },
     "output_type": "display_data"
    }
   ],
   "source": [
    "m = np.nanmean(test_error_MAE)*np.ones(71)\n",
    "fig1 = plt.figure(1)\n",
    "x=np.linspace(1,71,71)\n",
    "plt.plot(x,test_error_MAE, label = 'statione MAE')\n",
    "plt.plot(x,m, label = 'mean MAE')\n",
    "plt.legend(loc = 2)\n",
    "\n",
    "plt.show()"
   ]
  },
  {
   "cell_type": "code",
   "execution_count": 135,
   "id": "fcd98a79",
   "metadata": {},
   "outputs": [
    {
     "data": {
      "image/png": "[encoded data removed]",
      "text/plain": [
       "<Figure size 432x288 with 1 Axes>"
      ]
     },
     "metadata": {
      "needs_background": "light"
     },
     "output_type": "display_data"
    }
   ],
   "source": [
    "m = np.nanmean(test_error_MSE)*np.ones(71)\n",
    "fig1 = plt.figure(1)\n",
    "x=np.linspace(1,71,71)\n",
    "plt.plot(x,test_error_MSE, label = 'statione MSE')\n",
    "plt.plot(x,m, label = 'mean MSE')\n",
    "plt.legend(loc = 2)\n",
    "\n",
    "plt.show()"
   ]
  },
  {
   "cell_type": "code",
   "execution_count": 136,
   "id": "0dfe19d5",
   "metadata": {},
   "outputs": [
    {
     "name": "stdout",
     "output_type": "stream",
     "text": [
      "testing data MAE is  4.870982274203233\n",
      "testing data MAE is  44.83770708970621\n"
     ]
    }
   ],
   "source": [
    "print('testing data MAE is ', np.nanmean(test_error_MAE))\n",
    "print('testing data MAE is ', np.nanmean(test_error_MSE))"
   ]
  },
  {
   "cell_type": "markdown",
   "id": "bbc04dd4",
   "metadata": {},
   "source": [
    "## loss = MSE"
   ]
  },
  {
   "cell_type": "code",
   "execution_count": 137,
   "id": "d23c1aa3",
   "metadata": {},
   "outputs": [],
   "source": [
    "class CNN(pl.LightningModule):\n",
    "    def __init__(self):\n",
    "        super().__init__()\n",
    "        self.layer1 = nn.Conv1d(1 , 32 , 2)\n",
    "        self.act1 = nn.ReLU()\n",
    "        self.layer2 = nn.Conv1d(32 , 32 , 2)\n",
    "        self.act2 = nn.ReLU()\n",
    "        self.layer3 = nn.Conv1d(32, 32 , 2)\n",
    "        self.act3 = nn.ReLU()\n",
    "        self.layer4 = nn.Conv1d(32 , 32 , 2)\n",
    "        self.act4 = nn.ReLU()\n",
    "        self.layer5 = nn.Conv1d(32 , 32 , 2)\n",
    "        self.act5 = nn.ReLU()\n",
    "        self.fl = nn.Flatten()\n",
    "        self.fc1 = nn.Linear(67*32,264)\n",
    "        self.fc2 = nn.Linear(264,72)\n",
    "    \n",
    "    def forward(self, x): \n",
    "        ouput = torch.unsqueeze(x,1)\n",
    "        ouput = self.act1(self.layer1(ouput))\n",
    "        ouput = self.act2(self.layer2(ouput))\n",
    "        ouput = self.act3(self.layer3(ouput))\n",
    "        ouput = self.act4(self.layer4(ouput))\n",
    "        ouput = self.act5(self.layer5(ouput))\n",
    "        ouput = self.fl(ouput)\n",
    "        ouput = self.fc1(ouput)\n",
    "        ouput = self.fc2(ouput)\n",
    "        return ouput\n",
    "\n",
    "    def configure_optimizers(self): \n",
    "        return optim.Adam(self.parameters(), lr=1e-4) \n",
    "\n",
    "    def prepare_data(self): \n",
    "        self.train_set = Data.TensorDataset(x_train , y_train) \n",
    "        self.test_set = Data.TensorDataset(x_test, y_test)\n",
    "        self.val_set = Data.TensorDataset(x_val, y_val)\n",
    "\n",
    "    def train_dataloader(self):\n",
    "        return Data.DataLoader(dataset=self.train_set , batch_size=544 , shuffle=True)\n",
    "\n",
    "    def test_dataloader(self):\n",
    "        return Data.DataLoader(dataset=self.test_set , batch_size=61 , shuffle=False)\n",
    "\n",
    "    def val_dataloader(self):\n",
    "        return Data.DataLoader(dataset=self.val_set , batch_size=61 , shuffle=False)\n",
    "\n",
    "    def training_step(self, batch, batch_idx): \n",
    "        x, y = batch \n",
    "        output  = self.forward(x)\n",
    "        loss = nn.MSELoss(reduction='mean')(output, y)\n",
    "        mae = nn.L1Loss(reduction='mean')(output, y)\n",
    "        mse = nn.MSELoss(reduction='mean')(output, y)\n",
    "        self.log(\"train_loss\", loss)\n",
    "        self.log(\"MAE\", mae)\n",
    "        self.log(\"MSE\", mse)\n",
    "#        return {'loss' : loss , 'MAE' : mae, 'MSE' : mse}\n",
    "        return {'loss' : loss}\n",
    "\n",
    "    def test_step(self, batch, batch_idx):\n",
    "        x, y = batch \n",
    "        output  = self.forward(x)\n",
    "        loss = nn.MSELoss(reduction='mean')(output, y)\n",
    "        mae = nn.L1Loss(reduction='mean')(output, y)\n",
    "        mse = nn.MSELoss(reduction='mean')(output, y)\n",
    "        self.log(\"train_loss\", loss)\n",
    "        self.log(\"MAE\", mae)\n",
    "        self.log(\"MSE\", mse)\n",
    "#        return {'loss' : loss , 'MAE' : mae, 'MSE' : mse}\n",
    "        return {'loss' : loss}\n",
    "\n",
    "    def validation_step(self, batch, batch_idx):\n",
    "        x, y = batch \n",
    "        output  = self.forward(x)\n",
    "        loss = nn.MSELoss(reduction='mean')(output, y)\n",
    "        mae = nn.L1Loss(reduction='mean')(output, y)\n",
    "        mse = nn.MSELoss(reduction='mean')(output, y)\n",
    "        self.log(\"train_loss\", loss)\n",
    "        self.log(\"MAE\", mae)\n",
    "        self.log(\"MSE\", mse)\n",
    "#        return {'loss' : loss , 'MAE' : mae, 'MSE' : mse}\n",
    "        return {'loss' : loss}"
   ]
  },
  {
   "cell_type": "code",
   "execution_count": null,
   "id": "206baeac",
   "metadata": {},
   "outputs": [],
   "source": [
    "for i in range (0,71):\n",
    "    x_train = torch.from_numpy(Xhat_train_n[i]).float()\n",
    "    y_train = torch.from_numpy(Yhat_train_n[i]).float()\n",
    "    x_test = torch.from_numpy(Xhat_test_n[i]).float()\n",
    "    y_test = torch.from_numpy(Yhat_test_n[i]).float()\n",
    "    x_val = torch.from_numpy(Xhat_val_n[i]).float()\n",
    "    y_val = torch.from_numpy(Yhat_val_n[i]).float()\n",
    "    \n",
    "    logger = CSVLogger(\"CNN Model\", name=\"CNN_72hr_MSE\")\n",
    "    model = CNN() \n",
    "    trainer = pl.Trainer(max_epochs=500 , gpus=1 , logger=logger)\n",
    "    trainer.fit(model)\n",
    "    trainer.test(model)"
   ]
  },
  {
   "cell_type": "code",
   "execution_count": 138,
   "id": "089eecdd",
   "metadata": {},
   "outputs": [],
   "source": [
    "test_error_MAE = np.zeros(71)\n",
    "test_error_MSE = np.zeros(71)\n",
    "for i in range (0,71):\n",
    "    df = pd.read_csv(\"/home/luhung3080/Desktop/PycharmProjects/NCHUproject/Transformer/CNN Model/CNN_72hr_MSE/version_\"+str(i)+\"/metrics.csv\")\n",
    "    s1 = np.array(df['MAE'].fillna(100))\n",
    "    s2 = np.array(df['MSE'].fillna(100))\n",
    "    test_error_MAE[i] = np.min(s1)\n",
    "    test_error_MSE[i] = np.min(s2)"
   ]
  },
  {
   "cell_type": "code",
   "execution_count": 139,
   "id": "9cb9d455",
   "metadata": {},
   "outputs": [
    {
     "data": {
      "image/png": "[encoded data removed]",
      "text/plain": [
       "<Figure size 432x288 with 1 Axes>"
      ]
     },
     "metadata": {
      "needs_background": "light"
     },
     "output_type": "display_data"
    }
   ],
   "source": [
    "m = np.nanmean(test_error_MAE)*np.ones(71)\n",
    "fig1 = plt.figure(1)\n",
    "x=np.linspace(1,71,71)\n",
    "plt.plot(x,test_error_MAE, label = 'statione MAE')\n",
    "plt.plot(x,m, label = 'mean MAE')\n",
    "plt.legend(loc = 2)\n",
    "\n",
    "plt.show()"
   ]
  },
  {
   "cell_type": "code",
   "execution_count": 140,
   "id": "3bb8cdeb",
   "metadata": {},
   "outputs": [
    {
     "data": {
      "image/png": "[encoded data removed]",
      "text/plain": [
       "<Figure size 432x288 with 1 Axes>"
      ]
     },
     "metadata": {
      "needs_background": "light"
     },
     "output_type": "display_data"
    }
   ],
   "source": [
    "m = np.nanmean(test_error_MSE)*np.ones(71)\n",
    "fig1 = plt.figure(1)\n",
    "x=np.linspace(1,71,71)\n",
    "plt.plot(x,test_error_MSE, label = 'statione MSE')\n",
    "plt.plot(x,m, label = 'mean MSE')\n",
    "plt.legend(loc = 2)\n",
    "\n",
    "plt.show()"
   ]
  },
  {
   "cell_type": "code",
   "execution_count": 141,
   "id": "a36cbefb",
   "metadata": {},
   "outputs": [
    {
     "name": "stdout",
     "output_type": "stream",
     "text": [
      "testing data MAE is  5.0312192708673615\n",
      "testing data MAE is  47.02368362856583\n"
     ]
    }
   ],
   "source": [
    "print('testing data MAE is ', np.nanmean(test_error_MAE))\n",
    "print('testing data MAE is ', np.nanmean(test_error_MSE))"
   ]
  },
  {
   "cell_type": "markdown",
   "id": "f197da18",
   "metadata": {},
   "source": [
    "## loss = Huber loss"
   ]
  },
  {
   "cell_type": "code",
   "execution_count": 142,
   "id": "c0302e1e",
   "metadata": {},
   "outputs": [],
   "source": [
    "class CNN(pl.LightningModule):\n",
    "    def __init__(self):\n",
    "        super().__init__()\n",
    "        self.layer1 = nn.Conv1d(1 , 32 , 2)\n",
    "        self.act1 = nn.ReLU()\n",
    "        self.layer2 = nn.Conv1d(32 , 32 , 2)\n",
    "        self.act2 = nn.ReLU()\n",
    "        self.layer3 = nn.Conv1d(32, 32 , 2)\n",
    "        self.act3 = nn.ReLU()\n",
    "        self.layer4 = nn.Conv1d(32 , 32 , 2)\n",
    "        self.act4 = nn.ReLU()\n",
    "        self.layer5 = nn.Conv1d(32 , 32 , 2)\n",
    "        self.act5 = nn.ReLU()\n",
    "        self.fl = nn.Flatten()\n",
    "        self.fc1 = nn.Linear(67*32,264)\n",
    "        self.fc2 = nn.Linear(264,72)\n",
    "    \n",
    "    def forward(self, x): \n",
    "        ouput = torch.unsqueeze(x,1)\n",
    "        ouput = self.act1(self.layer1(ouput))\n",
    "        ouput = self.act2(self.layer2(ouput))\n",
    "        ouput = self.act3(self.layer3(ouput))\n",
    "        ouput = self.act4(self.layer4(ouput))\n",
    "        ouput = self.act5(self.layer5(ouput))\n",
    "        ouput = self.fl(ouput)\n",
    "        ouput = self.fc1(ouput)\n",
    "        ouput = self.fc2(ouput)\n",
    "        return ouput\n",
    "\n",
    "    def configure_optimizers(self): \n",
    "        return optim.Adam(self.parameters(), lr=1e-4) \n",
    "\n",
    "    def prepare_data(self): \n",
    "        self.train_set = Data.TensorDataset(x_train , y_train) \n",
    "        self.test_set = Data.TensorDataset(x_test, y_test)\n",
    "        self.val_set = Data.TensorDataset(x_val, y_val)\n",
    "\n",
    "    def train_dataloader(self):\n",
    "        return Data.DataLoader(dataset=self.train_set , batch_size=544 , shuffle=True)\n",
    "\n",
    "    def test_dataloader(self):\n",
    "        return Data.DataLoader(dataset=self.test_set , batch_size=61 , shuffle=False)\n",
    "\n",
    "    def val_dataloader(self):\n",
    "        return Data.DataLoader(dataset=self.val_set , batch_size=61 , shuffle=False)\n",
    "\n",
    "    def training_step(self, batch, batch_idx): \n",
    "        x, y = batch \n",
    "        output  = self.forward(x)\n",
    "        loss = nn.HuberLoss(reduction='mean')(output, y)\n",
    "        mae = nn.L1Loss(reduction='mean')(output, y)\n",
    "        mse = nn.MSELoss(reduction='mean')(output, y)\n",
    "        self.log(\"train_loss\", loss)\n",
    "        self.log(\"MAE\", mae)\n",
    "        self.log(\"MSE\", mse)\n",
    "#         return {'loss' : loss , 'MAE' : mae, 'MSE' : mse}\n",
    "        return {'loss' : loss}\n",
    "\n",
    "    def test_step(self, batch, batch_idx):\n",
    "        x, y = batch \n",
    "        output  = self.forward(x)\n",
    "        loss = nn.HuberLoss(reduction='mean')(output, y)\n",
    "        mae = nn.L1Loss(reduction='mean')(output, y)\n",
    "        mse = nn.MSELoss(reduction='mean')(output, y)\n",
    "        self.log(\"train_loss\", loss)\n",
    "        self.log(\"MAE\", mae)\n",
    "        self.log(\"MSE\", mse)\n",
    "#         return {'loss' : loss , 'MAE' : mae, 'MSE' : mse}\n",
    "        return {'loss' : loss}\n",
    "\n",
    "    def validation_step(self, batch, batch_idx):\n",
    "        x, y = batch \n",
    "        output  = self.forward(x)\n",
    "        loss = nn.HuberLoss(reduction='mean')(output, y)\n",
    "        mae = nn.L1Loss(reduction='mean')(output, y)\n",
    "        mse = nn.MSELoss(reduction='mean')(output, y)\n",
    "        self.log(\"train_loss\", loss)\n",
    "        self.log(\"MAE\", mae)\n",
    "        self.log(\"MSE\", mse)\n",
    "#         return {'loss' : loss , 'MAE' : mae, 'MSE' : mse}\n",
    "        return {'loss' : loss}  "
   ]
  },
  {
   "cell_type": "code",
   "execution_count": null,
   "id": "90d7cc5c",
   "metadata": {},
   "outputs": [],
   "source": [
    "for i in range (0,71):\n",
    "    x_train = torch.from_numpy(Xhat_train_n[i]).float()\n",
    "    y_train = torch.from_numpy(Yhat_train_n[i]).float()\n",
    "    x_test = torch.from_numpy(Xhat_test_n[i]).float()\n",
    "    y_test = torch.from_numpy(Yhat_test_n[i]).float()\n",
    "    x_val = torch.from_numpy(Xhat_val_n[i]).float()\n",
    "    y_val = torch.from_numpy(Yhat_val_n[i]).float()\n",
    "    \n",
    "    logger = CSVLogger(\"CNN Model\", name=\"CNN_72hr_Huber\")\n",
    "    model = CNN() \n",
    "    trainer = pl.Trainer(max_epochs=500 , gpus=1 , logger=logger)\n",
    "    trainer.fit(model)\n",
    "    trainer.test(model)"
   ]
  },
  {
   "cell_type": "code",
   "execution_count": 143,
   "id": "91154823",
   "metadata": {},
   "outputs": [],
   "source": [
    "test_error_MAE = np.zeros(71)\n",
    "test_error_MSE = np.zeros(71)\n",
    "for i in range (0,71):\n",
    "    df = pd.read_csv(\"/home/luhung3080/Desktop/PycharmProjects/NCHUproject/Transformer/CNN Model/CNN_72hr_Huber/version_\"+str(i)+\"/metrics.csv\")\n",
    "    s1 = np.array(df['MAE'].fillna(100))\n",
    "    s2 = np.array(df['MSE'].fillna(100))\n",
    "    test_error_MAE[i] = np.min(s1)\n",
    "    test_error_MSE[i] = np.min(s2)"
   ]
  },
  {
   "cell_type": "code",
   "execution_count": 144,
   "id": "bd7cec36",
   "metadata": {},
   "outputs": [
    {
     "data": {
      "image/png": "[encoded data removed]",
      "text/plain": [
       "<Figure size 432x288 with 1 Axes>"
      ]
     },
     "metadata": {
      "needs_background": "light"
     },
     "output_type": "display_data"
    }
   ],
   "source": [
    "m = np.nanmean(test_error_MAE)*np.ones(71)\n",
    "fig1 = plt.figure(1)\n",
    "x=np.linspace(1,71,71)\n",
    "plt.plot(x,test_error_MAE, label = 'statione MAE')\n",
    "plt.plot(x,m, label = 'mean MAE')\n",
    "plt.legend(loc = 2)\n",
    "\n",
    "plt.show()"
   ]
  },
  {
   "cell_type": "code",
   "execution_count": 145,
   "id": "2636fb38",
   "metadata": {},
   "outputs": [
    {
     "data": {
      "image/png": "[encoded data removed]",
      "text/plain": [
       "<Figure size 432x288 with 1 Axes>"
      ]
     },
     "metadata": {
      "needs_background": "light"
     },
     "output_type": "display_data"
    }
   ],
   "source": [
    "m = np.nanmean(test_error_MSE)*np.ones(71)\n",
    "fig1 = plt.figure(1)\n",
    "x=np.linspace(1,71,71)\n",
    "plt.plot(x,test_error_MSE, label = 'statione MSE')\n",
    "plt.plot(x,m, label = 'mean MSE')\n",
    "plt.legend(loc = 2)\n",
    "\n",
    "plt.show()"
   ]
  },
  {
   "cell_type": "code",
   "execution_count": 146,
   "id": "e39f1046",
   "metadata": {},
   "outputs": [
    {
     "name": "stdout",
     "output_type": "stream",
     "text": [
      "testing data MAE is  4.854074588963683\n",
      "testing data MAE is  45.171984726274516\n"
     ]
    }
   ],
   "source": [
    "print('testing data MAE is ', np.nanmean(test_error_MAE))\n",
    "print('testing data MAE is ', np.nanmean(test_error_MSE))"
   ]
  },
  {
   "cell_type": "markdown",
   "id": "92cbb320",
   "metadata": {},
   "source": [
    "# Transformer Model"
   ]
  },
  {
   "cell_type": "code",
   "execution_count": 147,
   "id": "0ee80a30",
   "metadata": {},
   "outputs": [
    {
     "name": "stdout",
     "output_type": "stream",
     "text": [
      "Xhat_train\n",
      "(71, 544, 72)\n",
      "Yhat_train\n",
      "(71, 544, 72)\n",
      "Xhat_test\n",
      "(71, 61, 72)\n",
      "Yhat_test\n",
      "(71, 61, 72)\n",
      "Xhat_val\n",
      "(71, 61, 72)\n",
      "Yhat_val\n",
      "(71, 61, 72)\n"
     ]
    }
   ],
   "source": [
    "Xhat_train_n = np.zeros([71,544,72])\n",
    "Yhat_train_n = np.zeros([71,544,72])\n",
    "Xhat_test_n = np.zeros([71,61,72])\n",
    "Yhat_test_n = np.zeros([71,61,72])\n",
    "for i in range (0,71):\n",
    "    for j in range (0,544):\n",
    "        for k in range (0,72):\n",
    "            Xhat_train_n[i][j][k] = Xhat_train[j][(72*i)+k]\n",
    "            Yhat_train_n[i][j][k] = Yhat_train[j][(72*i)+k]\n",
    "    for j in range (0,61):\n",
    "        for k in range (0,72):\n",
    "            Xhat_test_n[i][j][k] = Xhat_test[j][(72*i)+k]\n",
    "            Yhat_test_n[i][j][k] = Yhat_test[j][(72*i)+k]\n",
    "print('Xhat_train')\n",
    "print(np.shape(Xhat_train_n))\n",
    "print('Yhat_train')\n",
    "print(np.shape(Yhat_train_n))\n",
    "print('Xhat_test')\n",
    "print(np.shape(Xhat_test_n))\n",
    "print('Yhat_test')\n",
    "print(np.shape(Yhat_test_n))\n",
    "Xhat_val_n=Xhat_test_n\n",
    "Yhat_val_n=Yhat_test_n\n",
    "print('Xhat_val')\n",
    "print(np.shape(Xhat_val_n))\n",
    "print('Yhat_val')\n",
    "print(np.shape(Yhat_val_n))"
   ]
  },
  {
   "cell_type": "code",
   "execution_count": 148,
   "id": "3efb8692",
   "metadata": {},
   "outputs": [
    {
     "name": "stdout",
     "output_type": "stream",
     "text": [
      "Xhat_train\n",
      "(71, 544, 144)\n",
      "Yhat_train\n",
      "(71, 544, 72)\n",
      "Xhat_test\n",
      "(71, 61, 144)\n",
      "Yhat_test\n",
      "(71, 61, 72)\n",
      "Xhat_val\n",
      "(71, 61, 144)\n",
      "Yhat_val\n",
      "(71, 61, 72)\n"
     ]
    }
   ],
   "source": [
    "Xhat_train_n0 = np.zeros([71, 544, 144])\n",
    "Xhat_val_n0 = np.zeros([71, 61, 144])\n",
    "Xhat_test_n0 = np.zeros([71, 61, 144])\n",
    "for k in range(0,71):\n",
    "    for i in range (0,544):\n",
    "        for j in range (0,72):\n",
    "            Xhat_train_n0[k][i][j] = Xhat_train_n[k][i][j]\n",
    "        for j in range (72,144):\n",
    "            Xhat_train_n0[k][i][j] = Yhat_train_n[k][i][j-72]\n",
    "for k in range(0,71):\n",
    "    for i in range (0,61):\n",
    "        for j in range (0,72):\n",
    "            Xhat_val_n0[k][i][j] = Xhat_val_n[k][i][j]\n",
    "        for j in range (72,144):\n",
    "            Xhat_val_n0[k][i][j] = Yhat_val_n[k][i][j-72]\n",
    "for k in range(0,71):\n",
    "    for i in range (0,61):\n",
    "        for j in range (0,72):\n",
    "            Xhat_test_n0[k][i][j] = Xhat_test_n[k][i][j]\n",
    "        for j in range (72,144):\n",
    "            Xhat_test_n0[k][i][j] = Yhat_test_n[k][i][j-72]\n",
    "print('Xhat_train')\n",
    "print(np.shape(Xhat_train_n0))\n",
    "print('Yhat_train')\n",
    "print(np.shape(Yhat_train_n))\n",
    "print('Xhat_test')\n",
    "print(np.shape(Xhat_test_n0))\n",
    "print('Yhat_test')\n",
    "print(np.shape(Yhat_test_n))\n",
    "print('Xhat_val')\n",
    "print(np.shape(Xhat_val_n0))\n",
    "print('Yhat_val')\n",
    "print(np.shape(Yhat_val_n))"
   ]
  },
  {
   "cell_type": "markdown",
   "id": "c32831bc",
   "metadata": {},
   "source": [
    "## loss = MAE"
   ]
  },
  {
   "cell_type": "code",
   "execution_count": 149,
   "id": "019e73f9",
   "metadata": {},
   "outputs": [],
   "source": [
    "class Transformer(pl.LightningModule): \n",
    "    def __init__(self):\n",
    "        super().__init__()\n",
    "        self.layer1 = nn.Transformer(d_model=72, nhead=72)\n",
    "    \n",
    "    def forward(self, x):\n",
    "        ouput = self.layer1(x[:,:72], x[:,72:]) \n",
    "        return ouput\n",
    "\n",
    "    def configure_optimizers(self): \n",
    "        return optim.Adam(self.parameters(), lr=1e-2) \n",
    "\n",
    "    def prepare_data(self): \n",
    "        self.train_set = Data.TensorDataset(x_train , y_train) \n",
    "        self.test_set = Data.TensorDataset(x_test, y_test)\n",
    "        self.val_set = Data.TensorDataset(x_val, y_val)\n",
    "\n",
    "    def train_dataloader(self):\n",
    "        return Data.DataLoader(dataset=self.train_set , batch_size=544 , shuffle=True)\n",
    "\n",
    "    def test_dataloader(self):\n",
    "        return Data.DataLoader(dataset=self.test_set , batch_size=61 , shuffle=False)\n",
    "\n",
    "    def val_dataloader(self):\n",
    "        return Data.DataLoader(dataset=self.val_set , batch_size=61 , shuffle=False)\n",
    "\n",
    "    def training_step(self, batch, batch_idx): \n",
    "        x, y = batch \n",
    "        output  = self.forward(x)\n",
    "        loss = nn.L1Loss(reduction='mean')(output, y)\n",
    "        mae = nn.L1Loss(reduction='mean')(output, y)\n",
    "        mse = nn.MSELoss(reduction='mean')(output, y)\n",
    "        self.log(\"train_loss\", loss)\n",
    "        self.log(\"MAE\", mae)\n",
    "        self.log(\"MSE\", mse)\n",
    "#        return {'loss' : loss , 'MAE' : mae, 'MSE' : mse}\n",
    "        return {'loss' : loss}\n",
    "\n",
    "    def test_step(self, batch, batch_idx): \n",
    "        x, y = batch \n",
    "        output  = self.forward(x)\n",
    "        loss = nn.L1Loss(reduction='mean')(output, y)\n",
    "        mae = nn.L1Loss(reduction='mean')(output, y)\n",
    "        mse = nn.MSELoss(reduction='mean')(output, y)\n",
    "        self.log(\"train_loss\", loss)\n",
    "        self.log(\"MAE\", mae)\n",
    "        self.log(\"MSE\", mse)\n",
    "#        return {'loss' : loss , 'MAE' : mae, 'MSE' : mse}\n",
    "        return {'loss' : loss}\n",
    "\n",
    "    def validation_step(self, batch, batch_idx): \n",
    "        x, y = batch \n",
    "        output  = self.forward(x)\n",
    "        loss = nn.L1Loss(reduction='mean')(output, y)\n",
    "        mae = nn.L1Loss(reduction='mean')(output, y)\n",
    "        mse = nn.MSELoss(reduction='mean')(output, y)\n",
    "        self.log(\"train_loss\", loss)\n",
    "        self.log(\"MAE\", mae)\n",
    "        self.log(\"MSE\", mse)\n",
    "#        return {'loss' : loss , 'MAE' : mae, 'MSE' : mse}\n",
    "        return {'loss' : loss}"
   ]
  },
  {
   "cell_type": "code",
   "execution_count": null,
   "id": "75c7158a",
   "metadata": {},
   "outputs": [],
   "source": [
    "for i in range (0,71):\n",
    "    x_train = torch.from_numpy(Xhat_train_n0[i]).float()\n",
    "    y_train = torch.from_numpy(Yhat_train_n[i]).float()\n",
    "    x_test = torch.from_numpy(Xhat_test_n0[i]).float()\n",
    "    y_test = torch.from_numpy(Yhat_test_n[i]).float()\n",
    "    x_val = torch.from_numpy(Xhat_val_n0[i]).float()\n",
    "    y_val = torch.from_numpy(Yhat_val_n[i]).float()\n",
    "    \n",
    "    logger = CSVLogger(\"Transformer Model\", name=\"Transformer_72hr_MAE\")\n",
    "    model = Transformer() \n",
    "    trainer = pl.Trainer(max_epochs=1500 , gpus=1 , logger=logger)\n",
    "    trainer.fit(model)\n",
    "    trainer.test(model)"
   ]
  },
  {
   "cell_type": "code",
   "execution_count": 5,
   "id": "3d8bc8b6",
   "metadata": {},
   "outputs": [],
   "source": [
    "test_error_MAE = np.zeros(71)\n",
    "test_error_MSE = np.zeros(71)\n",
    "for i in range (0,71):\n",
    "    df = pd.read_csv(\"/home/luhung3080/Desktop/PycharmProjects/NCHUproject/Transformer/Transformer Model2/Transformer_72hr_MAE/version_\"+str(i)+\"/metrics.csv\")\n",
    "    s1 = np.array(df['MAE'].fillna(100))\n",
    "    s2 = np.array(df['MSE'].fillna(100))\n",
    "    test_error_MAE[i] = np.min(s1)\n",
    "    test_error_MSE[i] = np.min(s2)"
   ]
  },
  {
   "cell_type": "code",
   "execution_count": 6,
   "id": "19bd5920",
   "metadata": {},
   "outputs": [
    {
     "data": {
      "image/png": "[encoded data removed]",
      "text/plain": [
       "<Figure size 432x288 with 1 Axes>"
      ]
     },
     "metadata": {
      "needs_background": "light"
     },
     "output_type": "display_data"
    }
   ],
   "source": [
    "m = np.nanmean(test_error_MAE)*np.ones(71)\n",
    "fig1 = plt.figure(1)\n",
    "x=np.linspace(1,71,71)\n",
    "plt.plot(x,test_error_MAE, label = 'statione MAE')\n",
    "plt.plot(x,m, label = 'mean MAE')\n",
    "plt.legend(loc = 2)\n",
    "\n",
    "plt.show()"
   ]
  },
  {
   "cell_type": "code",
   "execution_count": 7,
   "id": "620fc5b0",
   "metadata": {},
   "outputs": [
    {
     "data": {
      "image/png": "[encoded data removed]",
      "text/plain": [
       "<Figure size 432x288 with 1 Axes>"
      ]
     },
     "metadata": {
      "needs_background": "light"
     },
     "output_type": "display_data"
    }
   ],
   "source": [
    "m = np.nanmean(test_error_MSE)*np.ones(71)\n",
    "fig1 = plt.figure(1)\n",
    "x=np.linspace(1,71,71)\n",
    "plt.plot(x,test_error_MSE, label = 'statione MSE')\n",
    "plt.plot(x,m, label = 'mean MSE')\n",
    "plt.legend(loc = 2)\n",
    "\n",
    "plt.show()"
   ]
  },
  {
   "cell_type": "code",
   "execution_count": 8,
   "id": "5aa5e73f",
   "metadata": {},
   "outputs": [
    {
     "name": "stdout",
     "output_type": "stream",
     "text": [
      "testing data MAE is  5.505435362668105\n",
      "testing data MAE is  58.302218920748\n"
     ]
    }
   ],
   "source": [
    "print('testing data MAE is ', np.nanmean(test_error_MAE))\n",
    "print('testing data MAE is ', np.nanmean(test_error_MSE))"
   ]
  },
  {
   "cell_type": "markdown",
   "id": "43cd91df",
   "metadata": {},
   "source": [
    "## loss = MSE*"
   ]
  },
  {
   "cell_type": "code",
   "execution_count": 154,
   "id": "9fc659d5",
   "metadata": {},
   "outputs": [],
   "source": [
    "class Transformer(pl.LightningModule): \n",
    "    def __init__(self):\n",
    "        super().__init__()\n",
    "        self.layer1 = nn.Transformer(d_model=72, nhead=72)\n",
    "    \n",
    "    def forward(self, x):\n",
    "        ouput = self.layer1(x[:,:72], x[:,72:]) \n",
    "        return ouput\n",
    "\n",
    "    def configure_optimizers(self): \n",
    "        return optim.Adam(self.parameters(), lr=1e-2) \n",
    "\n",
    "    def prepare_data(self): \n",
    "        self.train_set = Data.TensorDataset(x_train , y_train) \n",
    "        self.test_set = Data.TensorDataset(x_test, y_test)\n",
    "        self.val_set = Data.TensorDataset(x_val, y_val)\n",
    "\n",
    "    def train_dataloader(self):\n",
    "        return Data.DataLoader(dataset=self.train_set , batch_size=544 , shuffle=True)\n",
    "\n",
    "    def test_dataloader(self):\n",
    "        return Data.DataLoader(dataset=self.test_set , batch_size=61 , shuffle=False)\n",
    "\n",
    "    def val_dataloader(self):\n",
    "        return Data.DataLoader(dataset=self.val_set , batch_size=61 , shuffle=False)\n",
    "\n",
    "    def training_step(self, batch, batch_idx): \n",
    "        x, y = batch \n",
    "        output  = self.forward(x)\n",
    "        loss = nn.MSELoss(reduction='mean')(output, y)\n",
    "        mae = nn.L1Loss(reduction='mean')(output, y)\n",
    "        mse = nn.MSELoss(reduction='mean')(output, y)\n",
    "        self.log(\"train_loss\", loss)\n",
    "        self.log(\"MAE\", mae)\n",
    "        self.log(\"MSE\", mse)\n",
    "#        return {'loss' : loss , 'MAE' : mae, 'MSE' : mse}\n",
    "        return {'loss' : loss}\n",
    "\n",
    "    def test_step(self, batch, batch_idx): \n",
    "        x, y = batch \n",
    "        output  = self.forward(x)\n",
    "        loss = nn.MSELoss(reduction='mean')(output, y)\n",
    "        mae = nn.L1Loss(reduction='mean')(output, y)\n",
    "        mse = nn.MSELoss(reduction='mean')(output, y)\n",
    "        self.log(\"train_loss\", loss)\n",
    "        self.log(\"MAE\", mae)\n",
    "        self.log(\"MSE\", mse)\n",
    "#        return {'loss' : loss , 'MAE' : mae, 'MSE' : mse}\n",
    "        return {'loss' : loss}\n",
    "\n",
    "    def validation_step(self, batch, batch_idx): \n",
    "        x, y = batch \n",
    "        output  = self.forward(x)\n",
    "        loss = nn.MSELoss(reduction='mean')(output, y)\n",
    "        mae = nn.L1Loss(reduction='mean')(output, y)\n",
    "        mse = nn.MSELoss(reduction='mean')(output, y)\n",
    "        self.log(\"train_loss\", loss)\n",
    "        self.log(\"MAE\", mae)\n",
    "        self.log(\"MSE\", mse)\n",
    "#        return {'loss' : loss , 'MAE' : mae, 'MSE' : mse}\n",
    "        return {'loss' : loss}"
   ]
  },
  {
   "cell_type": "code",
   "execution_count": null,
   "id": "16f1bcce",
   "metadata": {},
   "outputs": [],
   "source": [
    "for i in range (0,71):\n",
    "    x_train = torch.from_numpy(Xhat_train_n0[i]).float()\n",
    "    y_train = torch.from_numpy(Yhat_train_n[i]).float()\n",
    "    x_test = torch.from_numpy(Xhat_test_n0[i]).float()\n",
    "    y_test = torch.from_numpy(Yhat_test_n[i]).float()\n",
    "    x_val = torch.from_numpy(Xhat_val_n0[i]).float()\n",
    "    y_val = torch.from_numpy(Yhat_val_n[i]).float()\n",
    "    \n",
    "    logger = CSVLogger(\"Transformer Model\", name=\"Transformer_72hr_MSE\")\n",
    "    model = Transformer() \n",
    "    trainer = pl.Trainer(max_epochs=1500 , gpus=1 , logger=logger)\n",
    "    trainer.fit(model)\n",
    "    trainer.test(model)"
   ]
  },
  {
   "cell_type": "code",
   "execution_count": 6,
   "id": "617a65b5",
   "metadata": {},
   "outputs": [],
   "source": [
    "test_error_MAE = np.zeros(71)\n",
    "test_error_MSE = np.zeros(71)\n",
    "for i in range (0,71):\n",
    "    df = pd.read_csv(\"/home/luhung3080/Desktop/PycharmProjects/NCHUproject/Transformer/Transformer Model2/Transformer_72hr_MSE/version_\"+str(i)+\"/metrics.csv\")\n",
    "    s1 = np.array(df['MAE'].fillna(100))\n",
    "    s2 = np.array(df['MSE'].fillna(100))\n",
    "    test_error_MAE[i] = np.min(s1)\n",
    "    test_error_MSE[i] = np.min(s2)"
   ]
  },
  {
   "cell_type": "code",
   "execution_count": 7,
   "id": "fec5ad68",
   "metadata": {},
   "outputs": [
    {
     "data": {
      "image/png": "[encoded data removed]",
      "text/plain": [
       "<Figure size 432x288 with 1 Axes>"
      ]
     },
     "metadata": {
      "needs_background": "light"
     },
     "output_type": "display_data"
    }
   ],
   "source": [
    "m = np.nanmean(test_error_MAE)*np.ones(71)\n",
    "fig1 = plt.figure(1)\n",
    "x=np.linspace(1,71,71)\n",
    "plt.plot(x,test_error_MAE, label = 'statione MAE')\n",
    "plt.plot(x,m, label = 'mean MAE')\n",
    "plt.legend(loc = 2)\n",
    "\n",
    "plt.show()"
   ]
  },
  {
   "cell_type": "code",
   "execution_count": 8,
   "id": "17d6903c",
   "metadata": {},
   "outputs": [
    {
     "data": {
      "image/png": "[encoded data removed]",
      "text/plain": [
       "<Figure size 432x288 with 1 Axes>"
      ]
     },
     "metadata": {
      "needs_background": "light"
     },
     "output_type": "display_data"
    }
   ],
   "source": [
    "m = np.nanmean(test_error_MSE)*np.ones(71)\n",
    "fig1 = plt.figure(1)\n",
    "x=np.linspace(1,71,71)\n",
    "plt.plot(x,test_error_MSE, label = 'statione MSE')\n",
    "plt.plot(x,m, label = 'mean MSE')\n",
    "plt.legend(loc = 2)\n",
    "\n",
    "plt.show()"
   ]
  },
  {
   "cell_type": "code",
   "execution_count": 9,
   "id": "9dc4ee1a",
   "metadata": {},
   "outputs": [
    {
     "name": "stdout",
     "output_type": "stream",
     "text": [
      "testing data MAE is  5.450318390214947\n",
      "testing data MAE is  53.90980927373322\n"
     ]
    }
   ],
   "source": [
    "print('testing data MAE is ', np.nanmean(test_error_MAE))\n",
    "print('testing data MAE is ', np.nanmean(test_error_MSE))"
   ]
  },
  {
   "cell_type": "markdown",
   "id": "c89d1f6b",
   "metadata": {},
   "source": [
    "## loss = Huber loss*"
   ]
  },
  {
   "cell_type": "code",
   "execution_count": 159,
   "id": "a97f2c73",
   "metadata": {},
   "outputs": [],
   "source": [
    "class Transformer(pl.LightningModule): \n",
    "    def __init__(self):\n",
    "        super().__init__()\n",
    "        self.layer1 = nn.Transformer(d_model=72, nhead=72)\n",
    "    \n",
    "    def forward(self, x):\n",
    "        ouput = self.layer1(x[:,:72], x[:,72:]) \n",
    "        return ouput\n",
    "\n",
    "    def configure_optimizers(self): \n",
    "        return optim.Adam(self.parameters(), lr=1e-2) \n",
    "\n",
    "    def prepare_data(self): \n",
    "        self.train_set = Data.TensorDataset(x_train , y_train) \n",
    "        self.test_set = Data.TensorDataset(x_test, y_test)\n",
    "        self.val_set = Data.TensorDataset(x_val, y_val)\n",
    "\n",
    "    def train_dataloader(self):\n",
    "        return Data.DataLoader(dataset=self.train_set , batch_size=544 , shuffle=True)\n",
    "\n",
    "    def test_dataloader(self):\n",
    "        return Data.DataLoader(dataset=self.test_set , batch_size=61 , shuffle=False)\n",
    "\n",
    "    def val_dataloader(self):\n",
    "        return Data.DataLoader(dataset=self.val_set , batch_size=61 , shuffle=False)\n",
    "\n",
    "    def training_step(self, batch, batch_idx): \n",
    "        x, y = batch \n",
    "        output  = self.forward(x)\n",
    "        loss = nn.HuberLoss(reduction='mean')(output, y)\n",
    "        mae = nn.L1Loss(reduction='mean')(output, y)\n",
    "        mse = nn.MSELoss(reduction='mean')(output, y)\n",
    "        self.log(\"train_loss\", loss)\n",
    "        self.log(\"MAE\", mae)\n",
    "        self.log(\"MSE\", mse)\n",
    "#        return {'loss' : loss , 'MAE' : mae, 'MSE' : mse}\n",
    "        return {'loss' : loss}\n",
    "\n",
    "    def test_step(self, batch, batch_idx): \n",
    "        x, y = batch \n",
    "        output  = self.forward(x)\n",
    "        loss = nn.HuberLoss(reduction='mean')(output, y)\n",
    "        mae = nn.L1Loss(reduction='mean')(output, y)\n",
    "        mse = nn.MSELoss(reduction='mean')(output, y)\n",
    "        self.log(\"train_loss\", loss)\n",
    "        self.log(\"MAE\", mae)\n",
    "        self.log(\"MSE\", mse)\n",
    "#        return {'loss' : loss , 'MAE' : mae, 'MSE' : mse}\n",
    "        return {'loss' : loss}\n",
    "\n",
    "    def validation_step(self, batch, batch_idx): \n",
    "        x, y = batch \n",
    "        output  = self.forward(x)\n",
    "        loss = nn.HuberLoss(reduction='mean')(output, y)\n",
    "        mae = nn.L1Loss(reduction='mean')(output, y)\n",
    "        mse = nn.MSELoss(reduction='mean')(output, y)\n",
    "        self.log(\"train_loss\", loss)\n",
    "        self.log(\"MAE\", mae)\n",
    "        self.log(\"MSE\", mse)\n",
    "#        return {'loss' : loss , 'MAE' : mae, 'MSE' : mse}\n",
    "        return {'loss' : loss}"
   ]
  },
  {
   "cell_type": "code",
   "execution_count": null,
   "id": "17da96a8",
   "metadata": {},
   "outputs": [],
   "source": [
    "for i in range (0,71):\n",
    "    x_train = torch.from_numpy(Xhat_train_n0[i]).float()\n",
    "    y_train = torch.from_numpy(Yhat_train_n[i]).float()\n",
    "    x_test = torch.from_numpy(Xhat_test_n0[i]).float()\n",
    "    y_test = torch.from_numpy(Yhat_test_n[i]).float()\n",
    "    x_val = torch.from_numpy(Xhat_val_n0[i]).float()\n",
    "    y_val = torch.from_numpy(Yhat_val_n[i]).float()\n",
    "    \n",
    "    logger = CSVLogger(\"Transformer Model\", name=\"Transformer_72hr_Huber\")\n",
    "    model = Transformer() \n",
    "    trainer = pl.Trainer(max_epochs=1500 , gpus=1 , logger=logger)\n",
    "    trainer.fit(model)\n",
    "    trainer.test(model)"
   ]
  },
  {
   "cell_type": "code",
   "execution_count": 2,
   "id": "f98eb039",
   "metadata": {},
   "outputs": [],
   "source": [
    "test_error_MAE = np.zeros(71)\n",
    "test_error_MSE = np.zeros(71)\n",
    "for i in range (0,71):\n",
    "    df = pd.read_csv(\"/home/luhung3080/Desktop/PycharmProjects/NCHUproject/Transformer/Transformer Model2/Transformer_72hr_Huber/version_\"+str(i)+\"/metrics.csv\")\n",
    "    s1 = np.array(df['MAE'].fillna(100))\n",
    "    s2 = np.array(df['MSE'].fillna(100))\n",
    "    test_error_MAE[i] = np.min(s1)\n",
    "    test_error_MSE[i] = np.min(s2)"
   ]
  },
  {
   "cell_type": "code",
   "execution_count": 3,
   "id": "c2a1ea8e",
   "metadata": {},
   "outputs": [
    {
     "data": {
      "image/png": "[encoded data removed]",
      "text/plain": [
       "<Figure size 432x288 with 1 Axes>"
      ]
     },
     "metadata": {
      "needs_background": "light"
     },
     "output_type": "display_data"
    }
   ],
   "source": [
    "m = np.nanmean(test_error_MAE)*np.ones(71)\n",
    "fig1 = plt.figure(1)\n",
    "x=np.linspace(1,71,71)\n",
    "plt.plot(x,test_error_MAE, label = 'statione MAE')\n",
    "plt.plot(x,m, label = 'mean MAE')\n",
    "plt.legend(loc = 2)\n",
    "\n",
    "plt.show()"
   ]
  },
  {
   "cell_type": "code",
   "execution_count": 4,
   "id": "189da801",
   "metadata": {},
   "outputs": [
    {
     "data": {
      "image/png": "[encoded data removed]",
      "text/plain": [
       "<Figure size 432x288 with 1 Axes>"
      ]
     },
     "metadata": {
      "needs_background": "light"
     },
     "output_type": "display_data"
    }
   ],
   "source": [
    "m = np.nanmean(test_error_MSE)*np.ones(71)\n",
    "fig1 = plt.figure(1)\n",
    "x=np.linspace(1,71,71)\n",
    "plt.plot(x,test_error_MSE, label = 'statione MSE')\n",
    "plt.plot(x,m, label = 'mean MSE')\n",
    "plt.legend(loc = 2)\n",
    "\n",
    "plt.show()"
   ]
  },
  {
   "cell_type": "code",
   "execution_count": 5,
   "id": "97b57383",
   "metadata": {},
   "outputs": [
    {
     "name": "stdout",
     "output_type": "stream",
     "text": [
      "testing data MAE is  5.506157982517296\n",
      "testing data MAE is  58.06173258768001\n"
     ]
    }
   ],
   "source": [
    "print('testing data MAE is ', np.nanmean(test_error_MAE))\n",
    "print('testing data MAE is ', np.nanmean(test_error_MSE))"
   ]
  },
  {
   "cell_type": "code",
   "execution_count": null,
   "id": "2fd6e332",
   "metadata": {},
   "outputs": [],
   "source": []
  }
 ],
 "metadata": {
  "kernelspec": {
   "display_name": "chou",
   "language": "python",
   "name": "chou"
  },
  "language_info": {
   "codemirror_mode": {
    "name": "ipython",
    "version": 3
   },
   "file_extension": ".py",
   "mimetype": "text/x-python",
   "name": "python",
   "nbconvert_exporter": "python",
   "pygments_lexer": "ipython3",
   "version": "3.7.12"
  }
 },
 "nbformat": 4,
 "nbformat_minor": 5
}
