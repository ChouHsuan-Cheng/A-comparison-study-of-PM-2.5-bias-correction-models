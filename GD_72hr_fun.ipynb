{
 "cells": [
  {
   "cell_type": "code",
   "execution_count": 1,
   "id": "d7cd65d5",
   "metadata": {},
   "outputs": [
    {
     "name": "stdout",
     "output_type": "stream",
     "text": [
      "pytorch ver .  1.11.0+cu113\n",
      "Is CUDA available? True\n"
     ]
    },
    {
     "name": "stderr",
     "output_type": "stream",
     "text": [
      "/home/luhung3080/miniconda3/envs/chou/lib/python3.7/site-packages/tqdm/auto.py:22: TqdmWarning: IProgress not found. Please update jupyter and ipywidgets. See https://ipywidgets.readthedocs.io/en/stable/user_install.html\n",
      "  from .autonotebook import tqdm as notebook_tqdm\n"
     ]
    }
   ],
   "source": [
    "import numpy as np\n",
    "import pandas as pd\n",
    "import matplotlib.pyplot as plt\n",
    "import torch\n",
    "print(\"pytorch ver . \",torch.__version__)\n",
    "print(\"Is CUDA available?\",torch.cuda.is_available())\n",
    "import torch.nn as nn\n",
    "import torch.optim as optim"
   ]
  },
  {
   "cell_type": "markdown",
   "id": "20a57df6",
   "metadata": {},
   "source": [
    "# Read data"
   ]
  },
  {
   "cell_type": "code",
   "execution_count": 2,
   "id": "c4d2d3a9",
   "metadata": {},
   "outputs": [],
   "source": [
    "data=pd.read_csv('/home/luhung3080/Desktop/PycharmProjects/NCHUproject/Transformer/data_final.csv')"
   ]
  },
  {
   "cell_type": "markdown",
   "id": "947e3e00",
   "metadata": {},
   "source": [
    "# Generate X Y "
   ]
  },
  {
   "cell_type": "code",
   "execution_count": 3,
   "id": "3aef52b4",
   "metadata": {},
   "outputs": [
    {
     "name": "stdout",
     "output_type": "stream",
     "text": [
      "(605, 5112)\n",
      "(605, 5112)\n"
     ]
    }
   ],
   "source": [
    "###\n",
    "#cal_PMf  \n",
    "###\n",
    "u=np.zeros([605,5112])\n",
    "for i in range (0,605):\n",
    "    a=np.array(data['pm25_cal'][5112*i:5112*i+5112])\n",
    "    u[i]=a.T\n",
    "\n",
    "###\n",
    "#obs_PMf\n",
    "###\n",
    "v=np.zeros([605,5112])\n",
    "for i in range (0,605):\n",
    "    a=np.array(data['pm25_obs'][5112*i:5112*i+5112])\n",
    "    v[i]=a.T\n",
    "\n",
    "print(np.shape(u))\n",
    "print(np.shape(v))"
   ]
  },
  {
   "cell_type": "code",
   "execution_count": 4,
   "id": "42181c7b",
   "metadata": {},
   "outputs": [
    {
     "name": "stdout",
     "output_type": "stream",
     "text": [
      "(605, 5112)\n",
      "(605, 5112)\n"
     ]
    }
   ],
   "source": [
    "XRestruct_Fun=u\n",
    "YRestruct_Fun=v\n",
    "print(np.shape(XRestruct_Fun))\n",
    "print(np.shape(YRestruct_Fun))"
   ]
  },
  {
   "cell_type": "code",
   "execution_count": 5,
   "id": "00e46983",
   "metadata": {},
   "outputs": [
    {
     "name": "stdout",
     "output_type": "stream",
     "text": [
      "Xhat_train\n",
      "(544, 5112)\n",
      "Yhat_train\n",
      "(544, 5112)\n",
      "Xhat_test\n",
      "(61, 5112)\n",
      "Yhat_test\n",
      "(61, 5112)\n"
     ]
    }
   ],
   "source": [
    "Xhat=XRestruct_Fun\n",
    "Yhat=YRestruct_Fun\n",
    "Xhat_train = np.zeros([544,5112])\n",
    "Yhat_train = np.zeros([544,5112])\n",
    "Xhat_test = np.zeros([61,5112])\n",
    "Yhat_test = np.zeros([61,5112])\n",
    "for i in range (0,544):\n",
    "    for j in range (0,5112):\n",
    "        Xhat_train[i][j] = Xhat[i][j]\n",
    "        Yhat_train[i][j] = Yhat[i][j]\n",
    "for i in range (544,605):\n",
    "    for j in range (0,5112):\n",
    "        Xhat_test[i-544][j] = Xhat[i][j]\n",
    "        Yhat_test[i-544][j] = Yhat[i][j]\n",
    "        \n",
    "print('Xhat_train')\n",
    "#print(Xhat_train)\n",
    "print(np.shape(Xhat_train))\n",
    "print('Yhat_train')\n",
    "#print(Yhat_train)\n",
    "print(np.shape(Yhat_train))\n",
    "print('Xhat_test')\n",
    "#print(Xhat_test)\n",
    "print(np.shape(Xhat_test))\n",
    "print('Yhat_test')\n",
    "#print(Yhat_test)\n",
    "print(np.shape(Yhat_test))"
   ]
  },
  {
   "cell_type": "markdown",
   "id": "b3978465",
   "metadata": {},
   "source": [
    "# Modeling"
   ]
  },
  {
   "cell_type": "code",
   "execution_count": 6,
   "id": "87463195",
   "metadata": {},
   "outputs": [],
   "source": [
    "x = Xhat_train\n",
    "y = Yhat_train\n",
    "xt = Xhat_test\n",
    "yt = Yhat_test"
   ]
  },
  {
   "cell_type": "code",
   "execution_count": 7,
   "id": "9d536c43",
   "metadata": {},
   "outputs": [],
   "source": [
    "def model (x,b0,b1):\n",
    "    y = b0 +  torch.mm(x , b1)\n",
    "    return y"
   ]
  },
  {
   "cell_type": "code",
   "execution_count": null,
   "id": "793cffe9",
   "metadata": {},
   "outputs": [],
   "source": [
    "features = torch.from_numpy(x)\n",
    "targets = torch.from_numpy(y)\n",
    "x_test = torch.from_numpy(xt)\n",
    "y_test = torch.from_numpy(yt)\n",
    "\n",
    "beta0 = torch.ones(5112 , requires_grad = True)\n",
    "beta1 = torch.ones([5112,5112], requires_grad = True)\n",
    "\n",
    "rate = 1e-3\n",
    "optimizer = optim.Adam([beta0 , beta1], lr=rate)\n",
    "\n",
    "epo = 2001\n",
    "loss = nn.L1Loss()\n",
    "train_error = np.zeros(epo)\n",
    "test_error = np.zeros(epo)\n",
    "\n",
    "\n",
    "for epoch in range (epo):\n",
    "    yhats_train = model(features.float() , beta0 , beta1)\n",
    "    train_loss = loss(targets.float() , yhats_train)\n",
    "    train_error[epoch] = train_loss\n",
    "\n",
    "    optimizer.zero_grad()\n",
    "    train_loss.backward() \n",
    "    optimizer.step()    \n",
    "\n",
    "    yhats_test = model(x_test.float(), beta0, beta1) \n",
    "    r = torch.abs(yhats_test - y_test)\n",
    "    test_loss = torch.nanmean(r)\n",
    "    test_error[epoch] = test_loss\n",
    "\n",
    "    if epoch <= 10 or epoch % 10 == 0:\n",
    "        print(f\"Epoch {epoch}, Training loss {train_loss.item():.4f},\"\n",
    "                    f\" Testing loss {test_loss.item():.4f}\")\n",
    "    else :\n",
    "        if epoch >= epo-10 :\n",
    "            print(f\"Epoch {epoch}, Training loss {train_loss.item():.4f},\"\n",
    "                        f\" Testing loss {test_loss.item():.4f}\")"
   ]
  },
  {
   "cell_type": "markdown",
   "id": "983281a2",
   "metadata": {},
   "source": [
    "# Result"
   ]
  },
  {
   "cell_type": "code",
   "execution_count": 9,
   "id": "41afef99",
   "metadata": {},
   "outputs": [
    {
     "data": {
      "image/png": "[encoded data removed]",
      "text/plain": [
       "<Figure size 432x288 with 1 Axes>"
      ]
     },
     "metadata": {
      "needs_background": "light"
     },
     "output_type": "display_data"
    }
   ],
   "source": [
    "fig1 = plt.figure(1)\n",
    "x=np.linspace(1,epo,epo)\n",
    "plt.plot(x,train_error, label = 'Training')\n",
    "plt.plot(x,test_error, label ='Testing')\n",
    "plt.legend(loc = 2)\n",
    "plt.title('MAE')\n",
    "\n",
    "plt.show()"
   ]
  },
  {
   "cell_type": "code",
   "execution_count": 10,
   "id": "e624f08b",
   "metadata": {},
   "outputs": [
    {
     "name": "stdout",
     "output_type": "stream",
     "text": [
      "5.600592600958763\n"
     ]
    }
   ],
   "source": [
    "print(np.min(test_error))"
   ]
  },
  {
   "cell_type": "code",
   "execution_count": null,
   "id": "d97e5d75",
   "metadata": {},
   "outputs": [],
   "source": []
  }
 ],
 "metadata": {
  "kernelspec": {
   "display_name": "chou",
   "language": "python",
   "name": "chou"
  },
  "language_info": {
   "codemirror_mode": {
    "name": "ipython",
    "version": 3
   },
   "file_extension": ".py",
   "mimetype": "text/x-python",
   "name": "python",
   "nbconvert_exporter": "python",
   "pygments_lexer": "ipython3",
   "version": "3.7.12"
  }
 },
 "nbformat": 4,
 "nbformat_minor": 5
}
