{
 "cells": [
  {
   "cell_type": "code",
   "execution_count": 1,
   "id": "8382b988",
   "metadata": {},
   "outputs": [
    {
     "name": "stderr",
     "output_type": "stream",
     "text": [
      "/home/luhung3080/miniconda3/envs/chou/lib/python3.7/site-packages/tqdm/auto.py:22: TqdmWarning: IProgress not found. Please update jupyter and ipywidgets. See https://ipywidgets.readthedocs.io/en/stable/user_install.html\n",
      "  from .autonotebook import tqdm as notebook_tqdm\n"
     ]
    },
    {
     "name": "stdout",
     "output_type": "stream",
     "text": [
      "pytorch ver .  1.11.0+cu113\n",
      "Is CUDA available? True\n"
     ]
    }
   ],
   "source": [
    "import numpy as np\n",
    "import pandas as pd\n",
    "import matplotlib.pyplot as plt\n",
    "from sklearn.decomposition import PCA\n",
    "import torch\n",
    "print(\"pytorch ver . \",torch.__version__)\n",
    "print(\"Is CUDA available?\",torch.cuda.is_available())\n",
    "import torch.nn as nn\n",
    "import torch.optim as optim\n",
    "from torch.utils.data import Dataset,DataLoader\n",
    "import torch.utils.data as Data\n",
    "import pytorch_lightning as pl\n",
    "from pytorch_lightning.loggers import TensorBoardLogger\n",
    "from pytorch_lightning.loggers import CSVLogger\n",
    "from pytorch_lightning.callbacks.early_stopping import EarlyStopping\n",
    "import math"
   ]
  },
  {
   "cell_type": "markdown",
   "id": "f9379705",
   "metadata": {},
   "source": [
    "# Read data"
   ]
  },
  {
   "cell_type": "code",
   "execution_count": 2,
   "id": "0b437b4a",
   "metadata": {},
   "outputs": [],
   "source": [
    "data=pd.read_csv('/home/luhung3080/Desktop/PycharmProjects/NCHUproject/Transformer/data_final.csv')"
   ]
  },
  {
   "cell_type": "markdown",
   "id": "33555d4c",
   "metadata": {},
   "source": [
    "# Generate X Y"
   ]
  },
  {
   "cell_type": "code",
   "execution_count": 3,
   "id": "29ef53a9",
   "metadata": {},
   "outputs": [
    {
     "name": "stdout",
     "output_type": "stream",
     "text": [
      "(604, 1704)\n",
      "(604, 5112)\n"
     ]
    }
   ],
   "source": [
    "x1=np.zeros([604,1704])\n",
    "x2=np.zeros([604,5112])\n",
    "\n",
    "#x1 (0th~1703th column as x)\n",
    "for i in range (0,604):\n",
    "    for j in range (0,71):\n",
    "        a=np.array(data['pm25_obs'][5112*i+72*j:5112*i+72*j+24])\n",
    "        for k in range (0,24):\n",
    "            x1[i][j*24+k]=a[k]\n",
    "\n",
    "#x2 (1704th~8519th column as x)\n",
    "for i in range (1,604):\n",
    "    b=np.array(data['pm25_cal'][5112*i:5112*i+5112])\n",
    "    for j in range(0,5112):\n",
    "        x2[i-1][j]=b[j]\n",
    "        \n",
    "print(np.shape(x1))\n",
    "print(np.shape(x2))"
   ]
  },
  {
   "cell_type": "code",
   "execution_count": 4,
   "id": "3f582456",
   "metadata": {},
   "outputs": [
    {
     "name": "stdout",
     "output_type": "stream",
     "text": [
      "(604, 1704)\n",
      "(604, 5112)\n"
     ]
    }
   ],
   "source": [
    "x1Restruct_Fun=x1\n",
    "x2Restruct_Fun=x2\n",
    "print(np.shape(x1Restruct_Fun))\n",
    "print(np.shape(x2Restruct_Fun))"
   ]
  },
  {
   "cell_type": "code",
   "execution_count": 5,
   "id": "eb4c4525",
   "metadata": {},
   "outputs": [
    {
     "name": "stdout",
     "output_type": "stream",
     "text": [
      "(601, 5112)\n"
     ]
    }
   ],
   "source": [
    "YRestruct_Fun=np.zeros([601,5112])\n",
    "for j in range (0,71):\n",
    "    for i in range(0,601):\n",
    "        YRestruct_Fun[i][72*j:72*j+24]=x1Restruct_Fun[1+i][24*j:24*j+24]\n",
    "        YRestruct_Fun[i][72*j+24:72*j+48]=x1Restruct_Fun[1+i+1][24*j:24*j+24]\n",
    "        YRestruct_Fun[i][72*j+48:72*j+72]=x1Restruct_Fun[1+i+2][24*j:24*j+24]\n",
    "print(np.shape(YRestruct_Fun))"
   ]
  },
  {
   "cell_type": "code",
   "execution_count": 6,
   "id": "d5068475",
   "metadata": {},
   "outputs": [
    {
     "name": "stdout",
     "output_type": "stream",
     "text": [
      "(601, 6816)\n"
     ]
    }
   ],
   "source": [
    "XRestruct_Fun=np.zeros([601,6816])\n",
    "for i in range (0,601):\n",
    "    for j in range (0,1704):\n",
    "        XRestruct_Fun[i][j]=x1Restruct_Fun[i][j]\n",
    "    for j in range (1704,6816):\n",
    "        XRestruct_Fun[i][j]=x2Restruct_Fun[i][j-1704]\n",
    "print(np.shape(XRestruct_Fun))"
   ]
  },
  {
   "cell_type": "code",
   "execution_count": 7,
   "id": "ec162bfe",
   "metadata": {},
   "outputs": [
    {
     "name": "stdout",
     "output_type": "stream",
     "text": [
      "Xhat_train\n",
      "(540, 6816)\n",
      "Yhat_train\n",
      "(540, 5112)\n",
      "Xhat_val\n",
      "(61, 6816)\n",
      "Yhat_val\n",
      "(61, 5112)\n",
      "Xhat_test\n",
      "(61, 6816)\n",
      "Yhat_test\n",
      "(61, 5112)\n"
     ]
    }
   ],
   "source": [
    "Xhat=XRestruct_Fun\n",
    "Yhat=YRestruct_Fun\n",
    "Xhat_train = np.zeros([540,6816])\n",
    "Yhat_train = np.zeros([540,5112])\n",
    "Xhat_val = np.zeros([61,6816])\n",
    "Yhat_val = np.zeros([61,5112])\n",
    "Xhat_test = np.zeros([61,6816])\n",
    "Yhat_test = np.zeros([61,5112])\n",
    "\n",
    "for i in range (0,540):\n",
    "    for j in range (0,1704):\n",
    "        Xhat_train[i][j] = Xhat[i][j]\n",
    "    for j in range (0,5112):    \n",
    "        Xhat_train[i][j+1704] = Xhat[i][j+1704]\n",
    "        Yhat_train[i][j] = Yhat[i][j]\n",
    "        \n",
    "for i in range (540,601):\n",
    "    for j in range (0,1704):\n",
    "        Xhat_val[i-540][j] = Xhat[i][j]\n",
    "    for j in range (0,5112):\n",
    "        Xhat_val[i-540][j+1704] = Xhat[i][j+1704]\n",
    "        Yhat_val[i-540][j] = Yhat[i][j]     \n",
    "        \n",
    "for i in range (540,601):\n",
    "    for j in range (0,1704):\n",
    "        Xhat_test[i-540][j] = Xhat[i][j]\n",
    "    for j in range (0,5112):\n",
    "        Xhat_test[i-540][j+1704] = Xhat[i][j+1704]\n",
    "        Yhat_test[i-540][j] = Yhat[i][j]\n",
    "        \n",
    "print('Xhat_train')\n",
    "print(np.shape(Xhat_train))\n",
    "print('Yhat_train')\n",
    "print(np.shape(Yhat_train))\n",
    "print('Xhat_val')\n",
    "print(np.shape(Xhat_val))\n",
    "print('Yhat_val')\n",
    "print(np.shape(Yhat_val))\n",
    "print('Xhat_test')\n",
    "print(np.shape(Xhat_test))\n",
    "print('Yhat_test')\n",
    "print(np.shape(Yhat_test))"
   ]
  },
  {
   "cell_type": "code",
   "execution_count": 8,
   "id": "ace43795",
   "metadata": {},
   "outputs": [
    {
     "name": "stdout",
     "output_type": "stream",
     "text": [
      "Xhat_train\n",
      "(71, 540, 96)\n",
      "Yhat_train\n",
      "(71, 540, 72)\n",
      "Xhat_test\n",
      "(71, 61, 96)\n",
      "Yhat_test\n",
      "(71, 61, 72)\n",
      "Xhat_val\n",
      "(71, 61, 96)\n",
      "Yhat_val\n",
      "(71, 61, 72)\n"
     ]
    }
   ],
   "source": [
    "Xhat_train_n = np.zeros([71,540,96])\n",
    "Yhat_train_n = np.zeros([71,540,72])\n",
    "Xhat_test_n = np.zeros([71,61,96])\n",
    "Yhat_test_n = np.zeros([71,61,72])\n",
    "for i in range (0,71):\n",
    "    for j in range (0,540):\n",
    "        for k in range (0,24):\n",
    "            Xhat_train_n[i][j][k] = Xhat_train[j][24*i+k]\n",
    "        for k in range (0,72):\n",
    "            Xhat_train_n[i][j][k+24] = Xhat_train[j][1704+(72*i)+k]\n",
    "            Yhat_train_n[i][j][k] = Yhat_train[j][(72*i)+k]\n",
    "    for j in range (0,61):\n",
    "        for k in range (0,24):\n",
    "            Xhat_test_n[i][j][k] = Xhat_test[j][24*i+k]\n",
    "        for k in range (0,72):\n",
    "            Xhat_test_n[i][j][k+24] = Xhat_test[j][1704+(72*i)+k]\n",
    "            Yhat_test_n[i][j][k] = Yhat_test[j][(72*i)+k]\n",
    "print('Xhat_train')\n",
    "print(np.shape(Xhat_train_n))\n",
    "print('Yhat_train')\n",
    "print(np.shape(Yhat_train_n))\n",
    "print('Xhat_test')\n",
    "print(np.shape(Xhat_test_n))\n",
    "print('Yhat_test')\n",
    "print(np.shape(Yhat_test_n))\n",
    "Xhat_val_n=Xhat_test_n\n",
    "Yhat_val_n=Yhat_test_n\n",
    "print('Xhat_val')\n",
    "print(np.shape(Xhat_val_n))\n",
    "print('Yhat_val')\n",
    "print(np.shape(Yhat_val_n))"
   ]
  },
  {
   "cell_type": "code",
   "execution_count": 9,
   "id": "8c12faef",
   "metadata": {},
   "outputs": [
    {
     "name": "stdout",
     "output_type": "stream",
     "text": [
      "Xhat_train\n",
      "(71, 540, 168)\n",
      "Yhat_train\n",
      "(71, 540, 72)\n",
      "Xhat_test\n",
      "(71, 61, 168)\n",
      "Yhat_test\n",
      "(71, 61, 72)\n",
      "Xhat_val\n",
      "(71, 61, 168)\n",
      "Yhat_val\n",
      "(71, 61, 72)\n"
     ]
    }
   ],
   "source": [
    "Xhat_train_n0 = np.zeros([71, 540, 168])\n",
    "Xhat_val_n0 = np.zeros([71, 61, 168])\n",
    "Xhat_test_n0 = np.zeros([71, 61, 168])\n",
    "for k in range(0,71):\n",
    "    for i in range (0,540):\n",
    "        for j in range (0,96):\n",
    "            Xhat_train_n0[k][i][j] = Xhat_train_n[k][i][j]\n",
    "        for j in range (96,168):\n",
    "            Xhat_train_n0[k][i][j] = Yhat_train_n[k][i][j-96]\n",
    "for k in range(0,71):\n",
    "    for i in range (0,61):\n",
    "        for j in range (0,96):\n",
    "            Xhat_val_n0[k][i][j] = Xhat_val_n[k][i][j]\n",
    "        for j in range (96,168):\n",
    "            Xhat_val_n0[k][i][j] = Yhat_val_n[k][i][j-96]\n",
    "for k in range(0,71):\n",
    "    for i in range (0,61):\n",
    "        for j in range (0,96):\n",
    "            Xhat_test_n0[k][i][j] = Xhat_test_n[k][i][j]\n",
    "        for j in range (96,168):\n",
    "            Xhat_test_n0[k][i][j] = Yhat_test_n[k][i][j-96]\n",
    "print('Xhat_train')\n",
    "print(np.shape(Xhat_train_n0))\n",
    "print('Yhat_train')\n",
    "print(np.shape(Yhat_train_n))\n",
    "print('Xhat_test')\n",
    "print(np.shape(Xhat_test_n0))\n",
    "print('Yhat_test')\n",
    "print(np.shape(Yhat_test_n))\n",
    "print('Xhat_val')\n",
    "print(np.shape(Xhat_val_n0))\n",
    "print('Yhat_val')\n",
    "print(np.shape(Yhat_val_n))"
   ]
  },
  {
   "cell_type": "markdown",
   "id": "82297abd",
   "metadata": {},
   "source": [
    "# Modeling"
   ]
  },
  {
   "cell_type": "code",
   "execution_count": 10,
   "id": "eafc43cc",
   "metadata": {},
   "outputs": [],
   "source": [
    "class PytorchLightningModel(pl.LightningModule): \n",
    "    def __init__(self):\n",
    "        super().__init__()\n",
    "        self.layer1 = nn.Linear(96,72)\n",
    "        self.layer2 = nn.Transformer(d_model=72, nhead=72)\n",
    "    \n",
    "    def forward(self, x):\n",
    "        ouput = self.layer1(x[:,:96])\n",
    "        ouput = self.layer2(ouput, x[:,96:]) \n",
    "        return ouput\n",
    "\n",
    "    def configure_optimizers(self): \n",
    "        return optim.Adam(self.parameters(), lr=1e-1) \n",
    "\n",
    "    def prepare_data(self): \n",
    "        self.train_set = Data.TensorDataset(x_train , y_train) \n",
    "        self.test_set = Data.TensorDataset(x_test, y_test)\n",
    "        self.val_set = Data.TensorDataset(x_val, y_val)\n",
    "\n",
    "    def train_dataloader(self):\n",
    "        return Data.DataLoader(dataset=self.train_set , batch_size=540 , shuffle=True)\n",
    "\n",
    "    def test_dataloader(self):\n",
    "        return Data.DataLoader(dataset=self.test_set , batch_size=61 , shuffle=False)\n",
    "\n",
    "    def val_dataloader(self):\n",
    "        return Data.DataLoader(dataset=self.val_set , batch_size=61 , shuffle=False)\n",
    "\n",
    "    def training_step(self, batch, batch_idx): \n",
    "        x, y = batch \n",
    "        output  = self.forward(x)\n",
    "        loss = nn.L1Loss(reduction='mean')(output, y)\n",
    "        logs = {'loss' : loss }\n",
    "        self.log(\"train_loss_MAE\", loss)\n",
    "        return {'loss' : loss ,'log' : logs }\n",
    "\n",
    "    def test_step(self, batch, batch_idx): \n",
    "        x, y = batch \n",
    "        output  = self.forward(x)\n",
    "        loss = nn.L1Loss(reduction='mean')(output, y)\n",
    "        logs = {'loss' : loss }\n",
    "        self.log(\"test_loss_MAE\", loss)\n",
    "        return {'loss' : loss ,'log' : logs}\n",
    "\n",
    "    # def test_eposh_end(self, outputs):\n",
    "    #     avg_loss = torch.stack([x['test_loss'] for x in outputs]).mean()\n",
    "    #     logs = {'test_loss': avg_loss}      \n",
    "    #     #return {'avg_test_loss': avg_loss, 'log': logs, 'progress_bar': logs }\n",
    "    #     return {'avg_test_loss': avg_loss, 'log': logs}\n",
    "\n",
    "    def validation_step(self, batch, batch_idx): \n",
    "        x, y = batch \n",
    "        output  = self.forward(x)\n",
    "        loss = nn.L1Loss(reduction='mean')(output, y)\n",
    "        logs = {'loss' : loss }\n",
    "        self.log(\"val_loss_MAE\", loss)\n",
    "        return {'loss' : loss ,  'log' : logs}\n",
    "    \n",
    "    # def validation_epoch_end(self, outputs): # 在Validation的一個Epoch結束後，計算平均的Loss.\n",
    "    #     avg_loss = torch.stack([x['val_loss'] for x in outputs]).mean()\n",
    "    #     logs = {'val_loss': avg_loss}\n",
    "    #     return {'avg_val_loss': avg_loss, 'log' : logs, 'progress_bar': logs}"
   ]
  },
  {
   "cell_type": "markdown",
   "id": "12943809",
   "metadata": {},
   "source": [
    "# Loop for 71 stations"
   ]
  },
  {
   "cell_type": "code",
   "execution_count": null,
   "id": "027140a0",
   "metadata": {},
   "outputs": [],
   "source": [
    "for i in range (0,71):\n",
    "    x_train = torch.from_numpy(Xhat_train_n0[i]).float()\n",
    "    y_train = torch.from_numpy(Yhat_train_n[i]).float()\n",
    "    x_test = torch.from_numpy(Xhat_test_n0[i]).float()\n",
    "    y_test = torch.from_numpy(Yhat_test_n[i]).float()\n",
    "    x_val = torch.from_numpy(Xhat_val_n0[i]).float()\n",
    "    y_val = torch.from_numpy(Yhat_val_n[i]).float()\n",
    "    \n",
    "    logger = CSVLogger(\"jupyterNB_logs\", name=\"Transformer_csv_v4\")\n",
    "    model = PytorchLightningModel() \n",
    "    trainer = pl.Trainer(max_epochs=2000 , gpus=1 , logger=logger)\n",
    "    trainer.fit(model)\n",
    "    trainer.test(model)"
   ]
  },
  {
   "cell_type": "markdown",
   "id": "b1083c90",
   "metadata": {},
   "source": [
    "# Result"
   ]
  },
  {
   "cell_type": "code",
   "execution_count": 12,
   "id": "34eba64f",
   "metadata": {},
   "outputs": [
    {
     "name": "stdout",
     "output_type": "stream",
     "text": [
      "5.603448458120856\n"
     ]
    }
   ],
   "source": [
    "score = np.zeros(71)\n",
    "for i in range (0,71):\n",
    "    df = pd.read_csv(\"/home/luhung3080/Desktop/PycharmProjects/NCHUproject/Transformer/jupyterNB_logs/Transformer_csv_v4/version_\"+str(i)+\"/metrics.csv\")\n",
    "    s=np.array(df['val_loss_MAE'].fillna(100))\n",
    "    score[i]=np.min(s)\n",
    "\n",
    "print(np.nanmean(score))"
   ]
  },
  {
   "cell_type": "code",
   "execution_count": 13,
   "id": "1387cbef",
   "metadata": {},
   "outputs": [
    {
     "name": "stdout",
     "output_type": "stream",
     "text": [
      "[3.53853846 3.9449048  3.88659334 3.8589623  4.19738293 4.18695927\n",
      " 4.45993233 4.03145075 4.48274994 4.00184202 4.05656338 4.14937878\n",
      " 3.92097306 3.84071112 4.0381484  4.75730658 4.43348503 4.62643242\n",
      " 4.80117321 4.9093647  5.15735722 5.66113281 5.79138851 7.07823849\n",
      " 7.64067316 8.74447727 8.74266815 8.48498154 8.72424603 7.92009258\n",
      " 8.39951134 8.0730505  7.65549374 9.57384491 8.0966835  7.36179686\n",
      " 8.08035755 6.98281431 6.21695232 6.08343697 6.69635963 5.76987171\n",
      " 5.55579424 5.38047838 5.53348255 5.99489641 6.42758799 5.8694787\n",
      " 6.20478773 7.17248344 6.25025129 5.89420843 5.62678337 5.67301273\n",
      " 5.57256603 5.77955723 6.31718159 6.11844873 2.90821815 2.79695725\n",
      " 2.76763511 4.21931887 3.22831154 3.05934    4.1173377  4.75489092\n",
      " 7.61459208 3.91868424 6.12740946 7.37170553 2.53115892]\n"
     ]
    }
   ],
   "source": [
    "print(score)"
   ]
  },
  {
   "cell_type": "code",
   "execution_count": 14,
   "id": "38522ab5",
   "metadata": {},
   "outputs": [
    {
     "data": {
      "image/png": "[encoded data removed]",
      "text/plain": [
       "<Figure size 432x288 with 1 Axes>"
      ]
     },
     "metadata": {
      "needs_background": "light"
     },
     "output_type": "display_data"
    }
   ],
   "source": [
    "m = np.nanmean(score)*np.ones(71)\n",
    "fig1 = plt.figure(1)\n",
    "x=np.linspace(1,71,71)\n",
    "plt.plot(x,score, label = 'statione MAE')\n",
    "plt.plot(x,m, label = 'mean MAE')\n",
    "plt.legend(loc = 2)\n",
    "\n",
    "plt.show()"
   ]
  },
  {
   "cell_type": "code",
   "execution_count": 15,
   "id": "ed939876",
   "metadata": {},
   "outputs": [
    {
     "data": {
      "image/png": "[encoded data removed]",
      "text/plain": [
       "<Figure size 432x288 with 1 Axes>"
      ]
     },
     "metadata": {
      "needs_background": "light"
     },
     "output_type": "display_data"
    }
   ],
   "source": [
    "m = np.nanmean(score)*np.ones(71)\n",
    "fig1 = plt.figure(1)\n",
    "plt.bar(x,score,width=0.8)\n",
    "plt.xlabel('stations')\n",
    "plt.ylabel('MAE')\n",
    "plt.plot(x,m, color='Orange')\n",
    "\n",
    "plt.show()"
   ]
  },
  {
   "cell_type": "code",
   "execution_count": null,
   "id": "3c4b0e75",
   "metadata": {},
   "outputs": [],
   "source": []
  }
 ],
 "metadata": {
  "kernelspec": {
   "display_name": "chou",
   "language": "python",
   "name": "chou"
  },
  "language_info": {
   "codemirror_mode": {
    "name": "ipython",
    "version": 3
   },
   "file_extension": ".py",
   "mimetype": "text/x-python",
   "name": "python",
   "nbconvert_exporter": "python",
   "pygments_lexer": "ipython3",
   "version": "3.7.12"
  }
 },
 "nbformat": 4,
 "nbformat_minor": 5
}
