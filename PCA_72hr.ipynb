{
 "cells": [
  {
   "cell_type": "code",
   "execution_count": 1,
   "id": "253e2880",
   "metadata": {},
   "outputs": [],
   "source": [
    "import numpy as np\n",
    "import pandas as pd\n",
    "import matplotlib.pyplot as plt\n",
    "from sklearn.decomposition import PCA\n",
    "from sklearn.linear_model import LinearRegression"
   ]
  },
  {
   "cell_type": "markdown",
   "id": "f1d313f0",
   "metadata": {},
   "source": [
    "# Read data"
   ]
  },
  {
   "cell_type": "code",
   "execution_count": 2,
   "id": "b1ef8d5a",
   "metadata": {},
   "outputs": [],
   "source": [
    "data=pd.read_csv('/home/luhung3080/Desktop/PycharmProjects/NCHUproject/Transformer/data_final.csv')\n",
    "data0=pd.read_csv('/home/luhung3080/Desktop/PycharmProjects/Data/newdata/result.csv')\n",
    "dd = data0.drop(data0[data0['TAU'] == 0].index)"
   ]
  },
  {
   "cell_type": "markdown",
   "id": "e6d63dbb",
   "metadata": {},
   "source": [
    "# Generate X Y "
   ]
  },
  {
   "cell_type": "code",
   "execution_count": 3,
   "id": "1829de58",
   "metadata": {},
   "outputs": [
    {
     "name": "stdout",
     "output_type": "stream",
     "text": [
      "(544, 5112)\n",
      "(544, 5112)\n"
     ]
    }
   ],
   "source": [
    "###\n",
    "#cal_PMf  \n",
    "###\n",
    "u=np.zeros([544,5112])\n",
    "for i in range (0,544):\n",
    "    a=np.array(data['pm25_cal'][5112*i:5112*i+5112])\n",
    "    u[i]=a.T\n",
    "\n",
    "###\n",
    "#obs_PMf\n",
    "###\n",
    "v=np.zeros([544,5112])\n",
    "for i in range (0,544):\n",
    "    a=np.array(data['pm25_obs'][5112*i:5112*i+5112])\n",
    "    v[i]=a.T\n",
    "\n",
    "print(np.shape(u))\n",
    "print(np.shape(v))"
   ]
  },
  {
   "cell_type": "code",
   "execution_count": 4,
   "id": "ff13a9ad",
   "metadata": {},
   "outputs": [
    {
     "name": "stdout",
     "output_type": "stream",
     "text": [
      "(544, 5112)\n",
      "(544, 5112)\n"
     ]
    }
   ],
   "source": [
    "XRestruct_Fun=u\n",
    "YRestruct_Fun=v\n",
    "print(np.shape(XRestruct_Fun))\n",
    "print(np.shape(YRestruct_Fun))"
   ]
  },
  {
   "cell_type": "code",
   "execution_count": 5,
   "id": "6f474cff",
   "metadata": {},
   "outputs": [
    {
     "name": "stdout",
     "output_type": "stream",
     "text": [
      "Xhat\n",
      "(544, 5112)\n",
      "Yhat\n",
      "(544, 5112)\n"
     ]
    }
   ],
   "source": [
    "Xhat=XRestruct_Fun\n",
    "Yhat=YRestruct_Fun\n",
    "print('Xhat')\n",
    "#print(Xhat)\n",
    "print(np.shape(Xhat))\n",
    "print('Yhat')\n",
    "#print(Yhat)\n",
    "print(np.shape(Yhat))"
   ]
  },
  {
   "cell_type": "markdown",
   "id": "5e48a34a",
   "metadata": {},
   "source": [
    "# PCA & Linear regression"
   ]
  },
  {
   "cell_type": "code",
   "execution_count": 6,
   "id": "8e456ba4",
   "metadata": {},
   "outputs": [],
   "source": [
    "per = np.zeros(99)\n",
    "for i in range (len(per)):\n",
    "    per[i]=0.01*(i+1)\n",
    "per_error = np.zeros(99)"
   ]
  },
  {
   "cell_type": "code",
   "execution_count": 7,
   "id": "19335ec1",
   "metadata": {},
   "outputs": [],
   "source": [
    "for z in range (0,99):    \n",
    "    pca = PCA(n_components=per[z])\n",
    "    pca.fit(Xhat)\n",
    "    x_pca=pca.transform(Xhat)\n",
    "    \n",
    "    model = LinearRegression()\n",
    "    model.fit(x_pca, Yhat)\n",
    "    \n",
    "    \"\"\"\n",
    "    generate new cal\n",
    "    \"\"\"\n",
    "    xf=np.zeros([61,5112])\n",
    "    for i in range (544,605):\n",
    "        a=np.array(data['pm25_cal'][5112*i:5112*i+5112])\n",
    "        xf[i-544]=a\n",
    "    new_xcal=pca.transform(xf)\n",
    "    new_xfit=model.predict(new_xcal)\n",
    "\n",
    "    \"\"\"\n",
    "    old data\n",
    "    \"\"\"\n",
    "    old_x=np.zeros([605,5112])\n",
    "    old_y=np.zeros([605,5112])\n",
    "    #data_cal\n",
    "    for i in range (0,605):\n",
    "        a=np.array(dd['VALUE'][5112*i:5112*i+5112])\n",
    "        for j in range(0,5112):\n",
    "            if a[j]=='NaN' :\n",
    "                a[j]=np.nan\n",
    "        old_x[i]=a\n",
    "    #data_obs\n",
    "    for i in range (0,605):\n",
    "        a=np.array(dd['OBS_VALUE'][5112*i:5112*i+5112])\n",
    "        for j in range(0,5112):\n",
    "            if a[j]=='NaN' :\n",
    "                a[j]=np.nan\n",
    "            if a[j]=='A' :\n",
    "                a[j]=np.nan\n",
    "            if a[j]=='*' :\n",
    "                a[j]=np.nan\n",
    "            if a[j]=='x' :\n",
    "                a[j]=np.nan  \n",
    "        old_y[i]=a\n",
    "\n",
    "    old_x2=np.zeros([61,5112])\n",
    "    old_y2=np.zeros([61,5112])\n",
    "    fit_fx2=np.zeros([61,5112])\n",
    "    for i in range (0,61):\n",
    "        for j in range (0,5112):\n",
    "            old_x2[i][j]=old_x[i+544][j]\n",
    "            old_y2[i][j]=old_y[i+544][j]\n",
    "            fit_fx2[i][j]=new_xfit[i][j]\n",
    "    before2=abs(old_x2-old_y2)\n",
    "    after2=abs(fit_fx2-old_y2)\n",
    "    before_error2=np.nanmean(before2)\n",
    "    after_error2=np.nanmean(after2)\n",
    "    \n",
    "    per_error[z] = after_error2"
   ]
  },
  {
   "cell_type": "markdown",
   "id": "b6d02908",
   "metadata": {},
   "source": [
    "# Result"
   ]
  },
  {
   "cell_type": "code",
   "execution_count": 8,
   "id": "9f44156e",
   "metadata": {},
   "outputs": [
    {
     "name": "stdout",
     "output_type": "stream",
     "text": [
      "[7.24942835 7.24942835 7.24942835 7.24942835 7.24942835 7.24942835\n",
      " 7.24942835 7.24942835 7.24942835 7.24942835 7.24942835 7.24942835\n",
      " 7.24942835 7.24942835 7.24942835 7.24942835 7.24942835 7.24942835\n",
      " 7.24942835 7.24942835 7.24942835 7.24942835 7.24942835 7.24942835\n",
      " 7.24942835 7.24942835 7.24942835 7.24942835 7.24942835 7.24942835\n",
      " 7.24942835 7.24942835 7.24942835 7.24942835 7.24942835 7.24942835\n",
      " 7.24942835 7.27598043 7.27598043 7.27598043 7.27598043 7.27598043\n",
      " 7.27598043 7.27598043 7.27598043 7.27598043 7.27598043 7.27598043\n",
      " 7.27598043 7.27598043 7.24673273 7.24673273 7.24673273 7.24673273\n",
      " 7.24673273 7.24673273 6.92104963 6.92104963 6.567329   6.567329\n",
      " 6.567329   6.52826873 6.52826873 6.52826873 6.5363984  6.5363984\n",
      " 6.55666778 6.56834936 6.56834936 6.50331392 6.49322022 6.48831343\n",
      " 6.48608337 6.41704139 6.43480476 6.38132751 6.24655463 6.28689986\n",
      " 6.26565093 6.26172256 6.2806103  6.26467336 6.30293906 6.30905464\n",
      " 6.3524704  6.46140981 6.49098661 6.52406675 6.41680256 6.35040598\n",
      " 6.37800852 6.35598505 6.43842658 6.47176142 6.48085917 6.65021265\n",
      " 6.65922231 6.81497791 7.1545266 ]\n"
     ]
    }
   ],
   "source": [
    "print(per_error)"
   ]
  },
  {
   "cell_type": "code",
   "execution_count": 13,
   "id": "f9d1f333",
   "metadata": {},
   "outputs": [
    {
     "name": "stdout",
     "output_type": "stream",
     "text": [
      "on 77 % PCA have the min MAE error : 6.246554634591224\n"
     ]
    }
   ],
   "source": [
    "print('on', np.argmin(per_error)+1, '% PCA', 'have the min MAE error :', min(per_error))"
   ]
  },
  {
   "cell_type": "code",
   "execution_count": null,
   "id": "e6aeb304",
   "metadata": {},
   "outputs": [],
   "source": []
  }
 ],
 "metadata": {
  "kernelspec": {
   "display_name": "chou",
   "language": "python",
   "name": "chou"
  },
  "language_info": {
   "codemirror_mode": {
    "name": "ipython",
    "version": 3
   },
   "file_extension": ".py",
   "mimetype": "text/x-python",
   "name": "python",
   "nbconvert_exporter": "python",
   "pygments_lexer": "ipython3",
   "version": "3.7.12"
  }
 },
 "nbformat": 4,
 "nbformat_minor": 5
}
