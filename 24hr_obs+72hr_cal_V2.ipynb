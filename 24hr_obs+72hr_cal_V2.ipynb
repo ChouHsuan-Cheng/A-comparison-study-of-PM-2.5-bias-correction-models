{
 "cells": [
  {
   "cell_type": "code",
   "execution_count": 1,
   "id": "65f8c2ab",
   "metadata": {},
   "outputs": [
    {
     "name": "stderr",
     "output_type": "stream",
     "text": [
      "/home/luhung3080/miniconda3/envs/chou/lib/python3.7/site-packages/tqdm/auto.py:22: TqdmWarning: IProgress not found. Please update jupyter and ipywidgets. See https://ipywidgets.readthedocs.io/en/stable/user_install.html\n",
      "  from .autonotebook import tqdm as notebook_tqdm\n"
     ]
    }
   ],
   "source": [
    "import numpy as np\n",
    "import pandas as pd\n",
    "import matplotlib.pyplot as plt\n",
    "from sklearn.decomposition import PCA\n",
    "from sklearn.svm import SVR\n",
    "from sklearn.cross_decomposition import PLSRegression\n",
    "from sklearn.linear_model import LinearRegression\n",
    "from sklearn.metrics import mean_absolute_error\n",
    "from sklearn.metrics import mean_squared_error\n",
    "from sliced.datasets import make_cubic\n",
    "from sliced import SlicedInverseRegression\n",
    "from sliced import SlicedAverageVarianceEstimation\n",
    "from sliced import datasets\n",
    "import torch\n",
    "import torch.nn as nn\n",
    "import torch.optim as optim\n",
    "from torch.utils.data import Dataset,DataLoader\n",
    "import torch.utils.data as Data\n",
    "import pytorch_lightning as pl\n",
    "from pytorch_lightning.loggers import TensorBoardLogger\n",
    "from pytorch_lightning.loggers import CSVLogger\n",
    "from pytorch_lightning.callbacks.early_stopping import EarlyStopping\n",
    "import math"
   ]
  },
  {
   "cell_type": "code",
   "execution_count": 2,
   "id": "82691635",
   "metadata": {},
   "outputs": [],
   "source": [
    "data=pd.read_csv('/home/luhung3080/Desktop/PycharmProjects/NCHUproject/Transformer/data_final.csv')"
   ]
  },
  {
   "cell_type": "markdown",
   "id": "a31d2a6e",
   "metadata": {},
   "source": [
    "# Generate X Y"
   ]
  },
  {
   "cell_type": "code",
   "execution_count": 3,
   "id": "a37116b3",
   "metadata": {},
   "outputs": [
    {
     "name": "stdout",
     "output_type": "stream",
     "text": [
      "(604, 1704)\n",
      "(604, 5112)\n"
     ]
    }
   ],
   "source": [
    "x1Restruct_Fun=np.zeros([604,1704])\n",
    "x2Restruct_Fun=np.zeros([604,5112])\n",
    "\n",
    "#x1 (0th~1703th column as x)\n",
    "for i in range (0,604):\n",
    "    for j in range (0,71):\n",
    "        a=np.array(data['pm25_obs'][5112*i+72*j:5112*i+72*j+24])\n",
    "        for k in range (0,24):\n",
    "            x1Restruct_Fun[i][j*24+k]=a[k]\n",
    "\n",
    "#x2 (1704th~6815th column as x)\n",
    "for i in range (1,604):\n",
    "    b=np.array(data['pm25_cal'][5112*i:5112*i+5112])\n",
    "    for j in range(0,5112):\n",
    "        x2Restruct_Fun[i-1][j]=b[j]\n",
    "        \n",
    "print(np.shape(x1Restruct_Fun))\n",
    "print(np.shape(x2Restruct_Fun))"
   ]
  },
  {
   "cell_type": "code",
   "execution_count": 4,
   "id": "2dbe3f4d",
   "metadata": {},
   "outputs": [
    {
     "name": "stdout",
     "output_type": "stream",
     "text": [
      "(601, 5112)\n"
     ]
    }
   ],
   "source": [
    "YRestruct_Fun=np.zeros([601,5112])\n",
    "for j in range (0,71):\n",
    "    for i in range(0,601):\n",
    "        YRestruct_Fun[i][72*j:72*j+24]=x1Restruct_Fun[1+i][24*j:24*j+24]\n",
    "        YRestruct_Fun[i][72*j+24:72*j+48]=x1Restruct_Fun[1+i+1][24*j:24*j+24]\n",
    "        YRestruct_Fun[i][72*j+48:72*j+72]=x1Restruct_Fun[1+i+2][24*j:24*j+24]\n",
    "print(np.shape(YRestruct_Fun))"
   ]
  },
  {
   "cell_type": "code",
   "execution_count": 5,
   "id": "721c71f6",
   "metadata": {},
   "outputs": [
    {
     "name": "stdout",
     "output_type": "stream",
     "text": [
      "(601, 6816)\n"
     ]
    }
   ],
   "source": [
    "XRestruct_Fun=np.zeros([601,6816])\n",
    "for i in range (0,601):\n",
    "    for j in range (0,1704):\n",
    "        XRestruct_Fun[i][j]=x1Restruct_Fun[i][j]\n",
    "    for j in range (1704,6816):\n",
    "        XRestruct_Fun[i][j]=x2Restruct_Fun[i][j-1704]\n",
    "print(np.shape(XRestruct_Fun))"
   ]
  },
  {
   "cell_type": "code",
   "execution_count": 6,
   "id": "a2c8d914",
   "metadata": {},
   "outputs": [
    {
     "name": "stdout",
     "output_type": "stream",
     "text": [
      "Xhat_train\n",
      "(540, 6816)\n",
      "Yhat_train\n",
      "(540, 5112)\n",
      "Xhat_val\n",
      "(61, 6816)\n",
      "Yhat_val\n",
      "(61, 5112)\n",
      "Xhat_test\n",
      "(61, 6816)\n",
      "Yhat_test\n",
      "(61, 5112)\n"
     ]
    }
   ],
   "source": [
    "Xhat=XRestruct_Fun\n",
    "Yhat=YRestruct_Fun\n",
    "Xhat_train = np.zeros([540,6816])\n",
    "Yhat_train = np.zeros([540,5112])\n",
    "Xhat_val = np.zeros([61,6816])\n",
    "Yhat_val = np.zeros([61,5112])\n",
    "Xhat_test = np.zeros([61,6816])\n",
    "Yhat_test = np.zeros([61,5112])\n",
    "\n",
    "for i in range (0,540):\n",
    "    for j in range (0,1704):\n",
    "        Xhat_train[i][j] = Xhat[i][j]\n",
    "    for j in range (0,5112):    \n",
    "        Xhat_train[i][j+1704] = Xhat[i][j+1704]\n",
    "        Yhat_train[i][j] = Yhat[i][j]\n",
    "        \n",
    "for i in range (540,601):\n",
    "    for j in range (0,1704):\n",
    "        Xhat_val[i-540][j] = Xhat[i][j]\n",
    "    for j in range (0,5112):\n",
    "        Xhat_val[i-540][j+1704] = Xhat[i][j+1704]\n",
    "        Yhat_val[i-540][j] = Yhat[i][j]     \n",
    "        \n",
    "for i in range (540,601):\n",
    "    for j in range (0,1704):\n",
    "        Xhat_test[i-540][j] = Xhat[i][j]\n",
    "    for j in range (0,5112):\n",
    "        Xhat_test[i-540][j+1704] = Xhat[i][j+1704]\n",
    "        Yhat_test[i-540][j] = Yhat[i][j]\n",
    "        \n",
    "print('Xhat_train')\n",
    "print(np.shape(Xhat_train))\n",
    "print('Yhat_train')\n",
    "print(np.shape(Yhat_train))\n",
    "print('Xhat_val')\n",
    "print(np.shape(Xhat_val))\n",
    "print('Yhat_val')\n",
    "print(np.shape(Yhat_val))\n",
    "print('Xhat_test')\n",
    "print(np.shape(Xhat_test))\n",
    "print('Yhat_test')\n",
    "print(np.shape(Yhat_test))"
   ]
  },
  {
   "cell_type": "markdown",
   "id": "05df7d2f",
   "metadata": {},
   "source": [
    "## Sparse and Expend data"
   ]
  },
  {
   "cell_type": "code",
   "execution_count": 7,
   "id": "b15dba20",
   "metadata": {},
   "outputs": [
    {
     "name": "stdout",
     "output_type": "stream",
     "text": [
      "X1hat_train\n",
      "(540, 1704)\n",
      "X2hat_train\n",
      "(540, 5112)\n",
      "X1hat_test\n",
      "(61, 1704)\n",
      "X2hat_test\n",
      "(61, 5112)\n"
     ]
    }
   ],
   "source": [
    "X1hat_train = np.zeros([540,1704])\n",
    "X2hat_train = np.zeros([540,5112])\n",
    "X1hat_test = np.zeros([61,1704])\n",
    "X2hat_test = np.zeros([61,5112])\n",
    "for i in range (0,540):\n",
    "    for j in range (0,1704):\n",
    "        X1hat_train[i][j] = Xhat[i][j]\n",
    "    for j in range (1704,6816):\n",
    "        X2hat_train[i][j-1704] = Xhat[i][j]\n",
    "for i in range (540,601):\n",
    "    for j in range (0,1704):\n",
    "        X1hat_test[i-540][j] = Xhat[i][j]    \n",
    "    for j in range (1704,6816):\n",
    "        X2hat_test[i-540][j-1704] = Xhat[i][j]\n",
    "        \n",
    "print('X1hat_train')\n",
    "#print(X1hat_train)\n",
    "print(np.shape(X1hat_train))\n",
    "print('X2hat_train')\n",
    "#print(X2hat_train)\n",
    "print(np.shape(X2hat_train))\n",
    "print('X1hat_test')\n",
    "#print(X1hat_test)\n",
    "print(np.shape(X1hat_test))\n",
    "print('X2hat_test')\n",
    "#print(X2hat_test)\n",
    "print(np.shape(X2hat_test))"
   ]
  },
  {
   "cell_type": "code",
   "execution_count": 8,
   "id": "e74a4824",
   "metadata": {},
   "outputs": [
    {
     "name": "stdout",
     "output_type": "stream",
     "text": [
      "(38880, 6816)\n",
      "(38880, 5112)\n"
     ]
    }
   ],
   "source": [
    "new_x=np.zeros([540*72,6816]) #38880\n",
    "new_y=np.zeros([540*72,5112]) #38880\n",
    "#new_x : 0th~1703th column\n",
    "for i in range (0,72):\n",
    "    for j in range (0,540):\n",
    "        for k in range (0,1704):\n",
    "            new_x[540*i+j][k]=X1hat_train[j][k]\n",
    "#new_x : 1704th~6815th column\n",
    "for i in range (0,72):\n",
    "    for j in range (0,540):\n",
    "        for k in range (0+i,5040+1+i,72): #5040=5112-72\n",
    "            new_x[540*i+j][1704+k]=X2hat_train[j][k]\n",
    "#new_y\n",
    "for i in range (0,72):\n",
    "    for j in range (0,540):\n",
    "        for k in range (0,5112):\n",
    "            new_y[540*i+j][k]=YRestruct_Fun[j][k]         \n",
    "\n",
    "print(np.shape(new_x))\n",
    "print(np.shape(new_y))"
   ]
  },
  {
   "cell_type": "code",
   "execution_count": 9,
   "id": "1fdd4373",
   "metadata": {},
   "outputs": [
    {
     "name": "stdout",
     "output_type": "stream",
     "text": [
      "(4392, 6816)\n"
     ]
    }
   ],
   "source": [
    "xf = np.zeros([61,6816])\n",
    "for i in range (0,61):\n",
    "    for j in range(0,6816):\n",
    "        xf[i][j] = XRestruct_Fun[i+540][j]\n",
    "\n",
    "x1 = np.zeros([61,1704])\n",
    "x2 = np.zeros([61,5112])\n",
    "for i in range (0,61):\n",
    "    for j in range (0,1704):\n",
    "        x1[i][j] = xf[i][j]\n",
    "    for j in range (1704,6816):\n",
    "        x2[i][j-1704] = xf[i][j]\n",
    "\n",
    "new_exx=np.zeros([61*72,6816]) \n",
    "#new_x : 0th~1703th column\n",
    "for i in range (0,72):\n",
    "    for j in range (0,61):\n",
    "        for k in range (0,1704):\n",
    "            new_exx[61*i+j][k]=x1[j][k]\n",
    "#new_x : 1704th~6815th column\n",
    "for i in range (0,72):\n",
    "    for j in range (0,61):\n",
    "        for k in range (0+i,5040+1+i,72):  #5040=5112-72\n",
    "            new_exx[61*i+j][1704+k]=x2[j][k]\n",
    "\n",
    "print(np.shape(new_exx))\n",
    "# print(np.linalg.matrix_rank(new_x))"
   ]
  },
  {
   "cell_type": "code",
   "execution_count": 10,
   "id": "7ca197f8",
   "metadata": {},
   "outputs": [
    {
     "name": "stdout",
     "output_type": "stream",
     "text": [
      "(4392, 5112)\n"
     ]
    }
   ],
   "source": [
    "yf = np.zeros([61,5112])\n",
    "for i in range (0,61):\n",
    "    for j in range(0,5112):\n",
    "        yf[i][j] = YRestruct_Fun[i+540][j]\n",
    "\n",
    "new_eyy=np.zeros([61*72,5112]) \n",
    "for i in range (0,72):\n",
    "    for j in range (0,61):\n",
    "        for k in range (0,5112):\n",
    "            new_eyy[61*i+j][k]=yf[j][k] \n",
    "\n",
    "print(np.shape(new_eyy))\n",
    "# print(np.linalg.matrix_rank(new_eyy))"
   ]
  },
  {
   "cell_type": "markdown",
   "id": "df0c14b7",
   "metadata": {},
   "source": [
    "# Original Data"
   ]
  },
  {
   "cell_type": "code",
   "execution_count": 11,
   "id": "72194a03",
   "metadata": {},
   "outputs": [
    {
     "name": "stdout",
     "output_type": "stream",
     "text": [
      "testing data MAE is  6.986291262174408\n",
      "testing data MAE is  92.187182448956\n"
     ]
    }
   ],
   "source": [
    "error1 = mean_absolute_error(Xhat_test[:,1704:], Yhat_test)\n",
    "error2 = mean_squared_error(Xhat_test[:,1704:], Yhat_test)\n",
    "print('testing data MAE is ',error1)\n",
    "print('testing data MAE is ',error2)"
   ]
  },
  {
   "cell_type": "markdown",
   "id": "d17613d0",
   "metadata": {},
   "source": [
    "# Concurrent Model"
   ]
  },
  {
   "cell_type": "markdown",
   "id": "64256661",
   "metadata": {},
   "source": [
    "## Gradient descent (loss = MAE)"
   ]
  },
  {
   "cell_type": "code",
   "execution_count": 12,
   "id": "f60ec0d3",
   "metadata": {},
   "outputs": [],
   "source": [
    "x = Xhat_train\n",
    "y = Yhat_train\n",
    "xt = Xhat_test\n",
    "yt = Yhat_test"
   ]
  },
  {
   "cell_type": "code",
   "execution_count": 13,
   "id": "e3cd0667",
   "metadata": {},
   "outputs": [],
   "source": [
    "def model (x,b0,b1):\n",
    "    y = b0 +  torch.matmul(x , b1)\n",
    "    return y"
   ]
  },
  {
   "cell_type": "code",
   "execution_count": 14,
   "id": "ca9c3976",
   "metadata": {},
   "outputs": [],
   "source": [
    "features = torch.from_numpy(x)\n",
    "targets = torch.from_numpy(y)\n",
    "x_test = torch.from_numpy(xt)\n",
    "y_test = torch.from_numpy(yt)\n",
    "\n",
    "beta0 = torch.zeros(5112 , requires_grad = True)\n",
    "beta1 = torch.zeros([6816,5112], requires_grad = True)\n",
    "\n",
    "rate = 1e-4\n",
    "optimizer = optim.Adam([beta0 , beta1], lr=rate)\n",
    "\n",
    "epo = 500\n",
    "loss = nn.L1Loss()\n",
    "train_error = np.zeros(epo)\n",
    "test_error_MAE = np.zeros(epo)\n",
    "test_error_MSE = np.zeros(epo)\n",
    "\n",
    "\n",
    "for epoch in range (epo):\n",
    "    yhats_train = model(features.float() , beta0 , beta1)\n",
    "    train_loss = loss(targets.float() , yhats_train)\n",
    "    train_error[epoch] = train_loss\n",
    "\n",
    "    optimizer.zero_grad()\n",
    "    train_loss.backward() \n",
    "    optimizer.step()    \n",
    "\n",
    "    yhats_test = model(x_test.float(), beta0, beta1) \n",
    "    r = abs(yhats_test - y_test)\n",
    "    test_error_MAE[epoch] = torch.nanmean(r)\n",
    "    test_error_MSE[epoch] = torch.nanmean(r*r)"
   ]
  },
  {
   "cell_type": "code",
   "execution_count": 15,
   "id": "5afdb776",
   "metadata": {},
   "outputs": [
    {
     "data": {
      "image/png": "[encoded data removed]",
      "text/plain": [
       "<Figure size 432x288 with 1 Axes>"
      ]
     },
     "metadata": {
      "needs_background": "light"
     },
     "output_type": "display_data"
    }
   ],
   "source": [
    "fig1 = plt.figure(1)\n",
    "x=np.linspace(1,epo,epo)\n",
    "plt.plot(x,test_error_MAE, label = 'MAE')\n",
    "plt.plot(x,test_error_MSE, label ='MSE')\n",
    "plt.legend(loc = 2)\n",
    "plt.title('Bias')\n",
    "\n",
    "plt.show()"
   ]
  },
  {
   "cell_type": "code",
   "execution_count": 16,
   "id": "f753f32b",
   "metadata": {},
   "outputs": [
    {
     "name": "stdout",
     "output_type": "stream",
     "text": [
      "testing data MAE is  4.8824204065346075\n",
      "testing data MAE is  41.632766871040666\n"
     ]
    }
   ],
   "source": [
    "print('testing data MAE is ', np.min(test_error_MAE))\n",
    "print('testing data MAE is ', np.min(test_error_MSE))"
   ]
  },
  {
   "cell_type": "markdown",
   "id": "20728f93",
   "metadata": {},
   "source": [
    "## Gradient descent (loss = MSE)"
   ]
  },
  {
   "cell_type": "code",
   "execution_count": 17,
   "id": "c584fe14",
   "metadata": {},
   "outputs": [],
   "source": [
    "x = Xhat_train\n",
    "y = Yhat_train\n",
    "xt = Xhat_test\n",
    "yt = Yhat_test"
   ]
  },
  {
   "cell_type": "code",
   "execution_count": 18,
   "id": "a6009742",
   "metadata": {},
   "outputs": [],
   "source": [
    "def model (x,b0,b1):\n",
    "    y = b0 +  torch.matmul(x , b1)\n",
    "    return y"
   ]
  },
  {
   "cell_type": "code",
   "execution_count": 19,
   "id": "77eca36b",
   "metadata": {},
   "outputs": [],
   "source": [
    "features = torch.from_numpy(x)\n",
    "targets = torch.from_numpy(y)\n",
    "x_test = torch.from_numpy(xt)\n",
    "y_test = torch.from_numpy(yt)\n",
    "\n",
    "beta0 = torch.zeros(5112 , requires_grad = True)\n",
    "beta1 = torch.zeros([6816,5112], requires_grad = True)\n",
    "\n",
    "rate = 1e-4\n",
    "optimizer = optim.Adam([beta0 , beta1], lr=rate)\n",
    "\n",
    "epo = 500\n",
    "loss = nn.MSELoss()\n",
    "train_error = np.zeros(epo)\n",
    "test_error_MAE = np.zeros(epo)\n",
    "test_error_MSE = np.zeros(epo)\n",
    "\n",
    "\n",
    "for epoch in range (epo):\n",
    "    yhats_train = model(features.float() , beta0 , beta1)\n",
    "    train_loss = loss(targets.float() , yhats_train)\n",
    "    train_error[epoch] = train_loss\n",
    "\n",
    "    optimizer.zero_grad()\n",
    "    train_loss.backward() \n",
    "    optimizer.step()    \n",
    "\n",
    "    yhats_test = model(x_test.float(), beta0, beta1) \n",
    "    r = abs(yhats_test - y_test)\n",
    "    test_error_MAE[epoch] = torch.nanmean(r)\n",
    "    test_error_MSE[epoch] = torch.nanmean(r*r)"
   ]
  },
  {
   "cell_type": "code",
   "execution_count": 20,
   "id": "14aa773b",
   "metadata": {},
   "outputs": [
    {
     "data": {
      "image/png": "[encoded data removed]",
      "text/plain": [
       "<Figure size 432x288 with 1 Axes>"
      ]
     },
     "metadata": {
      "needs_background": "light"
     },
     "output_type": "display_data"
    }
   ],
   "source": [
    "fig1 = plt.figure(1)\n",
    "x=np.linspace(1,epo,epo)\n",
    "plt.plot(x,test_error_MAE, label = 'MAE')\n",
    "plt.plot(x,test_error_MSE, label ='MSE')\n",
    "plt.legend(loc = 2)\n",
    "plt.title('Bias')\n",
    "\n",
    "plt.show()"
   ]
  },
  {
   "cell_type": "code",
   "execution_count": 21,
   "id": "63e1d74a",
   "metadata": {},
   "outputs": [
    {
     "name": "stdout",
     "output_type": "stream",
     "text": [
      "testing data MAE is  5.19183896188353\n",
      "testing data MAE is  45.78267113272086\n"
     ]
    }
   ],
   "source": [
    "print('testing data MAE is ', np.min(test_error_MAE))\n",
    "print('testing data MAE is ', np.min(test_error_MSE))"
   ]
  },
  {
   "cell_type": "markdown",
   "id": "ed9cfee0",
   "metadata": {},
   "source": [
    "## Gradient descent (loss = Huber loss)"
   ]
  },
  {
   "cell_type": "code",
   "execution_count": 22,
   "id": "6a4d79e6",
   "metadata": {},
   "outputs": [],
   "source": [
    "x = Xhat_train\n",
    "y = Yhat_train\n",
    "xt = Xhat_test\n",
    "yt = Yhat_test"
   ]
  },
  {
   "cell_type": "code",
   "execution_count": 23,
   "id": "421e9eaa",
   "metadata": {},
   "outputs": [],
   "source": [
    "def model (x,b0,b1):\n",
    "    y = b0 +  torch.matmul(x , b1)\n",
    "    return y"
   ]
  },
  {
   "cell_type": "code",
   "execution_count": 24,
   "id": "ccafce99",
   "metadata": {},
   "outputs": [],
   "source": [
    "features = torch.from_numpy(x)\n",
    "targets = torch.from_numpy(y)\n",
    "x_test = torch.from_numpy(xt)\n",
    "y_test = torch.from_numpy(yt)\n",
    "\n",
    "beta0 = torch.zeros(5112 , requires_grad = True)\n",
    "beta1 = torch.zeros([6816,5112], requires_grad = True)\n",
    "\n",
    "rate = 1e-4\n",
    "optimizer = optim.Adam([beta0 , beta1], lr=rate)\n",
    "\n",
    "epo = 500\n",
    "loss = nn.HuberLoss()\n",
    "train_error = np.zeros(epo)\n",
    "test_error_MAE = np.zeros(epo)\n",
    "test_error_MSE = np.zeros(epo)\n",
    "\n",
    "\n",
    "for epoch in range (epo):\n",
    "    yhats_train = model(features.float() , beta0 , beta1)\n",
    "    train_loss = loss(targets.float() , yhats_train)\n",
    "    train_error[epoch] = train_loss\n",
    "\n",
    "    optimizer.zero_grad()\n",
    "    train_loss.backward() \n",
    "    optimizer.step()    \n",
    "\n",
    "    yhats_test = model(x_test.float(), beta0, beta1) \n",
    "    r = abs(yhats_test - y_test)\n",
    "    test_error_MAE[epoch] = torch.nanmean(r)\n",
    "    test_error_MSE[epoch] = torch.nanmean(r*r)"
   ]
  },
  {
   "cell_type": "code",
   "execution_count": 25,
   "id": "8db4897a",
   "metadata": {},
   "outputs": [
    {
     "data": {
      "image/png": "[encoded data removed]",
      "text/plain": [
       "<Figure size 432x288 with 1 Axes>"
      ]
     },
     "metadata": {
      "needs_background": "light"
     },
     "output_type": "display_data"
    }
   ],
   "source": [
    "fig1 = plt.figure(1)\n",
    "x=np.linspace(1,epo,epo)\n",
    "plt.plot(x,test_error_MAE, label = 'MAE')\n",
    "plt.plot(x,test_error_MSE, label ='MSE')\n",
    "plt.legend(loc = 2)\n",
    "plt.title('Bias')\n",
    "\n",
    "plt.show()"
   ]
  },
  {
   "cell_type": "code",
   "execution_count": 26,
   "id": "6276b196",
   "metadata": {},
   "outputs": [
    {
     "name": "stdout",
     "output_type": "stream",
     "text": [
      "testing data MAE is  4.879549985798268\n",
      "testing data MAE is  41.569672430466845\n"
     ]
    }
   ],
   "source": [
    "print('testing data MAE is ', np.min(test_error_MAE))\n",
    "print('testing data MAE is ', np.min(test_error_MSE))"
   ]
  },
  {
   "cell_type": "markdown",
   "id": "e89361a8",
   "metadata": {},
   "source": [
    "# Mix Model"
   ]
  },
  {
   "cell_type": "markdown",
   "id": "13c245c2",
   "metadata": {},
   "source": [
    "## 公式解（PCA + Linear regression）"
   ]
  },
  {
   "cell_type": "code",
   "execution_count": 55,
   "id": "0304b090",
   "metadata": {},
   "outputs": [],
   "source": [
    "x = new_x\n",
    "y = new_y\n",
    "xt = new_exx\n",
    "yt = Yhat_test"
   ]
  },
  {
   "cell_type": "code",
   "execution_count": 56,
   "id": "21e216a7",
   "metadata": {},
   "outputs": [],
   "source": [
    "xper = np.zeros(5)\n",
    "xper[0] = 0.85\n",
    "xper[1] = 0.9\n",
    "xper[2] = 0.95\n",
    "xper[3] = 0.99\n",
    "xper[4] = 0.995\n",
    "yper = xper\n",
    "test_error_MAE = 100*np.ones(25)\n",
    "test_error_MSE = 100*np.ones(25)\n",
    "MAE_index=[]\n",
    "MSE_index=[]"
   ]
  },
  {
   "cell_type": "code",
   "execution_count": null,
   "id": "57174cd9",
   "metadata": {},
   "outputs": [],
   "source": [
    "for z in range (0,5):\n",
    "    for w in range (0,5):\n",
    "        pca_x = PCA(n_components=xper[z])\n",
    "        pca_x.fit(x)\n",
    "        x_pca=pca_x.transform(x)\n",
    "        \n",
    "        pca_y = PCA(n_components=yper[w])\n",
    "        pca_y.fit(y)\n",
    "        y_pca=pca_y.transform(y)\n",
    "        \n",
    "        model = LinearRegression()\n",
    "        model.fit(x_pca, y_pca)\n",
    "\n",
    "        xt_pca = pca_x.transform(xt)\n",
    "        fit_x = model.predict(xt_pca)\n",
    "        fit = pca_y.inverse_transform(fit_x)\n",
    "        fit95=np.zeros([61,5112])\n",
    "        for i in range (0,72):\n",
    "            for j in range (0,61):\n",
    "                for k in range (0,71):\n",
    "                    fit95[j][72*k+i]=fit[61*i+j][72*k+i]\n",
    "        mae = np.mean(abs(fit95-yt))\n",
    "        mse = np.mean((fit95-yt)**2)\n",
    "        test_error_MAE[z*5+w] = mae\n",
    "        test_error_MSE[z*5+w] = mse\n",
    "        MAE_index.append((xper[z], yper[w], mae))\n",
    "        MSE_index.append((xper[z], yper[w], mse))"
   ]
  },
  {
   "cell_type": "code",
   "execution_count": null,
   "id": "d0bb17ad",
   "metadata": {},
   "outputs": [],
   "source": [
    "f1 = np.argmin(test_error_MAE)\n",
    "f2 = np.argmin(test_error_MSE)\n",
    "print('test data on x = ', 100*MAE_index[f1][0], '% Y = ', 100*MAE_index[f1][1], '% have the min MAE error :', min(test_error_MAE))\n",
    "print(MAE_index[f1])\n",
    "print('test data on x = ', 100*MSE_index[f2][0], '% Y = ', 100*MSE_index[f2][1], '% have the min MSE error :', min(test_error_MSE))\n",
    "print(MSE_index[f2])"
   ]
  },
  {
   "cell_type": "markdown",
   "id": "97d9d477",
   "metadata": {},
   "source": [
    "## Gradient descent (loss = MAE)"
   ]
  },
  {
   "cell_type": "code",
   "execution_count": 57,
   "id": "a3a56ca8",
   "metadata": {},
   "outputs": [],
   "source": [
    "x1 = X1hat_train\n",
    "x2 = X2hat_train\n",
    "y = Yhat_train\n",
    "xt1 = X1hat_test\n",
    "xt2 = X2hat_test\n",
    "yt = Yhat_test"
   ]
  },
  {
   "cell_type": "code",
   "execution_count": 58,
   "id": "3809550e",
   "metadata": {},
   "outputs": [],
   "source": [
    "def model (x1,x2,b0,b1,b2):\n",
    "    y = b0 +  torch.matmul(x1,b1) + x2*b2\n",
    "    return y"
   ]
  },
  {
   "cell_type": "code",
   "execution_count": 59,
   "id": "6ccfdc86",
   "metadata": {
    "scrolled": true
   },
   "outputs": [],
   "source": [
    "features1 = torch.from_numpy(x1)\n",
    "features2 = torch.from_numpy(x2)\n",
    "targets = torch.from_numpy(y)\n",
    "x_test1 = torch.from_numpy(xt1)\n",
    "x_test2 = torch.from_numpy(xt2)\n",
    "y_test = torch.from_numpy(yt)\n",
    "\n",
    "\n",
    "beta0 = torch.zeros(5112 , requires_grad = True)\n",
    "beta1 = torch.zeros([1704,5112], requires_grad = True)\n",
    "beta2 = torch.zeros(5112, requires_grad = True)\n",
    "\n",
    "rate = 1e-3\n",
    "optimizer = optim.Adam([beta0 , beta1 , beta2], lr=rate)\n",
    "\n",
    "epo = 500\n",
    "loss = nn.L1Loss()\n",
    "train_error = np.zeros(epo)\n",
    "test_error_MAE = np.zeros(epo)\n",
    "test_error_MSE = np.zeros(epo)\n",
    "\n",
    "for epoch in range (epo):\n",
    "    yhats_train = model(features1.float() , features2.float(), beta0 , beta1 , beta2)\n",
    "    train_loss = loss(targets.float() , yhats_train)\n",
    "    train_error[epoch] = train_loss\n",
    "\n",
    "    optimizer.zero_grad()\n",
    "    train_loss.backward() \n",
    "    optimizer.step()    \n",
    "\n",
    "    yhats_test = model(x_test1.float(), x_test2.float() , beta0, beta1 , beta2) \n",
    "    test_error_MAE[epoch] = torch.mean(torch.abs(yhats_test - y_test))\n",
    "    test_error_MSE[epoch] = torch.mean((yhats_test - y_test)**2)"
   ]
  },
  {
   "cell_type": "code",
   "execution_count": 60,
   "id": "6f6f6242",
   "metadata": {},
   "outputs": [
    {
     "data": {
      "image/png": "[encoded data removed]",
      "text/plain": [
       "<Figure size 432x288 with 1 Axes>"
      ]
     },
     "metadata": {
      "needs_background": "light"
     },
     "output_type": "display_data"
    }
   ],
   "source": [
    "fig1 = plt.figure(1)\n",
    "x=np.linspace(1,epo,epo)\n",
    "plt.plot(x,test_error_MAE, label = 'MAE')\n",
    "plt.plot(x,test_error_MSE, label ='MSE')\n",
    "plt.legend(loc = 2)\n",
    "plt.title('bias')\n",
    "\n",
    "plt.show()"
   ]
  },
  {
   "cell_type": "code",
   "execution_count": 36,
   "id": "97551086",
   "metadata": {},
   "outputs": [
    {
     "name": "stdout",
     "output_type": "stream",
     "text": [
      "testing data MAE is  5.338936201567208\n",
      "testing data MAE is  53.14758880135256\n"
     ]
    }
   ],
   "source": [
    "print('testing data MAE is ', np.min(test_error_MAE))\n",
    "print('testing data MAE is ', np.min(test_error_MSE))"
   ]
  },
  {
   "cell_type": "markdown",
   "id": "c85c39b8",
   "metadata": {},
   "source": [
    "## Gradient descent (loss = MSE)"
   ]
  },
  {
   "cell_type": "code",
   "execution_count": 61,
   "id": "ec66cb32",
   "metadata": {},
   "outputs": [],
   "source": [
    "x1 = X1hat_train\n",
    "x2 = X2hat_train\n",
    "y = Yhat_train\n",
    "xt1 = X1hat_test\n",
    "xt2 = X2hat_test\n",
    "yt = Yhat_test"
   ]
  },
  {
   "cell_type": "code",
   "execution_count": 62,
   "id": "b5fa8584",
   "metadata": {},
   "outputs": [],
   "source": [
    "def model (x1,x2,b0,b1,b2):\n",
    "    y = b0 +  torch.matmul(x1,b1) + x2*b2\n",
    "    return y"
   ]
  },
  {
   "cell_type": "code",
   "execution_count": 63,
   "id": "48924e26",
   "metadata": {
    "scrolled": true
   },
   "outputs": [],
   "source": [
    "features1 = torch.from_numpy(x1)\n",
    "features2 = torch.from_numpy(x2)\n",
    "targets = torch.from_numpy(y)\n",
    "x_test1 = torch.from_numpy(xt1)\n",
    "x_test2 = torch.from_numpy(xt2)\n",
    "y_test = torch.from_numpy(yt)\n",
    "\n",
    "\n",
    "beta0 = torch.zeros(5112 , requires_grad = True)\n",
    "beta1 = torch.zeros([1704,5112], requires_grad = True)\n",
    "beta2 = torch.zeros(5112, requires_grad = True)\n",
    "\n",
    "rate = 1e-3\n",
    "optimizer = optim.Adam([beta0 , beta1 , beta2], lr=rate)\n",
    "\n",
    "epo = 500\n",
    "loss = nn.MSELoss()\n",
    "train_error = np.zeros(epo)\n",
    "test_error_MAE = np.zeros(epo)\n",
    "test_error_MSE = np.zeros(epo)\n",
    "\n",
    "for epoch in range (epo):\n",
    "    yhats_train = model(features1.float() , features2.float(), beta0 , beta1 , beta2)\n",
    "    train_loss = loss(targets.float() , yhats_train)\n",
    "    train_error[epoch] = train_loss\n",
    "\n",
    "    optimizer.zero_grad()\n",
    "    train_loss.backward() \n",
    "    optimizer.step()    \n",
    "\n",
    "    yhats_test = model(x_test1.float(), x_test2.float() , beta0, beta1 , beta2) \n",
    "    test_error_MAE[epoch] = torch.mean(torch.abs(yhats_test - y_test))\n",
    "    test_error_MSE[epoch] = torch.mean((yhats_test - y_test)**2)"
   ]
  },
  {
   "cell_type": "code",
   "execution_count": 50,
   "id": "fc2ad908",
   "metadata": {},
   "outputs": [
    {
     "data": {
      "image/png": "[encoded data removed]",
      "text/plain": [
       "<Figure size 432x288 with 1 Axes>"
      ]
     },
     "metadata": {
      "needs_background": "light"
     },
     "output_type": "display_data"
    }
   ],
   "source": [
    "fig1 = plt.figure(1)\n",
    "x=np.linspace(1,epo,epo)\n",
    "plt.plot(x,test_error_MAE, label = 'MAE')\n",
    "plt.plot(x,test_error_MSE, label ='MSE')\n",
    "plt.legend(loc = 2)\n",
    "plt.title('bias')\n",
    "\n",
    "plt.show()"
   ]
  },
  {
   "cell_type": "code",
   "execution_count": 51,
   "id": "d3bdf4f2",
   "metadata": {},
   "outputs": [
    {
     "name": "stdout",
     "output_type": "stream",
     "text": [
      "testing data MAE is  5.443443167628663\n",
      "testing data MAE is  52.84492233305015\n"
     ]
    }
   ],
   "source": [
    "print('testing data MAE is ', np.min(test_error_MAE))\n",
    "print('testing data MAE is ', np.min(test_error_MSE))"
   ]
  },
  {
   "cell_type": "markdown",
   "id": "76b19cdd",
   "metadata": {},
   "source": [
    "## Gradient descent (loss = Huber loss)"
   ]
  },
  {
   "cell_type": "code",
   "execution_count": 64,
   "id": "2b2cb7ce",
   "metadata": {},
   "outputs": [],
   "source": [
    "x1 = X1hat_train\n",
    "x2 = X2hat_train\n",
    "y = Yhat_train\n",
    "xt1 = X1hat_test\n",
    "xt2 = X2hat_test\n",
    "yt = Yhat_test"
   ]
  },
  {
   "cell_type": "code",
   "execution_count": 65,
   "id": "0691d44e",
   "metadata": {},
   "outputs": [],
   "source": [
    "def model (x1,x2,b0,b1,b2):\n",
    "    y = b0 +  torch.matmul(x1,b1) + x2*b2\n",
    "    return y"
   ]
  },
  {
   "cell_type": "code",
   "execution_count": 66,
   "id": "cd988122",
   "metadata": {
    "scrolled": true
   },
   "outputs": [],
   "source": [
    "features1 = torch.from_numpy(x1)\n",
    "features2 = torch.from_numpy(x2)\n",
    "targets = torch.from_numpy(y)\n",
    "x_test1 = torch.from_numpy(xt1)\n",
    "x_test2 = torch.from_numpy(xt2)\n",
    "y_test = torch.from_numpy(yt)\n",
    "\n",
    "\n",
    "beta0 = torch.zeros(5112 , requires_grad = True)\n",
    "beta1 = torch.zeros([1704,5112], requires_grad = True)\n",
    "beta2 = torch.zeros(5112, requires_grad = True)\n",
    "\n",
    "rate = 1e-3\n",
    "optimizer = optim.Adam([beta0 , beta1 , beta2], lr=rate)\n",
    "\n",
    "epo = 500\n",
    "loss = nn.HuberLoss()\n",
    "train_error = np.zeros(epo)\n",
    "test_error_MAE = np.zeros(epo)\n",
    "test_error_MSE = np.zeros(epo)\n",
    "\n",
    "for epoch in range (epo):\n",
    "    yhats_train = model(features1.float() , features2.float(), beta0 , beta1 , beta2)\n",
    "    train_loss = loss(targets.float() , yhats_train)\n",
    "    train_error[epoch] = train_loss\n",
    "\n",
    "    optimizer.zero_grad()\n",
    "    train_loss.backward() \n",
    "    optimizer.step()    \n",
    "\n",
    "    yhats_test = model(x_test1.float(), x_test2.float() , beta0, beta1 , beta2) \n",
    "    test_error_MAE[epoch] = torch.mean(torch.abs(yhats_test - y_test))\n",
    "    test_error_MSE[epoch] = torch.mean((yhats_test - y_test)**2)"
   ]
  },
  {
   "cell_type": "code",
   "execution_count": 55,
   "id": "696a6f1a",
   "metadata": {},
   "outputs": [
    {
     "data": {
      "image/png": "[encoded data removed]",
      "text/plain": [
       "<Figure size 432x288 with 1 Axes>"
      ]
     },
     "metadata": {
      "needs_background": "light"
     },
     "output_type": "display_data"
    }
   ],
   "source": [
    "fig1 = plt.figure(1)\n",
    "x=np.linspace(1,epo,epo)\n",
    "plt.plot(x,test_error_MAE, label = 'MAE')\n",
    "plt.plot(x,test_error_MSE, label ='MSE')\n",
    "plt.legend(loc = 2)\n",
    "plt.title('bias')\n",
    "\n",
    "plt.show()"
   ]
  },
  {
   "cell_type": "code",
   "execution_count": 56,
   "id": "1afdae43",
   "metadata": {},
   "outputs": [
    {
     "name": "stdout",
     "output_type": "stream",
     "text": [
      "testing data MAE is  5.3255488342700765\n",
      "testing data MAE is  52.69800033520637\n"
     ]
    }
   ],
   "source": [
    "print('testing data MAE is ', np.min(test_error_MAE))\n",
    "print('testing data MAE is ', np.min(test_error_MSE))"
   ]
  },
  {
   "cell_type": "markdown",
   "id": "a1500bff",
   "metadata": {},
   "source": [
    "# Function on Function Model"
   ]
  },
  {
   "cell_type": "markdown",
   "id": "3dcc1d2d",
   "metadata": {},
   "source": [
    "## 公式解（PCA + Linear regression）"
   ]
  },
  {
   "cell_type": "code",
   "execution_count": 51,
   "id": "108ecb0a",
   "metadata": {},
   "outputs": [],
   "source": [
    "x = Xhat_train\n",
    "y = Yhat_train\n",
    "xt = Xhat_test\n",
    "yt = Yhat_test"
   ]
  },
  {
   "cell_type": "code",
   "execution_count": 52,
   "id": "984075f9",
   "metadata": {},
   "outputs": [],
   "source": [
    "xper = np.zeros(5)\n",
    "xper[0] = 0.85\n",
    "xper[1] = 0.9\n",
    "xper[2] = 0.95\n",
    "xper[3] = 0.99\n",
    "xper[4] = 0.995\n",
    "yper = xper\n",
    "test_error_MAE = 100*np.ones(25)\n",
    "test_error_MSE = 100*np.ones(25)\n",
    "MAE_index=[]\n",
    "MSE_index=[]"
   ]
  },
  {
   "cell_type": "code",
   "execution_count": 53,
   "id": "f2a34368",
   "metadata": {},
   "outputs": [],
   "source": [
    "for z in range (0,5):\n",
    "    for w in range (0,5):\n",
    "        pca_x = PCA(n_components=xper[z])\n",
    "        pca_x.fit(x)\n",
    "        x_pca=pca_x.transform(x)\n",
    "        \n",
    "        pca_y = PCA(n_components=yper[w])\n",
    "        pca_y.fit(y)\n",
    "        y_pca=pca_y.transform(y)\n",
    "        \n",
    "        model = LinearRegression()\n",
    "        model.fit(x_pca, y_pca)\n",
    "\n",
    "        xt_pca = pca_x.transform(xt)\n",
    "        fit_x = model.predict(xt_pca)\n",
    "        fit = pca_y.inverse_transform(fit_x)\n",
    "        \n",
    "        mae = np.mean(abs(fit-yt))\n",
    "        mse = np.mean((fit-yt)**2)\n",
    "        test_error_MAE[z*5+w] = mae\n",
    "        test_error_MSE[z*5+w] = mse\n",
    "        MAE_index.append((xper[z], yper[w], mae))\n",
    "        MSE_index.append((xper[z], yper[w], mse))"
   ]
  },
  {
   "cell_type": "code",
   "execution_count": 54,
   "id": "5d77bd4a",
   "metadata": {},
   "outputs": [
    {
     "name": "stdout",
     "output_type": "stream",
     "text": [
      "test data on x =  90.0 % Y =  85.0 % have the min MAE error : 5.290335050371303\n",
      "(0.9, 0.85, 5.290335050371303)\n",
      "test data on x =  90.0 % Y =  85.0 % have the min MSE error : 47.814658420213426\n",
      "(0.9, 0.85, 47.814658420213426)\n"
     ]
    }
   ],
   "source": [
    "f1 = np.argmin(test_error_MAE)\n",
    "f2 = np.argmin(test_error_MSE)\n",
    "print('test data on x = ', 100*MAE_index[f1][0], '% Y = ', 100*MAE_index[f1][1], '% have the min MAE error :', min(test_error_MAE))\n",
    "print(MAE_index[f1])\n",
    "print('test data on x = ', 100*MSE_index[f2][0], '% Y = ', 100*MSE_index[f2][1], '% have the min MSE error :', min(test_error_MSE))\n",
    "print(MSE_index[f2])"
   ]
  },
  {
   "cell_type": "markdown",
   "id": "3d4111fe",
   "metadata": {},
   "source": [
    "# PLS Model"
   ]
  },
  {
   "cell_type": "code",
   "execution_count": 43,
   "id": "f39eca64",
   "metadata": {},
   "outputs": [],
   "source": [
    "x = Xhat_train\n",
    "y = Yhat_train\n",
    "xt = Xhat_test\n",
    "yt = Yhat_test"
   ]
  },
  {
   "cell_type": "code",
   "execution_count": 44,
   "id": "2179ba3d",
   "metadata": {},
   "outputs": [],
   "source": [
    "test_error_MAE = 100*np.ones(50)\n",
    "test_error_MSE = 100*np.ones(50)\n",
    "for n in range (1,51):\n",
    "    model = PLSRegression(n_components=n,max_iter=1000)\n",
    "    model.fit(x, y)\n",
    "\n",
    "    xf=Xhat_test\n",
    "    xfit=model.predict(xf)\n",
    "    \n",
    "    after_MAE=np.nanmean(abs(xfit-yt))\n",
    "    after_MSE=np.nanmean((xfit-yt)**2)\n",
    "    \n",
    "    test_error_MAE[n-1] = after_MAE\n",
    "    test_error_MSE[n-1] = after_MSE"
   ]
  },
  {
   "cell_type": "code",
   "execution_count": 45,
   "id": "48a830c4",
   "metadata": {},
   "outputs": [
    {
     "name": "stdout",
     "output_type": "stream",
     "text": [
      "test data on n =  12 have the min MAE error :  5.236523580585977\n",
      "test data on n =  12 have the min MSE error :  46.54693581742566\n"
     ]
    }
   ],
   "source": [
    "print('test data on n = ', np.argmin(test_error_MAE)+1, 'have the min MAE error : ', min(test_error_MAE))\n",
    "print('test data on n = ', np.argmin(test_error_MSE)+1, 'have the min MSE error : ', min(test_error_MSE))"
   ]
  },
  {
   "cell_type": "markdown",
   "id": "5b94656c",
   "metadata": {},
   "source": [
    "# SIR Model"
   ]
  },
  {
   "cell_type": "code",
   "execution_count": 46,
   "id": "042b7535",
   "metadata": {},
   "outputs": [],
   "source": [
    "x = Xhat_train\n",
    "y = Yhat_train\n",
    "xt = Xhat_test\n",
    "yt = Yhat_test"
   ]
  },
  {
   "cell_type": "code",
   "execution_count": 47,
   "id": "eac60b2a",
   "metadata": {},
   "outputs": [],
   "source": [
    "# xper = np.zeros(5)\n",
    "# xper[0] = 0.85\n",
    "# xper[1] = 0.90\n",
    "# xper[2] = 0.95\n",
    "# xper[3] = 0.99\n",
    "# xper[4] = 0.995\n",
    "# yper = np.zeros(3)\n",
    "# yper[0] = 0.95\n",
    "# yper[1] = 0.99\n",
    "# yper[2] = 0.995\n",
    "# slices = np.zeros(5)\n",
    "# slices[0] = 10\n",
    "# slices[1] = 20\n",
    "# slices[2] = 30\n",
    "# slices[3] = 40\n",
    "# slices[4] = 50\n",
    "# test_error_MAE = 100*np.ones(15)\n",
    "# test_error_MSE = 100*np.ones(15)\n",
    "# index_MAE = []\n",
    "# index_MSE = []"
   ]
  },
  {
   "cell_type": "code",
   "execution_count": 48,
   "id": "55ccfb61",
   "metadata": {},
   "outputs": [],
   "source": [
    "#x : 70%~86% (86.9%剛好=61=n_targets)\n",
    "xper = np.zeros(17)\n",
    "for i in range (0,17):\n",
    "    xper[i] = 0.01*(i+70)\n",
    "    \n",
    "#y : 80%~88% (88.4%剛好=61=n_targets)\n",
    "yper = np.zeros(9)\n",
    "for i in range (0,9):\n",
    "    yper[i] = 0.01*(i+80)\n",
    "#slices : 10, 20, 30, 40, 50\n",
    "slices = np.zeros(5)\n",
    "for i in range (0,5):\n",
    "    slices[i] = 10*(i+1)\n",
    "#存結果用\n",
    "test_error_MAE = 100*np.ones(17*9)\n",
    "test_error_MSE = 100*np.ones(17*9)\n",
    "index_MAE = []\n",
    "index_MSE = []"
   ]
  },
  {
   "cell_type": "code",
   "execution_count": 49,
   "id": "e2ac38dd",
   "metadata": {},
   "outputs": [],
   "source": [
    "for q in range (0,17):\n",
    "    for r in range(0,9):\n",
    "        pca_x = PCA(n_components=xper[q])\n",
    "        pca_x.fit(x)\n",
    "        x_pca=pca_x.transform(x)\n",
    "        a = x_pca.shape[1]\n",
    "        if a > 61:\n",
    "            continue\n",
    "        pca_y = PCA(n_components=yper[r])\n",
    "        pca_y.fit(y)\n",
    "        y_pca=pca_y.transform(y)\n",
    "        b = y_pca.shape[1]\n",
    "        if b > 61:\n",
    "            continue\n",
    "        pca_xt = PCA(n_components=a)\n",
    "        pca_xt.fit(xt)\n",
    "        xt_pca=pca_xt.transform(xt)\n",
    "#         pca_yt = PCA(n_components=b)\n",
    "#         pca_yt.fit(yt)\n",
    "#         yt_pca=pca_y.transform(yt)\n",
    "\n",
    "        xt_svr = np.zeros([5,61,b])\n",
    "        #5是因為有5種n_slices\n",
    "        for j in range (0,5):\n",
    "            for i in range (0,b):\n",
    "                sir_x = SlicedInverseRegression(n_slices=slices[j])\n",
    "                sir_x.fit(x_pca, y_pca[:,i])\n",
    "                x_sir = sir_x.transform(x_pca)\n",
    "                   \n",
    "                svr = SVR()\n",
    "                svr.fit(x_sir, y_pca[:,i])\n",
    "                \n",
    "                xt_sir = sir_x.transform(xt_pca) \n",
    "                xt_svr[j][:,i]=svr.predict(xt_sir)\n",
    "        error1 = np.zeros(5)\n",
    "        error2 = np.zeros(5)\n",
    "        for i in range (0,5):\n",
    "            yt_inv = pca_y.inverse_transform(xt_svr[i])\n",
    "            error1[i] = np.mean(abs(yt_inv-yt))\n",
    "            error2[i] = np.mean((yt_inv-yt)**2)\n",
    "\n",
    "        n1 = 10*(np.argmin(error1)+1)\n",
    "        n2 = 10*(np.argmin(error2)+1)\n",
    "        min1 = min(error1)\n",
    "        min2 = min(error2)\n",
    "        index_MAE.append((xper[q], yper[r], n1, min1))    \n",
    "        index_MSE.append((xper[q], yper[r], n2, min2)) \n",
    "        test_error_MAE[9*q+r] = min1\n",
    "        test_error_MSE[9*q+r] = min2"
   ]
  },
  {
   "cell_type": "code",
   "execution_count": 50,
   "id": "3a541df5",
   "metadata": {},
   "outputs": [
    {
     "name": "stdout",
     "output_type": "stream",
     "text": [
      "test data on n_slices =  40 , x =  0.79 % , y =  0.87 % have the min MAE error : 6.182267382088955\n",
      "(0.79, 0.87, 40, 6.182267382088955)\n",
      "test data on n_slices =  40 , x =  0.72 % , y =  0.8 % have the min MSE error : 62.90541214275311\n",
      "(0.72, 0.8, 40, 62.90541214275311)\n"
     ]
    }
   ],
   "source": [
    "f1 = np.argmin(test_error_MAE)\n",
    "f2 = np.argmin(test_error_MSE)\n",
    "print('test data on n_slices = ', index_MAE[f1][2], ', x = ', index_MAE[f1][0], '% , y = ', index_MAE[f1][1], '% have the min MAE error :', min(test_error_MAE))\n",
    "print(index_MAE[f1])\n",
    "print('test data on n_slices = ', index_MSE[f2][2], ', x = ', index_MSE[f2][0], '% , y = ', index_MSE[f2][1], '% have the min MSE error :', min(test_error_MSE))\n",
    "print(index_MSE[f2])"
   ]
  },
  {
   "cell_type": "markdown",
   "id": "c1e14e43",
   "metadata": {},
   "source": [
    "# CNN Model"
   ]
  },
  {
   "cell_type": "code",
   "execution_count": 27,
   "id": "8c564456",
   "metadata": {},
   "outputs": [
    {
     "name": "stdout",
     "output_type": "stream",
     "text": [
      "Xhat_train\n",
      "(71, 540, 96)\n",
      "Yhat_train\n",
      "(71, 540, 72)\n",
      "Xhat_test\n",
      "(71, 61, 96)\n",
      "Yhat_test\n",
      "(71, 61, 72)\n",
      "Xhat_val\n",
      "(71, 61, 96)\n",
      "Yhat_val\n",
      "(71, 61, 72)\n"
     ]
    }
   ],
   "source": [
    "Xhat_train_n = np.zeros([71,540,96])\n",
    "Yhat_train_n = np.zeros([71,540,72])\n",
    "Xhat_test_n = np.zeros([71,61,96])\n",
    "Yhat_test_n = np.zeros([71,61,72])\n",
    "for i in range (0,71):\n",
    "    for j in range (0,540):\n",
    "        for k in range (0,24):\n",
    "            Xhat_train_n[i][j][k] = Xhat_train[j][24*i+k]\n",
    "        for k in range (0,72):\n",
    "            Xhat_train_n[i][j][k+24] = Xhat_train[j][1704+(72*i)+k]\n",
    "            Yhat_train_n[i][j][k] = Yhat_train[j][(72*i)+k]\n",
    "    for j in range (0,61):\n",
    "        for k in range (0,24):\n",
    "            Xhat_test_n[i][j][k] = Xhat_test[j][24*i+k]\n",
    "        for k in range (0,72):\n",
    "            Xhat_test_n[i][j][k+24] = Xhat_test[j][1704+(72*i)+k]\n",
    "            Yhat_test_n[i][j][k] = Yhat_test[j][(72*i)+k]\n",
    "print('Xhat_train')\n",
    "print(np.shape(Xhat_train_n))\n",
    "print('Yhat_train')\n",
    "print(np.shape(Yhat_train_n))\n",
    "print('Xhat_test')\n",
    "print(np.shape(Xhat_test_n))\n",
    "print('Yhat_test')\n",
    "print(np.shape(Yhat_test_n))\n",
    "Xhat_val=Xhat_test_n\n",
    "Yhat_val=Yhat_test_n\n",
    "print('Xhat_val')\n",
    "print(np.shape(Xhat_val))\n",
    "print('Yhat_val')\n",
    "print(np.shape(Yhat_val))"
   ]
  },
  {
   "cell_type": "markdown",
   "id": "a7d7a9df",
   "metadata": {},
   "source": [
    "## loss = MAE"
   ]
  },
  {
   "cell_type": "code",
   "execution_count": 28,
   "id": "3711e7fb",
   "metadata": {},
   "outputs": [],
   "source": [
    "class CNN(pl.LightningModule):\n",
    "    def __init__(self):\n",
    "        super().__init__()\n",
    "        self.layer1 = nn.Conv1d(1 , 32 , 2)\n",
    "        self.act1 = nn.ReLU()\n",
    "        self.layer2 = nn.Conv1d(32 , 32 , 2)\n",
    "        self.act2 = nn.ReLU()\n",
    "        self.layer3 = nn.Conv1d(32, 32 , 2)\n",
    "        self.act3 = nn.ReLU()\n",
    "        self.layer4 = nn.Conv1d(32 , 32 , 2)\n",
    "        self.act4 = nn.ReLU()\n",
    "        self.layer5 = nn.Conv1d(32 , 32 , 2)\n",
    "        self.act5 = nn.ReLU()\n",
    "        self.fl = nn.Flatten()\n",
    "        self.fc1 = nn.Linear(91*32,264)\n",
    "        self.fc2 = nn.Linear(264,72)\n",
    "    \n",
    "    def forward(self, x): \n",
    "        ouput = torch.unsqueeze(x,1)\n",
    "        ouput = self.act1(self.layer1(ouput))\n",
    "        ouput = self.act2(self.layer2(ouput))\n",
    "        ouput = self.act3(self.layer3(ouput))\n",
    "        ouput = self.act4(self.layer4(ouput))\n",
    "        ouput = self.act5(self.layer5(ouput))\n",
    "        ouput = self.fl(ouput)\n",
    "        ouput = self.fc1(ouput)\n",
    "        ouput = self.fc2(ouput)\n",
    "        return ouput\n",
    "\n",
    "    def configure_optimizers(self): \n",
    "        return optim.Adam(self.parameters(), lr=1e-4) \n",
    "\n",
    "    def prepare_data(self): \n",
    "        self.train_set = Data.TensorDataset(x_train , y_train) \n",
    "        self.test_set = Data.TensorDataset(x_test, y_test)\n",
    "        self.val_set = Data.TensorDataset(x_val, y_val)\n",
    "\n",
    "    def train_dataloader(self):\n",
    "        return Data.DataLoader(dataset=self.train_set , batch_size=540 , shuffle=True)\n",
    "\n",
    "    def test_dataloader(self):\n",
    "        return Data.DataLoader(dataset=self.test_set , batch_size=61 , shuffle=False)\n",
    "\n",
    "    def val_dataloader(self):\n",
    "        return Data.DataLoader(dataset=self.val_set , batch_size=61 , shuffle=False)\n",
    "\n",
    "    def training_step(self, batch, batch_idx): \n",
    "        x, y = batch \n",
    "        output  = self.forward(x)\n",
    "        loss = nn.L1Loss(reduction='mean')(output, y)\n",
    "        mae = nn.L1Loss(reduction='mean')(output, y)\n",
    "        mse = nn.MSELoss(reduction='mean')(output, y)\n",
    "        self.log(\"train_loss\", loss)\n",
    "        self.log(\"MAE\", mae)\n",
    "        self.log(\"MSE\", mse)\n",
    "        return {'loss' : loss}\n",
    "\n",
    "    def test_step(self, batch, batch_idx):\n",
    "        x, y = batch \n",
    "        output  = self.forward(x)\n",
    "        loss = nn.L1Loss(reduction='mean')(output, y)\n",
    "        mae = nn.L1Loss(reduction='mean')(output, y)\n",
    "        mse = nn.MSELoss(reduction='mean')(output, y)\n",
    "        self.log(\"train_loss\", loss)\n",
    "        self.log(\"MAE\", mae)\n",
    "        self.log(\"MSE\", mse)\n",
    "        return {'loss' : loss}\n",
    "\n",
    "    def validation_step(self, batch, batch_idx):\n",
    "        x, y = batch \n",
    "        output  = self.forward(x)\n",
    "        loss = nn.L1Loss(reduction='mean')(output, y)\n",
    "        mae = nn.L1Loss(reduction='mean')(output, y)\n",
    "        mse = nn.MSELoss(reduction='mean')(output, y)\n",
    "        self.log(\"train_loss\", loss)\n",
    "        self.log(\"MAE\", mae)\n",
    "        self.log(\"MSE\", mse)\n",
    "        return {'loss' : loss}"
   ]
  },
  {
   "cell_type": "code",
   "execution_count": null,
   "id": "29ade878",
   "metadata": {},
   "outputs": [],
   "source": [
    "for i in range (0,71):\n",
    "    x_train = torch.from_numpy(Xhat_train_n[i]).float()\n",
    "    y_train = torch.from_numpy(Yhat_train_n[i]).float()\n",
    "    x_test = torch.from_numpy(Xhat_test_n[i]).float()\n",
    "    y_test = torch.from_numpy(Yhat_test_n[i]).float()\n",
    "    x_val = torch.from_numpy(Xhat_val[i]).float()\n",
    "    y_val = torch.from_numpy(Yhat_val[i]).float()\n",
    "    \n",
    "    logger = CSVLogger(\"CNN Model\", name=\"CNN_96hr_MAE\")\n",
    "    model = CNN() \n",
    "    trainer = pl.Trainer(max_epochs=500 , gpus=1 , logger=logger)\n",
    "    trainer.fit(model)\n",
    "    trainer.test(model)"
   ]
  },
  {
   "cell_type": "code",
   "execution_count": 29,
   "id": "63810dd9",
   "metadata": {},
   "outputs": [],
   "source": [
    "test_error_MAE = np.zeros(71)\n",
    "test_error_MSE = np.zeros(71)\n",
    "for i in range (0,71):\n",
    "    df = pd.read_csv(\"/home/luhung3080/Desktop/PycharmProjects/NCHUproject/Transformer/CNN Model/CNN_96hr_MAE/version_\"+str(i)+\"/metrics.csv\")\n",
    "    s1 = np.array(df['MAE'].fillna(100))\n",
    "    s2 = np.array(df['MSE'].fillna(100))\n",
    "    test_error_MAE[i] = np.min(s1)\n",
    "    test_error_MSE[i] = np.min(s2)"
   ]
  },
  {
   "cell_type": "code",
   "execution_count": 30,
   "id": "4723b281",
   "metadata": {},
   "outputs": [
    {
     "data": {
      "image/png": "[encoded data removed]",
      "text/plain": [
       "<Figure size 432x288 with 1 Axes>"
      ]
     },
     "metadata": {
      "needs_background": "light"
     },
     "output_type": "display_data"
    }
   ],
   "source": [
    "m = np.nanmean(test_error_MAE)*np.ones(71)\n",
    "fig1 = plt.figure(1)\n",
    "x=np.linspace(1,71,71)\n",
    "plt.plot(x,test_error_MAE, label = 'statione MAE')\n",
    "plt.plot(x,m, label = 'mean MAE')\n",
    "plt.legend(loc = 2)\n",
    "\n",
    "plt.show()"
   ]
  },
  {
   "cell_type": "code",
   "execution_count": 31,
   "id": "f9fb680e",
   "metadata": {},
   "outputs": [
    {
     "data": {
      "image/png": "[encoded data removed]",
      "text/plain": [
       "<Figure size 432x288 with 1 Axes>"
      ]
     },
     "metadata": {
      "needs_background": "light"
     },
     "output_type": "display_data"
    }
   ],
   "source": [
    "m = np.nanmean(test_error_MSE)*np.ones(71)\n",
    "fig1 = plt.figure(1)\n",
    "x=np.linspace(1,71,71)\n",
    "plt.plot(x,test_error_MSE, label = 'statione MSE')\n",
    "plt.plot(x,m, label = 'mean MSE')\n",
    "plt.legend(loc = 2)\n",
    "\n",
    "plt.show()"
   ]
  },
  {
   "cell_type": "code",
   "execution_count": 32,
   "id": "e4f93a0a",
   "metadata": {},
   "outputs": [
    {
     "name": "stdout",
     "output_type": "stream",
     "text": [
      "testing data MAE is  4.4207035890767274\n",
      "testing data MAE is  38.529215973867494\n"
     ]
    }
   ],
   "source": [
    "print('testing data MAE is ', np.nanmean(test_error_MAE))\n",
    "print('testing data MAE is ', np.nanmean(test_error_MSE))"
   ]
  },
  {
   "cell_type": "markdown",
   "id": "3d9d50f9",
   "metadata": {},
   "source": [
    "## loss = MSE"
   ]
  },
  {
   "cell_type": "code",
   "execution_count": 33,
   "id": "68e4afdc",
   "metadata": {},
   "outputs": [],
   "source": [
    "class CNN(pl.LightningModule):\n",
    "    def __init__(self):\n",
    "        super().__init__()\n",
    "        self.layer1 = nn.Conv1d(1 , 32 , 2)\n",
    "        self.act1 = nn.ReLU()\n",
    "        self.layer2 = nn.Conv1d(32 , 32 , 2)\n",
    "        self.act2 = nn.ReLU()\n",
    "        self.layer3 = nn.Conv1d(32, 32 , 2)\n",
    "        self.act3 = nn.ReLU()\n",
    "        self.layer4 = nn.Conv1d(32 , 32 , 2)\n",
    "        self.act4 = nn.ReLU()\n",
    "        self.layer5 = nn.Conv1d(32 , 32 , 2)\n",
    "        self.act5 = nn.ReLU()\n",
    "        self.fl = nn.Flatten()\n",
    "        self.fc1 = nn.Linear(91*32,264)\n",
    "        self.fc2 = nn.Linear(264,72)\n",
    "    \n",
    "    def forward(self, x): \n",
    "        ouput = torch.unsqueeze(x,1)\n",
    "        ouput = self.act1(self.layer1(ouput))\n",
    "        ouput = self.act2(self.layer2(ouput))\n",
    "        ouput = self.act3(self.layer3(ouput))\n",
    "        ouput = self.act4(self.layer4(ouput))\n",
    "        ouput = self.act5(self.layer5(ouput))\n",
    "        ouput = self.fl(ouput)\n",
    "        ouput = self.fc1(ouput)\n",
    "        ouput = self.fc2(ouput)\n",
    "        return ouput\n",
    "\n",
    "    def configure_optimizers(self): \n",
    "        return optim.Adam(self.parameters(), lr=1e-4) \n",
    "\n",
    "    def prepare_data(self): \n",
    "        self.train_set = Data.TensorDataset(x_train , y_train) \n",
    "        self.test_set = Data.TensorDataset(x_test, y_test)\n",
    "        self.val_set = Data.TensorDataset(x_val, y_val)\n",
    "\n",
    "    def train_dataloader(self):\n",
    "        return Data.DataLoader(dataset=self.train_set , batch_size=540 , shuffle=True)\n",
    "\n",
    "    def test_dataloader(self):\n",
    "        return Data.DataLoader(dataset=self.test_set , batch_size=61 , shuffle=False)\n",
    "\n",
    "    def val_dataloader(self):\n",
    "        return Data.DataLoader(dataset=self.val_set , batch_size=61 , shuffle=False)\n",
    "\n",
    "    def training_step(self, batch, batch_idx): \n",
    "        x, y = batch \n",
    "        output  = self.forward(x)\n",
    "        loss = nn.MSELoss(reduction='mean')(output, y)\n",
    "        mae = nn.L1Loss(reduction='mean')(output, y)\n",
    "        mse = nn.MSELoss(reduction='mean')(output, y)\n",
    "        self.log(\"train_loss\", loss)\n",
    "        self.log(\"MAE\", mae)\n",
    "        self.log(\"MSE\", mse)\n",
    "        return {'loss' : loss}\n",
    "\n",
    "    def test_step(self, batch, batch_idx):\n",
    "        x, y = batch \n",
    "        output  = self.forward(x)\n",
    "        loss = nn.MSELoss(reduction='mean')(output, y)\n",
    "        mae = nn.L1Loss(reduction='mean')(output, y)\n",
    "        mse = nn.MSELoss(reduction='mean')(output, y)\n",
    "        self.log(\"train_loss\", loss)\n",
    "        self.log(\"MAE\", mae)\n",
    "        self.log(\"MSE\", mse)\n",
    "        return {'loss' : loss}\n",
    "\n",
    "    def validation_step(self, batch, batch_idx):\n",
    "        x, y = batch \n",
    "        output  = self.forward(x)\n",
    "        loss = nn.MSELoss(reduction='mean')(output, y)\n",
    "        mae = nn.L1Loss(reduction='mean')(output, y)\n",
    "        mse = nn.MSELoss(reduction='mean')(output, y)\n",
    "        self.log(\"train_loss\", loss)\n",
    "        self.log(\"MAE\", mae)\n",
    "        self.log(\"MSE\", mse)\n",
    "        return {'loss' : loss}"
   ]
  },
  {
   "cell_type": "code",
   "execution_count": null,
   "id": "96bb1749",
   "metadata": {},
   "outputs": [],
   "source": [
    "for i in range (0,71):\n",
    "    x_train = torch.from_numpy(Xhat_train_n[i]).float()\n",
    "    y_train = torch.from_numpy(Yhat_train_n[i]).float()\n",
    "    x_test = torch.from_numpy(Xhat_test_n[i]).float()\n",
    "    y_test = torch.from_numpy(Yhat_test_n[i]).float()\n",
    "    x_val = torch.from_numpy(Xhat_val[i]).float()\n",
    "    y_val = torch.from_numpy(Yhat_val[i]).float()\n",
    "    \n",
    "    logger = CSVLogger(\"CNN Model\", name=\"CNN_96hr_MSE\")\n",
    "    model = CNN() \n",
    "    trainer = pl.Trainer(max_epochs=500 , gpus=1 , logger=logger)\n",
    "    trainer.fit(model)\n",
    "    trainer.test(model)"
   ]
  },
  {
   "cell_type": "code",
   "execution_count": 34,
   "id": "508ef930",
   "metadata": {},
   "outputs": [],
   "source": [
    "test_error_MAE = np.zeros(71)\n",
    "test_error_MSE = np.zeros(71)\n",
    "for i in range (0,71):\n",
    "    df = pd.read_csv(\"/home/luhung3080/Desktop/PycharmProjects/NCHUproject/Transformer/CNN Model/CNN_96hr_MSE/version_\"+str(i)+\"/metrics.csv\")\n",
    "    s1 = np.array(df['MAE'].fillna(100))\n",
    "    s2 = np.array(df['MSE'].fillna(100))\n",
    "    test_error_MAE[i] = np.min(s1)\n",
    "    test_error_MSE[i] = np.min(s2)"
   ]
  },
  {
   "cell_type": "code",
   "execution_count": 35,
   "id": "81363ed6",
   "metadata": {},
   "outputs": [
    {
     "data": {
      "image/png": "[encoded data removed]",
      "text/plain": [
       "<Figure size 432x288 with 1 Axes>"
      ]
     },
     "metadata": {
      "needs_background": "light"
     },
     "output_type": "display_data"
    }
   ],
   "source": [
    "m = np.nanmean(test_error_MAE)*np.ones(71)\n",
    "fig1 = plt.figure(1)\n",
    "x=np.linspace(1,71,71)\n",
    "plt.plot(x,test_error_MAE, label = 'statione MAE')\n",
    "plt.plot(x,m, label = 'mean MAE')\n",
    "plt.legend(loc = 2)\n",
    "\n",
    "plt.show()"
   ]
  },
  {
   "cell_type": "code",
   "execution_count": 36,
   "id": "1c08727e",
   "metadata": {},
   "outputs": [
    {
     "data": {
      "image/png": "[encoded data removed]",
      "text/plain": [
       "<Figure size 432x288 with 1 Axes>"
      ]
     },
     "metadata": {
      "needs_background": "light"
     },
     "output_type": "display_data"
    }
   ],
   "source": [
    "m = np.nanmean(test_error_MSE)*np.ones(71)\n",
    "fig1 = plt.figure(1)\n",
    "x=np.linspace(1,71,71)\n",
    "plt.plot(x,test_error_MSE, label = 'statione MSE')\n",
    "plt.plot(x,m, label = 'mean MSE')\n",
    "plt.legend(loc = 2)\n",
    "\n",
    "plt.show()"
   ]
  },
  {
   "cell_type": "code",
   "execution_count": 37,
   "id": "8556936b",
   "metadata": {},
   "outputs": [
    {
     "name": "stdout",
     "output_type": "stream",
     "text": [
      "testing data MAE is  4.629478179233175\n",
      "testing data MAE is  40.4545639870872\n"
     ]
    }
   ],
   "source": [
    "print('testing data MAE is ', np.nanmean(test_error_MAE))\n",
    "print('testing data MAE is ', np.nanmean(test_error_MSE))"
   ]
  },
  {
   "cell_type": "markdown",
   "id": "50bf85eb",
   "metadata": {},
   "source": [
    "## loss = Huber loss"
   ]
  },
  {
   "cell_type": "code",
   "execution_count": 38,
   "id": "f6a4002a",
   "metadata": {},
   "outputs": [],
   "source": [
    "class CNN(pl.LightningModule):\n",
    "    def __init__(self):\n",
    "        super().__init__()\n",
    "        self.layer1 = nn.Conv1d(1 , 32 , 2)\n",
    "        self.act1 = nn.ReLU()\n",
    "        self.layer2 = nn.Conv1d(32 , 32 , 2)\n",
    "        self.act2 = nn.ReLU()\n",
    "        self.layer3 = nn.Conv1d(32, 32 , 2)\n",
    "        self.act3 = nn.ReLU()\n",
    "        self.layer4 = nn.Conv1d(32 , 32 , 2)\n",
    "        self.act4 = nn.ReLU()\n",
    "        self.layer5 = nn.Conv1d(32 , 32 , 2)\n",
    "        self.act5 = nn.ReLU()\n",
    "        self.fl = nn.Flatten()\n",
    "        self.fc1 = nn.Linear(91*32,264)\n",
    "        self.fc2 = nn.Linear(264,72)\n",
    "    \n",
    "    def forward(self, x): \n",
    "        ouput = torch.unsqueeze(x,1)\n",
    "        ouput = self.act1(self.layer1(ouput))\n",
    "        ouput = self.act2(self.layer2(ouput))\n",
    "        ouput = self.act3(self.layer3(ouput))\n",
    "        ouput = self.act4(self.layer4(ouput))\n",
    "        ouput = self.act5(self.layer5(ouput))\n",
    "        ouput = self.fl(ouput)\n",
    "        ouput = self.fc1(ouput)\n",
    "        ouput = self.fc2(ouput)\n",
    "        return ouput\n",
    "\n",
    "    def configure_optimizers(self): \n",
    "        return optim.Adam(self.parameters(), lr=1e-4) \n",
    "\n",
    "    def prepare_data(self): \n",
    "        self.train_set = Data.TensorDataset(x_train , y_train) \n",
    "        self.test_set = Data.TensorDataset(x_test, y_test)\n",
    "        self.val_set = Data.TensorDataset(x_val, y_val)\n",
    "\n",
    "    def train_dataloader(self):\n",
    "        return Data.DataLoader(dataset=self.train_set , batch_size=540 , shuffle=True)\n",
    "\n",
    "    def test_dataloader(self):\n",
    "        return Data.DataLoader(dataset=self.test_set , batch_size=61 , shuffle=False)\n",
    "\n",
    "    def val_dataloader(self):\n",
    "        return Data.DataLoader(dataset=self.val_set , batch_size=61 , shuffle=False)\n",
    "\n",
    "    def training_step(self, batch, batch_idx): \n",
    "        x, y = batch \n",
    "        output  = self.forward(x)\n",
    "        loss = nn.HuberLoss(reduction='mean')(output, y)\n",
    "        mae = nn.L1Loss(reduction='mean')(output, y)\n",
    "        mse = nn.MSELoss(reduction='mean')(output, y)\n",
    "        self.log(\"train_loss\", loss)\n",
    "        self.log(\"MAE\", mae)\n",
    "        self.log(\"MSE\", mse)\n",
    "        return {'loss' : loss}\n",
    "\n",
    "    def test_step(self, batch, batch_idx):\n",
    "        x, y = batch \n",
    "        output  = self.forward(x)\n",
    "        loss = nn.HuberLoss(reduction='mean')(output, y)\n",
    "        mae = nn.L1Loss(reduction='mean')(output, y)\n",
    "        mse = nn.MSELoss(reduction='mean')(output, y)\n",
    "        self.log(\"train_loss\", loss)\n",
    "        self.log(\"MAE\", mae)\n",
    "        self.log(\"MSE\", mse)\n",
    "        return {'loss' : loss}\n",
    "\n",
    "    def validation_step(self, batch, batch_idx):\n",
    "        x, y = batch \n",
    "        output  = self.forward(x)\n",
    "        loss = nn.HuberLoss(reduction='mean')(output, y)\n",
    "        mae = nn.L1Loss(reduction='mean')(output, y)\n",
    "        mse = nn.MSELoss(reduction='mean')(output, y)\n",
    "        self.log(\"train_loss\", loss)\n",
    "        self.log(\"MAE\", mae)\n",
    "        self.log(\"MSE\", mse)\n",
    "        return {'loss' : loss}"
   ]
  },
  {
   "cell_type": "code",
   "execution_count": null,
   "id": "9a3338e4",
   "metadata": {},
   "outputs": [],
   "source": [
    "for i in range (0,71):\n",
    "    x_train = torch.from_numpy(Xhat_train_n[i]).float()\n",
    "    y_train = torch.from_numpy(Yhat_train_n[i]).float()\n",
    "    x_test = torch.from_numpy(Xhat_test_n[i]).float()\n",
    "    y_test = torch.from_numpy(Yhat_test_n[i]).float()\n",
    "    x_val = torch.from_numpy(Xhat_val[i]).float()\n",
    "    y_val = torch.from_numpy(Yhat_val[i]).float()\n",
    "    \n",
    "    logger = CSVLogger(\"CNN Model\", name=\"CNN_96hr_Huber\")\n",
    "    model = CNN() \n",
    "    trainer = pl.Trainer(max_epochs=500 , gpus=1 , logger=logger)\n",
    "    trainer.fit(model)\n",
    "    trainer.test(model)"
   ]
  },
  {
   "cell_type": "code",
   "execution_count": 39,
   "id": "ceba7963",
   "metadata": {},
   "outputs": [],
   "source": [
    "test_error_MAE = np.zeros(71)\n",
    "test_error_MSE = np.zeros(71)\n",
    "for i in range (0,71):\n",
    "    df = pd.read_csv(\"/home/luhung3080/Desktop/PycharmProjects/NCHUproject/Transformer/CNN Model/CNN_96hr_Huber/version_\"+str(i)+\"/metrics.csv\")\n",
    "    s1 = np.array(df['MAE'].fillna(100))\n",
    "    s2 = np.array(df['MSE'].fillna(100))\n",
    "    test_error_MAE[i] = np.min(s1)\n",
    "    test_error_MSE[i] = np.min(s2)"
   ]
  },
  {
   "cell_type": "code",
   "execution_count": 40,
   "id": "1bece038",
   "metadata": {},
   "outputs": [
    {
     "data": {
      "image/png": "[encoded data removed]",
      "text/plain": [
       "<Figure size 432x288 with 1 Axes>"
      ]
     },
     "metadata": {
      "needs_background": "light"
     },
     "output_type": "display_data"
    }
   ],
   "source": [
    "m = np.nanmean(test_error_MAE)*np.ones(71)\n",
    "fig1 = plt.figure(1)\n",
    "x=np.linspace(1,71,71)\n",
    "plt.plot(x,test_error_MAE, label = 'statione MAE')\n",
    "plt.plot(x,m, label = 'mean MAE')\n",
    "plt.legend(loc = 2)\n",
    "\n",
    "plt.show()"
   ]
  },
  {
   "cell_type": "code",
   "execution_count": 41,
   "id": "4af45a76",
   "metadata": {},
   "outputs": [
    {
     "data": {
      "image/png": "[encoded data removed]",
      "text/plain": [
       "<Figure size 432x288 with 1 Axes>"
      ]
     },
     "metadata": {
      "needs_background": "light"
     },
     "output_type": "display_data"
    }
   ],
   "source": [
    "m = np.nanmean(test_error_MSE)*np.ones(71)\n",
    "fig1 = plt.figure(1)\n",
    "x=np.linspace(1,71,71)\n",
    "plt.plot(x,test_error_MSE, label = 'statione MSE')\n",
    "plt.plot(x,m, label = 'mean MSE')\n",
    "plt.legend(loc = 2)\n",
    "\n",
    "plt.show()"
   ]
  },
  {
   "cell_type": "code",
   "execution_count": 42,
   "id": "b26d0f9a",
   "metadata": {},
   "outputs": [
    {
     "name": "stdout",
     "output_type": "stream",
     "text": [
      "testing data MAE is  4.392776116518907\n",
      "testing data MAE is  38.42727427415445\n"
     ]
    }
   ],
   "source": [
    "print('testing data MAE is ', np.nanmean(test_error_MAE))\n",
    "print('testing data MAE is ', np.nanmean(test_error_MSE))"
   ]
  },
  {
   "cell_type": "markdown",
   "id": "d0c994f2",
   "metadata": {},
   "source": [
    "# Transformer Model"
   ]
  },
  {
   "cell_type": "code",
   "execution_count": null,
   "id": "3ef7d652",
   "metadata": {},
   "outputs": [],
   "source": [
    "Xhat_train_n = np.zeros([71,540,96])\n",
    "Yhat_train_n = np.zeros([71,540,72])\n",
    "Xhat_test_n = np.zeros([71,61,96])\n",
    "Yhat_test_n = np.zeros([71,61,72])\n",
    "for i in range (0,71):\n",
    "    for j in range (0,540):\n",
    "        for k in range (0,24):\n",
    "            Xhat_train_n[i][j][k] = Xhat_train[j][24*i+k]\n",
    "        for k in range (0,72):\n",
    "            Xhat_train_n[i][j][k+24] = Xhat_train[j][1704+(72*i)+k]\n",
    "            Yhat_train_n[i][j][k] = Yhat_train[j][(72*i)+k]\n",
    "    for j in range (0,61):\n",
    "        for k in range (0,24):\n",
    "            Xhat_test_n[i][j][k] = Xhat_test[j][24*i+k]\n",
    "        for k in range (0,72):\n",
    "            Xhat_test_n[i][j][k+24] = Xhat_test[j][1704+(72*i)+k]\n",
    "            Yhat_test_n[i][j][k] = Yhat_test[j][(72*i)+k]\n",
    "print('Xhat_train')\n",
    "print(np.shape(Xhat_train_n))\n",
    "print('Yhat_train')\n",
    "print(np.shape(Yhat_train_n))\n",
    "print('Xhat_test')\n",
    "print(np.shape(Xhat_test_n))\n",
    "print('Yhat_test')\n",
    "print(np.shape(Yhat_test_n))\n",
    "Xhat_val_n=Xhat_test_n\n",
    "Yhat_val_n=Yhat_test_n\n",
    "print('Xhat_val')\n",
    "print(np.shape(Xhat_val_n))\n",
    "print('Yhat_val')\n",
    "print(np.shape(Yhat_val_n))"
   ]
  },
  {
   "cell_type": "code",
   "execution_count": null,
   "id": "b1da8833",
   "metadata": {},
   "outputs": [],
   "source": [
    "# Xhat_train_n0 = np.zeros([71, 540, 168])\n",
    "Xhat_val_n0 = np.zeros([71, 61, 168])\n",
    "Xhat_test_n0 = np.zeros([71, 61, 168])\n",
    "for k in range(0,71):\n",
    "    for i in range (0,540):\n",
    "        for j in range (0,96):\n",
    "            Xhat_train_n0[k][i][j] = Xhat_train_n[k][i][j]\n",
    "        for j in range (96,168):\n",
    "            Xhat_train_n0[k][i][j] = Yhat_train_n[k][i][j-96]\n",
    "for k in range(0,71):\n",
    "    for i in range (0,61):\n",
    "        for j in range (0,96):\n",
    "            Xhat_val_n0[k][i][j] = Xhat_val_n[k][i][j]\n",
    "        for j in range (96,168):\n",
    "            Xhat_val_n0[k][i][j] = Yhat_val_n[k][i][j-96]\n",
    "for k in range(0,71):\n",
    "    for i in range (0,61):\n",
    "        for j in range (0,96):\n",
    "            Xhat_test_n0[k][i][j] = Xhat_test_n[k][i][j]\n",
    "        for j in range (96,168):\n",
    "            Xhat_test_n0[k][i][j] = Yhat_test_n[k][i][j-96]\n",
    "print('Xhat_train')\n",
    "print(np.shape(Xhat_train_n0))\n",
    "print('Yhat_train')\n",
    "print(np.shape(Yhat_train_n))\n",
    "print('Xhat_test')\n",
    "print(np.shape(Xhat_test_n0))\n",
    "print('Yhat_test')\n",
    "print(np.shape(Yhat_test_n))\n",
    "print('Xhat_val')\n",
    "print(np.shape(Xhat_val_n0))\n",
    "print('Yhat_val')\n",
    "print(np.shape(Yhat_val_n))"
   ]
  },
  {
   "cell_type": "markdown",
   "id": "86283b35",
   "metadata": {},
   "source": [
    "## loss = MAE"
   ]
  },
  {
   "cell_type": "code",
   "execution_count": null,
   "id": "1f6b4c46",
   "metadata": {},
   "outputs": [],
   "source": [
    "class Transformer(pl.LightningModule): \n",
    "    def __init__(self):\n",
    "        super().__init__()\n",
    "        self.layer1 = nn.Linear(96,72)\n",
    "        self.layer2 = nn.Transformer(d_model=72, nhead=72)\n",
    "    \n",
    "    def forward(self, x):\n",
    "        ouput = self.layer1(x[:,:96])\n",
    "        ouput = self.layer2(ouput, x[:,96:]) \n",
    "        return ouput\n",
    "\n",
    "    def configure_optimizers(self): \n",
    "        return optim.Adam(self.parameters(), lr=1e-2) \n",
    "\n",
    "    def prepare_data(self): \n",
    "        self.train_set = Data.TensorDataset(x_train , y_train) \n",
    "        self.test_set = Data.TensorDataset(x_test, y_test)\n",
    "        self.val_set = Data.TensorDataset(x_val, y_val)\n",
    "\n",
    "    def train_dataloader(self):\n",
    "        return Data.DataLoader(dataset=self.train_set , batch_size=540 , shuffle=True)\n",
    "\n",
    "    def test_dataloader(self):\n",
    "        return Data.DataLoader(dataset=self.test_set , batch_size=61 , shuffle=False)\n",
    "\n",
    "    def val_dataloader(self):\n",
    "        return Data.DataLoader(dataset=self.val_set , batch_size=61 , shuffle=False)\n",
    "\n",
    "    def training_step(self, batch, batch_idx): \n",
    "        x, y = batch \n",
    "        output  = self.forward(x)\n",
    "        loss = nn.L1Loss(reduction='mean')(output, y)\n",
    "        mae = nn.L1Loss(reduction='mean')(output, y)\n",
    "        mse = nn.MSELoss(reduction='mean')(output, y)\n",
    "        self.log(\"train_loss\", loss)\n",
    "        self.log(\"MAE\", mae)\n",
    "        self.log(\"MSE\", mse)\n",
    "        return {'loss' : loss}\n",
    "\n",
    "    def test_step(self, batch, batch_idx): \n",
    "        x, y = batch \n",
    "        output  = self.forward(x)\n",
    "        loss = nn.L1Loss(reduction='mean')(output, y)\n",
    "        mae = nn.L1Loss(reduction='mean')(output, y)\n",
    "        mse = nn.MSELoss(reduction='mean')(output, y)\n",
    "        self.log(\"train_loss\", loss)\n",
    "        self.log(\"MAE\", mae)\n",
    "        self.log(\"MSE\", mse)\n",
    "        return {'loss' : loss}\n",
    "\n",
    "\n",
    "    def validation_step(self, batch, batch_idx): \n",
    "        x, y = batch \n",
    "        output  = self.forward(x)\n",
    "        loss = nn.L1Loss(reduction='mean')(output, y)\n",
    "        mae = nn.L1Loss(reduction='mean')(output, y)\n",
    "        mse = nn.MSELoss(reduction='mean')(output, y)\n",
    "        self.log(\"train_loss\", loss)\n",
    "        self.log(\"MAE\", mae)\n",
    "        self.log(\"MSE\", mse)\n",
    "        return {'loss' : loss}"
   ]
  },
  {
   "cell_type": "code",
   "execution_count": null,
   "id": "70f6c9de",
   "metadata": {},
   "outputs": [],
   "source": [
    "for i in range (0,71):\n",
    "    x_train = torch.from_numpy(Xhat_train_n0[i]).float()\n",
    "    y_train = torch.from_numpy(Yhat_train_n[i]).float()\n",
    "    x_test = torch.from_numpy(Xhat_test_n0[i]).float()\n",
    "    y_test = torch.from_numpy(Yhat_test_n[i]).float()\n",
    "    x_val = torch.from_numpy(Xhat_val_n0[i]).float()\n",
    "    y_val = torch.from_numpy(Yhat_val_n[i]).float()\n",
    "    \n",
    "    logger = CSVLogger(\"Transformer Model\", name=\"Transformer_96hr_MAE\")\n",
    "    model = Transformer() \n",
    "    trainer = pl.Trainer(max_epochs=1500 , gpus=1 , logger=logger)\n",
    "    trainer.fit(model)\n",
    "    trainer.test(model)"
   ]
  },
  {
   "cell_type": "code",
   "execution_count": null,
   "id": "5aa25a48",
   "metadata": {},
   "outputs": [],
   "source": [
    "test_error_MAE = np.zeros(71)\n",
    "test_error_MSE = np.zeros(71)\n",
    "for i in range (0,71):\n",
    "    df = pd.read_csv(\"/home/luhung3080/Desktop/PycharmProjects/NCHUproject/Transformer/Transformer Model/Transformer_96hr_MAE/version_\"+str(i)+\"/metrics.csv\")\n",
    "    s1 = np.array(df['MAE'].fillna(100))\n",
    "    s2 = np.array(df['MSE'].fillna(100))\n",
    "    test_error_MAE[i] = np.min(s1)\n",
    "    test_error_MSE[i] = np.min(s2)"
   ]
  },
  {
   "cell_type": "code",
   "execution_count": null,
   "id": "ad41012e",
   "metadata": {},
   "outputs": [],
   "source": [
    "m = np.nanmean(test_error_MAE)*np.ones(71)\n",
    "fig1 = plt.figure(1)\n",
    "x=np.linspace(1,71,71)\n",
    "plt.plot(x,test_error_MAE, label = 'statione MAE')\n",
    "plt.plot(x,m, label = 'mean MAE')\n",
    "plt.legend(loc = 2)\n",
    "\n",
    "plt.show()"
   ]
  },
  {
   "cell_type": "code",
   "execution_count": null,
   "id": "54a9ca5d",
   "metadata": {},
   "outputs": [],
   "source": [
    "m = np.nanmean(test_error_MSE)*np.ones(71)\n",
    "fig1 = plt.figure(1)\n",
    "x=np.linspace(1,71,71)\n",
    "plt.plot(x,test_error_MSE, label = 'statione MSE')\n",
    "plt.plot(x,m, label = 'mean MSE')\n",
    "plt.legend(loc = 2)\n",
    "\n",
    "plt.show()"
   ]
  },
  {
   "cell_type": "code",
   "execution_count": null,
   "id": "db947182",
   "metadata": {},
   "outputs": [],
   "source": [
    "print('testing data MAE is ', np.nanmean(test_error_MAE))\n",
    "print('testing data MAE is ', np.nanmean(test_error_MSE))"
   ]
  },
  {
   "cell_type": "markdown",
   "id": "3d9d0e9a",
   "metadata": {},
   "source": [
    "## loss = MSE"
   ]
  },
  {
   "cell_type": "code",
   "execution_count": null,
   "id": "6e1aec55",
   "metadata": {},
   "outputs": [],
   "source": [
    "class Transformer(pl.LightningModule): \n",
    "    def __init__(self):\n",
    "        super().__init__()\n",
    "        self.layer1 = nn.Linear(96,72)\n",
    "        self.layer2 = nn.Transformer(d_model=72, nhead=72)\n",
    "    \n",
    "    def forward(self, x):\n",
    "        ouput = self.layer1(x[:,:96])\n",
    "        ouput = self.layer2(ouput, x[:,96:]) \n",
    "        return ouput\n",
    "\n",
    "    def configure_optimizers(self): \n",
    "        return optim.Adam(self.parameters(), lr=1e-2) \n",
    "\n",
    "    def prepare_data(self): \n",
    "        self.train_set = Data.TensorDataset(x_train , y_train) \n",
    "        self.test_set = Data.TensorDataset(x_test, y_test)\n",
    "        self.val_set = Data.TensorDataset(x_val, y_val)\n",
    "\n",
    "    def train_dataloader(self):\n",
    "        return Data.DataLoader(dataset=self.train_set , batch_size=540 , shuffle=True)\n",
    "\n",
    "    def test_dataloader(self):\n",
    "        return Data.DataLoader(dataset=self.test_set , batch_size=61 , shuffle=False)\n",
    "\n",
    "    def val_dataloader(self):\n",
    "        return Data.DataLoader(dataset=self.val_set , batch_size=61 , shuffle=False)\n",
    "\n",
    "    def training_step(self, batch, batch_idx): \n",
    "        x, y = batch \n",
    "        output  = self.forward(x)\n",
    "        loss = nn.MSELoss(reduction='mean')(output, y)\n",
    "        mae = nn.L1Loss(reduction='mean')(output, y)\n",
    "        mse = nn.MSELoss(reduction='mean')(output, y)\n",
    "        self.log(\"train_loss\", loss)\n",
    "        self.log(\"MAE\", mae)\n",
    "        self.log(\"MSE\", mse)\n",
    "        return {'loss' : loss}\n",
    "\n",
    "    def test_step(self, batch, batch_idx): \n",
    "        x, y = batch \n",
    "        output  = self.forward(x)\n",
    "        loss = nn.MSELoss(reduction='mean')(output, y)\n",
    "        mae = nn.L1Loss(reduction='mean')(output, y)\n",
    "        mse = nn.MSELoss(reduction='mean')(output, y)\n",
    "        self.log(\"train_loss\", loss)\n",
    "        self.log(\"MAE\", mae)\n",
    "        self.log(\"MSE\", mse)\n",
    "        return {'loss' : loss}\n",
    "\n",
    "\n",
    "    def validation_step(self, batch, batch_idx): \n",
    "        x, y = batch \n",
    "        output  = self.forward(x)\n",
    "        loss = nn.MSELoss(reduction='mean')(output, y)\n",
    "        mae = nn.L1Loss(reduction='mean')(output, y)\n",
    "        mse = nn.MSELoss(reduction='mean')(output, y)\n",
    "        self.log(\"train_loss\", loss)\n",
    "        self.log(\"MAE\", mae)\n",
    "        self.log(\"MSE\", mse)\n",
    "        return {'loss' : loss}"
   ]
  },
  {
   "cell_type": "code",
   "execution_count": null,
   "id": "72292c6e",
   "metadata": {},
   "outputs": [],
   "source": [
    "for i in range (0,71):\n",
    "    x_train = torch.from_numpy(Xhat_train_n0[i]).float()\n",
    "    y_train = torch.from_numpy(Yhat_train_n[i]).float()\n",
    "    x_test = torch.from_numpy(Xhat_test_n0[i]).float()\n",
    "    y_test = torch.from_numpy(Yhat_test_n[i]).float()\n",
    "    x_val = torch.from_numpy(Xhat_val_n0[i]).float()\n",
    "    y_val = torch.from_numpy(Yhat_val_n[i]).float()\n",
    "    \n",
    "    logger = CSVLogger(\"Transformer Model\", name=\"Transformer_96hr_MSE\")\n",
    "    model = Transformer() \n",
    "    trainer = pl.Trainer(max_epochs=1500 , gpus=1 , logger=logger)\n",
    "    trainer.fit(model)\n",
    "    trainer.test(model)"
   ]
  },
  {
   "cell_type": "code",
   "execution_count": null,
   "id": "b930c626",
   "metadata": {},
   "outputs": [],
   "source": [
    "test_error_MAE = np.zeros(71)\n",
    "test_error_MSE = np.zeros(71)\n",
    "for i in range (0,71):\n",
    "    df = pd.read_csv(\"/home/luhung3080/Desktop/PycharmProjects/NCHUproject/Transformer/Transformer Model/Transformer_96hr_MSE/version_\"+str(i)+\"/metrics.csv\")\n",
    "    s1 = np.array(df['MAE'].fillna(100))\n",
    "    s2 = np.array(df['MSE'].fillna(100))\n",
    "    test_error_MAE[i] = np.min(s1)\n",
    "    test_error_MSE[i] = np.min(s2)"
   ]
  },
  {
   "cell_type": "code",
   "execution_count": null,
   "id": "f4a387f1",
   "metadata": {},
   "outputs": [],
   "source": [
    "m = np.nanmean(test_error_MAE)*np.ones(71)\n",
    "fig1 = plt.figure(1)\n",
    "x=np.linspace(1,71,71)\n",
    "plt.plot(x,test_error_MAE, label = 'statione MAE')\n",
    "plt.plot(x,m, label = 'mean MAE')\n",
    "plt.legend(loc = 2)\n",
    "\n",
    "plt.show()"
   ]
  },
  {
   "cell_type": "code",
   "execution_count": null,
   "id": "0d1c2752",
   "metadata": {},
   "outputs": [],
   "source": [
    "m = np.nanmean(test_error_MSE)*np.ones(71)\n",
    "fig1 = plt.figure(1)\n",
    "x=np.linspace(1,71,71)\n",
    "plt.plot(x,test_error_MSE, label = 'statione MSE')\n",
    "plt.plot(x,m, label = 'mean MSE')\n",
    "plt.legend(loc = 2)\n",
    "\n",
    "plt.show()"
   ]
  },
  {
   "cell_type": "code",
   "execution_count": null,
   "id": "b5c5464d",
   "metadata": {},
   "outputs": [],
   "source": [
    "print('testing data MAE is ', np.nanmean(test_error_MAE))\n",
    "print('testing data MAE is ', np.nanmean(test_error_MSE))"
   ]
  },
  {
   "cell_type": "markdown",
   "id": "7a4d35a9",
   "metadata": {},
   "source": [
    "## loss = Huber loss"
   ]
  },
  {
   "cell_type": "code",
   "execution_count": null,
   "id": "f2efb272",
   "metadata": {},
   "outputs": [],
   "source": [
    "class Transformer(pl.LightningModule): \n",
    "    def __init__(self):\n",
    "        super().__init__()\n",
    "        self.layer1 = nn.Linear(96,72)\n",
    "        self.layer2 = nn.Transformer(d_model=72, nhead=72)\n",
    "    \n",
    "    def forward(self, x):\n",
    "        ouput = self.layer1(x[:,:96])\n",
    "        ouput = self.layer2(ouput, x[:,96:]) \n",
    "        return ouput\n",
    "\n",
    "    def configure_optimizers(self): \n",
    "        return optim.Adam(self.parameters(), lr=1e-2) \n",
    "\n",
    "    def prepare_data(self): \n",
    "        self.train_set = Data.TensorDataset(x_train , y_train) \n",
    "        self.test_set = Data.TensorDataset(x_test, y_test)\n",
    "        self.val_set = Data.TensorDataset(x_val, y_val)\n",
    "\n",
    "    def train_dataloader(self):\n",
    "        return Data.DataLoader(dataset=self.train_set , batch_size=540 , shuffle=True)\n",
    "\n",
    "    def test_dataloader(self):\n",
    "        return Data.DataLoader(dataset=self.test_set , batch_size=61 , shuffle=False)\n",
    "\n",
    "    def val_dataloader(self):\n",
    "        return Data.DataLoader(dataset=self.val_set , batch_size=61 , shuffle=False)\n",
    "\n",
    "    def training_step(self, batch, batch_idx): \n",
    "        x, y = batch \n",
    "        output  = self.forward(x)\n",
    "        loss = nn.HuberLoss(reduction='mean')(output, y)\n",
    "        mae = nn.L1Loss(reduction='mean')(output, y)\n",
    "        mse = nn.MSELoss(reduction='mean')(output, y)\n",
    "        self.log(\"train_loss\", loss)\n",
    "        self.log(\"MAE\", mae)\n",
    "        self.log(\"MSE\", mse)\n",
    "        return {'loss' : loss}\n",
    "\n",
    "    def test_step(self, batch, batch_idx): \n",
    "        x, y = batch \n",
    "        output  = self.forward(x)\n",
    "        loss = nn.HuberLoss(reduction='mean')(output, y)\n",
    "        mae = nn.L1Loss(reduction='mean')(output, y)\n",
    "        mse = nn.MSELoss(reduction='mean')(output, y)\n",
    "        self.log(\"train_loss\", loss)\n",
    "        self.log(\"MAE\", mae)\n",
    "        self.log(\"MSE\", mse)\n",
    "        return {'loss' : loss}\n",
    "\n",
    "\n",
    "    def validation_step(self, batch, batch_idx): \n",
    "        x, y = batch \n",
    "        output  = self.forward(x)\n",
    "        loss = nn.HuberLoss(reduction='mean')(output, y)\n",
    "        mae = nn.L1Loss(reduction='mean')(output, y)\n",
    "        mse = nn.MSELoss(reduction='mean')(output, y)\n",
    "        self.log(\"train_loss\", loss)\n",
    "        self.log(\"MAE\", mae)\n",
    "        self.log(\"MSE\", mse)\n",
    "        return {'loss' : loss}"
   ]
  },
  {
   "cell_type": "code",
   "execution_count": null,
   "id": "c7e8562e",
   "metadata": {},
   "outputs": [],
   "source": [
    "for i in range (0,71):\n",
    "    x_train = torch.from_numpy(Xhat_train_n0[i]).float()\n",
    "    y_train = torch.from_numpy(Yhat_train_n[i]).float()\n",
    "    x_test = torch.from_numpy(Xhat_test_n0[i]).float()\n",
    "    y_test = torch.from_numpy(Yhat_test_n[i]).float()\n",
    "    x_val = torch.from_numpy(Xhat_val_n0[i]).float()\n",
    "    y_val = torch.from_numpy(Yhat_val_n[i]).float()\n",
    "    \n",
    "    logger = CSVLogger(\"Transformer Model\", name=\"Transformer_96hr_Huber\")\n",
    "    model = Transformer() \n",
    "    trainer = pl.Trainer(max_epochs=1500 , gpus=1 , logger=logger)\n",
    "    trainer.fit(model)\n",
    "    trainer.test(model)"
   ]
  },
  {
   "cell_type": "code",
   "execution_count": null,
   "id": "cb71116e",
   "metadata": {},
   "outputs": [],
   "source": [
    "test_error_MAE = np.zeros(71)\n",
    "test_error_MSE = np.zeros(71)\n",
    "for i in range (0,71):\n",
    "    df = pd.read_csv(\"/home/luhung3080/Desktop/PycharmProjects/NCHUproject/Transformer/Transformer Model/Transformer_96hr_Huber/version_\"+str(i)+\"/metrics.csv\")\n",
    "    s1 = np.array(df['MAE'].fillna(100))\n",
    "    s2 = np.array(df['MSE'].fillna(100))\n",
    "    test_error_MAE[i] = np.min(s1)\n",
    "    test_error_MSE[i] = np.min(s2)"
   ]
  },
  {
   "cell_type": "code",
   "execution_count": null,
   "id": "125eb70b",
   "metadata": {},
   "outputs": [],
   "source": [
    "m = np.nanmean(test_error_MAE)*np.ones(71)\n",
    "fig1 = plt.figure(1)\n",
    "x=np.linspace(1,71,71)\n",
    "plt.plot(x,test_error_MAE, label = 'statione MAE')\n",
    "plt.plot(x,m, label = 'mean MAE')\n",
    "plt.legend(loc = 2)\n",
    "\n",
    "plt.show()"
   ]
  },
  {
   "cell_type": "code",
   "execution_count": null,
   "id": "f7b4d5ea",
   "metadata": {},
   "outputs": [],
   "source": [
    "m = np.nanmean(test_error_MSE)*np.ones(71)\n",
    "fig1 = plt.figure(1)\n",
    "x=np.linspace(1,71,71)\n",
    "plt.plot(x,test_error_MSE, label = 'statione MSE')\n",
    "plt.plot(x,m, label = 'mean MSE')\n",
    "plt.legend(loc = 2)\n",
    "\n",
    "plt.show()"
   ]
  },
  {
   "cell_type": "code",
   "execution_count": null,
   "id": "e762f854",
   "metadata": {},
   "outputs": [],
   "source": [
    "print('testing data MAE is ', np.nanmean(test_error_MAE))\n",
    "print('testing data MAE is ', np.nanmean(test_error_MSE))"
   ]
  },
  {
   "cell_type": "code",
   "execution_count": null,
   "id": "c2dbbd36",
   "metadata": {},
   "outputs": [],
   "source": []
  }
 ],
 "metadata": {
  "kernelspec": {
   "display_name": "chou",
   "language": "python",
   "name": "chou"
  },
  "language_info": {
   "codemirror_mode": {
    "name": "ipython",
    "version": 3
   },
   "file_extension": ".py",
   "mimetype": "text/x-python",
   "name": "python",
   "nbconvert_exporter": "python",
   "pygments_lexer": "ipython3",
   "version": "3.7.12"
  }
 },
 "nbformat": 4,
 "nbformat_minor": 5
}
