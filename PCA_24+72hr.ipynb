{
 "cells": [
  {
   "cell_type": "code",
   "execution_count": 85,
   "id": "cb76a51d",
   "metadata": {},
   "outputs": [
    {
     "name": "stdout",
     "output_type": "stream",
     "text": [
      "pytorch ver .  1.11.0+cu113\n",
      "Is CUDA available? True\n",
      "pynio ver .  1.5.5\n"
     ]
    }
   ],
   "source": [
    "import numpy as np\n",
    "import pandas as pd\n",
    "import matplotlib.pyplot as plt\n",
    "from sklearn.decomposition import PCA\n",
    "from sklearn.linear_model import LinearRegression\n",
    "import torch\n",
    "print(\"pytorch ver . \",torch.__version__)\n",
    "print(\"Is CUDA available?\",torch.cuda.is_available())\n",
    "import torch.nn as nn\n",
    "import torch.optim as optim\n",
    "from torch.utils.data import Dataset,DataLoader\n",
    "import torch.utils.data as Data\n",
    "import pytorch_lightning as pl\n",
    "from pytorch_lightning.loggers import TensorBoardLogger\n",
    "from pytorch_lightning.loggers import CSVLogger\n",
    "from pytorch_lightning.callbacks.early_stopping import EarlyStopping\n",
    "import xarray as xr\n",
    "import os\n",
    "os.environ['R_HOME'] = '/home/luhung3080/miniconda3/envs/chou/lib/R'\n",
    "from rpy2.robjects import r, numpy2ri\n",
    "numpy2ri.activate()\n",
    "from rpy2.robjects.packages import importr\n",
    "sinkr = importr('sinkr')\n",
    "import Nio\n",
    "print (\"pynio ver . \",Nio.__version__)"
   ]
  },
  {
   "cell_type": "markdown",
   "id": "0e2a74cf",
   "metadata": {},
   "source": [
    "# Y = b0 + b1X1 + b2X2"
   ]
  },
  {
   "cell_type": "markdown",
   "id": "306bb75e",
   "metadata": {},
   "source": [
    "## Data "
   ]
  },
  {
   "cell_type": "code",
   "execution_count": 86,
   "id": "16f1c5b5",
   "metadata": {
    "collapsed": true
   },
   "outputs": [
    {
     "data": {
      "text/html": [
       "<div>\n",
       "<style scoped>\n",
       "    .dataframe tbody tr th:only-of-type {\n",
       "        vertical-align: middle;\n",
       "    }\n",
       "\n",
       "    .dataframe tbody tr th {\n",
       "        vertical-align: top;\n",
       "    }\n",
       "\n",
       "    .dataframe thead th {\n",
       "        text-align: right;\n",
       "    }\n",
       "</style>\n",
       "<table border=\"1\" class=\"dataframe\">\n",
       "  <thead>\n",
       "    <tr style=\"text-align: right;\">\n",
       "      <th></th>\n",
       "      <th>SITE_ID</th>\n",
       "      <th>date</th>\n",
       "      <th>FCST_TIME</th>\n",
       "      <th>TAU</th>\n",
       "      <th>pm25_cal</th>\n",
       "      <th>pm25_obs</th>\n",
       "    </tr>\n",
       "  </thead>\n",
       "  <tbody>\n",
       "    <tr>\n",
       "      <th>0</th>\n",
       "      <td>EPA001</td>\n",
       "      <td>2020-02-24 08:00:00</td>\n",
       "      <td>2020-02-24 09:00:00</td>\n",
       "      <td>1</td>\n",
       "      <td>4.9510</td>\n",
       "      <td>10.0</td>\n",
       "    </tr>\n",
       "    <tr>\n",
       "      <th>1</th>\n",
       "      <td>EPA001</td>\n",
       "      <td>2020-02-24 08:00:00</td>\n",
       "      <td>2020-02-24 10:00:00</td>\n",
       "      <td>2</td>\n",
       "      <td>4.4674</td>\n",
       "      <td>13.0</td>\n",
       "    </tr>\n",
       "    <tr>\n",
       "      <th>2</th>\n",
       "      <td>EPA001</td>\n",
       "      <td>2020-02-24 08:00:00</td>\n",
       "      <td>2020-02-24 11:00:00</td>\n",
       "      <td>3</td>\n",
       "      <td>4.6159</td>\n",
       "      <td>11.0</td>\n",
       "    </tr>\n",
       "    <tr>\n",
       "      <th>3</th>\n",
       "      <td>EPA001</td>\n",
       "      <td>2020-02-24 08:00:00</td>\n",
       "      <td>2020-02-24 12:00:00</td>\n",
       "      <td>4</td>\n",
       "      <td>3.9937</td>\n",
       "      <td>11.0</td>\n",
       "    </tr>\n",
       "    <tr>\n",
       "      <th>4</th>\n",
       "      <td>EPA001</td>\n",
       "      <td>2020-02-24 08:00:00</td>\n",
       "      <td>2020-02-24 13:00:00</td>\n",
       "      <td>5</td>\n",
       "      <td>3.9602</td>\n",
       "      <td>9.0</td>\n",
       "    </tr>\n",
       "    <tr>\n",
       "      <th>...</th>\n",
       "      <td>...</td>\n",
       "      <td>...</td>\n",
       "      <td>...</td>\n",
       "      <td>...</td>\n",
       "      <td>...</td>\n",
       "      <td>...</td>\n",
       "    </tr>\n",
       "    <tr>\n",
       "      <th>3092755</th>\n",
       "      <td>EPA080</td>\n",
       "      <td>2021-10-30 08:00:00</td>\n",
       "      <td>2021-11-02 04:00:00</td>\n",
       "      <td>68</td>\n",
       "      <td>3.6190</td>\n",
       "      <td>4.0</td>\n",
       "    </tr>\n",
       "    <tr>\n",
       "      <th>3092756</th>\n",
       "      <td>EPA080</td>\n",
       "      <td>2021-10-30 08:00:00</td>\n",
       "      <td>2021-11-02 05:00:00</td>\n",
       "      <td>69</td>\n",
       "      <td>3.7908</td>\n",
       "      <td>7.0</td>\n",
       "    </tr>\n",
       "    <tr>\n",
       "      <th>3092757</th>\n",
       "      <td>EPA080</td>\n",
       "      <td>2021-10-30 08:00:00</td>\n",
       "      <td>2021-11-02 06:00:00</td>\n",
       "      <td>70</td>\n",
       "      <td>4.0454</td>\n",
       "      <td>7.0</td>\n",
       "    </tr>\n",
       "    <tr>\n",
       "      <th>3092758</th>\n",
       "      <td>EPA080</td>\n",
       "      <td>2021-10-30 08:00:00</td>\n",
       "      <td>2021-11-02 07:00:00</td>\n",
       "      <td>71</td>\n",
       "      <td>3.9015</td>\n",
       "      <td>4.0</td>\n",
       "    </tr>\n",
       "    <tr>\n",
       "      <th>3092759</th>\n",
       "      <td>EPA080</td>\n",
       "      <td>2021-10-30 08:00:00</td>\n",
       "      <td>2021-11-02 08:00:00</td>\n",
       "      <td>72</td>\n",
       "      <td>2.7468</td>\n",
       "      <td>4.0</td>\n",
       "    </tr>\n",
       "  </tbody>\n",
       "</table>\n",
       "<p>3092760 rows × 6 columns</p>\n",
       "</div>"
      ],
      "text/plain": [
       "        SITE_ID                 date            FCST_TIME  TAU  pm25_cal  \\\n",
       "0        EPA001  2020-02-24 08:00:00  2020-02-24 09:00:00    1    4.9510   \n",
       "1        EPA001  2020-02-24 08:00:00  2020-02-24 10:00:00    2    4.4674   \n",
       "2        EPA001  2020-02-24 08:00:00  2020-02-24 11:00:00    3    4.6159   \n",
       "3        EPA001  2020-02-24 08:00:00  2020-02-24 12:00:00    4    3.9937   \n",
       "4        EPA001  2020-02-24 08:00:00  2020-02-24 13:00:00    5    3.9602   \n",
       "...         ...                  ...                  ...  ...       ...   \n",
       "3092755  EPA080  2021-10-30 08:00:00  2021-11-02 04:00:00   68    3.6190   \n",
       "3092756  EPA080  2021-10-30 08:00:00  2021-11-02 05:00:00   69    3.7908   \n",
       "3092757  EPA080  2021-10-30 08:00:00  2021-11-02 06:00:00   70    4.0454   \n",
       "3092758  EPA080  2021-10-30 08:00:00  2021-11-02 07:00:00   71    3.9015   \n",
       "3092759  EPA080  2021-10-30 08:00:00  2021-11-02 08:00:00   72    2.7468   \n",
       "\n",
       "         pm25_obs  \n",
       "0            10.0  \n",
       "1            13.0  \n",
       "2            11.0  \n",
       "3            11.0  \n",
       "4             9.0  \n",
       "...           ...  \n",
       "3092755       4.0  \n",
       "3092756       7.0  \n",
       "3092757       7.0  \n",
       "3092758       4.0  \n",
       "3092759       4.0  \n",
       "\n",
       "[3092760 rows x 6 columns]"
      ]
     },
     "execution_count": 86,
     "metadata": {},
     "output_type": "execute_result"
    }
   ],
   "source": [
    "data=pd.read_csv('/home/luhung3080/Desktop/PycharmProjects/NCHUproject/Transformer/data_final.csv')\n",
    "data"
   ]
  },
  {
   "cell_type": "markdown",
   "id": "5b339a96",
   "metadata": {},
   "source": [
    "## 一開始就把x1 x2分開讀取，補完再用x1推y"
   ]
  },
  {
   "cell_type": "code",
   "execution_count": 87,
   "id": "9c992bb0",
   "metadata": {},
   "outputs": [
    {
     "name": "stdout",
     "output_type": "stream",
     "text": [
      "(604, 1704)\n",
      "(604, 5112)\n"
     ]
    }
   ],
   "source": [
    "x1=np.zeros([604,1704])\n",
    "x2=np.zeros([604,5112])\n",
    "\n",
    "#x1 (0th~1703th column as x)\n",
    "for i in range (0,604):\n",
    "    for j in range (0,71):\n",
    "        a=np.array(data['pm25_obs'][5112*i+72*j:5112*i+72*j+24])\n",
    "        for k in range (0,24):\n",
    "            x1[i][j*24+k]=a[k]\n",
    "\n",
    "#x2 (1704th~8519th column as x)\n",
    "for i in range (1,604):\n",
    "    b=np.array(data['pm25_cal'][5112*i:5112*i+5112])\n",
    "    for j in range(0,5112):\n",
    "        x2[i-1][j]=b[j]\n",
    "        \n",
    "print(np.shape(x1))\n",
    "print(np.shape(x2))"
   ]
  },
  {
   "cell_type": "code",
   "execution_count": 88,
   "id": "3c7b2347",
   "metadata": {},
   "outputs": [
    {
     "name": "stdout",
     "output_type": "stream",
     "text": [
      "(604, 1704)\n",
      "(604, 5112)\n"
     ]
    }
   ],
   "source": [
    "x1Restruct_Fun=x1\n",
    "x2Restruct_Fun=x2\n",
    "print(np.shape(x1Restruct_Fun))\n",
    "print(np.shape(x2Restruct_Fun))"
   ]
  },
  {
   "cell_type": "code",
   "execution_count": 89,
   "id": "6a7c2f83",
   "metadata": {},
   "outputs": [
    {
     "name": "stdout",
     "output_type": "stream",
     "text": [
      "(601, 5112)\n"
     ]
    }
   ],
   "source": [
    "YRestruct_Fun=np.zeros([601,5112])\n",
    "for j in range (0,71):\n",
    "    for i in range(0,601):\n",
    "        YRestruct_Fun[i][72*j:72*j+24]=x1Restruct_Fun[1+i][24*j:24*j+24]\n",
    "        YRestruct_Fun[i][72*j+24:72*j+48]=x1Restruct_Fun[1+i+1][24*j:24*j+24]\n",
    "        YRestruct_Fun[i][72*j+48:72*j+72]=x1Restruct_Fun[1+i+2][24*j:24*j+24]\n",
    "print(np.shape(YRestruct_Fun))"
   ]
  },
  {
   "cell_type": "code",
   "execution_count": 90,
   "id": "df8d789e",
   "metadata": {},
   "outputs": [
    {
     "name": "stdout",
     "output_type": "stream",
     "text": [
      "(601, 6816)\n"
     ]
    }
   ],
   "source": [
    "XRestruct_Fun=np.zeros([601,6816])\n",
    "for i in range (0,601):\n",
    "    for j in range (0,1704):\n",
    "        XRestruct_Fun[i][j]=x1Restruct_Fun[i][j]\n",
    "    for j in range (1704,6816):\n",
    "        XRestruct_Fun[i][j]=x2Restruct_Fun[i][j-1704]\n",
    "print(np.shape(XRestruct_Fun))"
   ]
  },
  {
   "cell_type": "code",
   "execution_count": 91,
   "id": "3efe008b",
   "metadata": {},
   "outputs": [
    {
     "name": "stdout",
     "output_type": "stream",
     "text": [
      "Xhat\n",
      "(540, 6816)\n",
      "Yhat\n",
      "(540, 5112)\n"
     ]
    }
   ],
   "source": [
    "Xhat=np.zeros([540,6816])\n",
    "Yhat=np.zeros([540,5112])\n",
    "for i in range (0,540):\n",
    "    for j in range (0,5112):\n",
    "        Xhat[i][j]=XRestruct_Fun[i][j]\n",
    "        Yhat[i][j]=YRestruct_Fun[i][j]\n",
    "print('Xhat')\n",
    "#print(Xhat)\n",
    "print(np.shape(Xhat))\n",
    "print('Yhat')\n",
    "#print(Yhat)\n",
    "print(np.shape(Yhat))"
   ]
  },
  {
   "cell_type": "code",
   "execution_count": 92,
   "id": "11532831",
   "metadata": {},
   "outputs": [
    {
     "name": "stdout",
     "output_type": "stream",
     "text": [
      "540\n",
      "540\n"
     ]
    }
   ],
   "source": [
    "print(np.linalg.matrix_rank(Xhat))\n",
    "print(np.linalg.matrix_rank(Yhat))"
   ]
  },
  {
   "cell_type": "markdown",
   "id": "30c3b2ae",
   "metadata": {},
   "source": [
    "## sparse x1 x2"
   ]
  },
  {
   "cell_type": "code",
   "execution_count": 93,
   "id": "8337fc32",
   "metadata": {},
   "outputs": [
    {
     "name": "stdout",
     "output_type": "stream",
     "text": [
      "(540, 1704)\n",
      "(540, 5112)\n"
     ]
    }
   ],
   "source": [
    "x1=np.zeros([540,1704])\n",
    "x2=np.zeros([540,5112])\n",
    "for i in range (0,540):\n",
    "    for j in range (0,1704):\n",
    "        x1[i][j]=Xhat[i][j]\n",
    "    for j in range (0,5112):\n",
    "        x2[i][j]=Xhat[i][1704+j]\n",
    "print(np.shape(x1))\n",
    "print(np.shape(x2))"
   ]
  },
  {
   "cell_type": "markdown",
   "id": "1ccdbd4f",
   "metadata": {},
   "source": [
    "## expend x1 x2"
   ]
  },
  {
   "cell_type": "code",
   "execution_count": 94,
   "id": "21f0fa8d",
   "metadata": {},
   "outputs": [
    {
     "name": "stdout",
     "output_type": "stream",
     "text": [
      "(38880, 6816)\n",
      "(38880, 5112)\n",
      "(38880, 6816)\n",
      "(38880, 5112)\n"
     ]
    }
   ],
   "source": [
    "new_x=np.zeros([540*72,6816]) #38880\n",
    "new_y=np.zeros([540*72,5112]) #38880\n",
    "#new_x : 0th~1703th column\n",
    "for i in range (0,72):\n",
    "    for j in range (0,540):\n",
    "        for k in range (0,1704):\n",
    "            new_x[540*i+j][k]=x1[j][k]\n",
    "#new_x : 1704th~8519th column\n",
    "for i in range (0,72):\n",
    "    for j in range (0,540):\n",
    "        for k in range (0+i,5040+1+i,72): #5040=5112-72\n",
    "            new_x[540*i+j][1704+k]=x2[j][k]\n",
    "#new_y\n",
    "for i in range (0,72):\n",
    "    for j in range (0,540):\n",
    "        for k in range (0,5112):\n",
    "            new_y[540*i+j][k]=Yhat[j][k]         \n",
    "\n",
    "XXhat=new_x\n",
    "YYhat=new_y\n",
    "print(np.shape(new_x))\n",
    "print(np.shape(new_y))\n",
    "print(np.shape(XXhat))\n",
    "print(np.shape(YYhat))"
   ]
  },
  {
   "cell_type": "code",
   "execution_count": 53,
   "id": "d19e7dd3",
   "metadata": {
    "collapsed": true
   },
   "outputs": [
    {
     "ename": "KeyboardInterrupt",
     "evalue": "",
     "output_type": "error",
     "traceback": [
      "\u001b[0;31m---------------------------------------------------------------------------\u001b[0m",
      "\u001b[0;31mKeyboardInterrupt\u001b[0m                         Traceback (most recent call last)",
      "\u001b[0;32m/tmp/ipykernel_3134707/2503487910.py\u001b[0m in \u001b[0;36m<module>\u001b[0;34m\u001b[0m\n\u001b[0;32m----> 1\u001b[0;31m \u001b[0mprint\u001b[0m\u001b[0;34m(\u001b[0m\u001b[0mnp\u001b[0m\u001b[0;34m.\u001b[0m\u001b[0mlinalg\u001b[0m\u001b[0;34m.\u001b[0m\u001b[0mmatrix_rank\u001b[0m\u001b[0;34m(\u001b[0m\u001b[0mnew_x\u001b[0m\u001b[0;34m)\u001b[0m\u001b[0;34m)\u001b[0m\u001b[0;34m\u001b[0m\u001b[0;34m\u001b[0m\u001b[0m\n\u001b[0m\u001b[1;32m      2\u001b[0m \u001b[0mprint\u001b[0m\u001b[0;34m(\u001b[0m\u001b[0mnp\u001b[0m\u001b[0;34m.\u001b[0m\u001b[0mlinalg\u001b[0m\u001b[0;34m.\u001b[0m\u001b[0mmatrix_rank\u001b[0m\u001b[0;34m(\u001b[0m\u001b[0mnew_y\u001b[0m\u001b[0;34m)\u001b[0m\u001b[0;34m)\u001b[0m\u001b[0;34m\u001b[0m\u001b[0;34m\u001b[0m\u001b[0m\n",
      "\u001b[0;32m<__array_function__ internals>\u001b[0m in \u001b[0;36mmatrix_rank\u001b[0;34m(*args, **kwargs)\u001b[0m\n",
      "\u001b[0;32m~/miniconda3/envs/chou/lib/python3.7/site-packages/numpy/linalg/linalg.py\u001b[0m in \u001b[0;36mmatrix_rank\u001b[0;34m(M, tol, hermitian)\u001b[0m\n\u001b[1;32m   1899\u001b[0m     \u001b[0;32mif\u001b[0m \u001b[0mM\u001b[0m\u001b[0;34m.\u001b[0m\u001b[0mndim\u001b[0m \u001b[0;34m<\u001b[0m \u001b[0;36m2\u001b[0m\u001b[0;34m:\u001b[0m\u001b[0;34m\u001b[0m\u001b[0;34m\u001b[0m\u001b[0m\n\u001b[1;32m   1900\u001b[0m         \u001b[0;32mreturn\u001b[0m \u001b[0mint\u001b[0m\u001b[0;34m(\u001b[0m\u001b[0;32mnot\u001b[0m \u001b[0mall\u001b[0m\u001b[0;34m(\u001b[0m\u001b[0mM\u001b[0m\u001b[0;34m==\u001b[0m\u001b[0;36m0\u001b[0m\u001b[0;34m)\u001b[0m\u001b[0;34m)\u001b[0m\u001b[0;34m\u001b[0m\u001b[0;34m\u001b[0m\u001b[0m\n\u001b[0;32m-> 1901\u001b[0;31m     \u001b[0mS\u001b[0m \u001b[0;34m=\u001b[0m \u001b[0msvd\u001b[0m\u001b[0;34m(\u001b[0m\u001b[0mM\u001b[0m\u001b[0;34m,\u001b[0m \u001b[0mcompute_uv\u001b[0m\u001b[0;34m=\u001b[0m\u001b[0;32mFalse\u001b[0m\u001b[0;34m,\u001b[0m \u001b[0mhermitian\u001b[0m\u001b[0;34m=\u001b[0m\u001b[0mhermitian\u001b[0m\u001b[0;34m)\u001b[0m\u001b[0;34m\u001b[0m\u001b[0;34m\u001b[0m\u001b[0m\n\u001b[0m\u001b[1;32m   1902\u001b[0m     \u001b[0;32mif\u001b[0m \u001b[0mtol\u001b[0m \u001b[0;32mis\u001b[0m \u001b[0;32mNone\u001b[0m\u001b[0;34m:\u001b[0m\u001b[0;34m\u001b[0m\u001b[0;34m\u001b[0m\u001b[0m\n\u001b[1;32m   1903\u001b[0m         \u001b[0mtol\u001b[0m \u001b[0;34m=\u001b[0m \u001b[0mS\u001b[0m\u001b[0;34m.\u001b[0m\u001b[0mmax\u001b[0m\u001b[0;34m(\u001b[0m\u001b[0maxis\u001b[0m\u001b[0;34m=\u001b[0m\u001b[0;34m-\u001b[0m\u001b[0;36m1\u001b[0m\u001b[0;34m,\u001b[0m \u001b[0mkeepdims\u001b[0m\u001b[0;34m=\u001b[0m\u001b[0;32mTrue\u001b[0m\u001b[0;34m)\u001b[0m \u001b[0;34m*\u001b[0m \u001b[0mmax\u001b[0m\u001b[0;34m(\u001b[0m\u001b[0mM\u001b[0m\u001b[0;34m.\u001b[0m\u001b[0mshape\u001b[0m\u001b[0;34m[\u001b[0m\u001b[0;34m-\u001b[0m\u001b[0;36m2\u001b[0m\u001b[0;34m:\u001b[0m\u001b[0;34m]\u001b[0m\u001b[0;34m)\u001b[0m \u001b[0;34m*\u001b[0m \u001b[0mfinfo\u001b[0m\u001b[0;34m(\u001b[0m\u001b[0mS\u001b[0m\u001b[0;34m.\u001b[0m\u001b[0mdtype\u001b[0m\u001b[0;34m)\u001b[0m\u001b[0;34m.\u001b[0m\u001b[0meps\u001b[0m\u001b[0;34m\u001b[0m\u001b[0;34m\u001b[0m\u001b[0m\n",
      "\u001b[0;32m<__array_function__ internals>\u001b[0m in \u001b[0;36msvd\u001b[0;34m(*args, **kwargs)\u001b[0m\n",
      "\u001b[0;32m~/miniconda3/envs/chou/lib/python3.7/site-packages/numpy/linalg/linalg.py\u001b[0m in \u001b[0;36msvd\u001b[0;34m(a, full_matrices, compute_uv, hermitian)\u001b[0m\n\u001b[1;32m   1670\u001b[0m \u001b[0;34m\u001b[0m\u001b[0m\n\u001b[1;32m   1671\u001b[0m         \u001b[0msignature\u001b[0m \u001b[0;34m=\u001b[0m \u001b[0;34m'D->d'\u001b[0m \u001b[0;32mif\u001b[0m \u001b[0misComplexType\u001b[0m\u001b[0;34m(\u001b[0m\u001b[0mt\u001b[0m\u001b[0;34m)\u001b[0m \u001b[0;32melse\u001b[0m \u001b[0;34m'd->d'\u001b[0m\u001b[0;34m\u001b[0m\u001b[0;34m\u001b[0m\u001b[0m\n\u001b[0;32m-> 1672\u001b[0;31m         \u001b[0ms\u001b[0m \u001b[0;34m=\u001b[0m \u001b[0mgufunc\u001b[0m\u001b[0;34m(\u001b[0m\u001b[0ma\u001b[0m\u001b[0;34m,\u001b[0m \u001b[0msignature\u001b[0m\u001b[0;34m=\u001b[0m\u001b[0msignature\u001b[0m\u001b[0;34m,\u001b[0m \u001b[0mextobj\u001b[0m\u001b[0;34m=\u001b[0m\u001b[0mextobj\u001b[0m\u001b[0;34m)\u001b[0m\u001b[0;34m\u001b[0m\u001b[0;34m\u001b[0m\u001b[0m\n\u001b[0m\u001b[1;32m   1673\u001b[0m         \u001b[0ms\u001b[0m \u001b[0;34m=\u001b[0m \u001b[0ms\u001b[0m\u001b[0;34m.\u001b[0m\u001b[0mastype\u001b[0m\u001b[0;34m(\u001b[0m\u001b[0m_realType\u001b[0m\u001b[0;34m(\u001b[0m\u001b[0mresult_t\u001b[0m\u001b[0;34m)\u001b[0m\u001b[0;34m,\u001b[0m \u001b[0mcopy\u001b[0m\u001b[0;34m=\u001b[0m\u001b[0;32mFalse\u001b[0m\u001b[0;34m)\u001b[0m\u001b[0;34m\u001b[0m\u001b[0;34m\u001b[0m\u001b[0m\n\u001b[1;32m   1674\u001b[0m         \u001b[0;32mreturn\u001b[0m \u001b[0ms\u001b[0m\u001b[0;34m\u001b[0m\u001b[0;34m\u001b[0m\u001b[0m\n",
      "\u001b[0;31mKeyboardInterrupt\u001b[0m: "
     ]
    }
   ],
   "source": [
    "print(np.linalg.matrix_rank(new_x))\n",
    "print(np.linalg.matrix_rank(new_y))"
   ]
  },
  {
   "cell_type": "markdown",
   "id": "16723bdb",
   "metadata": {},
   "source": [
    "## PCA95%"
   ]
  },
  {
   "cell_type": "code",
   "execution_count": 65,
   "id": "b1065152",
   "metadata": {},
   "outputs": [
    {
     "data": {
      "text/plain": [
       "PCA(n_components=0.95)"
      ]
     },
     "execution_count": 65,
     "metadata": {},
     "output_type": "execute_result"
    }
   ],
   "source": [
    "pca95 = PCA(n_components=0.95)\n",
    "pca95.fit(new_x)"
   ]
  },
  {
   "cell_type": "code",
   "execution_count": 66,
   "id": "be197118",
   "metadata": {},
   "outputs": [
    {
     "name": "stdout",
     "output_type": "stream",
     "text": [
      "(38880, 217)\n",
      "217\n"
     ]
    }
   ],
   "source": [
    "x_pca95=pca95.transform(new_x)\n",
    "print(x_pca95.shape)\n",
    "print(np.linalg.matrix_rank(x_pca95))"
   ]
  },
  {
   "cell_type": "markdown",
   "id": "478d48f8",
   "metadata": {},
   "source": [
    "### LinearRegression"
   ]
  },
  {
   "cell_type": "code",
   "execution_count": 67,
   "id": "9848cb88",
   "metadata": {},
   "outputs": [
    {
     "name": "stdout",
     "output_type": "stream",
     "text": [
      "(5112, 217)\n"
     ]
    }
   ],
   "source": [
    "model = LinearRegression()\n",
    "model.fit(x_pca95, new_y)\n",
    "print(np.shape(model.coef_))"
   ]
  },
  {
   "cell_type": "code",
   "execution_count": 68,
   "id": "dd4afd15",
   "metadata": {},
   "outputs": [
    {
     "name": "stdout",
     "output_type": "stream",
     "text": [
      "(38880, 5112)\n"
     ]
    }
   ],
   "source": [
    "fit_y=model.predict(x_pca95)\n",
    "print(fit_y.shape)"
   ]
  },
  {
   "cell_type": "code",
   "execution_count": 69,
   "id": "14003df2",
   "metadata": {},
   "outputs": [
    {
     "name": "stdout",
     "output_type": "stream",
     "text": [
      "(540, 5112)\n"
     ]
    }
   ],
   "source": [
    "fit95=np.zeros([540,5112])\n",
    "for i in range (0,72):\n",
    "    for j in range (0,540):\n",
    "        for k in range (0,71):\n",
    "            fit95[j][72*k+i]=fit_y[540*i+j][72*k+i]\n",
    "print(np.shape(fit95))"
   ]
  },
  {
   "cell_type": "code",
   "execution_count": 70,
   "id": "5c9653fc",
   "metadata": {},
   "outputs": [
    {
     "name": "stdout",
     "output_type": "stream",
     "text": [
      "(540, 5112)\n"
     ]
    }
   ],
   "source": [
    "fit95_mean=np.zeros([540,5112])\n",
    "for i in range (0,540):\n",
    "    for j in range (0,5112):\n",
    "        for k in range (0,72):\n",
    "            fit95_mean[i][j]=fit95_mean[i][j]+fit_y[540*k+i][j]/72\n",
    "print(np.shape(fit95_mean))"
   ]
  },
  {
   "cell_type": "markdown",
   "id": "9ba3c8c0",
   "metadata": {},
   "source": [
    "### compare(training data)"
   ]
  },
  {
   "cell_type": "code",
   "execution_count": 71,
   "id": "a3fec2bf",
   "metadata": {},
   "outputs": [],
   "source": [
    "fit95_test=fit95\n",
    "fit95_mean_test=fit95_mean"
   ]
  },
  {
   "cell_type": "code",
   "execution_count": 72,
   "id": "0c9a3bec",
   "metadata": {},
   "outputs": [],
   "source": [
    "data0=pd.read_csv('/home/luhung3080/Desktop/PycharmProjects/Data/newdata/result.csv')\n",
    "dd = data0.drop(data0[data0['TAU'] == 0].index)"
   ]
  },
  {
   "cell_type": "code",
   "execution_count": 73,
   "id": "5a59b018",
   "metadata": {},
   "outputs": [
    {
     "name": "stdout",
     "output_type": "stream",
     "text": [
      "(601, 5112)\n",
      "(601, 5112)\n",
      "(540, 5112)\n",
      "(540, 5112)\n"
     ]
    }
   ],
   "source": [
    "\"\"\"\n",
    "old data\n",
    "\"\"\"\n",
    "old_x=np.zeros([601,5112])\n",
    "old_y=np.zeros([601,5112])\n",
    "#data_cal\n",
    "for i in range (1,602):\n",
    "    a=np.array(dd['VALUE'][5112*i:5112*i+5112])\n",
    "    for j in range(0,5112):\n",
    "        if a[j]=='NaN' :\n",
    "            a[j]=np.nan\n",
    "    old_x[i-1]=a\n",
    "#data_obs\n",
    "for i in range (0,601):\n",
    "    a=np.array(dd['OBS_VALUE'][5112*i:5112*i+5112])\n",
    "    for j in range(0,5112):\n",
    "        if a[j]=='NaN' :\n",
    "            a[j]=np.nan\n",
    "        if a[j]=='A' :\n",
    "            a[j]=np.nan\n",
    "        if a[j]=='*' :\n",
    "            a[j]=np.nan\n",
    "        if a[j]=='x' :\n",
    "            a[j]=np.nan  \n",
    "    old_y[i-1]=a\n",
    "print(np.shape(old_x))\n",
    "print(np.shape(old_y))\n",
    "print(np.shape(fit95_test))\n",
    "print(np.shape(fit95_mean_test))"
   ]
  },
  {
   "cell_type": "code",
   "execution_count": 74,
   "id": "b3ab379e",
   "metadata": {},
   "outputs": [
    {
     "name": "stdout",
     "output_type": "stream",
     "text": [
      "January to August (training data set) before_error (MADE) of 95 : 7.174635\n",
      "January to August (training data set) after_error (MADE) of 95  4.506647\n",
      "January to August (training data set) after_error (MADE) of 95_mean : 4.512997\n"
     ]
    }
   ],
   "source": [
    "old_x1=np.zeros([540,5112])\n",
    "old_y1=np.zeros([540,5112])\n",
    "fit_fx1=np.zeros([540,5112])\n",
    "fit_fx1mean=np.zeros([540,5112])\n",
    "for i in range (0,540):\n",
    "    for j in range (0,5112):\n",
    "        old_x1[i][j]=old_x[i][j]\n",
    "        old_y1[i][j]=old_y[i][j]\n",
    "        fit_fx1[i][j]=fit95_test[i][j]\n",
    "        fit_fx1mean[i][j]=fit95_mean_test[i][j]\n",
    "before1=abs(old_x1-old_y1)\n",
    "after1=abs(fit_fx1-old_y1)\n",
    "after_mean1=abs(fit_fx1mean-old_y1)\n",
    "before_error1=np.nanmean(before1)\n",
    "after_error1=np.nanmean(after1)\n",
    "after_error_mean1=np.nanmean(after_mean1)\n",
    "\n",
    "print(\"January to August (training data set) before_error (MADE) of 95 : %f\" %before_error1)\n",
    "print(\"January to August (training data set) after_error (MADE) of 95  %f\" %after_error1)\n",
    "print(\"January to August (training data set) after_error (MADE) of 95_mean : %f\" %after_error_mean1)"
   ]
  },
  {
   "cell_type": "markdown",
   "id": "ae585f99",
   "metadata": {},
   "source": [
    "### compare(testing data)"
   ]
  },
  {
   "cell_type": "code",
   "execution_count": 75,
   "id": "e837fc00",
   "metadata": {},
   "outputs": [
    {
     "name": "stdout",
     "output_type": "stream",
     "text": [
      "(601, 6816)\n"
     ]
    }
   ],
   "source": [
    "\"\"\"\n",
    "generate new cal\n",
    "\"\"\"\n",
    "x1=np.zeros([604,1704])\n",
    "x2=np.zeros([604,5112])\n",
    "\n",
    "#x1 (0th~1703th column as x)\n",
    "for i in range (0,604):\n",
    "    for j in range (0,71):\n",
    "        a=np.array(data['pm25_obs'][5112*i+72*j:5112*i+72*j+24])\n",
    "        for k in range (0,24):\n",
    "            x1[i][j*24+k]=a[k]\n",
    "\n",
    "#x2 (1704th~6816th column as x)\n",
    "for i in range (1,604):\n",
    "    b=np.array(data['pm25_cal'][5112*i:5112*i+5112])\n",
    "    for j in range(0,5112):\n",
    "        x2[i-1][j]=b[j]\n",
    "\n",
    "x1Restruct_Fun=x1\n",
    "x2Restruct_Fun=x2\n",
    "XRestruct_Fun=np.zeros([601,6816])\n",
    "for i in range (0,601):\n",
    "    for j in range (0,1704):\n",
    "        XRestruct_Fun[i][j]=x1Restruct_Fun[i][j]\n",
    "    for j in range (1704,6816):\n",
    "        XRestruct_Fun[i][j]=x2Restruct_Fun[i][j-1704]\n",
    "print(np.shape(XRestruct_Fun))\n",
    "#(601,6816)\n",
    "####################################################\n",
    "xf = np.zeros([61,6816])\n",
    "for i in range (0,61):\n",
    "    for j in range(0,6816):\n",
    "        xf[i][j] = XRestruct_Fun[i+540][j]"
   ]
  },
  {
   "cell_type": "code",
   "execution_count": 76,
   "id": "bbee2cd9",
   "metadata": {},
   "outputs": [
    {
     "name": "stdout",
     "output_type": "stream",
     "text": [
      "(4392, 6816)\n",
      "(4392, 5112)\n",
      "(61, 5112)\n",
      "(61, 5112)\n"
     ]
    }
   ],
   "source": [
    "x1 = np.zeros([61,1704])\n",
    "x2 = np.zeros([61,5112])\n",
    "for i in range (0,61):\n",
    "    for j in range (0,1704):\n",
    "        x1[i][j] = xf[i][j]\n",
    "    for j in range (1704,6816):\n",
    "        x2[i][j-1704] = xf[i][j]\n",
    "\n",
    "new_x=np.zeros([61*72,6816]) #4392\n",
    "#new_x : 0th~1703th column\n",
    "for i in range (0,72):\n",
    "    for j in range (0,61):\n",
    "        for k in range (0,1704):\n",
    "            new_x[61*i+j][k]=x1[j][k]\n",
    "#new_x : 1704th~8519th column\n",
    "for i in range (0,72):\n",
    "    for j in range (0,61):\n",
    "        for k in range (0+i,5040+1+i,72):  #5040=5112-72\n",
    "            new_x[61*i+j][1704+k]=x2[j][k]\n",
    "            \n",
    "print(np.shape(new_x))\n",
    "# print(np.linalg.matrix_rank(new_x))\n",
    "\n",
    "new_xcal=pca95.transform(new_x)\n",
    "fit_y=model.predict(new_xcal)\n",
    "print(np.shape(fit_y))\n",
    "\n",
    "fit95=np.zeros([61,5112])\n",
    "for i in range (0,72):\n",
    "    for j in range (0,61):\n",
    "        for k in range (0,71):\n",
    "            fit95[j][72*k+i]=fit_y[61*i+j][72*k+i]\n",
    "print(np.shape(fit95))\n",
    "\n",
    "fit95_mean=np.zeros([61,5112])\n",
    "for i in range (0,61):\n",
    "    for j in range (0,5112):\n",
    "        for k in range (0,72):\n",
    "            fit95_mean[i][j]=fit95_mean[i][j]+fit_y[61*k+i][j]/72\n",
    "print(np.shape(fit95_mean))"
   ]
  },
  {
   "cell_type": "code",
   "execution_count": 77,
   "id": "d01c2cd2",
   "metadata": {},
   "outputs": [],
   "source": [
    "fit95_test=fit95\n",
    "fit95_mean_test=fit95_mean"
   ]
  },
  {
   "cell_type": "code",
   "execution_count": 78,
   "id": "22c46131",
   "metadata": {},
   "outputs": [
    {
     "name": "stdout",
     "output_type": "stream",
     "text": [
      "September (testing data set) before_error (MADE) : 6.989377\n",
      "September (testing data set) after_error (MADE) : 6.122959\n",
      "September (testing data set) after_error (MADE) of 95_mean: 6.110281\n"
     ]
    }
   ],
   "source": [
    "\"\"\"\n",
    "old data\n",
    "\"\"\"\n",
    "old_x=np.zeros([601,5112])\n",
    "old_y=np.zeros([601,5112])\n",
    "#data_cal\n",
    "for i in range (1,602):\n",
    "    a=np.array(dd['VALUE'][5112*i:5112*i+5112])\n",
    "    for j in range(0,5112):\n",
    "        if a[j]=='NaN' :\n",
    "            a[j]=np.nan\n",
    "    old_x[i-1]=a\n",
    "#data_obs\n",
    "for i in range (1,602):\n",
    "    a=np.array(dd['OBS_VALUE'][5112*i:5112*i+5112])\n",
    "    for j in range(0,5112):\n",
    "        if a[j]=='NaN' :\n",
    "            a[j]=np.nan\n",
    "        if a[j]=='A' :\n",
    "            a[j]=np.nan\n",
    "        if a[j]=='*' :\n",
    "            a[j]=np.nan\n",
    "        if a[j]=='x' :\n",
    "            a[j]=np.nan  \n",
    "    old_y[i-1]=a\n",
    "\n",
    "old_x2=np.zeros([61,5112])\n",
    "old_y2=np.zeros([61,5112])\n",
    "fit_fx2=np.zeros([61,5112])\n",
    "fit_fx2mean=np.zeros([61,5112])\n",
    "for i in range (0,61):\n",
    "    for j in range (0,5112):\n",
    "        old_x2[i][j]=old_x[i+540][j]\n",
    "        old_y2[i][j]=old_y[i+540][j]\n",
    "        fit_fx2[i][j]=fit95_test[i][j]\n",
    "        fit_fx2mean[i][j]=fit95_mean_test[i][j]\n",
    "before2=abs(old_x2-old_y2)\n",
    "after2=abs(fit_fx2-old_y2)\n",
    "after_mean2=abs(fit_fx2mean-old_y2)\n",
    "\n",
    "before_error2=np.nanmean(before2)\n",
    "after_error2=np.nanmean(after2)\n",
    "after_error_mean2=np.nanmean(after_mean2)\n",
    "print(\"September (testing data set) before_error (MADE) : %f\" %before_error2)\n",
    "print(\"September (testing data set) after_error (MADE) : %f\" %after_error2)\n",
    "print(\"September (testing data set) after_error (MADE) of 95_mean: %f\" %after_error_mean2)"
   ]
  },
  {
   "cell_type": "code",
   "execution_count": null,
   "id": "c186628b",
   "metadata": {},
   "outputs": [],
   "source": []
  },
  {
   "cell_type": "markdown",
   "id": "9ccc32aa",
   "metadata": {},
   "source": [
    "# loop test"
   ]
  },
  {
   "cell_type": "code",
   "execution_count": 95,
   "id": "6a808359",
   "metadata": {
    "scrolled": true
   },
   "outputs": [
    {
     "name": "stdout",
     "output_type": "stream",
     "text": [
      "[0.01 0.02 0.03 0.04 0.05 0.06 0.07 0.08 0.09 0.1  0.11 0.12 0.13 0.14\n",
      " 0.15 0.16 0.17 0.18 0.19 0.2  0.21 0.22 0.23 0.24 0.25 0.26 0.27 0.28\n",
      " 0.29 0.3  0.31 0.32 0.33 0.34 0.35 0.36 0.37 0.38 0.39 0.4  0.41 0.42\n",
      " 0.43 0.44 0.45 0.46 0.47 0.48 0.49 0.5  0.51 0.52 0.53 0.54 0.55 0.56\n",
      " 0.57 0.58 0.59 0.6  0.61 0.62 0.63 0.64 0.65 0.66 0.67 0.68 0.69 0.7\n",
      " 0.71 0.72 0.73 0.74 0.75 0.76 0.77 0.78 0.79 0.8  0.81 0.82 0.83 0.84\n",
      " 0.85 0.86 0.87 0.88 0.89 0.9  0.91 0.92 0.93 0.94 0.95 0.96 0.97 0.98\n",
      " 0.99]\n"
     ]
    }
   ],
   "source": [
    "per = np.zeros(99)\n",
    "for i in range (0,99):\n",
    "    per[i]=0.01*(i+1)\n",
    "print(per)\n",
    "per_error1 = np.zeros(99)\n",
    "per_error2 = np.zeros(99)"
   ]
  },
  {
   "cell_type": "code",
   "execution_count": 96,
   "id": "895301b1",
   "metadata": {},
   "outputs": [
    {
     "data": {
      "text/plain": [
       "(38880, 6816)"
      ]
     },
     "execution_count": 96,
     "metadata": {},
     "output_type": "execute_result"
    }
   ],
   "source": [
    "new_x.shape"
   ]
  },
  {
   "cell_type": "code",
   "execution_count": 97,
   "id": "49256ff3",
   "metadata": {},
   "outputs": [
    {
     "name": "stdout",
     "output_type": "stream",
     "text": [
      "1\n",
      "(38880, 1)\n",
      "(5112, 1)\n",
      "(38880, 5112)\n",
      "(601, 6816)\n",
      "(4392, 6816)\n",
      "(4392, 5112)\n",
      "(61, 5112)\n",
      "(61, 5112)\n",
      "September (testing data set) before_error (MADE) : 6.989377\n",
      "September (testing data set) after_error (MADE) : 5.953304\n",
      "September (testing data set) after_error (MADE) of 95_mean: 5.953342\n",
      "2\n",
      "(38880, 1)\n",
      "(5112, 1)\n",
      "(38880, 5112)\n",
      "(601, 6816)\n",
      "(4392, 6816)\n",
      "(4392, 5112)\n",
      "(61, 5112)\n",
      "(61, 5112)\n",
      "September (testing data set) before_error (MADE) : 6.989377\n",
      "September (testing data set) after_error (MADE) : 5.953304\n",
      "September (testing data set) after_error (MADE) of 95_mean: 5.953342\n",
      "3\n"
     ]
    },
    {
     "ename": "KeyboardInterrupt",
     "evalue": "",
     "output_type": "error",
     "traceback": [
      "\u001b[0;31m---------------------------------------------------------------------------\u001b[0m",
      "\u001b[0;31mKeyboardInterrupt\u001b[0m                         Traceback (most recent call last)",
      "\u001b[0;32m/tmp/ipykernel_3134707/719087535.py\u001b[0m in \u001b[0;36m<module>\u001b[0;34m\u001b[0m\n\u001b[1;32m      2\u001b[0m     \u001b[0mprint\u001b[0m\u001b[0;34m(\u001b[0m\u001b[0mz\u001b[0m\u001b[0;34m+\u001b[0m\u001b[0;36m1\u001b[0m\u001b[0;34m)\u001b[0m\u001b[0;34m\u001b[0m\u001b[0;34m\u001b[0m\u001b[0m\n\u001b[1;32m      3\u001b[0m     \u001b[0mpca95\u001b[0m \u001b[0;34m=\u001b[0m \u001b[0mPCA\u001b[0m\u001b[0;34m(\u001b[0m\u001b[0mn_components\u001b[0m\u001b[0;34m=\u001b[0m\u001b[0mper\u001b[0m\u001b[0;34m[\u001b[0m\u001b[0mz\u001b[0m\u001b[0;34m]\u001b[0m\u001b[0;34m)\u001b[0m\u001b[0;34m\u001b[0m\u001b[0;34m\u001b[0m\u001b[0m\n\u001b[0;32m----> 4\u001b[0;31m     \u001b[0mpca95\u001b[0m\u001b[0;34m.\u001b[0m\u001b[0mfit\u001b[0m\u001b[0;34m(\u001b[0m\u001b[0mnew_x\u001b[0m\u001b[0;34m)\u001b[0m\u001b[0;34m\u001b[0m\u001b[0;34m\u001b[0m\u001b[0m\n\u001b[0m\u001b[1;32m      5\u001b[0m     \u001b[0mx_pca95\u001b[0m\u001b[0;34m=\u001b[0m\u001b[0mpca95\u001b[0m\u001b[0;34m.\u001b[0m\u001b[0mtransform\u001b[0m\u001b[0;34m(\u001b[0m\u001b[0mnew_x\u001b[0m\u001b[0;34m)\u001b[0m\u001b[0;34m\u001b[0m\u001b[0;34m\u001b[0m\u001b[0m\n\u001b[1;32m      6\u001b[0m     \u001b[0mprint\u001b[0m\u001b[0;34m(\u001b[0m\u001b[0mx_pca95\u001b[0m\u001b[0;34m.\u001b[0m\u001b[0mshape\u001b[0m\u001b[0;34m)\u001b[0m\u001b[0;34m\u001b[0m\u001b[0;34m\u001b[0m\u001b[0m\n",
      "\u001b[0;32m~/miniconda3/envs/chou/lib/python3.7/site-packages/sklearn/decomposition/_pca.py\u001b[0m in \u001b[0;36mfit\u001b[0;34m(self, X, y)\u001b[0m\n\u001b[1;32m    380\u001b[0m             \u001b[0mReturns\u001b[0m \u001b[0mthe\u001b[0m \u001b[0minstance\u001b[0m \u001b[0mitself\u001b[0m\u001b[0;34m.\u001b[0m\u001b[0;34m\u001b[0m\u001b[0;34m\u001b[0m\u001b[0m\n\u001b[1;32m    381\u001b[0m         \"\"\"\n\u001b[0;32m--> 382\u001b[0;31m         \u001b[0mself\u001b[0m\u001b[0;34m.\u001b[0m\u001b[0m_fit\u001b[0m\u001b[0;34m(\u001b[0m\u001b[0mX\u001b[0m\u001b[0;34m)\u001b[0m\u001b[0;34m\u001b[0m\u001b[0;34m\u001b[0m\u001b[0m\n\u001b[0m\u001b[1;32m    383\u001b[0m         \u001b[0;32mreturn\u001b[0m \u001b[0mself\u001b[0m\u001b[0;34m\u001b[0m\u001b[0;34m\u001b[0m\u001b[0m\n\u001b[1;32m    384\u001b[0m \u001b[0;34m\u001b[0m\u001b[0m\n",
      "\u001b[0;32m~/miniconda3/envs/chou/lib/python3.7/site-packages/sklearn/decomposition/_pca.py\u001b[0m in \u001b[0;36m_fit\u001b[0;34m(self, X)\u001b[0m\n\u001b[1;32m    455\u001b[0m         \u001b[0;31m# Call different fits for either full or truncated SVD\u001b[0m\u001b[0;34m\u001b[0m\u001b[0;34m\u001b[0m\u001b[0;34m\u001b[0m\u001b[0m\n\u001b[1;32m    456\u001b[0m         \u001b[0;32mif\u001b[0m \u001b[0mself\u001b[0m\u001b[0;34m.\u001b[0m\u001b[0m_fit_svd_solver\u001b[0m \u001b[0;34m==\u001b[0m \u001b[0;34m\"full\"\u001b[0m\u001b[0;34m:\u001b[0m\u001b[0;34m\u001b[0m\u001b[0;34m\u001b[0m\u001b[0m\n\u001b[0;32m--> 457\u001b[0;31m             \u001b[0;32mreturn\u001b[0m \u001b[0mself\u001b[0m\u001b[0;34m.\u001b[0m\u001b[0m_fit_full\u001b[0m\u001b[0;34m(\u001b[0m\u001b[0mX\u001b[0m\u001b[0;34m,\u001b[0m \u001b[0mn_components\u001b[0m\u001b[0;34m)\u001b[0m\u001b[0;34m\u001b[0m\u001b[0;34m\u001b[0m\u001b[0m\n\u001b[0m\u001b[1;32m    458\u001b[0m         \u001b[0;32melif\u001b[0m \u001b[0mself\u001b[0m\u001b[0;34m.\u001b[0m\u001b[0m_fit_svd_solver\u001b[0m \u001b[0;32min\u001b[0m \u001b[0;34m[\u001b[0m\u001b[0;34m\"arpack\"\u001b[0m\u001b[0;34m,\u001b[0m \u001b[0;34m\"randomized\"\u001b[0m\u001b[0;34m]\u001b[0m\u001b[0;34m:\u001b[0m\u001b[0;34m\u001b[0m\u001b[0;34m\u001b[0m\u001b[0m\n\u001b[1;32m    459\u001b[0m             \u001b[0;32mreturn\u001b[0m \u001b[0mself\u001b[0m\u001b[0;34m.\u001b[0m\u001b[0m_fit_truncated\u001b[0m\u001b[0;34m(\u001b[0m\u001b[0mX\u001b[0m\u001b[0;34m,\u001b[0m \u001b[0mn_components\u001b[0m\u001b[0;34m,\u001b[0m \u001b[0mself\u001b[0m\u001b[0;34m.\u001b[0m\u001b[0m_fit_svd_solver\u001b[0m\u001b[0;34m)\u001b[0m\u001b[0;34m\u001b[0m\u001b[0;34m\u001b[0m\u001b[0m\n",
      "\u001b[0;32m~/miniconda3/envs/chou/lib/python3.7/site-packages/sklearn/decomposition/_pca.py\u001b[0m in \u001b[0;36m_fit_full\u001b[0;34m(self, X, n_components)\u001b[0m\n\u001b[1;32m    490\u001b[0m         \u001b[0mX\u001b[0m \u001b[0;34m-=\u001b[0m \u001b[0mself\u001b[0m\u001b[0;34m.\u001b[0m\u001b[0mmean_\u001b[0m\u001b[0;34m\u001b[0m\u001b[0;34m\u001b[0m\u001b[0m\n\u001b[1;32m    491\u001b[0m \u001b[0;34m\u001b[0m\u001b[0m\n\u001b[0;32m--> 492\u001b[0;31m         \u001b[0mU\u001b[0m\u001b[0;34m,\u001b[0m \u001b[0mS\u001b[0m\u001b[0;34m,\u001b[0m \u001b[0mVt\u001b[0m \u001b[0;34m=\u001b[0m \u001b[0mlinalg\u001b[0m\u001b[0;34m.\u001b[0m\u001b[0msvd\u001b[0m\u001b[0;34m(\u001b[0m\u001b[0mX\u001b[0m\u001b[0;34m,\u001b[0m \u001b[0mfull_matrices\u001b[0m\u001b[0;34m=\u001b[0m\u001b[0;32mFalse\u001b[0m\u001b[0;34m)\u001b[0m\u001b[0;34m\u001b[0m\u001b[0;34m\u001b[0m\u001b[0m\n\u001b[0m\u001b[1;32m    493\u001b[0m         \u001b[0;31m# flip eigenvectors' sign to enforce deterministic output\u001b[0m\u001b[0;34m\u001b[0m\u001b[0;34m\u001b[0m\u001b[0;34m\u001b[0m\u001b[0m\n\u001b[1;32m    494\u001b[0m         \u001b[0mU\u001b[0m\u001b[0;34m,\u001b[0m \u001b[0mVt\u001b[0m \u001b[0;34m=\u001b[0m \u001b[0msvd_flip\u001b[0m\u001b[0;34m(\u001b[0m\u001b[0mU\u001b[0m\u001b[0;34m,\u001b[0m \u001b[0mVt\u001b[0m\u001b[0;34m)\u001b[0m\u001b[0;34m\u001b[0m\u001b[0;34m\u001b[0m\u001b[0m\n",
      "\u001b[0;32m~/miniconda3/envs/chou/lib/python3.7/site-packages/scipy/linalg/decomp_svd.py\u001b[0m in \u001b[0;36msvd\u001b[0;34m(a, full_matrices, compute_uv, overwrite_a, check_finite, lapack_driver)\u001b[0m\n\u001b[1;32m    126\u001b[0m     \u001b[0;31m# perform decomposition\u001b[0m\u001b[0;34m\u001b[0m\u001b[0;34m\u001b[0m\u001b[0;34m\u001b[0m\u001b[0m\n\u001b[1;32m    127\u001b[0m     u, s, v, info = gesXd(a1, compute_uv=compute_uv, lwork=lwork,\n\u001b[0;32m--> 128\u001b[0;31m                           full_matrices=full_matrices, overwrite_a=overwrite_a)\n\u001b[0m\u001b[1;32m    129\u001b[0m \u001b[0;34m\u001b[0m\u001b[0m\n\u001b[1;32m    130\u001b[0m     \u001b[0;32mif\u001b[0m \u001b[0minfo\u001b[0m \u001b[0;34m>\u001b[0m \u001b[0;36m0\u001b[0m\u001b[0;34m:\u001b[0m\u001b[0;34m\u001b[0m\u001b[0;34m\u001b[0m\u001b[0m\n",
      "\u001b[0;31mKeyboardInterrupt\u001b[0m: "
     ]
    }
   ],
   "source": [
    "for z in range (0,99):\n",
    "    print(z+1)\n",
    "    pca95 = PCA(n_components=per[z])\n",
    "    pca95.fit(new_x)\n",
    "    x_pca95=pca95.transform(new_x)\n",
    "    print(x_pca95.shape)\n",
    "    model = LinearRegression()\n",
    "    model.fit(x_pca95, new_y)\n",
    "    print(np.shape(model.coef_))\n",
    "    fit_y=model.predict(x_pca95)\n",
    "    print(fit_y.shape)\n",
    "    \"\"\"\n",
    "    generate new cal\n",
    "    \"\"\"\n",
    "    x1=np.zeros([604,1704])\n",
    "    x2=np.zeros([604,5112])\n",
    "\n",
    "    #x1 (0th~1703th column as x)\n",
    "    for i in range (0,604):\n",
    "        for j in range (0,71):\n",
    "            a=np.array(data['pm25_obs'][5112*i+72*j:5112*i+72*j+24])\n",
    "            for k in range (0,24):\n",
    "                x1[i][j*24+k]=a[k]\n",
    "\n",
    "    #x2 (1704th~6816th column as x)\n",
    "    for i in range (1,604):\n",
    "        b=np.array(data['pm25_cal'][5112*i:5112*i+5112])\n",
    "        for j in range(0,5112):\n",
    "            x2[i-1][j]=b[j]\n",
    "\n",
    "    x1Restruct_Fun=x1\n",
    "    x2Restruct_Fun=x2\n",
    "    XRestruct_Fun=np.zeros([601,6816])\n",
    "    for i in range (0,601):\n",
    "        for j in range (0,1704):\n",
    "            XRestruct_Fun[i][j]=x1Restruct_Fun[i][j]\n",
    "        for j in range (1704,6816):\n",
    "            XRestruct_Fun[i][j]=x2Restruct_Fun[i][j-1704]\n",
    "    print(np.shape(XRestruct_Fun))\n",
    "    #(601,6816)\n",
    "    ####################################################\n",
    "    xf = np.zeros([61,6816])\n",
    "    for i in range (0,61):\n",
    "        for j in range(0,6816):\n",
    "            xf[i][j] = XRestruct_Fun[i+540][j]\n",
    "\n",
    "    x1 = np.zeros([61,1704])\n",
    "    x2 = np.zeros([61,5112])\n",
    "    for i in range (0,61):\n",
    "        for j in range (0,1704):\n",
    "            x1[i][j] = xf[i][j]\n",
    "        for j in range (1704,6816):\n",
    "            x2[i][j-1704] = xf[i][j]\n",
    "\n",
    "    new_exx=np.zeros([61*72,6816]) \n",
    "    #new_x : 0th~1703th column\n",
    "    for i in range (0,72):\n",
    "        for j in range (0,61):\n",
    "            for k in range (0,1704):\n",
    "                new_exx[61*i+j][k]=x1[j][k]\n",
    "    #new_x : 1704th~8519th column\n",
    "    for i in range (0,72):\n",
    "        for j in range (0,61):\n",
    "            for k in range (0+i,5040+1+i,72):  #5040=5112-72\n",
    "                new_exx[61*i+j][1704+k]=x2[j][k]\n",
    "\n",
    "    print(np.shape(new_exx))\n",
    "    # print(np.linalg.matrix_rank(new_x))\n",
    "\n",
    "    new_xcal=pca95.transform(new_exx)\n",
    "    fit_y=model.predict(new_xcal)\n",
    "    print(np.shape(fit_y))\n",
    "\n",
    "    fit95=np.zeros([61,5112])\n",
    "    for i in range (0,72):\n",
    "        for j in range (0,61):\n",
    "            for k in range (0,71):\n",
    "                fit95[j][72*k+i]=fit_y[61*i+j][72*k+i]\n",
    "    print(np.shape(fit95))\n",
    "\n",
    "    fit95_mean=np.zeros([61,5112])\n",
    "    for i in range (0,61):\n",
    "        for j in range (0,5112):\n",
    "            for k in range (0,72):\n",
    "                fit95_mean[i][j]=fit95_mean[i][j]+fit_y[61*k+i][j]/72\n",
    "    print(np.shape(fit95_mean))\n",
    "\n",
    "    fit95_test=fit95\n",
    "    fit95_mean_test=fit95_mean\n",
    "\n",
    "    \"\"\"\n",
    "    old data\n",
    "    \"\"\"\n",
    "    old_x=np.zeros([601,5112])\n",
    "    old_y=np.zeros([601,5112])\n",
    "    #data_cal\n",
    "    for i in range (1,602):\n",
    "        a=np.array(dd['VALUE'][5112*i:5112*i+5112])\n",
    "        for j in range(0,5112):\n",
    "            if a[j]=='NaN' :\n",
    "                a[j]=np.nan\n",
    "        old_x[i-1]=a\n",
    "    #data_obs\n",
    "    for i in range (1,602):\n",
    "        a=np.array(dd['OBS_VALUE'][5112*i:5112*i+5112])\n",
    "        for j in range(0,5112):\n",
    "            if a[j]=='NaN' :\n",
    "                a[j]=np.nan\n",
    "            if a[j]=='A' :\n",
    "                a[j]=np.nan\n",
    "            if a[j]=='*' :\n",
    "                a[j]=np.nan\n",
    "            if a[j]=='x' :\n",
    "                a[j]=np.nan  \n",
    "        old_y[i-1]=a\n",
    "\n",
    "    old_x2=np.zeros([61,5112])\n",
    "    old_y2=np.zeros([61,5112])\n",
    "    fit_fx2=np.zeros([61,5112])\n",
    "    fit_fx2mean=np.zeros([61,5112])\n",
    "    for i in range (0,61):\n",
    "        for j in range (0,5112):\n",
    "            old_x2[i][j]=old_x[i+540][j]\n",
    "            old_y2[i][j]=old_y[i+540][j]\n",
    "            fit_fx2[i][j]=fit95_test[i][j]\n",
    "            fit_fx2mean[i][j]=fit95_mean_test[i][j]\n",
    "    before2=abs(old_x2-old_y2)\n",
    "    after2=abs(fit_fx2-old_y2)\n",
    "    after_mean2=abs(fit_fx2mean-old_y2)\n",
    "\n",
    "    before_error2=np.nanmean(before2)\n",
    "    after_error2=np.nanmean(after2)\n",
    "    after_error_mean2=np.nanmean(after_mean2)\n",
    "    print(\"September (testing data set) before_error (MADE) : %f\" %before_error2)\n",
    "    print(\"September (testing data set) after_error (MADE) : %f\" %after_error2)\n",
    "    print(\"September (testing data set) after_error (MADE) of 95_mean: %f\" %after_error_mean2)\n",
    "    per_error1[z] = after_error2\n",
    "    per_error2[z] = after_error_mean2"
   ]
  },
  {
   "cell_type": "code",
   "execution_count": null,
   "id": "1530ea05",
   "metadata": {
    "scrolled": true
   },
   "outputs": [],
   "source": [
    "print(per_error1)\n",
    "print(per_error2)"
   ]
  },
  {
   "cell_type": "code",
   "execution_count": null,
   "id": "db959524",
   "metadata": {},
   "outputs": [],
   "source": [
    "print(0.01*(np.argmin(per_error1)+1))\n",
    "print(min(per_error1))"
   ]
  },
  {
   "cell_type": "code",
   "execution_count": null,
   "id": "69b0d561",
   "metadata": {},
   "outputs": [],
   "source": [
    "print(0.01*(np.argmin(per_error2)+1))\n",
    "print(min(per_error2))"
   ]
  },
  {
   "cell_type": "code",
   "execution_count": null,
   "id": "d0ebb1b2",
   "metadata": {},
   "outputs": [],
   "source": []
  }
 ],
 "metadata": {
  "kernelspec": {
   "display_name": "chou",
   "language": "python",
   "name": "chou"
  },
  "language_info": {
   "codemirror_mode": {
    "name": "ipython",
    "version": 3
   },
   "file_extension": ".py",
   "mimetype": "text/x-python",
   "name": "python",
   "nbconvert_exporter": "python",
   "pygments_lexer": "ipython3",
   "version": "3.7.12"
  }
 },
 "nbformat": 4,
 "nbformat_minor": 5
}
