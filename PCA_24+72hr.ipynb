{
 "cells": [
  {
   "cell_type": "code",
   "execution_count": 1,
   "id": "c015adf6",
   "metadata": {},
   "outputs": [],
   "source": [
    "import numpy as np\n",
    "import pandas as pd\n",
    "import matplotlib.pyplot as plt\n",
    "from sklearn.decomposition import PCA\n",
    "from sklearn.linear_model import LinearRegression"
   ]
  },
  {
   "cell_type": "markdown",
   "id": "857f6a6d",
   "metadata": {},
   "source": [
    "# Read data"
   ]
  },
  {
   "cell_type": "code",
   "execution_count": 3,
   "id": "bea42309",
   "metadata": {},
   "outputs": [],
   "source": [
    "data=pd.read_csv('/home/luhung3080/Desktop/PycharmProjects/NCHUproject/Transformer/data_final.csv')\n",
    "data0=pd.read_csv('/home/luhung3080/Desktop/PycharmProjects/Data/newdata/result.csv')\n",
    "dd = data0.drop(data0[data0['TAU'] == 0].index)"
   ]
  },
  {
   "cell_type": "markdown",
   "id": "be949464",
   "metadata": {},
   "source": [
    "# Generate X Y "
   ]
  },
  {
   "cell_type": "code",
   "execution_count": 4,
   "id": "fafba11b",
   "metadata": {},
   "outputs": [
    {
     "name": "stdout",
     "output_type": "stream",
     "text": [
      "(604, 1704)\n",
      "(604, 5112)\n"
     ]
    }
   ],
   "source": [
    "x1=np.zeros([604,1704])\n",
    "x2=np.zeros([604,5112])\n",
    "\n",
    "#x1 (0th~1703th column as x)\n",
    "for i in range (0,604):\n",
    "    for j in range (0,71):\n",
    "        a=np.array(data['pm25_obs'][5112*i+72*j:5112*i+72*j+24])\n",
    "        for k in range (0,24):\n",
    "            x1[i][j*24+k]=a[k]\n",
    "\n",
    "#x2 (1704th~8519th column as x)\n",
    "for i in range (1,604):\n",
    "    b=np.array(data['pm25_cal'][5112*i:5112*i+5112])\n",
    "    for j in range(0,5112):\n",
    "        x2[i-1][j]=b[j]\n",
    "        \n",
    "print(np.shape(x1))\n",
    "print(np.shape(x2))"
   ]
  },
  {
   "cell_type": "code",
   "execution_count": 5,
   "id": "ec734b05",
   "metadata": {},
   "outputs": [
    {
     "name": "stdout",
     "output_type": "stream",
     "text": [
      "(604, 1704)\n",
      "(604, 5112)\n"
     ]
    }
   ],
   "source": [
    "x1Restruct_Fun=x1\n",
    "x2Restruct_Fun=x2\n",
    "print(np.shape(x1Restruct_Fun))\n",
    "print(np.shape(x2Restruct_Fun))"
   ]
  },
  {
   "cell_type": "code",
   "execution_count": 6,
   "id": "3efaf651",
   "metadata": {},
   "outputs": [
    {
     "name": "stdout",
     "output_type": "stream",
     "text": [
      "(601, 5112)\n"
     ]
    }
   ],
   "source": [
    "YRestruct_Fun=np.zeros([601,5112])\n",
    "for j in range (0,71):\n",
    "    for i in range(0,601):\n",
    "        YRestruct_Fun[i][72*j:72*j+24]=x1Restruct_Fun[1+i][24*j:24*j+24]\n",
    "        YRestruct_Fun[i][72*j+24:72*j+48]=x1Restruct_Fun[1+i+1][24*j:24*j+24]\n",
    "        YRestruct_Fun[i][72*j+48:72*j+72]=x1Restruct_Fun[1+i+2][24*j:24*j+24]\n",
    "print(np.shape(YRestruct_Fun))"
   ]
  },
  {
   "cell_type": "code",
   "execution_count": 7,
   "id": "c922b3d1",
   "metadata": {},
   "outputs": [
    {
     "name": "stdout",
     "output_type": "stream",
     "text": [
      "(601, 6816)\n"
     ]
    }
   ],
   "source": [
    "XRestruct_Fun=np.zeros([601,6816])\n",
    "for i in range (0,601):\n",
    "    for j in range (0,1704):\n",
    "        XRestruct_Fun[i][j]=x1Restruct_Fun[i][j]\n",
    "    for j in range (1704,6816):\n",
    "        XRestruct_Fun[i][j]=x2Restruct_Fun[i][j-1704]\n",
    "print(np.shape(XRestruct_Fun))"
   ]
  },
  {
   "cell_type": "code",
   "execution_count": 8,
   "id": "ddac4bb2",
   "metadata": {},
   "outputs": [
    {
     "name": "stdout",
     "output_type": "stream",
     "text": [
      "Xhat\n",
      "(540, 6816)\n",
      "Yhat\n",
      "(540, 5112)\n"
     ]
    }
   ],
   "source": [
    "Xhat=np.zeros([540,6816])\n",
    "Yhat=np.zeros([540,5112])\n",
    "for i in range (0,540):\n",
    "    for j in range (0,5112):\n",
    "        Xhat[i][j]=XRestruct_Fun[i][j]\n",
    "        Yhat[i][j]=YRestruct_Fun[i][j]\n",
    "print('Xhat')\n",
    "#print(Xhat)\n",
    "print(np.shape(Xhat))\n",
    "print('Yhat')\n",
    "#print(Yhat)\n",
    "print(np.shape(Yhat))"
   ]
  },
  {
   "cell_type": "markdown",
   "id": "eca44dac",
   "metadata": {},
   "source": [
    "# Expend X Y"
   ]
  },
  {
   "cell_type": "code",
   "execution_count": 9,
   "id": "d21ae6f7",
   "metadata": {},
   "outputs": [
    {
     "name": "stdout",
     "output_type": "stream",
     "text": [
      "(540, 1704)\n",
      "(540, 5112)\n"
     ]
    }
   ],
   "source": [
    "x1=np.zeros([540,1704])\n",
    "x2=np.zeros([540,5112])\n",
    "for i in range (0,540):\n",
    "    for j in range (0,1704):\n",
    "        x1[i][j]=Xhat[i][j]\n",
    "    for j in range (0,5112):\n",
    "        x2[i][j]=Xhat[i][1704+j]\n",
    "print(np.shape(x1))\n",
    "print(np.shape(x2))"
   ]
  },
  {
   "cell_type": "code",
   "execution_count": 10,
   "id": "6041506e",
   "metadata": {},
   "outputs": [
    {
     "name": "stdout",
     "output_type": "stream",
     "text": [
      "(38880, 6816)\n",
      "(38880, 5112)\n"
     ]
    }
   ],
   "source": [
    "new_x=np.zeros([540*72,6816]) #38880\n",
    "new_y=np.zeros([540*72,5112]) #38880\n",
    "#new_x : 0th~1703th column\n",
    "for i in range (0,72):\n",
    "    for j in range (0,540):\n",
    "        for k in range (0,1704):\n",
    "            new_x[540*i+j][k]=x1[j][k]\n",
    "#new_x : 1704th~8519th column\n",
    "for i in range (0,72):\n",
    "    for j in range (0,540):\n",
    "        for k in range (0+i,5040+1+i,72): #5040=5112-72\n",
    "            new_x[540*i+j][1704+k]=x2[j][k]\n",
    "#new_y\n",
    "for i in range (0,72):\n",
    "    for j in range (0,540):\n",
    "        for k in range (0,5112):\n",
    "            new_y[540*i+j][k]=Yhat[j][k]         \n",
    "            \n",
    "print(np.shape(new_x))\n",
    "print(np.shape(new_y))"
   ]
  },
  {
   "cell_type": "markdown",
   "id": "64a4abb2",
   "metadata": {},
   "source": [
    "# PCA & Linear regression"
   ]
  },
  {
   "cell_type": "code",
   "execution_count": 11,
   "id": "c5f052ec",
   "metadata": {},
   "outputs": [],
   "source": [
    "per = np.zeros(99)\n",
    "for i in range (0,99):\n",
    "    per[i]=0.01*(i+1)\n",
    "per_error1 = np.zeros(99)\n",
    "per_error2 = np.zeros(99)"
   ]
  },
  {
   "cell_type": "code",
   "execution_count": 12,
   "id": "7efda20d",
   "metadata": {},
   "outputs": [],
   "source": [
    "for z in range (0,99):\n",
    "    pca = PCA(n_components=per[z])\n",
    "    pca.fit(new_x)\n",
    "    x_pca=pca.transform(new_x)\n",
    "    model = LinearRegression()\n",
    "    model.fit(x_pca, new_y)\n",
    "    fit_y=model.predict(x_pca)\n",
    "    \n",
    "    \"\"\"\n",
    "    generate new cal\n",
    "    \"\"\"\n",
    "    x1=np.zeros([604,1704])\n",
    "    x2=np.zeros([604,5112])\n",
    "\n",
    "    #x1 (0th~1703th column as x)\n",
    "    for i in range (0,604):\n",
    "        for j in range (0,71):\n",
    "            a=np.array(data['pm25_obs'][5112*i+72*j:5112*i+72*j+24])\n",
    "            for k in range (0,24):\n",
    "                x1[i][j*24+k]=a[k]\n",
    "\n",
    "    #x2 (1704th~6816th column as x)\n",
    "    for i in range (1,604):\n",
    "        b=np.array(data['pm25_cal'][5112*i:5112*i+5112])\n",
    "        for j in range(0,5112):\n",
    "            x2[i-1][j]=b[j]\n",
    "    x1Restruct_Fun=x1\n",
    "    x2Restruct_Fun=x2\n",
    "    \n",
    "    XRestruct_Fun=np.zeros([601,6816])\n",
    "    for i in range (0,601):\n",
    "        for j in range (0,1704):\n",
    "            XRestruct_Fun[i][j]=x1Restruct_Fun[i][j]\n",
    "        for j in range (1704,6816):\n",
    "            XRestruct_Fun[i][j]=x2Restruct_Fun[i][j-1704]\n",
    "\n",
    "    xf = np.zeros([61,6816])\n",
    "    for i in range (0,61):\n",
    "        for j in range(0,6816):\n",
    "            xf[i][j] = XRestruct_Fun[i+540][j]\n",
    "\n",
    "    x1 = np.zeros([61,1704])\n",
    "    x2 = np.zeros([61,5112])\n",
    "    for i in range (0,61):\n",
    "        for j in range (0,1704):\n",
    "            x1[i][j] = xf[i][j]\n",
    "        for j in range (1704,6816):\n",
    "            x2[i][j-1704] = xf[i][j]\n",
    "\n",
    "    new_exx=np.zeros([61*72,6816]) \n",
    "    #new_x : 0th~1703th column\n",
    "    for i in range (0,72):\n",
    "        for j in range (0,61):\n",
    "            for k in range (0,1704):\n",
    "                new_exx[61*i+j][k]=x1[j][k]\n",
    "    #new_x : 1704th~8519th column\n",
    "    for i in range (0,72):\n",
    "        for j in range (0,61):\n",
    "            for k in range (0+i,5040+1+i,72):  #5040=5112-72\n",
    "                new_exx[61*i+j][1704+k]=x2[j][k]\n",
    "\n",
    "    new_xcal=pca.transform(new_exx)\n",
    "    fit_y=model.predict(new_xcal)\n",
    "\n",
    "    fit=np.zeros([61,5112])\n",
    "    for i in range (0,72):\n",
    "        for j in range (0,61):\n",
    "            for k in range (0,71):\n",
    "                fit[j][72*k+i]=fit_y[61*i+j][72*k+i]\n",
    "\n",
    "    fit_mean=np.zeros([61,5112])\n",
    "    for i in range (0,61):\n",
    "        for j in range (0,5112):\n",
    "            for k in range (0,72):\n",
    "                fit_mean[i][j]=fit_mean[i][j]+fit_y[61*k+i][j]/72\n",
    "\n",
    "    fit_test=fit\n",
    "    fit_mean_test=fit_mean\n",
    "\n",
    "    \"\"\"\n",
    "    old data\n",
    "    \"\"\"\n",
    "    old_x=np.zeros([601,5112])\n",
    "    old_y=np.zeros([601,5112])\n",
    "    #data_cal\n",
    "    for i in range (1,602):\n",
    "        a=np.array(dd['VALUE'][5112*i:5112*i+5112])\n",
    "        for j in range(0,5112):\n",
    "            if a[j]=='NaN' :\n",
    "                a[j]=np.nan\n",
    "        old_x[i-1]=a\n",
    "    #data_obs\n",
    "    for i in range (1,602):\n",
    "        a=np.array(dd['OBS_VALUE'][5112*i:5112*i+5112])\n",
    "        for j in range(0,5112):\n",
    "            if a[j]=='NaN' :\n",
    "                a[j]=np.nan\n",
    "            if a[j]=='A' :\n",
    "                a[j]=np.nan\n",
    "            if a[j]=='*' :\n",
    "                a[j]=np.nan\n",
    "            if a[j]=='x' :\n",
    "                a[j]=np.nan  \n",
    "        old_y[i-1]=a\n",
    "\n",
    "    old_x2=np.zeros([61,5112])\n",
    "    old_y2=np.zeros([61,5112])\n",
    "    fit_fx2=np.zeros([61,5112])\n",
    "    fit_fx2mean=np.zeros([61,5112])\n",
    "    for i in range (0,61):\n",
    "        for j in range (0,5112):\n",
    "            old_x2[i][j]=old_x[i+540][j]\n",
    "            old_y2[i][j]=old_y[i+540][j]\n",
    "            fit_fx2[i][j]=fit_test[i][j]\n",
    "            fit_fx2mean[i][j]=fit_mean_test[i][j]\n",
    "    before2=abs(old_x2-old_y2)\n",
    "    after2=abs(fit_fx2-old_y2)\n",
    "    after_mean2=abs(fit_fx2mean-old_y2)\n",
    "\n",
    "    before_error2=np.nanmean(before2)\n",
    "    after_error2=np.nanmean(after2)\n",
    "    after_error_mean2=np.nanmean(after_mean2)\n",
    "\n",
    "    per_error1[z] = after_error2\n",
    "    per_error2[z] = after_error_mean2"
   ]
  },
  {
   "cell_type": "markdown",
   "id": "c5da8a82",
   "metadata": {},
   "source": [
    "# Result"
   ]
  },
  {
   "cell_type": "code",
   "execution_count": 13,
   "id": "ee466757",
   "metadata": {},
   "outputs": [
    {
     "name": "stdout",
     "output_type": "stream",
     "text": [
      "[5.95330401 5.95330401 5.95330401 5.95330401 5.95330401 5.95330401\n",
      " 5.95330401 5.95330401 5.95330401 5.95330401 5.95330401 5.95330401\n",
      " 5.95330401 5.95330401 5.95330401 5.95330401 5.95330401 5.95330401\n",
      " 5.95330401 5.95330401 5.95330401 5.95330401 5.95330401 5.95330401\n",
      " 5.95330401 5.95330401 5.95330401 5.95330401 5.95330401 5.95330401\n",
      " 5.95330401 5.95330401 5.95330401 5.95330401 5.95330401 5.95330401\n",
      " 5.95330401 5.95330401 5.95330401 5.95330401 5.95330401 5.95330401\n",
      " 5.95330401 5.95330401 5.95330401 5.95330401 5.95330401 5.95330401\n",
      " 5.95330401 5.95330401 5.95330401 5.95330401 5.95330401 5.88168356\n",
      " 5.88168356 5.88168356 5.88168356 5.88168356 5.88168356 5.88168356\n",
      " 5.88168356 5.88168356 5.88168356 5.88168356 5.83797158 5.83797158\n",
      " 5.83797158 5.8589268  5.8589268  5.8589268  5.81953121 5.81953121\n",
      " 5.73568638 5.75321046 5.74692524 5.7379413  5.72726733 5.68850845\n",
      " 5.77421415 5.77190631 5.78565097 5.71669198 5.71070462 5.73625757\n",
      " 5.75219546 5.77102279 5.78087523 5.81519245 5.8461396  5.9013717\n",
      " 5.89109965 5.93077482 5.9600174  5.9929832  6.1229591  6.38435225\n",
      " 6.57690599 6.63134115 6.89632945]\n"
     ]
    }
   ],
   "source": [
    "print(per_error1)"
   ]
  },
  {
   "cell_type": "code",
   "execution_count": 15,
   "id": "1eaf1ae7",
   "metadata": {},
   "outputs": [
    {
     "name": "stdout",
     "output_type": "stream",
     "text": [
      "data compression with time on 78 % PCA have the min MAE error : 5.688508445648077\n"
     ]
    }
   ],
   "source": [
    "print('data compression with time on', np.argmin(per_error1)+1, '% PCA', 'have the min MAE error :', min(per_error1))\n",
    "# print(0.01*(np.argmin(per_error1)+1))\n",
    "# print(min(per_error1))"
   ]
  },
  {
   "cell_type": "code",
   "execution_count": 16,
   "id": "1ab76197",
   "metadata": {},
   "outputs": [
    {
     "name": "stdout",
     "output_type": "stream",
     "text": [
      "[5.95334248 5.95334248 5.95334248 5.95334248 5.95334248 5.95334248\n",
      " 5.95334248 5.95334248 5.95334248 5.95334248 5.95334248 5.95334248\n",
      " 5.95334248 5.95334248 5.95334248 5.95334248 5.95334248 5.95334248\n",
      " 5.95334248 5.95334248 5.95334248 5.95334248 5.95334248 5.95334248\n",
      " 5.95334248 5.95334248 5.95334248 5.95334248 5.95334248 5.95334248\n",
      " 5.95334248 5.95334248 5.95334248 5.95334248 5.95334248 5.95334248\n",
      " 5.95334248 5.95334248 5.95334248 5.95334248 5.95334248 5.95334248\n",
      " 5.95334248 5.95334248 5.95334248 5.95334248 5.95334248 5.95334248\n",
      " 5.95334248 5.95334248 5.95334248 5.95334248 5.95334248 5.88173503\n",
      " 5.88173503 5.88173503 5.88173503 5.88173503 5.88173503 5.88173503\n",
      " 5.88173503 5.88173503 5.88173503 5.88173503 5.83802516 5.83802516\n",
      " 5.83802516 5.85897091 5.85897091 5.85897091 5.81956461 5.81956461\n",
      " 5.73578637 5.75334216 5.74705016 5.7380668  5.72741892 5.68873995\n",
      " 5.77441668 5.7721433  5.78603256 5.71718823 5.71129316 5.73724017\n",
      " 5.75230189 5.76322794 5.77194599 5.79295541 5.79739666 5.85494222\n",
      " 5.83662146 5.86772718 5.91515249 5.96803627 6.11028088 6.38268898\n",
      " 6.59677329 6.69260499 7.00753163]\n"
     ]
    }
   ],
   "source": [
    "print(per_error2)"
   ]
  },
  {
   "cell_type": "code",
   "execution_count": 17,
   "id": "14c95fb7",
   "metadata": {},
   "outputs": [
    {
     "name": "stdout",
     "output_type": "stream",
     "text": [
      "data compression with mean on 78 % PCA have the min MAE error : 5.68873995192551\n"
     ]
    }
   ],
   "source": [
    "print('data compression with mean on', np.argmin(per_error2)+1, '% PCA', 'have the min MAE error :', min(per_error2))\n",
    "# print(0.01*(np.argmin(per_error2)+1))\n",
    "# print(min(per_error2))"
   ]
  },
  {
   "cell_type": "code",
   "execution_count": null,
   "id": "1bfd119e",
   "metadata": {},
   "outputs": [],
   "source": []
  }
 ],
 "metadata": {
  "kernelspec": {
   "display_name": "chou",
   "language": "python",
   "name": "chou"
  },
  "language_info": {
   "codemirror_mode": {
    "name": "ipython",
    "version": 3
   },
   "file_extension": ".py",
   "mimetype": "text/x-python",
   "name": "python",
   "nbconvert_exporter": "python",
   "pygments_lexer": "ipython3",
   "version": "3.7.12"
  }
 },
 "nbformat": 4,
 "nbformat_minor": 5
}
