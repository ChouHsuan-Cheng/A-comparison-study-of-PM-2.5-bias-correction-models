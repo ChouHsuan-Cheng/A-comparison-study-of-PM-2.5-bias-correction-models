{
 "cells": [
  {
   "cell_type": "code",
   "execution_count": 1,
   "id": "1ee9fd46",
   "metadata": {},
   "outputs": [
    {
     "name": "stderr",
     "output_type": "stream",
     "text": [
      "/home/luhung3080/miniconda3/envs/chou/lib/python3.7/site-packages/tqdm/auto.py:22: TqdmWarning: IProgress not found. Please update jupyter and ipywidgets. See https://ipywidgets.readthedocs.io/en/stable/user_install.html\n",
      "  from .autonotebook import tqdm as notebook_tqdm\n"
     ]
    },
    {
     "name": "stdout",
     "output_type": "stream",
     "text": [
      "pytorch ver .  1.11.0+cu113\n",
      "Is CUDA available? True\n",
      "pynio ver .  1.5.5\n"
     ]
    }
   ],
   "source": [
    "import numpy as np\n",
    "import pandas as pd\n",
    "import matplotlib.pyplot as plt\n",
    "from sklearn.decomposition import PCA\n",
    "from sklearn.linear_model import LinearRegression\n",
    "import torch\n",
    "print(\"pytorch ver . \",torch.__version__)\n",
    "print(\"Is CUDA available?\",torch.cuda.is_available())\n",
    "import torch.nn as nn\n",
    "import torch.optim as optim\n",
    "from torch.utils.data import Dataset,DataLoader\n",
    "import torch.utils.data as Data\n",
    "import pytorch_lightning as pl\n",
    "from pytorch_lightning.loggers import TensorBoardLogger\n",
    "from pytorch_lightning.loggers import CSVLogger\n",
    "from pytorch_lightning.callbacks.early_stopping import EarlyStopping\n",
    "import xarray as xr\n",
    "import os\n",
    "os.environ['R_HOME'] = '/home/luhung3080/miniconda3/envs/chou/lib/R'\n",
    "from rpy2.robjects import r, numpy2ri\n",
    "numpy2ri.activate()\n",
    "from rpy2.robjects.packages import importr\n",
    "sinkr = importr('sinkr')\n",
    "import Nio\n",
    "print (\"pynio ver . \",Nio.__version__)"
   ]
  },
  {
   "cell_type": "markdown",
   "id": "ab5d6663",
   "metadata": {},
   "source": [
    "# Y = b0 + b1X12"
   ]
  },
  {
   "cell_type": "markdown",
   "id": "b5ed5d3d",
   "metadata": {},
   "source": [
    "## Data"
   ]
  },
  {
   "cell_type": "code",
   "execution_count": 2,
   "id": "85cb2535",
   "metadata": {
    "collapsed": true
   },
   "outputs": [
    {
     "data": {
      "text/html": [
       "<div>\n",
       "<style scoped>\n",
       "    .dataframe tbody tr th:only-of-type {\n",
       "        vertical-align: middle;\n",
       "    }\n",
       "\n",
       "    .dataframe tbody tr th {\n",
       "        vertical-align: top;\n",
       "    }\n",
       "\n",
       "    .dataframe thead th {\n",
       "        text-align: right;\n",
       "    }\n",
       "</style>\n",
       "<table border=\"1\" class=\"dataframe\">\n",
       "  <thead>\n",
       "    <tr style=\"text-align: right;\">\n",
       "      <th></th>\n",
       "      <th>SITE_ID</th>\n",
       "      <th>date</th>\n",
       "      <th>FCST_TIME</th>\n",
       "      <th>TAU</th>\n",
       "      <th>pm25_cal</th>\n",
       "      <th>pm25_obs</th>\n",
       "    </tr>\n",
       "  </thead>\n",
       "  <tbody>\n",
       "    <tr>\n",
       "      <th>0</th>\n",
       "      <td>EPA001</td>\n",
       "      <td>2020-02-24 08:00:00</td>\n",
       "      <td>2020-02-24 09:00:00</td>\n",
       "      <td>1</td>\n",
       "      <td>4.9510</td>\n",
       "      <td>10.0</td>\n",
       "    </tr>\n",
       "    <tr>\n",
       "      <th>1</th>\n",
       "      <td>EPA001</td>\n",
       "      <td>2020-02-24 08:00:00</td>\n",
       "      <td>2020-02-24 10:00:00</td>\n",
       "      <td>2</td>\n",
       "      <td>4.4674</td>\n",
       "      <td>13.0</td>\n",
       "    </tr>\n",
       "    <tr>\n",
       "      <th>2</th>\n",
       "      <td>EPA001</td>\n",
       "      <td>2020-02-24 08:00:00</td>\n",
       "      <td>2020-02-24 11:00:00</td>\n",
       "      <td>3</td>\n",
       "      <td>4.6159</td>\n",
       "      <td>11.0</td>\n",
       "    </tr>\n",
       "    <tr>\n",
       "      <th>3</th>\n",
       "      <td>EPA001</td>\n",
       "      <td>2020-02-24 08:00:00</td>\n",
       "      <td>2020-02-24 12:00:00</td>\n",
       "      <td>4</td>\n",
       "      <td>3.9937</td>\n",
       "      <td>11.0</td>\n",
       "    </tr>\n",
       "    <tr>\n",
       "      <th>4</th>\n",
       "      <td>EPA001</td>\n",
       "      <td>2020-02-24 08:00:00</td>\n",
       "      <td>2020-02-24 13:00:00</td>\n",
       "      <td>5</td>\n",
       "      <td>3.9602</td>\n",
       "      <td>9.0</td>\n",
       "    </tr>\n",
       "    <tr>\n",
       "      <th>...</th>\n",
       "      <td>...</td>\n",
       "      <td>...</td>\n",
       "      <td>...</td>\n",
       "      <td>...</td>\n",
       "      <td>...</td>\n",
       "      <td>...</td>\n",
       "    </tr>\n",
       "    <tr>\n",
       "      <th>3092755</th>\n",
       "      <td>EPA080</td>\n",
       "      <td>2021-10-30 08:00:00</td>\n",
       "      <td>2021-11-02 04:00:00</td>\n",
       "      <td>68</td>\n",
       "      <td>3.6190</td>\n",
       "      <td>4.0</td>\n",
       "    </tr>\n",
       "    <tr>\n",
       "      <th>3092756</th>\n",
       "      <td>EPA080</td>\n",
       "      <td>2021-10-30 08:00:00</td>\n",
       "      <td>2021-11-02 05:00:00</td>\n",
       "      <td>69</td>\n",
       "      <td>3.7908</td>\n",
       "      <td>7.0</td>\n",
       "    </tr>\n",
       "    <tr>\n",
       "      <th>3092757</th>\n",
       "      <td>EPA080</td>\n",
       "      <td>2021-10-30 08:00:00</td>\n",
       "      <td>2021-11-02 06:00:00</td>\n",
       "      <td>70</td>\n",
       "      <td>4.0454</td>\n",
       "      <td>7.0</td>\n",
       "    </tr>\n",
       "    <tr>\n",
       "      <th>3092758</th>\n",
       "      <td>EPA080</td>\n",
       "      <td>2021-10-30 08:00:00</td>\n",
       "      <td>2021-11-02 07:00:00</td>\n",
       "      <td>71</td>\n",
       "      <td>3.9015</td>\n",
       "      <td>4.0</td>\n",
       "    </tr>\n",
       "    <tr>\n",
       "      <th>3092759</th>\n",
       "      <td>EPA080</td>\n",
       "      <td>2021-10-30 08:00:00</td>\n",
       "      <td>2021-11-02 08:00:00</td>\n",
       "      <td>72</td>\n",
       "      <td>2.7468</td>\n",
       "      <td>4.0</td>\n",
       "    </tr>\n",
       "  </tbody>\n",
       "</table>\n",
       "<p>3092760 rows × 6 columns</p>\n",
       "</div>"
      ],
      "text/plain": [
       "        SITE_ID                 date            FCST_TIME  TAU  pm25_cal  \\\n",
       "0        EPA001  2020-02-24 08:00:00  2020-02-24 09:00:00    1    4.9510   \n",
       "1        EPA001  2020-02-24 08:00:00  2020-02-24 10:00:00    2    4.4674   \n",
       "2        EPA001  2020-02-24 08:00:00  2020-02-24 11:00:00    3    4.6159   \n",
       "3        EPA001  2020-02-24 08:00:00  2020-02-24 12:00:00    4    3.9937   \n",
       "4        EPA001  2020-02-24 08:00:00  2020-02-24 13:00:00    5    3.9602   \n",
       "...         ...                  ...                  ...  ...       ...   \n",
       "3092755  EPA080  2021-10-30 08:00:00  2021-11-02 04:00:00   68    3.6190   \n",
       "3092756  EPA080  2021-10-30 08:00:00  2021-11-02 05:00:00   69    3.7908   \n",
       "3092757  EPA080  2021-10-30 08:00:00  2021-11-02 06:00:00   70    4.0454   \n",
       "3092758  EPA080  2021-10-30 08:00:00  2021-11-02 07:00:00   71    3.9015   \n",
       "3092759  EPA080  2021-10-30 08:00:00  2021-11-02 08:00:00   72    2.7468   \n",
       "\n",
       "         pm25_obs  \n",
       "0            10.0  \n",
       "1            13.0  \n",
       "2            11.0  \n",
       "3            11.0  \n",
       "4             9.0  \n",
       "...           ...  \n",
       "3092755       4.0  \n",
       "3092756       7.0  \n",
       "3092757       7.0  \n",
       "3092758       4.0  \n",
       "3092759       4.0  \n",
       "\n",
       "[3092760 rows x 6 columns]"
      ]
     },
     "execution_count": 2,
     "metadata": {},
     "output_type": "execute_result"
    }
   ],
   "source": [
    "data=pd.read_csv('/home/luhung3080/Desktop/PycharmProjects/NCHUproject/Transformer/data_final.csv')\n",
    "data"
   ]
  },
  {
   "cell_type": "markdown",
   "id": "13d2d9c1",
   "metadata": {},
   "source": [
    "## 一開始就把x1 x2分開讀取，補完再用x1推y"
   ]
  },
  {
   "cell_type": "code",
   "execution_count": 3,
   "id": "240f19e2",
   "metadata": {},
   "outputs": [
    {
     "name": "stdout",
     "output_type": "stream",
     "text": [
      "(604, 1704)\n",
      "(604, 5112)\n"
     ]
    }
   ],
   "source": [
    "x1=np.zeros([604,1704])\n",
    "x2=np.zeros([604,5112])\n",
    "\n",
    "#x1 (0th~1703th column as x)\n",
    "for i in range (0,604):\n",
    "    for j in range (0,71):\n",
    "        a=np.array(data['pm25_obs'][5112*i+72*j:5112*i+72*j+24])\n",
    "        for k in range (0,24):\n",
    "            x1[i][j*24+k]=a[k]\n",
    "\n",
    "#x2 (1704th~8519th column as x)\n",
    "for i in range (1,604):\n",
    "    b=np.array(data['pm25_cal'][5112*i:5112*i+5112])\n",
    "    for j in range(0,5112):\n",
    "        x2[i-1][j]=b[j]\n",
    "        \n",
    "print(np.shape(x1))\n",
    "print(np.shape(x2))"
   ]
  },
  {
   "cell_type": "code",
   "execution_count": 4,
   "id": "af714f3f",
   "metadata": {},
   "outputs": [
    {
     "name": "stdout",
     "output_type": "stream",
     "text": [
      "(604, 1704)\n",
      "(604, 5112)\n"
     ]
    }
   ],
   "source": [
    "x1Restruct_Fun=x1\n",
    "x2Restruct_Fun=x2\n",
    "print(np.shape(x1Restruct_Fun))\n",
    "print(np.shape(x2Restruct_Fun))"
   ]
  },
  {
   "cell_type": "code",
   "execution_count": 5,
   "id": "e6efa8a7",
   "metadata": {},
   "outputs": [
    {
     "name": "stdout",
     "output_type": "stream",
     "text": [
      "(601, 5112)\n"
     ]
    }
   ],
   "source": [
    "YRestruct_Fun=np.zeros([601,5112])\n",
    "for j in range (0,71):\n",
    "    for i in range(0,601):\n",
    "        YRestruct_Fun[i][72*j:72*j+24]=x1Restruct_Fun[1+i][24*j:24*j+24]\n",
    "        YRestruct_Fun[i][72*j+24:72*j+48]=x1Restruct_Fun[1+i+1][24*j:24*j+24]\n",
    "        YRestruct_Fun[i][72*j+48:72*j+72]=x1Restruct_Fun[1+i+2][24*j:24*j+24]\n",
    "print(np.shape(YRestruct_Fun))"
   ]
  },
  {
   "cell_type": "code",
   "execution_count": 6,
   "id": "0d78afd0",
   "metadata": {},
   "outputs": [
    {
     "name": "stdout",
     "output_type": "stream",
     "text": [
      "(601, 6816)\n"
     ]
    }
   ],
   "source": [
    "XRestruct_Fun=np.zeros([601,6816])\n",
    "for i in range (0,601):\n",
    "    for j in range (0,1704):\n",
    "        XRestruct_Fun[i][j]=x1Restruct_Fun[i][j]\n",
    "    for j in range (1704,6816):\n",
    "        XRestruct_Fun[i][j]=x2Restruct_Fun[i][j-1704]\n",
    "print(np.shape(XRestruct_Fun))"
   ]
  },
  {
   "cell_type": "code",
   "execution_count": 7,
   "id": "b327f20e",
   "metadata": {},
   "outputs": [
    {
     "name": "stdout",
     "output_type": "stream",
     "text": [
      "Xhat\n",
      "(540, 6816)\n",
      "Yhat\n",
      "(540, 5112)\n"
     ]
    }
   ],
   "source": [
    "Xhat=np.zeros([540,6816])\n",
    "Yhat=np.zeros([540,5112])\n",
    "for i in range (0,540):\n",
    "    for j in range (0,5112):\n",
    "        Xhat[i][j]=XRestruct_Fun[i][j]\n",
    "        Yhat[i][j]=YRestruct_Fun[i][j]\n",
    "print('Xhat')\n",
    "#print(Xhat)\n",
    "print(np.shape(Xhat))\n",
    "print('Yhat')\n",
    "#print(Yhat)\n",
    "print(np.shape(Yhat))"
   ]
  },
  {
   "cell_type": "code",
   "execution_count": 8,
   "id": "523e3e5d",
   "metadata": {
    "scrolled": true
   },
   "outputs": [
    {
     "name": "stdout",
     "output_type": "stream",
     "text": [
      "540\n",
      "540\n"
     ]
    }
   ],
   "source": [
    "print(np.linalg.matrix_rank(Xhat))\n",
    "print(np.linalg.matrix_rank(Yhat))"
   ]
  },
  {
   "cell_type": "markdown",
   "id": "e01b8b3c",
   "metadata": {},
   "source": [
    "## PCA95%"
   ]
  },
  {
   "cell_type": "code",
   "execution_count": 25,
   "id": "6dd3436f",
   "metadata": {},
   "outputs": [
    {
     "data": {
      "text/plain": [
       "PCA(n_components=0.95)"
      ]
     },
     "execution_count": 25,
     "metadata": {},
     "output_type": "execute_result"
    }
   ],
   "source": [
    "pca95 = PCA(n_components=0.95)\n",
    "pca95.fit(Xhat)"
   ]
  },
  {
   "cell_type": "code",
   "execution_count": 26,
   "id": "d4c682f2",
   "metadata": {},
   "outputs": [
    {
     "name": "stdout",
     "output_type": "stream",
     "text": [
      "(540, 180)\n",
      "180\n"
     ]
    }
   ],
   "source": [
    "x_pca95=pca95.transform(Xhat)\n",
    "print(x_pca95.shape)\n",
    "print(np.linalg.matrix_rank(x_pca95))"
   ]
  },
  {
   "cell_type": "markdown",
   "id": "b35767a8",
   "metadata": {},
   "source": [
    "### LinearRegression"
   ]
  },
  {
   "cell_type": "code",
   "execution_count": 27,
   "id": "bb95d5ed",
   "metadata": {},
   "outputs": [
    {
     "name": "stdout",
     "output_type": "stream",
     "text": [
      "(5112, 180)\n"
     ]
    }
   ],
   "source": [
    "model = LinearRegression()\n",
    "model.fit(x_pca95, Yhat)\n",
    "print(np.shape(model.coef_))"
   ]
  },
  {
   "cell_type": "code",
   "execution_count": 28,
   "id": "6d239f82",
   "metadata": {},
   "outputs": [
    {
     "name": "stdout",
     "output_type": "stream",
     "text": [
      "(540, 5112)\n"
     ]
    }
   ],
   "source": [
    "fit95=model.predict(x_pca95)\n",
    "print(fit95.shape)"
   ]
  },
  {
   "cell_type": "markdown",
   "id": "4ca890de",
   "metadata": {},
   "source": [
    "### compare (training data)"
   ]
  },
  {
   "cell_type": "code",
   "execution_count": 29,
   "id": "15afd268",
   "metadata": {},
   "outputs": [],
   "source": [
    "data0=pd.read_csv('/home/luhung3080/Desktop/PycharmProjects/Data/newdata/result.csv')\n",
    "dd = data0.drop(data0[data0['TAU'] == 0].index)"
   ]
  },
  {
   "cell_type": "code",
   "execution_count": 30,
   "id": "92994f1d",
   "metadata": {},
   "outputs": [
    {
     "name": "stdout",
     "output_type": "stream",
     "text": [
      "(601, 5112)\n",
      "(601, 5112)\n",
      "(540, 5112)\n"
     ]
    }
   ],
   "source": [
    "fit95_test=fit95\n",
    "\"\"\"\n",
    "old data\n",
    "\"\"\"\n",
    "old_x=np.zeros([601,5112])\n",
    "old_y=np.zeros([601,5112])\n",
    "#data_cal\n",
    "for i in range (1,602):\n",
    "    a=np.array(dd['VALUE'][5112*i:5112*i+5112])\n",
    "    for j in range(0,5112):\n",
    "        if a[j]=='NaN' :\n",
    "            a[j]=np.nan\n",
    "    old_x[i-1]=a\n",
    "#data_obs\n",
    "for i in range (0,601):\n",
    "    a=np.array(dd['OBS_VALUE'][5112*i:5112*i+5112])\n",
    "    for j in range(0,5112):\n",
    "        if a[j]=='NaN' :\n",
    "            a[j]=np.nan\n",
    "        if a[j]=='A' :\n",
    "            a[j]=np.nan\n",
    "        if a[j]=='*' :\n",
    "            a[j]=np.nan\n",
    "        if a[j]=='x' :\n",
    "            a[j]=np.nan  \n",
    "    old_y[i-1]=a\n",
    "print(np.shape(old_x))\n",
    "print(np.shape(old_y))\n",
    "print(np.shape(fit95_test))"
   ]
  },
  {
   "cell_type": "code",
   "execution_count": 31,
   "id": "5ef6b70d",
   "metadata": {},
   "outputs": [
    {
     "name": "stdout",
     "output_type": "stream",
     "text": [
      "January to August (training data set) before_error (MADE) of 95 : 7.174635\n",
      "January to August (training data set) after_error (MADE) of 95 : 3.700996\n"
     ]
    }
   ],
   "source": [
    "old_x1=np.zeros([540,5112])\n",
    "old_y1=np.zeros([540,5112])\n",
    "fit_fx1=np.zeros([540,5112])\n",
    "for i in range (0,540):\n",
    "    for j in range (0,5112):\n",
    "        old_x1[i][j]=old_x[i][j]\n",
    "        old_y1[i][j]=old_y[i][j]\n",
    "        fit_fx1[i][j]=fit95_test[i][j]\n",
    "before1=abs(old_x1-old_y1)\n",
    "after1=abs(fit_fx1-old_y1)\n",
    "before_error1=np.nanmean(before1)\n",
    "after_error1=np.nanmean(after1)\n",
    "print(\"January to August (training data set) before_error (MADE) of 95 : %f\" %before_error1)\n",
    "print(\"January to August (training data set) after_error (MADE) of 95 : %f\" %after_error1)"
   ]
  },
  {
   "cell_type": "markdown",
   "id": "f3647625",
   "metadata": {},
   "source": [
    "### compare (testing data) "
   ]
  },
  {
   "cell_type": "code",
   "execution_count": 33,
   "id": "3ec56d96",
   "metadata": {},
   "outputs": [
    {
     "name": "stdout",
     "output_type": "stream",
     "text": [
      "(601, 6816)\n",
      "(61, 5112)\n"
     ]
    }
   ],
   "source": [
    "\"\"\"\n",
    "generate new cal\n",
    "\"\"\"\n",
    "x1=np.zeros([604,1704])\n",
    "x2=np.zeros([604,5112])\n",
    "\n",
    "#x1 (0th~1703th column as x)\n",
    "for i in range (0,604):\n",
    "    for j in range (0,71):\n",
    "        a=np.array(data['pm25_obs'][5112*i+72*j:5112*i+72*j+24])\n",
    "        for k in range (0,24):\n",
    "            x1[i][j*24+k]=a[k]\n",
    "\n",
    "#x2 (1704th~6816th column as x)\n",
    "for i in range (1,604):\n",
    "    b=np.array(data['pm25_cal'][5112*i:5112*i+5112])\n",
    "    for j in range(0,5112):\n",
    "        x2[i-1][j]=b[j]\n",
    "\n",
    "x1Restruct_Fun=x1\n",
    "x2Restruct_Fun=x2\n",
    "XRestruct_Fun=np.zeros([601,6816])\n",
    "for i in range (0,601):\n",
    "    for j in range (0,1704):\n",
    "        XRestruct_Fun[i][j]=x1Restruct_Fun[i][j]\n",
    "    for j in range (1704,6816):\n",
    "        XRestruct_Fun[i][j]=x2Restruct_Fun[i][j-1704]\n",
    "print(np.shape(XRestruct_Fun))\n",
    "\n",
    "xf = np.zeros([61,6816])\n",
    "for i in range (0,61):\n",
    "    for j in range(0,6816):\n",
    "        xf[i][j] = XRestruct_Fun[i+540][j]\n",
    "\n",
    "new_xcal=pca95.transform(xf)\n",
    "new_xfit=model.predict(new_xcal)\n",
    "print(np.shape(new_xfit))"
   ]
  },
  {
   "cell_type": "code",
   "execution_count": 34,
   "id": "d507ffdc",
   "metadata": {},
   "outputs": [
    {
     "name": "stdout",
     "output_type": "stream",
     "text": [
      "(601, 5112)\n",
      "(601, 5112)\n"
     ]
    }
   ],
   "source": [
    "\"\"\"\n",
    "old data\n",
    "\"\"\"\n",
    "old_x=np.zeros([601,5112])\n",
    "old_y=np.zeros([601,5112])\n",
    "#data_cal\n",
    "for i in range (1,602):\n",
    "    a=np.array(dd['VALUE'][5112*i:5112*i+5112])\n",
    "    for j in range(0,5112):\n",
    "        if a[j]=='NaN' :\n",
    "            a[j]=np.nan\n",
    "    old_x[i-1]=a\n",
    "#data_obs\n",
    "for i in range (1,602):\n",
    "    a=np.array(dd['OBS_VALUE'][5112*i:5112*i+5112])\n",
    "    for j in range(0,5112):\n",
    "        if a[j]=='NaN' :\n",
    "            a[j]=np.nan\n",
    "        if a[j]=='A' :\n",
    "            a[j]=np.nan\n",
    "        if a[j]=='*' :\n",
    "            a[j]=np.nan\n",
    "        if a[j]=='x' :\n",
    "            a[j]=np.nan  \n",
    "    old_y[i-1]=a\n",
    "print(np.shape(old_x))\n",
    "print(np.shape(old_y))"
   ]
  },
  {
   "cell_type": "code",
   "execution_count": 35,
   "id": "6538994d",
   "metadata": {},
   "outputs": [
    {
     "name": "stdout",
     "output_type": "stream",
     "text": [
      "September (testing data set) before_error (MADE) of 95 : 6.989377\n",
      "September (testing data set) after_error (MADE) of 95 : 5.718768\n"
     ]
    }
   ],
   "source": [
    "old_x2=np.zeros([61,5112])\n",
    "old_y2=np.zeros([61,5112])\n",
    "fit_fx2=np.zeros([61,5112])\n",
    "for i in range (0,61):\n",
    "    for j in range (0,5112):\n",
    "        old_x2[i][j]=old_x[i+540][j]\n",
    "        old_y2[i][j]=old_y[i+540][j]\n",
    "        fit_fx2[i][j]=new_xfit[i][j]\n",
    "before2=abs(old_x2-old_y2)\n",
    "after2=abs(fit_fx2-old_y2)\n",
    "before_error2=np.nanmean(before2)\n",
    "after_error2=np.nanmean(after2)\n",
    "print(\"September (testing data set) before_error (MADE) of 95 : %f\" %before_error2)\n",
    "print(\"September (testing data set) after_error (MADE) of 95 : %f\" %after_error2)"
   ]
  },
  {
   "cell_type": "code",
   "execution_count": null,
   "id": "2d23c54e",
   "metadata": {},
   "outputs": [],
   "source": []
  },
  {
   "cell_type": "code",
   "execution_count": 36,
   "id": "873cd2d6",
   "metadata": {},
   "outputs": [
    {
     "name": "stdout",
     "output_type": "stream",
     "text": [
      "[0.01 0.02 0.03 0.04 0.05 0.06 0.07 0.08 0.09 0.1  0.11 0.12 0.13 0.14\n",
      " 0.15 0.16 0.17 0.18 0.19 0.2  0.21 0.22 0.23 0.24 0.25 0.26 0.27 0.28\n",
      " 0.29 0.3  0.31 0.32 0.33 0.34 0.35 0.36 0.37 0.38 0.39 0.4  0.41 0.42\n",
      " 0.43 0.44 0.45 0.46 0.47 0.48 0.49 0.5  0.51 0.52 0.53 0.54 0.55 0.56\n",
      " 0.57 0.58 0.59 0.6  0.61 0.62 0.63 0.64 0.65 0.66 0.67 0.68 0.69 0.7\n",
      " 0.71 0.72 0.73 0.74 0.75 0.76 0.77 0.78 0.79 0.8  0.81 0.82 0.83 0.84\n",
      " 0.85 0.86 0.87 0.88 0.89 0.9  0.91 0.92 0.93 0.94 0.95 0.96 0.97 0.98\n",
      " 0.99]\n"
     ]
    }
   ],
   "source": [
    "per = np.zeros(99)\n",
    "for i in range (0,99):\n",
    "    per[i]=0.01*(i+1)\n",
    "print(per)\n",
    "per_error = np.zeros(99)"
   ]
  },
  {
   "cell_type": "code",
   "execution_count": 9,
   "id": "8b00a659",
   "metadata": {
    "scrolled": true
   },
   "outputs": [
    {
     "name": "stdout",
     "output_type": "stream",
     "text": [
      "1\n"
     ]
    },
    {
     "ename": "NameError",
     "evalue": "name 'per' is not defined",
     "output_type": "error",
     "traceback": [
      "\u001b[0;31m---------------------------------------------------------------------------\u001b[0m",
      "\u001b[0;31mNameError\u001b[0m                                 Traceback (most recent call last)",
      "\u001b[0;32m/tmp/ipykernel_3146686/4221406435.py\u001b[0m in \u001b[0;36m<module>\u001b[0;34m\u001b[0m\n\u001b[1;32m      2\u001b[0m     \u001b[0mprint\u001b[0m\u001b[0;34m(\u001b[0m\u001b[0mz\u001b[0m\u001b[0;34m+\u001b[0m\u001b[0;36m1\u001b[0m\u001b[0;34m)\u001b[0m\u001b[0;34m\u001b[0m\u001b[0;34m\u001b[0m\u001b[0m\n\u001b[1;32m      3\u001b[0m     \u001b[0;31m## PCA90%\u001b[0m\u001b[0;34m\u001b[0m\u001b[0;34m\u001b[0m\u001b[0;34m\u001b[0m\u001b[0m\n\u001b[0;32m----> 4\u001b[0;31m     \u001b[0mpca90\u001b[0m \u001b[0;34m=\u001b[0m \u001b[0mPCA\u001b[0m\u001b[0;34m(\u001b[0m\u001b[0mn_components\u001b[0m\u001b[0;34m=\u001b[0m\u001b[0mper\u001b[0m\u001b[0;34m[\u001b[0m\u001b[0mz\u001b[0m\u001b[0;34m]\u001b[0m\u001b[0;34m)\u001b[0m\u001b[0;34m\u001b[0m\u001b[0;34m\u001b[0m\u001b[0m\n\u001b[0m\u001b[1;32m      5\u001b[0m     \u001b[0mpca90\u001b[0m\u001b[0;34m.\u001b[0m\u001b[0mfit\u001b[0m\u001b[0;34m(\u001b[0m\u001b[0mXhat\u001b[0m\u001b[0;34m)\u001b[0m\u001b[0;34m\u001b[0m\u001b[0;34m\u001b[0m\u001b[0m\n\u001b[1;32m      6\u001b[0m     \u001b[0;31m#\u001b[0m\u001b[0;34m\u001b[0m\u001b[0;34m\u001b[0m\u001b[0;34m\u001b[0m\u001b[0m\n",
      "\u001b[0;31mNameError\u001b[0m: name 'per' is not defined"
     ]
    }
   ],
   "source": [
    "for z in range (0,99):\n",
    "    print(z+1)\n",
    "    ## PCA90%\n",
    "    pca90 = PCA(n_components=per[z])\n",
    "    pca90.fit(Xhat)\n",
    "    #\n",
    "    x_pca90=pca90.transform(Xhat)\n",
    "    print(np.linalg.matrix_rank(x_pca90))\n",
    "    ### LinearRegression\n",
    "    model = LinearRegression()\n",
    "    model.fit(x_pca90, Yhat)\n",
    "    print(np.shape(model.coef_))\n",
    "    #\n",
    "    fit90=model.predict(x_pca90)\n",
    "    ### compare (training data)\n",
    "    fit90_test=fit90\n",
    "    \"\"\"\n",
    "    old data\n",
    "    \"\"\"\n",
    "    old_x=np.zeros([601,5112])\n",
    "    old_y=np.zeros([601,5112])\n",
    "    #data_cal\n",
    "    for i in range (1,602):\n",
    "        a=np.array(dd['VALUE'][5112*i:5112*i+5112])\n",
    "        for j in range(0,5112):\n",
    "            if a[j]=='NaN' :\n",
    "                a[j]=np.nan\n",
    "        old_x[i-1]=a\n",
    "    #data_obs\n",
    "    for i in range (0,601):\n",
    "        a=np.array(dd['OBS_VALUE'][5112*i:5112*i+5112])\n",
    "        for j in range(0,5112):\n",
    "            if a[j]=='NaN' :\n",
    "                a[j]=np.nan\n",
    "            if a[j]=='A' :\n",
    "                a[j]=np.nan\n",
    "            if a[j]=='*' :\n",
    "                a[j]=np.nan\n",
    "            if a[j]=='x' :\n",
    "                a[j]=np.nan  \n",
    "        old_y[i-1]=a\n",
    "    #\n",
    "    old_x1=np.zeros([540,5112])\n",
    "    old_y1=np.zeros([540,5112])\n",
    "    fit_fx1=np.zeros([540,5112])\n",
    "    for i in range (0,540):\n",
    "        for j in range (0,5112):\n",
    "            old_x1[i][j]=old_x[i][j]\n",
    "            old_y1[i][j]=old_y[i][j]\n",
    "            fit_fx1[i][j]=fit90_test[i][j]\n",
    "    before1=abs(old_x1-old_y1)\n",
    "    after1=abs(fit_fx1-old_y1)\n",
    "    before_error1=np.nanmean(before1)\n",
    "    after_error1=np.nanmean(after1)\n",
    "    ### compare (testing data)\n",
    "    \"\"\"\n",
    "    generate new cal\n",
    "    \"\"\"\n",
    "    x1=np.zeros([604,1704])\n",
    "    x2=np.zeros([604,5112])\n",
    "\n",
    "    #x1 (0th~1703th column as x)\n",
    "    for i in range (0,604):\n",
    "        for j in range (0,71):\n",
    "            a=np.array(data['pm25_obs'][5112*i+72*j:5112*i+72*j+24])\n",
    "            for k in range (0,24):\n",
    "                x1[i][j*24+k]=a[k]\n",
    "\n",
    "    #x2 (1704th~6816th column as x)\n",
    "    for i in range (1,604):\n",
    "        b=np.array(data['pm25_cal'][5112*i:5112*i+5112])\n",
    "        for j in range(0,5112):\n",
    "            x2[i-1][j]=b[j]\n",
    "\n",
    "    x1Restruct_Fun=x1\n",
    "    x2Restruct_Fun=x2\n",
    "    XRestruct_Fun=np.zeros([601,6816])\n",
    "    for i in range (0,601):\n",
    "        for j in range (0,1704):\n",
    "            XRestruct_Fun[i][j]=x1Restruct_Fun[i][j]\n",
    "        for j in range (1704,6816):\n",
    "            XRestruct_Fun[i][j]=x2Restruct_Fun[i][j-1704]\n",
    "\n",
    "    xf = np.zeros([61,6816])\n",
    "    for i in range (0,61):\n",
    "        for j in range(0,6816):\n",
    "            xf[i][j] = XRestruct_Fun[i+540][j]\n",
    "\n",
    "    new_xcal=pca90.transform(xf)\n",
    "    new_xfit=model.predict(new_xcal)\n",
    "\n",
    "    #\n",
    "    \"\"\"\n",
    "    old data\n",
    "    \"\"\"\n",
    "    old_x=np.zeros([601,5112])\n",
    "    old_y=np.zeros([601,5112])\n",
    "    #data_cal\n",
    "    for i in range (1,602):\n",
    "        a=np.array(dd['VALUE'][5112*i:5112*i+5112])\n",
    "        for j in range(0,5112):\n",
    "            if a[j]=='NaN' :\n",
    "                a[j]=np.nan\n",
    "        old_x[i-1]=a\n",
    "    #data_obs\n",
    "    for i in range (1,602):\n",
    "        a=np.array(dd['OBS_VALUE'][5112*i:5112*i+5112])\n",
    "        for j in range(0,5112):\n",
    "            if a[j]=='NaN' :\n",
    "                a[j]=np.nan\n",
    "            if a[j]=='A' :\n",
    "                a[j]=np.nan\n",
    "            if a[j]=='*' :\n",
    "                a[j]=np.nan\n",
    "            if a[j]=='x' :\n",
    "                a[j]=np.nan  \n",
    "        old_y[i-1]=a\n",
    "    #\n",
    "    old_x2=np.zeros([61,5112])\n",
    "    old_y2=np.zeros([61,5112])\n",
    "    fit_fx2=np.zeros([61,5112])\n",
    "    for i in range (0,61):\n",
    "        for j in range (0,5112):\n",
    "            old_x2[i][j]=old_x[i+540][j]\n",
    "            old_y2[i][j]=old_y[i+540][j]\n",
    "            fit_fx2[i][j]=new_xfit[i][j]\n",
    "    before2=abs(old_x2-old_y2)\n",
    "    after2=abs(fit_fx2-old_y2)\n",
    "    before_error2=np.nanmean(before2)\n",
    "    after_error2=np.nanmean(after2)    \n",
    "    print(\"January to August (training data set) before_error (MADE) of 90 : %f\" %before_error1)\n",
    "    print(\"January to August (training data set) after_error (MADE) of 90 : %f\" %after_error1)\n",
    "    print(\"September (testing data set) before_error (MADE) of 90 : %f\" %before_error2)\n",
    "    print(\"September (testing data set) after_error (MADE) of 90 : %f\" %after_error2)\n",
    "    per_error[z] = after_error2"
   ]
  },
  {
   "cell_type": "code",
   "execution_count": 38,
   "id": "c7cfd190",
   "metadata": {
    "scrolled": true
   },
   "outputs": [
    {
     "name": "stdout",
     "output_type": "stream",
     "text": [
      "[6.3466428  6.3466428  6.3466428  6.3466428  6.3466428  6.3466428\n",
      " 6.3466428  6.3466428  6.3466428  6.3466428  6.3466428  6.3466428\n",
      " 6.3466428  6.3466428  6.3466428  6.3466428  6.3466428  6.3466428\n",
      " 6.3466428  6.3466428  6.3466428  6.3466428  6.3466428  6.3466428\n",
      " 6.3466428  6.3466428  6.3466428  6.3466428  6.3466428  6.3466428\n",
      " 6.3466428  6.3466428  6.3466428  6.3466428  6.3466428  6.3466428\n",
      " 6.17989408 6.17989408 6.17989408 6.17989408 6.17989408 6.17989408\n",
      " 6.17989408 6.17989408 6.17989408 6.17989408 6.17989408 6.17989408\n",
      " 6.38954351 6.38954351 6.38954351 6.38954351 6.38954351 6.38954351\n",
      " 6.38954351 6.22348962 6.22348962 6.22348962 6.22348962 6.08456267\n",
      " 6.08456267 6.07643685 6.07643685 6.07643685 5.89402931 5.68002756\n",
      " 5.68002756 5.62004936 5.63702169 5.62717568 5.62302511 5.62302511\n",
      " 5.57182115 5.52282439 5.45632312 5.43828866 5.43359993 5.44846571\n",
      " 5.43481479 5.31026027 5.25796781 5.22436342 5.22722523 5.3165738\n",
      " 5.36139257 5.3549918  5.33443709 5.37461059 5.33616535 5.34546282\n",
      " 5.41061147 5.45567705 5.52829329 5.60102391 5.71876806 5.82991493\n",
      " 5.88708705 6.15046984 6.26331158]\n"
     ]
    }
   ],
   "source": [
    "print(per_error)"
   ]
  },
  {
   "cell_type": "code",
   "execution_count": 39,
   "id": "68c33a65",
   "metadata": {},
   "outputs": [
    {
     "name": "stdout",
     "output_type": "stream",
     "text": [
      "0.8200000000000001\n",
      "5.224363416035845\n"
     ]
    }
   ],
   "source": [
    "print(0.01*(np.argmin(per_error)+1))\n",
    "print(min(per_error))"
   ]
  },
  {
   "cell_type": "code",
   "execution_count": null,
   "id": "43ce5734",
   "metadata": {},
   "outputs": [],
   "source": []
  }
 ],
 "metadata": {
  "kernelspec": {
   "display_name": "chou",
   "language": "python",
   "name": "chou"
  },
  "language_info": {
   "codemirror_mode": {
    "name": "ipython",
    "version": 3
   },
   "file_extension": ".py",
   "mimetype": "text/x-python",
   "name": "python",
   "nbconvert_exporter": "python",
   "pygments_lexer": "ipython3",
   "version": "3.7.12"
  }
 },
 "nbformat": 4,
 "nbformat_minor": 5
}
