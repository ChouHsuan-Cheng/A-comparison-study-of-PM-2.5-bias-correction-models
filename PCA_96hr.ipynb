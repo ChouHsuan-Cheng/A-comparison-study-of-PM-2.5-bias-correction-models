{
 "cells": [
  {
   "cell_type": "code",
   "execution_count": 1,
   "id": "66efb4da",
   "metadata": {},
   "outputs": [],
   "source": [
    "import numpy as np\n",
    "import pandas as pd\n",
    "import matplotlib.pyplot as plt\n",
    "from sklearn.decomposition import PCA\n",
    "from sklearn.linear_model import LinearRegression"
   ]
  },
  {
   "cell_type": "markdown",
   "id": "a292841b",
   "metadata": {},
   "source": [
    "# Read data"
   ]
  },
  {
   "cell_type": "code",
   "execution_count": 2,
   "id": "ef1f00c1",
   "metadata": {},
   "outputs": [],
   "source": [
    "data=pd.read_csv('/home/luhung3080/Desktop/PycharmProjects/NCHUproject/Transformer/data_final.csv')\n",
    "data0=pd.read_csv('/home/luhung3080/Desktop/PycharmProjects/Data/newdata/result.csv')\n",
    "dd = data0.drop(data0[data0['TAU'] == 0].index)"
   ]
  },
  {
   "cell_type": "markdown",
   "id": "a96ce28c",
   "metadata": {},
   "source": [
    "# Generate X Y "
   ]
  },
  {
   "cell_type": "code",
   "execution_count": 3,
   "id": "45a260e2",
   "metadata": {},
   "outputs": [
    {
     "name": "stdout",
     "output_type": "stream",
     "text": [
      "(604, 1704)\n",
      "(604, 5112)\n"
     ]
    }
   ],
   "source": [
    "x1=np.zeros([604,1704])\n",
    "x2=np.zeros([604,5112])\n",
    "\n",
    "#x1 (0th~1703th column as x)\n",
    "for i in range (0,604):\n",
    "    for j in range (0,71):\n",
    "        a=np.array(data['pm25_obs'][5112*i+72*j:5112*i+72*j+24])\n",
    "        for k in range (0,24):\n",
    "            x1[i][j*24+k]=a[k]\n",
    "\n",
    "#x2 (1704th~8519th column as x)\n",
    "for i in range (1,604):\n",
    "    b=np.array(data['pm25_cal'][5112*i:5112*i+5112])\n",
    "    for j in range(0,5112):\n",
    "        x2[i-1][j]=b[j]\n",
    "        \n",
    "print(np.shape(x1))\n",
    "print(np.shape(x2))"
   ]
  },
  {
   "cell_type": "code",
   "execution_count": 4,
   "id": "927711eb",
   "metadata": {},
   "outputs": [
    {
     "name": "stdout",
     "output_type": "stream",
     "text": [
      "(604, 1704)\n",
      "(604, 5112)\n"
     ]
    }
   ],
   "source": [
    "x1Restruct_Fun=x1\n",
    "x2Restruct_Fun=x2\n",
    "print(np.shape(x1Restruct_Fun))\n",
    "print(np.shape(x2Restruct_Fun))"
   ]
  },
  {
   "cell_type": "code",
   "execution_count": 5,
   "id": "439869e0",
   "metadata": {},
   "outputs": [
    {
     "name": "stdout",
     "output_type": "stream",
     "text": [
      "(601, 5112)\n"
     ]
    }
   ],
   "source": [
    "YRestruct_Fun=np.zeros([601,5112])\n",
    "for j in range (0,71):\n",
    "    for i in range(0,601):\n",
    "        YRestruct_Fun[i][72*j:72*j+24]=x1Restruct_Fun[1+i][24*j:24*j+24]\n",
    "        YRestruct_Fun[i][72*j+24:72*j+48]=x1Restruct_Fun[1+i+1][24*j:24*j+24]\n",
    "        YRestruct_Fun[i][72*j+48:72*j+72]=x1Restruct_Fun[1+i+2][24*j:24*j+24]\n",
    "print(np.shape(YRestruct_Fun))"
   ]
  },
  {
   "cell_type": "code",
   "execution_count": 6,
   "id": "47354c54",
   "metadata": {},
   "outputs": [
    {
     "name": "stdout",
     "output_type": "stream",
     "text": [
      "(601, 6816)\n"
     ]
    }
   ],
   "source": [
    "XRestruct_Fun=np.zeros([601,6816])\n",
    "for i in range (0,601):\n",
    "    for j in range (0,1704):\n",
    "        XRestruct_Fun[i][j]=x1Restruct_Fun[i][j]\n",
    "    for j in range (1704,6816):\n",
    "        XRestruct_Fun[i][j]=x2Restruct_Fun[i][j-1704]\n",
    "print(np.shape(XRestruct_Fun))"
   ]
  },
  {
   "cell_type": "code",
   "execution_count": 7,
   "id": "50edd81a",
   "metadata": {},
   "outputs": [
    {
     "name": "stdout",
     "output_type": "stream",
     "text": [
      "Xhat\n",
      "(540, 6816)\n",
      "Yhat\n",
      "(540, 5112)\n"
     ]
    }
   ],
   "source": [
    "Xhat=np.zeros([540,6816])\n",
    "Yhat=np.zeros([540,5112])\n",
    "for i in range (0,540):\n",
    "    for j in range (0,5112):\n",
    "        Xhat[i][j]=XRestruct_Fun[i][j]\n",
    "        Yhat[i][j]=YRestruct_Fun[i][j]\n",
    "print('Xhat')\n",
    "#print(Xhat)\n",
    "print(np.shape(Xhat))\n",
    "print('Yhat')\n",
    "#print(Yhat)\n",
    "print(np.shape(Yhat))"
   ]
  },
  {
   "cell_type": "markdown",
   "id": "d415392e",
   "metadata": {},
   "source": [
    "# PCA & Linear regression"
   ]
  },
  {
   "cell_type": "code",
   "execution_count": 8,
   "id": "f2f4e1b1",
   "metadata": {},
   "outputs": [],
   "source": [
    "per = np.zeros(99)\n",
    "for i in range (0,99):\n",
    "    per[i]=0.01*(i+1)\n",
    "per_error = np.zeros(99)"
   ]
  },
  {
   "cell_type": "code",
   "execution_count": 9,
   "id": "6b36a780",
   "metadata": {},
   "outputs": [],
   "source": [
    "for z in range (0,99):\n",
    "    pca = PCA(n_components=per[z])\n",
    "    pca.fit(Xhat)\n",
    "    x_pca=pca.transform(Xhat)\n",
    "\n",
    "    model = LinearRegression()\n",
    "    model.fit(x_pca, Yhat)\n",
    "\n",
    "    \"\"\"\n",
    "    generate new cal\n",
    "    \"\"\"\n",
    "    x1=np.zeros([604,1704])\n",
    "    x2=np.zeros([604,5112])\n",
    "    #x1 (0th~1703th column as x)\n",
    "    for i in range (0,604):\n",
    "        for j in range (0,71):\n",
    "            a=np.array(data['pm25_obs'][5112*i+72*j:5112*i+72*j+24])\n",
    "            for k in range (0,24):\n",
    "                x1[i][j*24+k]=a[k]\n",
    "\n",
    "    #x2 (1704th~6816th column as x)\n",
    "    for i in range (1,604):\n",
    "        b=np.array(data['pm25_cal'][5112*i:5112*i+5112])\n",
    "        for j in range(0,5112):\n",
    "            x2[i-1][j]=b[j]\n",
    "    x1Restruct_Fun=x1\n",
    "    x2Restruct_Fun=x2\n",
    "    \n",
    "    XRestruct_Fun=np.zeros([601,6816])\n",
    "    for i in range (0,601):\n",
    "        for j in range (0,1704):\n",
    "            XRestruct_Fun[i][j]=x1Restruct_Fun[i][j]\n",
    "        for j in range (1704,6816):\n",
    "            XRestruct_Fun[i][j]=x2Restruct_Fun[i][j-1704]\n",
    "\n",
    "    xf = np.zeros([61,6816])\n",
    "    for i in range (0,61):\n",
    "        for j in range(0,6816):\n",
    "            xf[i][j] = XRestruct_Fun[i+540][j]\n",
    "\n",
    "    new_xcal=pca.transform(xf)\n",
    "    new_xfit=model.predict(new_xcal)\n",
    "\n",
    "    #\n",
    "    \"\"\"\n",
    "    old data\n",
    "    \"\"\"\n",
    "    old_x=np.zeros([601,5112])\n",
    "    old_y=np.zeros([601,5112])\n",
    "    #data_cal\n",
    "    for i in range (1,602):\n",
    "        a=np.array(dd['VALUE'][5112*i:5112*i+5112])\n",
    "        for j in range(0,5112):\n",
    "            if a[j]=='NaN' :\n",
    "                a[j]=np.nan\n",
    "        old_x[i-1]=a\n",
    "    #data_obs\n",
    "    for i in range (1,602):\n",
    "        a=np.array(dd['OBS_VALUE'][5112*i:5112*i+5112])\n",
    "        for j in range(0,5112):\n",
    "            if a[j]=='NaN' :\n",
    "                a[j]=np.nan\n",
    "            if a[j]=='A' :\n",
    "                a[j]=np.nan\n",
    "            if a[j]=='*' :\n",
    "                a[j]=np.nan\n",
    "            if a[j]=='x' :\n",
    "                a[j]=np.nan  \n",
    "        old_y[i-1]=a\n",
    "        \n",
    "    old_x2=np.zeros([61,5112])\n",
    "    old_y2=np.zeros([61,5112])\n",
    "    fit_fx2=np.zeros([61,5112])\n",
    "    for i in range (0,61):\n",
    "        for j in range (0,5112):\n",
    "            old_x2[i][j]=old_x[i+540][j]\n",
    "            old_y2[i][j]=old_y[i+540][j]\n",
    "            fit_fx2[i][j]=new_xfit[i][j]\n",
    "    before2=abs(old_x2-old_y2)\n",
    "    after2=abs(fit_fx2-old_y2)\n",
    "    before_error2=np.nanmean(before2)\n",
    "    after_error2=np.nanmean(after2)    \n",
    "\n",
    "    per_error[z] = after_error2"
   ]
  },
  {
   "cell_type": "markdown",
   "id": "65f9f5ee",
   "metadata": {},
   "source": [
    "# Result"
   ]
  },
  {
   "cell_type": "code",
   "execution_count": 10,
   "id": "3969b827",
   "metadata": {},
   "outputs": [
    {
     "name": "stdout",
     "output_type": "stream",
     "text": [
      "[6.3466428  6.3466428  6.3466428  6.3466428  6.3466428  6.3466428\n",
      " 6.3466428  6.3466428  6.3466428  6.3466428  6.3466428  6.3466428\n",
      " 6.3466428  6.3466428  6.3466428  6.3466428  6.3466428  6.3466428\n",
      " 6.3466428  6.3466428  6.3466428  6.3466428  6.3466428  6.3466428\n",
      " 6.3466428  6.3466428  6.3466428  6.3466428  6.3466428  6.3466428\n",
      " 6.3466428  6.3466428  6.3466428  6.3466428  6.3466428  6.3466428\n",
      " 6.17989408 6.17989408 6.17989408 6.17989408 6.17989408 6.17989408\n",
      " 6.17989408 6.17989408 6.17989408 6.17989408 6.17989408 6.17989408\n",
      " 6.38954351 6.38954351 6.38954351 6.38954351 6.38954351 6.38954351\n",
      " 6.38954351 6.22348962 6.22348962 6.22348962 6.22348962 6.08456267\n",
      " 6.08456267 6.07643685 6.07643685 6.07643685 5.89402931 5.68002756\n",
      " 5.68002756 5.62004936 5.63702169 5.62717568 5.62302511 5.62302511\n",
      " 5.57182115 5.52282439 5.45632312 5.43828866 5.43359993 5.44846571\n",
      " 5.43481479 5.31026027 5.25796781 5.22436342 5.22722523 5.3165738\n",
      " 5.36139257 5.3549918  5.33443709 5.37461059 5.33616535 5.34546282\n",
      " 5.41061147 5.45567705 5.52829329 5.60102391 5.71876806 5.82991493\n",
      " 5.88708705 6.15046984 6.26331158]\n"
     ]
    }
   ],
   "source": [
    "print(per_error)"
   ]
  },
  {
   "cell_type": "code",
   "execution_count": 11,
   "id": "b5b1c3cc",
   "metadata": {},
   "outputs": [
    {
     "name": "stdout",
     "output_type": "stream",
     "text": [
      "on 82 % PCA have the min MAE error : 5.224363416035845\n"
     ]
    }
   ],
   "source": [
    "print('on', np.argmin(per_error)+1, '% PCA', 'have the min MAE error :', min(per_error))"
   ]
  },
  {
   "cell_type": "code",
   "execution_count": null,
   "id": "4603e019",
   "metadata": {},
   "outputs": [],
   "source": []
  }
 ],
 "metadata": {
  "kernelspec": {
   "display_name": "chou",
   "language": "python",
   "name": "chou"
  },
  "language_info": {
   "codemirror_mode": {
    "name": "ipython",
    "version": 3
   },
   "file_extension": ".py",
   "mimetype": "text/x-python",
   "name": "python",
   "nbconvert_exporter": "python",
   "pygments_lexer": "ipython3",
   "version": "3.7.12"
  }
 },
 "nbformat": 4,
 "nbformat_minor": 5
}
