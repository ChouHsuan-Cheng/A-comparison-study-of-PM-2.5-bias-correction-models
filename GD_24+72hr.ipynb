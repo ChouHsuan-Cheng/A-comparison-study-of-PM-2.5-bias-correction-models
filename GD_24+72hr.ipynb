{
 "cells": [
  {
   "cell_type": "code",
   "execution_count": 1,
   "id": "a72127d5",
   "metadata": {},
   "outputs": [
    {
     "name": "stdout",
     "output_type": "stream",
     "text": [
      "pytorch ver .  1.11.0+cu113\n",
      "Is CUDA available? True\n"
     ]
    },
    {
     "name": "stderr",
     "output_type": "stream",
     "text": [
      "/home/luhung3080/miniconda3/envs/chou/lib/python3.7/site-packages/tqdm/auto.py:22: TqdmWarning: IProgress not found. Please update jupyter and ipywidgets. See https://ipywidgets.readthedocs.io/en/stable/user_install.html\n",
      "  from .autonotebook import tqdm as notebook_tqdm\n"
     ]
    }
   ],
   "source": [
    "import numpy as np\n",
    "import pandas as pd\n",
    "import matplotlib.pyplot as plt\n",
    "import torch\n",
    "print(\"pytorch ver . \",torch.__version__)\n",
    "print(\"Is CUDA available?\",torch.cuda.is_available())\n",
    "import torch.nn as nn\n",
    "import torch.optim as optim"
   ]
  },
  {
   "cell_type": "markdown",
   "id": "b9ce9915",
   "metadata": {},
   "source": [
    "# Read data"
   ]
  },
  {
   "cell_type": "code",
   "execution_count": 4,
   "id": "59b70f58",
   "metadata": {},
   "outputs": [],
   "source": [
    "data=pd.read_csv('/home/luhung3080/Desktop/PycharmProjects/NCHUproject/Transformer/data_final.csv')"
   ]
  },
  {
   "cell_type": "markdown",
   "id": "f55c760f",
   "metadata": {},
   "source": [
    "# Generate X Y "
   ]
  },
  {
   "cell_type": "code",
   "execution_count": 5,
   "id": "ef166d55",
   "metadata": {},
   "outputs": [
    {
     "name": "stdout",
     "output_type": "stream",
     "text": [
      "(604, 1704)\n",
      "(604, 5112)\n"
     ]
    }
   ],
   "source": [
    "x1=np.zeros([604,1704])\n",
    "x2=np.zeros([604,5112])\n",
    "\n",
    "#x1 (0th~1703th column as x)\n",
    "for i in range (0,604):\n",
    "    for j in range (0,71):\n",
    "        a=np.array(data['pm25_obs'][5112*i+72*j:5112*i+72*j+24])\n",
    "        for k in range (0,24):\n",
    "            x1[i][j*24+k]=a[k]\n",
    "\n",
    "#x2 (1704th~8519th column as x)\n",
    "for i in range (1,604):\n",
    "    b=np.array(data['pm25_cal'][5112*i:5112*i+5112])\n",
    "    for j in range(0,5112):\n",
    "        x2[i-1][j]=b[j]\n",
    "        \n",
    "print(np.shape(x1))\n",
    "print(np.shape(x2))"
   ]
  },
  {
   "cell_type": "code",
   "execution_count": 6,
   "id": "63cbbb1f",
   "metadata": {},
   "outputs": [
    {
     "name": "stdout",
     "output_type": "stream",
     "text": [
      "(604, 1704)\n",
      "(604, 5112)\n"
     ]
    }
   ],
   "source": [
    "x1Restruct_Fun=x1\n",
    "x2Restruct_Fun=x2\n",
    "print(np.shape(x1Restruct_Fun))\n",
    "print(np.shape(x2Restruct_Fun))"
   ]
  },
  {
   "cell_type": "code",
   "execution_count": 7,
   "id": "3e320247",
   "metadata": {},
   "outputs": [
    {
     "name": "stdout",
     "output_type": "stream",
     "text": [
      "(601, 5112)\n"
     ]
    }
   ],
   "source": [
    "YRestruct_Fun=np.zeros([601,5112])\n",
    "for j in range (0,71):\n",
    "    for i in range(0,601):\n",
    "        YRestruct_Fun[i][72*j:72*j+24]=x1Restruct_Fun[1+i][24*j:24*j+24]\n",
    "        YRestruct_Fun[i][72*j+24:72*j+48]=x1Restruct_Fun[1+i+1][24*j:24*j+24]\n",
    "        YRestruct_Fun[i][72*j+48:72*j+72]=x1Restruct_Fun[1+i+2][24*j:24*j+24]\n",
    "print(np.shape(YRestruct_Fun))"
   ]
  },
  {
   "cell_type": "code",
   "execution_count": 8,
   "id": "f0e49fc4",
   "metadata": {},
   "outputs": [
    {
     "name": "stdout",
     "output_type": "stream",
     "text": [
      "(601, 6816)\n"
     ]
    }
   ],
   "source": [
    "XRestruct_Fun=np.zeros([601,6816])\n",
    "for i in range (0,601):\n",
    "    for j in range (0,1704):\n",
    "        XRestruct_Fun[i][j]=x1Restruct_Fun[i][j]\n",
    "    for j in range (1704,6816):\n",
    "        XRestruct_Fun[i][j]=x2Restruct_Fun[i][j-1704]\n",
    "print(np.shape(XRestruct_Fun))"
   ]
  },
  {
   "cell_type": "code",
   "execution_count": 9,
   "id": "af55b387",
   "metadata": {},
   "outputs": [
    {
     "name": "stdout",
     "output_type": "stream",
     "text": [
      "X1hat_train\n",
      "(540, 1704)\n",
      "X2hat_train\n",
      "(540, 5112)\n",
      "Yhat_train\n",
      "(540, 5112)\n",
      "X1hat_test\n",
      "(61, 1704)\n",
      "X2hat_test\n",
      "(61, 5112)\n",
      "Yhat_test\n",
      "(61, 5112)\n"
     ]
    }
   ],
   "source": [
    "Xhat=XRestruct_Fun\n",
    "Yhat=YRestruct_Fun\n",
    "X1hat_train = np.zeros([540,1704])\n",
    "X2hat_train = np.zeros([540,5112])\n",
    "Yhat_train = np.zeros([540,5112])\n",
    "X1hat_test = np.zeros([61,1704])\n",
    "X2hat_test = np.zeros([61,5112])\n",
    "Yhat_test = np.zeros([61,5112])\n",
    "for i in range (0,540):\n",
    "    for j in range (0,1704):\n",
    "        X1hat_train[i][j] = Xhat[i][j]\n",
    "    for j in range (1704,6816):\n",
    "        X2hat_train[i][j-1704] = Xhat[i][j]\n",
    "    for j in range (0,5112):\n",
    "        Yhat_train[i][j] = Yhat[i][j]\n",
    "for i in range (540,601):\n",
    "    for j in range (0,1704):\n",
    "        X1hat_test[i-540][j] = Xhat[i][j]    \n",
    "    for j in range (1704,6816):\n",
    "        X2hat_test[i-540][j-1704] = Xhat[i][j]\n",
    "    for j in range (0,5112):     \n",
    "        Yhat_test[i-540][j] = Yhat[i][j]\n",
    "        \n",
    "print('X1hat_train')\n",
    "#print(X1hat_train)\n",
    "print(np.shape(X1hat_train))\n",
    "print('X2hat_train')\n",
    "#print(X2hat_train)\n",
    "print(np.shape(X2hat_train))\n",
    "print('Yhat_train')\n",
    "#print(Yhat_train)\n",
    "print(np.shape(Yhat_train))\n",
    "print('X1hat_test')\n",
    "#print(X1hat_test)\n",
    "print(np.shape(X1hat_test))\n",
    "print('X2hat_test')\n",
    "#print(X2hat_test)\n",
    "print(np.shape(X2hat_test))\n",
    "print('Yhat_test')\n",
    "#print(Yhat_test)\n",
    "print(np.shape(Yhat_test))"
   ]
  },
  {
   "cell_type": "markdown",
   "id": "e2197b8e",
   "metadata": {},
   "source": [
    "# Modeling"
   ]
  },
  {
   "cell_type": "code",
   "execution_count": 10,
   "id": "66629602",
   "metadata": {},
   "outputs": [],
   "source": [
    "x1 = X1hat_train\n",
    "x2 = X2hat_train\n",
    "y = Yhat_train\n",
    "xt1 = X1hat_test\n",
    "xt2 = X2hat_test\n",
    "yt = Yhat_test"
   ]
  },
  {
   "cell_type": "code",
   "execution_count": 11,
   "id": "54d3e9e1",
   "metadata": {},
   "outputs": [],
   "source": [
    "def model (x1,x2,b0,b1,b2):\n",
    "    y = b0 +  torch.matmul(x1,b1) + torch.matmul(x2,b2)\n",
    "#    y = b0 + torch.matmul(x2,b2)\n",
    "    return y"
   ]
  },
  {
   "cell_type": "code",
   "execution_count": 12,
   "id": "10fc4656",
   "metadata": {
    "scrolled": true
   },
   "outputs": [
    {
     "name": "stdout",
     "output_type": "stream",
     "text": [
      "Epoch 0, Training loss 94251.3672, Testing loss 99211.3229\n",
      "Epoch 1, Training loss 94157.1016, Testing loss 99112.0035\n",
      "Epoch 2, Training loss 94062.8438, Testing loss 99012.6836\n",
      "Epoch 3, Training loss 93968.5703, Testing loss 98913.3581\n",
      "Epoch 4, Training loss 93874.3125, Testing loss 98814.0281\n",
      "Epoch 5, Training loss 93780.0391, Testing loss 98714.7157\n",
      "Epoch 6, Training loss 93685.7812, Testing loss 98615.4018\n",
      "Epoch 7, Training loss 93591.5312, Testing loss 98516.0701\n",
      "Epoch 8, Training loss 93497.2500, Testing loss 98416.7487\n",
      "Epoch 9, Training loss 93402.9844, Testing loss 98317.4209\n",
      "Epoch 10, Training loss 93308.7188, Testing loss 98218.1048\n",
      "Epoch 20, Training loss 92366.0625, Testing loss 97224.9121\n",
      "Epoch 30, Training loss 91423.4141, Testing loss 96231.6494\n",
      "Epoch 40, Training loss 90480.7656, Testing loss 95238.4402\n",
      "Epoch 50, Training loss 89538.1016, Testing loss 94245.2122\n",
      "Epoch 60, Training loss 88595.4609, Testing loss 93251.9930\n",
      "Epoch 70, Training loss 87652.8125, Testing loss 92258.7816\n",
      "Epoch 80, Training loss 86710.1484, Testing loss 91265.5516\n",
      "Epoch 90, Training loss 85767.5000, Testing loss 90272.3267\n",
      "Epoch 100, Training loss 84824.8438, Testing loss 89279.1033\n",
      "Epoch 110, Training loss 83882.1953, Testing loss 88285.8787\n",
      "Epoch 120, Training loss 82939.5625, Testing loss 87292.6604\n",
      "Epoch 130, Training loss 81996.8984, Testing loss 86299.4366\n",
      "Epoch 140, Training loss 81054.2422, Testing loss 85306.2196\n",
      "Epoch 150, Training loss 80111.5938, Testing loss 84312.9909\n",
      "Epoch 160, Training loss 79168.9375, Testing loss 83319.7766\n",
      "Epoch 170, Training loss 78226.2891, Testing loss 82326.5502\n",
      "Epoch 180, Training loss 77283.6328, Testing loss 81333.3321\n",
      "Epoch 190, Training loss 76340.9688, Testing loss 80340.1063\n",
      "Epoch 200, Training loss 75398.3281, Testing loss 79346.8876\n",
      "Epoch 210, Training loss 74455.6797, Testing loss 78353.6717\n",
      "Epoch 220, Training loss 73513.0234, Testing loss 77360.4498\n",
      "Epoch 230, Training loss 72570.3750, Testing loss 76367.2197\n",
      "Epoch 240, Training loss 71627.7109, Testing loss 75374.0112\n",
      "Epoch 250, Training loss 70685.0547, Testing loss 74380.7829\n",
      "Epoch 260, Training loss 69742.4219, Testing loss 73387.5525\n",
      "Epoch 270, Training loss 68799.7734, Testing loss 72394.3427\n",
      "Epoch 280, Training loss 67857.1172, Testing loss 71401.1138\n",
      "Epoch 290, Training loss 66914.4609, Testing loss 70407.8920\n",
      "Epoch 300, Training loss 65971.8125, Testing loss 69414.6690\n",
      "Epoch 310, Training loss 65029.1562, Testing loss 68421.4485\n",
      "Epoch 320, Training loss 64086.5000, Testing loss 67428.2224\n",
      "Epoch 330, Training loss 63143.8477, Testing loss 66435.0053\n",
      "Epoch 340, Training loss 62201.2031, Testing loss 65441.7847\n",
      "Epoch 350, Training loss 61258.5430, Testing loss 64448.5599\n",
      "Epoch 360, Training loss 60315.8984, Testing loss 63455.3405\n",
      "Epoch 370, Training loss 59373.2344, Testing loss 62462.1152\n",
      "Epoch 380, Training loss 58430.5938, Testing loss 61468.8972\n",
      "Epoch 390, Training loss 57487.9414, Testing loss 60475.6808\n",
      "Epoch 400, Training loss 56545.2773, Testing loss 59482.4536\n",
      "Epoch 410, Training loss 55602.6289, Testing loss 58489.2298\n",
      "Epoch 420, Training loss 54659.9727, Testing loss 57496.0065\n",
      "Epoch 430, Training loss 53717.3320, Testing loss 56502.7866\n",
      "Epoch 440, Training loss 52774.6680, Testing loss 55509.5552\n",
      "Epoch 450, Training loss 51832.0156, Testing loss 54516.3403\n",
      "Epoch 460, Training loss 50889.3711, Testing loss 53523.1225\n",
      "Epoch 470, Training loss 49946.7188, Testing loss 52529.9003\n",
      "Epoch 480, Training loss 49004.0664, Testing loss 51536.6758\n",
      "Epoch 490, Training loss 48061.4141, Testing loss 50543.4530\n",
      "Epoch 500, Training loss 47118.7656, Testing loss 49550.2317\n",
      "Epoch 510, Training loss 46176.1016, Testing loss 48557.0099\n",
      "Epoch 520, Training loss 45233.4531, Testing loss 47563.7788\n",
      "Epoch 530, Training loss 44290.8008, Testing loss 46570.5655\n",
      "Epoch 540, Training loss 43348.1523, Testing loss 45577.3448\n",
      "Epoch 550, Training loss 42405.4922, Testing loss 44584.1260\n",
      "Epoch 560, Training loss 41462.8438, Testing loss 43590.9022\n",
      "Epoch 570, Training loss 40520.1914, Testing loss 42597.6803\n",
      "Epoch 580, Training loss 39577.5391, Testing loss 41604.4553\n",
      "Epoch 590, Training loss 38634.8867, Testing loss 40611.2369\n",
      "Epoch 600, Training loss 37692.2383, Testing loss 39618.0102\n",
      "Epoch 610, Training loss 36749.5820, Testing loss 38624.7998\n",
      "Epoch 620, Training loss 35806.9336, Testing loss 37631.5734\n",
      "Epoch 630, Training loss 34864.2812, Testing loss 36638.3496\n",
      "Epoch 640, Training loss 33921.6289, Testing loss 35645.1353\n",
      "Epoch 650, Training loss 32978.9766, Testing loss 34651.9061\n",
      "Epoch 660, Training loss 32036.3203, Testing loss 33658.6851\n",
      "Epoch 670, Training loss 31093.6719, Testing loss 32665.4633\n",
      "Epoch 680, Training loss 30151.0156, Testing loss 31672.2402\n",
      "Epoch 690, Training loss 29208.3672, Testing loss 30679.0172\n",
      "Epoch 700, Training loss 28265.7148, Testing loss 29685.7977\n",
      "Epoch 710, Training loss 27323.0605, Testing loss 28692.5789\n",
      "Epoch 720, Training loss 26380.4082, Testing loss 27699.3522\n",
      "Epoch 730, Training loss 25437.7578, Testing loss 26706.1329\n",
      "Epoch 740, Training loss 24495.1094, Testing loss 25712.9095\n",
      "Epoch 750, Training loss 23552.4512, Testing loss 24719.6873\n",
      "Epoch 760, Training loss 22609.7930, Testing loss 23726.4576\n",
      "Epoch 770, Training loss 21667.1387, Testing loss 22733.2304\n",
      "Epoch 780, Training loss 20724.4785, Testing loss 21740.0043\n",
      "Epoch 790, Training loss 19781.8184, Testing loss 20746.7747\n",
      "Epoch 800, Training loss 18839.1602, Testing loss 19753.5463\n",
      "Epoch 810, Training loss 17896.5039, Testing loss 18760.3169\n",
      "Epoch 820, Training loss 16953.8438, Testing loss 17767.0902\n",
      "Epoch 830, Training loss 16011.1875, Testing loss 16773.8621\n",
      "Epoch 840, Training loss 15068.5283, Testing loss 15780.6339\n",
      "Epoch 850, Training loss 14125.8691, Testing loss 14787.4058\n",
      "Epoch 860, Training loss 13183.2139, Testing loss 13794.1777\n",
      "Epoch 870, Training loss 12240.5527, Testing loss 12800.9500\n",
      "Epoch 880, Training loss 11297.8955, Testing loss 11807.7219\n",
      "Epoch 890, Training loss 10355.2383, Testing loss 10814.4933\n",
      "Epoch 900, Training loss 9412.5801, Testing loss 9821.2663\n",
      "Epoch 910, Training loss 8469.9229, Testing loss 8828.0384\n",
      "Epoch 920, Training loss 7527.2637, Testing loss 7834.8116\n",
      "Epoch 930, Training loss 6584.6064, Testing loss 6841.5834\n",
      "Epoch 940, Training loss 5641.9482, Testing loss 5848.3558\n",
      "Epoch 950, Training loss 4699.2900, Testing loss 4855.1276\n",
      "Epoch 960, Training loss 3756.6323, Testing loss 3861.8997\n",
      "Epoch 970, Training loss 2813.9741, Testing loss 2868.6717\n",
      "Epoch 980, Training loss 1871.3162, Testing loss 1875.4437\n",
      "Epoch 990, Training loss 928.6579, Testing loss 882.2158\n",
      "Epoch 1000, Training loss 14.0086, Testing loss 91.3021\n",
      "Epoch 1010, Training loss 177.4473, Testing loss 146.9759\n",
      "Epoch 1020, Training loss 98.3084, Testing loss 87.1531\n",
      "Epoch 1030, Training loss 19.2719, Testing loss 17.6618\n",
      "Epoch 1040, Training loss 23.0043, Testing loss 8.4666\n",
      "Epoch 1050, Training loss 9.7066, Testing loss 14.2362\n",
      "Epoch 1060, Training loss 8.8296, Testing loss 7.0390\n",
      "Epoch 1070, Training loss 5.8946, Testing loss 7.0061\n",
      "Epoch 1080, Training loss 5.2556, Testing loss 5.6471\n",
      "Epoch 1090, Training loss 4.8023, Testing loss 5.2154\n",
      "Epoch 1100, Training loss 4.5145, Testing loss 5.0303\n",
      "Epoch 1110, Training loss 4.2937, Testing loss 4.9766\n",
      "Epoch 1120, Training loss 4.1187, Testing loss 5.0050\n",
      "Epoch 1130, Training loss 3.9957, Testing loss 5.0180\n",
      "Epoch 1140, Training loss 3.8956, Testing loss 5.0500\n",
      "Epoch 1150, Training loss 3.8234, Testing loss 5.0949\n",
      "Epoch 1160, Training loss 3.7711, Testing loss 5.1399\n",
      "Epoch 1170, Training loss 3.7142, Testing loss 5.1861\n",
      "Epoch 1180, Training loss 3.7143, Testing loss 5.2536\n",
      "Epoch 1190, Training loss 3.6931, Testing loss 5.3197\n",
      "Epoch 1200, Training loss 3.7289, Testing loss 5.4257\n",
      "Epoch 1210, Training loss 3.7541, Testing loss 5.4869\n",
      "Epoch 1220, Training loss 3.8222, Testing loss 5.6161\n",
      "Epoch 1230, Training loss 3.8950, Testing loss 5.7232\n",
      "Epoch 1240, Training loss 3.9854, Testing loss 5.8379\n",
      "Epoch 1250, Training loss 4.0543, Testing loss 5.9314\n",
      "Epoch 1260, Training loss 4.1420, Testing loss 6.0605\n",
      "Epoch 1270, Training loss 4.2895, Testing loss 6.1844\n",
      "Epoch 1280, Training loss 4.4010, Testing loss 6.3343\n",
      "Epoch 1290, Training loss 4.5209, Testing loss 6.4707\n"
     ]
    },
    {
     "name": "stdout",
     "output_type": "stream",
     "text": [
      "Epoch 1300, Training loss 4.6463, Testing loss 6.5533\n",
      "Epoch 1310, Training loss 4.7598, Testing loss 6.7171\n",
      "Epoch 1320, Training loss 4.9274, Testing loss 6.8070\n",
      "Epoch 1330, Training loss 4.9417, Testing loss 6.8947\n",
      "Epoch 1340, Training loss 5.1124, Testing loss 6.9655\n",
      "Epoch 1350, Training loss 5.2051, Testing loss 7.1257\n",
      "Epoch 1360, Training loss 5.2191, Testing loss 7.1722\n",
      "Epoch 1370, Training loss 5.3030, Testing loss 7.2666\n",
      "Epoch 1380, Training loss 5.4309, Testing loss 7.3878\n",
      "Epoch 1390, Training loss 5.3960, Testing loss 7.3938\n",
      "Epoch 1400, Training loss 5.4279, Testing loss 7.3925\n",
      "Epoch 1410, Training loss 5.5086, Testing loss 7.4695\n",
      "Epoch 1420, Training loss 5.5795, Testing loss 7.5880\n",
      "Epoch 1430, Training loss 5.6629, Testing loss 7.5991\n",
      "Epoch 1440, Training loss 5.6940, Testing loss 7.6627\n",
      "Epoch 1450, Training loss 5.6699, Testing loss 7.7053\n",
      "Epoch 1460, Training loss 5.7150, Testing loss 7.7440\n",
      "Epoch 1470, Training loss 5.7346, Testing loss 7.7366\n",
      "Epoch 1480, Training loss 5.8456, Testing loss 7.8183\n",
      "Epoch 1490, Training loss 5.8364, Testing loss 7.8068\n",
      "Epoch 1500, Training loss 5.8907, Testing loss 7.9086\n",
      "Epoch 1510, Training loss 5.8656, Testing loss 7.9421\n",
      "Epoch 1520, Training loss 5.9115, Testing loss 7.9921\n",
      "Epoch 1530, Training loss 5.9486, Testing loss 7.9780\n",
      "Epoch 1540, Training loss 5.9283, Testing loss 8.1370\n",
      "Epoch 1550, Training loss 5.9762, Testing loss 8.0329\n",
      "Epoch 1560, Training loss 6.0427, Testing loss 8.1550\n",
      "Epoch 1570, Training loss 6.0535, Testing loss 8.1909\n",
      "Epoch 1580, Training loss 6.1403, Testing loss 8.2460\n",
      "Epoch 1590, Training loss 6.1667, Testing loss 8.2239\n",
      "Epoch 1600, Training loss 6.1832, Testing loss 8.3991\n",
      "Epoch 1610, Training loss 6.3148, Testing loss 8.3749\n",
      "Epoch 1620, Training loss 6.3968, Testing loss 8.4401\n",
      "Epoch 1630, Training loss 6.3890, Testing loss 8.4733\n",
      "Epoch 1640, Training loss 6.4506, Testing loss 8.4655\n",
      "Epoch 1650, Training loss 6.4744, Testing loss 8.5531\n",
      "Epoch 1660, Training loss 6.5519, Testing loss 8.5664\n",
      "Epoch 1670, Training loss 6.4455, Testing loss 8.5899\n",
      "Epoch 1680, Training loss 6.5948, Testing loss 8.6224\n",
      "Epoch 1690, Training loss 6.5965, Testing loss 8.6940\n",
      "Epoch 1700, Training loss 6.5781, Testing loss 8.6902\n",
      "Epoch 1710, Training loss 6.6906, Testing loss 8.7839\n",
      "Epoch 1720, Training loss 6.7307, Testing loss 8.7951\n",
      "Epoch 1730, Training loss 6.6746, Testing loss 8.7900\n",
      "Epoch 1740, Training loss 6.8274, Testing loss 8.7883\n",
      "Epoch 1750, Training loss 6.7317, Testing loss 8.8460\n",
      "Epoch 1760, Training loss 6.7519, Testing loss 8.8692\n",
      "Epoch 1770, Training loss 6.8454, Testing loss 8.9146\n",
      "Epoch 1780, Training loss 6.8308, Testing loss 8.8960\n",
      "Epoch 1790, Training loss 6.7726, Testing loss 8.9294\n",
      "Epoch 1800, Training loss 6.9232, Testing loss 8.9227\n",
      "Epoch 1810, Training loss 6.8302, Testing loss 8.9509\n",
      "Epoch 1820, Training loss 6.8884, Testing loss 8.9415\n",
      "Epoch 1830, Training loss 6.9466, Testing loss 9.0902\n",
      "Epoch 1840, Training loss 6.9129, Testing loss 9.0212\n",
      "Epoch 1850, Training loss 6.8317, Testing loss 9.0390\n",
      "Epoch 1860, Training loss 6.9763, Testing loss 9.1411\n",
      "Epoch 1870, Training loss 6.9951, Testing loss 9.1240\n",
      "Epoch 1880, Training loss 6.9339, Testing loss 9.0573\n",
      "Epoch 1890, Training loss 7.0429, Testing loss 9.3377\n",
      "Epoch 1900, Training loss 7.1199, Testing loss 9.1998\n",
      "Epoch 1910, Training loss 7.0545, Testing loss 9.1481\n",
      "Epoch 1920, Training loss 7.0805, Testing loss 9.2885\n",
      "Epoch 1930, Training loss 7.0901, Testing loss 9.2720\n",
      "Epoch 1940, Training loss 7.0815, Testing loss 9.1974\n",
      "Epoch 1950, Training loss 7.1305, Testing loss 9.2624\n",
      "Epoch 1960, Training loss 7.1333, Testing loss 9.3373\n",
      "Epoch 1970, Training loss 7.2028, Testing loss 9.2707\n",
      "Epoch 1980, Training loss 7.1600, Testing loss 9.4022\n",
      "Epoch 1990, Training loss 7.2833, Testing loss 9.3249\n",
      "Epoch 1991, Training loss 7.1991, Testing loss 9.3780\n",
      "Epoch 1992, Training loss 7.2340, Testing loss 9.4340\n",
      "Epoch 1993, Training loss 7.2833, Testing loss 9.3966\n",
      "Epoch 1994, Training loss 7.2407, Testing loss 9.3877\n",
      "Epoch 1995, Training loss 7.2341, Testing loss 9.4173\n",
      "Epoch 1996, Training loss 7.2609, Testing loss 9.3781\n",
      "Epoch 1997, Training loss 7.2454, Testing loss 9.4015\n",
      "Epoch 1998, Training loss 7.2669, Testing loss 9.4147\n",
      "Epoch 1999, Training loss 7.2823, Testing loss 9.3511\n",
      "Epoch 2000, Training loss 7.2028, Testing loss 9.4102\n"
     ]
    }
   ],
   "source": [
    "features1 = torch.from_numpy(x1)\n",
    "features2 = torch.from_numpy(x2)\n",
    "targets = torch.from_numpy(y)\n",
    "x_test1 = torch.from_numpy(xt1)\n",
    "x_test2 = torch.from_numpy(xt2)\n",
    "y_test = torch.from_numpy(yt)\n",
    "\n",
    "\n",
    "beta0 = torch.ones(5112 , requires_grad = True)\n",
    "beta1 = torch.ones([1704,5112], requires_grad = True)\n",
    "beta2 = torch.ones([5112,5112], requires_grad = True)\n",
    "#beta2 = torch.ones([6816,5112], requires_grad = True)\n",
    "\n",
    "rate = 1e-3\n",
    "optimizer = optim.Adam([beta0 , beta1 , beta2], lr=rate)\n",
    "\n",
    "epo = 2001\n",
    "loss = nn.L1Loss()\n",
    "train_error = np.zeros(epo)\n",
    "test_error = np.zeros(epo)\n",
    "\n",
    "\n",
    "for epoch in range (epo):\n",
    "    yhats_train = model(features1.float() , features2.float(), beta0 , beta1 , beta2)\n",
    "    train_loss = loss(targets.float() , yhats_train)\n",
    "    train_error[epoch] = train_loss\n",
    "\n",
    "    optimizer.zero_grad()\n",
    "    train_loss.backward() \n",
    "    optimizer.step()    \n",
    "\n",
    "    yhats_test = model(x_test1.float(), x_test2.float() , beta0, beta1 , beta2) \n",
    "    r = torch.abs(yhats_test - y_test)\n",
    "    test_loss = torch.mean(r)\n",
    "    test_error[epoch] = test_loss\n",
    "\n",
    "    if epoch <= 10 or epoch % 10 == 0:\n",
    "        print(f\"Epoch {epoch}, Training loss {train_loss.item():.4f},\"\n",
    "                    f\" Testing loss {test_loss.item():.4f}\")      \n",
    "    else :\n",
    "        if epoch >= epo-10 :\n",
    "            print(f\"Epoch {epoch}, Training loss {train_loss.item():.4f},\"\n",
    "                        f\" Testing loss {test_loss.item():.4f}\")"
   ]
  },
  {
   "cell_type": "markdown",
   "id": "cb1da028",
   "metadata": {},
   "source": [
    "# Result"
   ]
  },
  {
   "cell_type": "code",
   "execution_count": 13,
   "id": "8801557b",
   "metadata": {},
   "outputs": [
    {
     "data": {
      "image/png": "[encoded data removed]",
      "text/plain": [
       "<Figure size 432x288 with 1 Axes>"
      ]
     },
     "metadata": {
      "needs_background": "light"
     },
     "output_type": "display_data"
    }
   ],
   "source": [
    "fig1 = plt.figure(1)\n",
    "x=np.linspace(1,epo,epo)\n",
    "plt.plot(x,train_error, label = 'Training')\n",
    "plt.plot(x,test_error, label ='Testing')\n",
    "plt.legend(loc = 2)\n",
    "plt.title('MAE')\n",
    "\n",
    "plt.show()"
   ]
  },
  {
   "cell_type": "code",
   "execution_count": 14,
   "id": "6cf586b0",
   "metadata": {},
   "outputs": [
    {
     "name": "stdout",
     "output_type": "stream",
     "text": [
      "4.976625332326482\n"
     ]
    }
   ],
   "source": [
    "print(np.min(test_error))"
   ]
  },
  {
   "cell_type": "code",
   "execution_count": null,
   "id": "e54d8807",
   "metadata": {},
   "outputs": [],
   "source": []
  }
 ],
 "metadata": {
  "kernelspec": {
   "display_name": "chou",
   "language": "python",
   "name": "chou"
  },
  "language_info": {
   "codemirror_mode": {
    "name": "ipython",
    "version": 3
   },
   "file_extension": ".py",
   "mimetype": "text/x-python",
   "name": "python",
   "nbconvert_exporter": "python",
   "pygments_lexer": "ipython3",
   "version": "3.7.12"
  }
 },
 "nbformat": 4,
 "nbformat_minor": 5
}
