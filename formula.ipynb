{
 "cells": [
  {
   "cell_type": "markdown",
   "id": "7374486f",
   "metadata": {},
   "source": [
    "# Y = b0 + b1X1 (72hr) (concurrent)"
   ]
  },
  {
   "cell_type": "code",
   "execution_count": 1,
   "id": "e191d01e",
   "metadata": {
    "scrolled": true
   },
   "outputs": [],
   "source": [
    "import numpy as np\n",
    "import pandas as pd"
   ]
  },
  {
   "cell_type": "markdown",
   "id": "5742faf5",
   "metadata": {},
   "source": [
    "# Read data"
   ]
  },
  {
   "cell_type": "code",
   "execution_count": 2,
   "id": "6473d248",
   "metadata": {},
   "outputs": [],
   "source": [
    "data=pd.read_csv('/home/luhung3080/Desktop/PycharmProjects/NCHUproject/Transformer/data_final.csv')"
   ]
  },
  {
   "cell_type": "markdown",
   "id": "f7ba76b0",
   "metadata": {},
   "source": [
    "# Generate X Y"
   ]
  },
  {
   "cell_type": "code",
   "execution_count": 3,
   "id": "89aa33fb",
   "metadata": {},
   "outputs": [
    {
     "name": "stdout",
     "output_type": "stream",
     "text": [
      "(544, 5112)\n",
      "(544, 5112)\n"
     ]
    }
   ],
   "source": [
    "###\n",
    "#cal_PMf  \n",
    "###\n",
    "u=np.zeros([544,5112])\n",
    "for i in range (0,544):\n",
    "    a=np.array(data['pm25_cal'][5112*i:5112*i+5112])\n",
    "    u[i]=a.T\n",
    "\n",
    "###\n",
    "#obs_PMf\n",
    "###\n",
    "v=np.zeros([544,5112])\n",
    "for i in range (0,544):\n",
    "    a=np.array(data['pm25_obs'][5112*i:5112*i+5112])\n",
    "    v[i]=a.T\n",
    "\n",
    "print(np.shape(u))\n",
    "print(np.shape(v))"
   ]
  },
  {
   "cell_type": "code",
   "execution_count": 4,
   "id": "c201899a",
   "metadata": {},
   "outputs": [
    {
     "name": "stdout",
     "output_type": "stream",
     "text": [
      "(544, 5112)\n",
      "(544, 5112)\n",
      "(5112, 5112)\n",
      "(5112,)\n",
      "(5112,)\n"
     ]
    }
   ],
   "source": [
    "XRestruct_Fun=u\n",
    "YRestruct_Fun=v\n",
    "XCov_fun=np.cov(XRestruct_Fun.T)\n",
    "XMean_fun=np.zeros(5112)\n",
    "YMean_fun=np.zeros(5112)\n",
    "for i in range(0,5112):\n",
    "    for j in range(0,544):\n",
    "        XMean_fun[i]=XMean_fun[i]+(XRestruct_Fun[j][i]/544)\n",
    "        YMean_fun[i]=YMean_fun[i]+(YRestruct_Fun[j][i]/544)\n",
    "print(np.shape(XRestruct_Fun))\n",
    "print(np.shape(YRestruct_Fun))\n",
    "print(np.shape(XCov_fun))\n",
    "print(np.shape(XMean_fun))\n",
    "print(np.shape(YMean_fun))"
   ]
  },
  {
   "cell_type": "code",
   "execution_count": 5,
   "id": "bb8d3bac",
   "metadata": {},
   "outputs": [
    {
     "name": "stdout",
     "output_type": "stream",
     "text": [
      "Xhat\n",
      "(544, 5112)\n",
      "Yhat\n",
      "(544, 5112)\n",
      "Xbar\n",
      "(5112,)\n",
      "Ybar\n",
      "(5112,)\n"
     ]
    }
   ],
   "source": [
    "Xhat=XRestruct_Fun\n",
    "Yhat=YRestruct_Fun\n",
    "Xbar=XMean_fun\n",
    "Ybar=YMean_fun\n",
    "print('Xhat')\n",
    "#print(Xhat)\n",
    "print(np.shape(Xhat))\n",
    "print('Yhat')\n",
    "#print(Yhat)\n",
    "print(np.shape(Yhat))\n",
    "print('Xbar')\n",
    "#print(Xbar)\n",
    "print(np.shape(Xbar))\n",
    "print('Ybar')\n",
    "#print(Ybar)\n",
    "print(np.shape(Ybar))"
   ]
  },
  {
   "cell_type": "markdown",
   "id": "2ff9ffeb",
   "metadata": {},
   "source": [
    "# Estimate Beta"
   ]
  },
  {
   "cell_type": "code",
   "execution_count": 6,
   "id": "a1df4ce9",
   "metadata": {},
   "outputs": [
    {
     "name": "stdout",
     "output_type": "stream",
     "text": [
      "(5112,)\n",
      "(5112,)\n"
     ]
    }
   ],
   "source": [
    "G_xx=XCov_fun\n",
    "G_xxt=np.zeros(5112)\n",
    "for i in range(0,5112):\n",
    "     G_xxt[i]=G_xx[i][i]\n",
    "G_xy=0\n",
    "for i in range (0,544):\n",
    "    G_xyi=(Xhat[i]-Xbar)*(Yhat[i]-Ybar)\n",
    "    G_xy=G_xy+G_xyi\n",
    "G_xy=G_xy/543\n",
    "\n",
    "# print(G_xxt)\n",
    "print(np.shape(G_xxt))\n",
    "# print(G_xy)\n",
    "print(np.shape(G_xy))"
   ]
  },
  {
   "cell_type": "code",
   "execution_count": 7,
   "id": "62c096b0",
   "metadata": {
    "scrolled": true
   },
   "outputs": [
    {
     "name": "stdout",
     "output_type": "stream",
     "text": [
      "Beta_1\n",
      "(5112,)\n",
      "Beta_0\n",
      "(5112,)\n"
     ]
    }
   ],
   "source": [
    "B_1=G_xy/G_xxt\n",
    "B_0=YMean_fun-(B_1*XMean_fun)\n",
    "\n",
    "print('Beta_1')\n",
    "#print(B_1)\n",
    "print(np.shape(B_1))\n",
    "print('Beta_0')\n",
    "#print(B_0)\n",
    "print(np.shape(B_0))"
   ]
  },
  {
   "cell_type": "markdown",
   "id": "f4f38b28",
   "metadata": {},
   "source": [
    "# Calibrating"
   ]
  },
  {
   "cell_type": "code",
   "execution_count": 8,
   "id": "78b113ad",
   "metadata": {},
   "outputs": [
    {
     "name": "stdout",
     "output_type": "stream",
     "text": [
      "(605, 5112)\n"
     ]
    }
   ],
   "source": [
    "after_fx=np.zeros([605,5112])\n",
    "for i in range (0,605):\n",
    "    a=np.array(data['pm25_cal'][5112*i:5112*i+5112])\n",
    "    after_fx[i]=a.T\n",
    "    \n",
    "fit_fx=B_0+(B_1*after_fx)\n",
    "print(np.shape(fit_fx))"
   ]
  },
  {
   "cell_type": "markdown",
   "id": "076b3965",
   "metadata": {},
   "source": [
    "# Compare"
   ]
  },
  {
   "cell_type": "code",
   "execution_count": 9,
   "id": "1319253e",
   "metadata": {
    "scrolled": true
   },
   "outputs": [],
   "source": [
    "data0=pd.read_csv('/home/luhung3080/Desktop/PycharmProjects/Data/newdata/result.csv')\n",
    "dd = data0.drop(data0[data0['TAU'] == 0].index)"
   ]
  },
  {
   "cell_type": "code",
   "execution_count": 10,
   "id": "a16b1772",
   "metadata": {
    "scrolled": true
   },
   "outputs": [
    {
     "name": "stdout",
     "output_type": "stream",
     "text": [
      "(605, 5112)\n",
      "(605, 5112)\n",
      "(605, 5112)\n"
     ]
    }
   ],
   "source": [
    "\"\"\"\n",
    "old data\n",
    "\"\"\"\n",
    "old_x=np.zeros([605,5112])\n",
    "old_y=np.zeros([605,5112])\n",
    "#data_cal\n",
    "for i in range (0,605):\n",
    "    a=np.array(dd['VALUE'][5112*i:5112*i+5112])\n",
    "    for j in range(0,5112):\n",
    "        if a[j]=='NaN' :\n",
    "            a[j]=np.nan\n",
    "    old_x[i]=a\n",
    "#data_obs\n",
    "for i in range (0,605):\n",
    "    a=np.array(dd['OBS_VALUE'][5112*i:5112*i+5112])\n",
    "    for j in range(0,5112):\n",
    "        if a[j]=='NaN' :\n",
    "            a[j]=np.nan\n",
    "        if a[j]=='A' :\n",
    "            a[j]=np.nan\n",
    "        if a[j]=='*' :\n",
    "            a[j]=np.nan\n",
    "        if a[j]=='x' :\n",
    "            a[j]=np.nan  \n",
    "    old_y[i]=a\n",
    "print(np.shape(old_x))\n",
    "print(np.shape(old_y))\n",
    "print(np.shape(fit_fx))"
   ]
  },
  {
   "cell_type": "code",
   "execution_count": 13,
   "id": "6e647ca9",
   "metadata": {},
   "outputs": [
    {
     "name": "stdout",
     "output_type": "stream",
     "text": [
      "544 days of training data set before error (MADE) : 7.181135\n",
      "544 days of training data set after error (MADE) : 6.295365\n"
     ]
    }
   ],
   "source": [
    "old_x1=np.zeros([544,5112])\n",
    "old_y1=np.zeros([544,5112])\n",
    "fit_fx1=np.zeros([544,5112])\n",
    "for i in range (0,544):\n",
    "    for j in range (0,5112):\n",
    "        old_x1[i][j]=old_x[i][j]\n",
    "        old_y1[i][j]=old_y[i][j]\n",
    "        fit_fx1[i][j]=fit_fx[i][j]\n",
    "before1=abs(old_x1-old_y1)\n",
    "after1=abs(fit_fx1-old_y1)\n",
    "before_error1=np.nanmean(before1)\n",
    "after_error1=np.nanmean(after1)\n",
    "print(\"544 days of training data set before error (MADE) : %f\" %before_error1)\n",
    "print(\"544 days of training data set after error (MADE) : %f\" %after_error1)"
   ]
  },
  {
   "cell_type": "code",
   "execution_count": 14,
   "id": "ea8f4f3e",
   "metadata": {},
   "outputs": [
    {
     "name": "stdout",
     "output_type": "stream",
     "text": [
      "61 days of testing data set before error (MADE) : 6.928633\n",
      "61 days of testing data set bafter error (MADE) : 6.149006\n"
     ]
    }
   ],
   "source": [
    "old_x2=np.zeros([61,5112])\n",
    "old_y2=np.zeros([61,5112])\n",
    "fit_fx2=np.zeros([61,5112])\n",
    "for i in range (0,61):\n",
    "    for j in range (0,5112):\n",
    "        old_x2[i][j]=old_x[i+544][j]\n",
    "        old_y2[i][j]=old_y[i+544][j]\n",
    "        fit_fx2[i][j]=fit_fx[i+544][j]\n",
    "before2=abs(old_x2-old_y2)\n",
    "after2=abs(fit_fx2-old_y2)\n",
    "before_error2=np.nanmean(before2)\n",
    "after_error2=np.nanmean(after2)\n",
    "print(\"61 days of testing data set before error (MADE) : %f\" %before_error2)\n",
    "print(\"61 days of testing data set bafter error (MADE) : %f\" %after_error2)"
   ]
  },
  {
   "cell_type": "code",
   "execution_count": null,
   "id": "6f86c164",
   "metadata": {},
   "outputs": [],
   "source": []
  }
 ],
 "metadata": {
  "kernelspec": {
   "display_name": "chou",
   "language": "python",
   "name": "chou"
  },
  "language_info": {
   "codemirror_mode": {
    "name": "ipython",
    "version": 3
   },
   "file_extension": ".py",
   "mimetype": "text/x-python",
   "name": "python",
   "nbconvert_exporter": "python",
   "pygments_lexer": "ipython3",
   "version": "3.7.12"
  }
 },
 "nbformat": 4,
 "nbformat_minor": 5
}
